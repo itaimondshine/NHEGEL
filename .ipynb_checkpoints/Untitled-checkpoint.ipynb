{
 "cells": [
  {
   "cell_type": "code",
   "execution_count": 3,
   "id": "743f9748",
   "metadata": {},
   "outputs": [],
   "source": [
    "from HeGel2.geo.map_structure import Map\n"
   ]
  },
  {
   "cell_type": "code",
   "execution_count": 4,
   "id": "8d41486e",
   "metadata": {},
   "outputs": [
    {
     "data": {
      "text/plain": [
       "HeGel2.geo.map_structure.Map"
      ]
     },
     "execution_count": 4,
     "metadata": {},
     "output_type": "execute_result"
    }
   ],
   "source": [
    "Map"
   ]
  },
  {
   "cell_type": "code",
   "execution_count": null,
   "id": "4217b566",
   "metadata": {},
   "outputs": [],
   "source": [
    "m = Map('TelAvivSmall')"
   ]
  }
 ],
 "metadata": {
  "kernelspec": {
   "display_name": "firstEnv",
   "language": "python",
   "name": "firstenv"
  },
  "language_info": {
   "codemirror_mode": {
    "name": "ipython",
    "version": 3
   },
   "file_extension": ".py",
   "mimetype": "text/x-python",
   "name": "python",
   "nbconvert_exporter": "python",
   "pygments_lexer": "ipython3",
   "version": "3.8.5"
  }
 },
 "nbformat": 4,
 "nbformat_minor": 5
}
