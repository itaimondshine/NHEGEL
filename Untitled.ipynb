{
 "cells": [
  {
   "cell_type": "code",
   "execution_count": 1,
   "id": "5d0bddec",
   "metadata": {},
   "outputs": [
    {
     "name": "stderr",
     "output_type": "stream",
     "text": [
      "/Library/Frameworks/Python.framework/Versions/3.8/lib/python3.8/site-packages/scipy/__init__.py:146: UserWarning: A NumPy version >=1.16.5 and <1.23.0 is required for this version of SciPy (detected version 1.23.5\n",
      "  warnings.warn(f\"A NumPy version >={np_minversion} and <{np_maxversion}\"\n"
     ]
    }
   ],
   "source": [
    "import multiprocessing\n",
    "from typing import Optional\n",
    "import osmnx\n",
    "from HeGel2.geo.map_processor import regions\n",
    "from HeGel2.geo.map_processor.map_structure import Map"
   ]
  },
  {
   "cell_type": "code",
   "execution_count": 17,
   "id": "defcb689",
   "metadata": {},
   "outputs": [
    {
     "name": "stdout",
     "output_type": "stream",
     "text": [
      "/Users/itaimondshine/PycharmProjects/NLP/HeGel2/HeGel2\r\n"
     ]
    }
   ],
   "source": [
    "!pwd"
   ]
  },
  {
   "cell_type": "code",
   "execution_count": 18,
   "id": "d2324ec9",
   "metadata": {},
   "outputs": [],
   "source": [
    "from typing import List, Tuple, Optional"
   ]
  },
  {
   "cell_type": "code",
   "execution_count": 258,
   "id": "27e8d240",
   "metadata": {},
   "outputs": [],
   "source": [
    "REGION = \"TelAvivSmall\"\n",
    "MAP_DIR = \"/Users/itaimondshine/PycharmProjects/NLP/HeGel2/HeGel2/HeGel2/geo/map_processor/resources/tel_aviv\"\n",
    "MAP_DATA_DIR = f\"{MAP_DIR}/{REGION}_paths.gpkg\"\n",
    "\n",
    "S2_LEVEL = 14\n",
    "n_cpu = multiprocessing.cpu_count() - 1\n"
   ]
  },
  {
   "cell_type": "code",
   "execution_count": 254,
   "id": "fd8454d8",
   "metadata": {},
   "outputs": [
    {
     "data": {
      "text/plain": [
       "'TelAvivSmall'"
      ]
     },
     "execution_count": 254,
     "metadata": {},
     "output_type": "execute_result"
    }
   ],
   "source": [
    "REGION"
   ]
  },
  {
   "cell_type": "code",
   "execution_count": 255,
   "id": "4fc36f36",
   "metadata": {},
   "outputs": [],
   "source": [
    "\n",
    "def create_osm_graph(region: str, map_data_dir: Optional[str]=None, s2_level: int = 14) -> Map:\n",
    "    return Map(regions.get_region(region), s2_level, map_data_dir) if map_data_dir is not None else (\n",
    "        Map(regions.get_region(region), s2_level))"
   ]
  },
  {
   "cell_type": "code",
   "execution_count": 256,
   "id": "f0be3e0f",
   "metadata": {},
   "outputs": [
    {
     "ename": "KeyboardInterrupt",
     "evalue": "",
     "output_type": "error",
     "traceback": [
      "\u001b[0;31m---------------------------------------------------------------------------\u001b[0m",
      "\u001b[0;31mKeyboardInterrupt\u001b[0m                         Traceback (most recent call last)",
      "Cell \u001b[0;32mIn[256], line 1\u001b[0m\n\u001b[0;32m----> 1\u001b[0m g \u001b[38;5;241m=\u001b[39m \u001b[43mosmnx\u001b[49m\u001b[38;5;241;43m.\u001b[39;49m\u001b[43mgraph\u001b[49m\u001b[38;5;241;43m.\u001b[39;49m\u001b[43mgraph_from_point\u001b[49m\u001b[43m(\u001b[49m\u001b[43m(\u001b[49m\u001b[43m \u001b[49m\u001b[38;5;241;43m32.0723810\u001b[39;49m\u001b[43m,\u001b[49m\u001b[43m \u001b[49m\u001b[38;5;241;43m34.7744890\u001b[39;49m\u001b[43m)\u001b[49m\u001b[43m,\u001b[49m\u001b[43m \u001b[49m\u001b[43mdist\u001b[49m\u001b[38;5;241;43m=\u001b[39;49m\u001b[38;5;241;43m1000\u001b[39;49m\u001b[43m)\u001b[49m\n",
      "File \u001b[0;32m/Library/Frameworks/Python.framework/Versions/3.8/lib/python3.8/site-packages/osmnx/graph.py:162\u001b[0m, in \u001b[0;36mgraph_from_point\u001b[0;34m(center_point, dist, dist_type, network_type, simplify, retain_all, truncate_by_edge, clean_periphery, custom_filter)\u001b[0m\n\u001b[1;32m    159\u001b[0m north, south, east, west \u001b[38;5;241m=\u001b[39m utils_geo\u001b[38;5;241m.\u001b[39mbbox_from_point(center_point, dist)\n\u001b[1;32m    161\u001b[0m \u001b[38;5;66;03m# create a graph from the bounding box\u001b[39;00m\n\u001b[0;32m--> 162\u001b[0m G \u001b[38;5;241m=\u001b[39m \u001b[43mgraph_from_bbox\u001b[49m\u001b[43m(\u001b[49m\n\u001b[1;32m    163\u001b[0m \u001b[43m    \u001b[49m\u001b[43mnorth\u001b[49m\u001b[43m,\u001b[49m\n\u001b[1;32m    164\u001b[0m \u001b[43m    \u001b[49m\u001b[43msouth\u001b[49m\u001b[43m,\u001b[49m\n\u001b[1;32m    165\u001b[0m \u001b[43m    \u001b[49m\u001b[43meast\u001b[49m\u001b[43m,\u001b[49m\n\u001b[1;32m    166\u001b[0m \u001b[43m    \u001b[49m\u001b[43mwest\u001b[49m\u001b[43m,\u001b[49m\n\u001b[1;32m    167\u001b[0m \u001b[43m    \u001b[49m\u001b[43mnetwork_type\u001b[49m\u001b[38;5;241;43m=\u001b[39;49m\u001b[43mnetwork_type\u001b[49m\u001b[43m,\u001b[49m\n\u001b[1;32m    168\u001b[0m \u001b[43m    \u001b[49m\u001b[43msimplify\u001b[49m\u001b[38;5;241;43m=\u001b[39;49m\u001b[43msimplify\u001b[49m\u001b[43m,\u001b[49m\n\u001b[1;32m    169\u001b[0m \u001b[43m    \u001b[49m\u001b[43mretain_all\u001b[49m\u001b[38;5;241;43m=\u001b[39;49m\u001b[43mretain_all\u001b[49m\u001b[43m,\u001b[49m\n\u001b[1;32m    170\u001b[0m \u001b[43m    \u001b[49m\u001b[43mtruncate_by_edge\u001b[49m\u001b[38;5;241;43m=\u001b[39;49m\u001b[43mtruncate_by_edge\u001b[49m\u001b[43m,\u001b[49m\n\u001b[1;32m    171\u001b[0m \u001b[43m    \u001b[49m\u001b[43mclean_periphery\u001b[49m\u001b[38;5;241;43m=\u001b[39;49m\u001b[43mclean_periphery\u001b[49m\u001b[43m,\u001b[49m\n\u001b[1;32m    172\u001b[0m \u001b[43m    \u001b[49m\u001b[43mcustom_filter\u001b[49m\u001b[38;5;241;43m=\u001b[39;49m\u001b[43mcustom_filter\u001b[49m\u001b[43m,\u001b[49m\n\u001b[1;32m    173\u001b[0m \u001b[43m\u001b[49m\u001b[43m)\u001b[49m\n\u001b[1;32m    175\u001b[0m \u001b[38;5;28;01mif\u001b[39;00m dist_type \u001b[38;5;241m==\u001b[39m \u001b[38;5;124m\"\u001b[39m\u001b[38;5;124mnetwork\u001b[39m\u001b[38;5;124m\"\u001b[39m:\n\u001b[1;32m    176\u001b[0m     \u001b[38;5;66;03m# if dist_type is network, find node in graph nearest to center point\u001b[39;00m\n\u001b[1;32m    177\u001b[0m     \u001b[38;5;66;03m# then truncate graph by network dist from it\u001b[39;00m\n\u001b[1;32m    178\u001b[0m     node \u001b[38;5;241m=\u001b[39m distance\u001b[38;5;241m.\u001b[39mnearest_nodes(G, X\u001b[38;5;241m=\u001b[39m[center_point[\u001b[38;5;241m1\u001b[39m]], Y\u001b[38;5;241m=\u001b[39m[center_point[\u001b[38;5;241m0\u001b[39m]])[\u001b[38;5;241m0\u001b[39m]\n",
      "File \u001b[0;32m/Library/Frameworks/Python.framework/Versions/3.8/lib/python3.8/site-packages/osmnx/graph.py:85\u001b[0m, in \u001b[0;36mgraph_from_bbox\u001b[0;34m(north, south, east, west, network_type, simplify, retain_all, truncate_by_edge, clean_periphery, custom_filter)\u001b[0m\n\u001b[1;32m     82\u001b[0m polygon \u001b[38;5;241m=\u001b[39m utils_geo\u001b[38;5;241m.\u001b[39mbbox_to_poly(north, south, east, west)\n\u001b[1;32m     84\u001b[0m \u001b[38;5;66;03m# create graph using this polygon geometry\u001b[39;00m\n\u001b[0;32m---> 85\u001b[0m G \u001b[38;5;241m=\u001b[39m \u001b[43mgraph_from_polygon\u001b[49m\u001b[43m(\u001b[49m\n\u001b[1;32m     86\u001b[0m \u001b[43m    \u001b[49m\u001b[43mpolygon\u001b[49m\u001b[43m,\u001b[49m\n\u001b[1;32m     87\u001b[0m \u001b[43m    \u001b[49m\u001b[43mnetwork_type\u001b[49m\u001b[38;5;241;43m=\u001b[39;49m\u001b[43mnetwork_type\u001b[49m\u001b[43m,\u001b[49m\n\u001b[1;32m     88\u001b[0m \u001b[43m    \u001b[49m\u001b[43msimplify\u001b[49m\u001b[38;5;241;43m=\u001b[39;49m\u001b[43msimplify\u001b[49m\u001b[43m,\u001b[49m\n\u001b[1;32m     89\u001b[0m \u001b[43m    \u001b[49m\u001b[43mretain_all\u001b[49m\u001b[38;5;241;43m=\u001b[39;49m\u001b[43mretain_all\u001b[49m\u001b[43m,\u001b[49m\n\u001b[1;32m     90\u001b[0m \u001b[43m    \u001b[49m\u001b[43mtruncate_by_edge\u001b[49m\u001b[38;5;241;43m=\u001b[39;49m\u001b[43mtruncate_by_edge\u001b[49m\u001b[43m,\u001b[49m\n\u001b[1;32m     91\u001b[0m \u001b[43m    \u001b[49m\u001b[43mclean_periphery\u001b[49m\u001b[38;5;241;43m=\u001b[39;49m\u001b[43mclean_periphery\u001b[49m\u001b[43m,\u001b[49m\n\u001b[1;32m     92\u001b[0m \u001b[43m    \u001b[49m\u001b[43mcustom_filter\u001b[49m\u001b[38;5;241;43m=\u001b[39;49m\u001b[43mcustom_filter\u001b[49m\u001b[43m,\u001b[49m\n\u001b[1;32m     93\u001b[0m \u001b[43m\u001b[49m\u001b[43m)\u001b[49m\n\u001b[1;32m     95\u001b[0m utils\u001b[38;5;241m.\u001b[39mlog(\u001b[38;5;124mf\u001b[39m\u001b[38;5;124m\"\u001b[39m\u001b[38;5;124mgraph_from_bbox returned graph with \u001b[39m\u001b[38;5;132;01m{\u001b[39;00m\u001b[38;5;28mlen\u001b[39m(G)\u001b[38;5;132;01m}\u001b[39;00m\u001b[38;5;124m nodes and \u001b[39m\u001b[38;5;132;01m{\u001b[39;00m\u001b[38;5;28mlen\u001b[39m(G\u001b[38;5;241m.\u001b[39medges)\u001b[38;5;132;01m}\u001b[39;00m\u001b[38;5;124m edges\u001b[39m\u001b[38;5;124m\"\u001b[39m)\n\u001b[1;32m     96\u001b[0m \u001b[38;5;28;01mreturn\u001b[39;00m G\n",
      "File \u001b[0;32m/Library/Frameworks/Python.framework/Versions/3.8/lib/python3.8/site-packages/osmnx/graph.py:432\u001b[0m, in \u001b[0;36mgraph_from_polygon\u001b[0;34m(polygon, network_type, simplify, retain_all, truncate_by_edge, clean_periphery, custom_filter)\u001b[0m\n\u001b[1;32m    429\u001b[0m poly_buff, _ \u001b[38;5;241m=\u001b[39m projection\u001b[38;5;241m.\u001b[39mproject_geometry(poly_proj_buff, crs\u001b[38;5;241m=\u001b[39mcrs_utm, to_latlong\u001b[38;5;241m=\u001b[39m\u001b[38;5;28;01mTrue\u001b[39;00m)\n\u001b[1;32m    431\u001b[0m \u001b[38;5;66;03m# download the network data from OSM within buffered polygon\u001b[39;00m\n\u001b[0;32m--> 432\u001b[0m response_jsons \u001b[38;5;241m=\u001b[39m \u001b[43mdownloader\u001b[49m\u001b[38;5;241;43m.\u001b[39;49m\u001b[43m_osm_network_download\u001b[49m\u001b[43m(\u001b[49m\u001b[43mpoly_buff\u001b[49m\u001b[43m,\u001b[49m\u001b[43m \u001b[49m\u001b[43mnetwork_type\u001b[49m\u001b[43m,\u001b[49m\u001b[43m \u001b[49m\u001b[43mcustom_filter\u001b[49m\u001b[43m)\u001b[49m\n\u001b[1;32m    434\u001b[0m \u001b[38;5;66;03m# create buffered graph from the downloaded data\u001b[39;00m\n\u001b[1;32m    435\u001b[0m bidirectional \u001b[38;5;241m=\u001b[39m network_type \u001b[38;5;129;01min\u001b[39;00m settings\u001b[38;5;241m.\u001b[39mbidirectional_network_types\n",
      "File \u001b[0;32m/Library/Frameworks/Python.framework/Versions/3.8/lib/python3.8/site-packages/osmnx/downloader.py:548\u001b[0m, in \u001b[0;36m_osm_network_download\u001b[0;34m(polygon, network_type, custom_filter)\u001b[0m\n\u001b[1;32m    546\u001b[0m \u001b[38;5;28;01mfor\u001b[39;00m polygon_coord_str \u001b[38;5;129;01min\u001b[39;00m polygon_coord_strs:\n\u001b[1;32m    547\u001b[0m     query_str \u001b[38;5;241m=\u001b[39m \u001b[38;5;124mf\u001b[39m\u001b[38;5;124m\"\u001b[39m\u001b[38;5;132;01m{\u001b[39;00moverpass_settings\u001b[38;5;132;01m}\u001b[39;00m\u001b[38;5;124m;(way\u001b[39m\u001b[38;5;132;01m{\u001b[39;00mosm_filter\u001b[38;5;132;01m}\u001b[39;00m\u001b[38;5;124m(poly:\u001b[39m\u001b[38;5;124m'\u001b[39m\u001b[38;5;132;01m{\u001b[39;00mpolygon_coord_str\u001b[38;5;132;01m}\u001b[39;00m\u001b[38;5;124m'\u001b[39m\u001b[38;5;124m);>;);out;\u001b[39m\u001b[38;5;124m\"\u001b[39m\n\u001b[0;32m--> 548\u001b[0m     response_json \u001b[38;5;241m=\u001b[39m \u001b[43moverpass_request\u001b[49m\u001b[43m(\u001b[49m\u001b[43mdata\u001b[49m\u001b[38;5;241;43m=\u001b[39;49m\u001b[43m{\u001b[49m\u001b[38;5;124;43m\"\u001b[39;49m\u001b[38;5;124;43mdata\u001b[39;49m\u001b[38;5;124;43m\"\u001b[39;49m\u001b[43m:\u001b[49m\u001b[43m \u001b[49m\u001b[43mquery_str\u001b[49m\u001b[43m}\u001b[49m\u001b[43m)\u001b[49m\n\u001b[1;32m    549\u001b[0m     response_jsons\u001b[38;5;241m.\u001b[39mappend(response_json)\n\u001b[1;32m    550\u001b[0m utils\u001b[38;5;241m.\u001b[39mlog(\n\u001b[1;32m    551\u001b[0m     \u001b[38;5;124mf\u001b[39m\u001b[38;5;124m\"\u001b[39m\u001b[38;5;124mGot all network data within polygon from API in \u001b[39m\u001b[38;5;132;01m{\u001b[39;00m\u001b[38;5;28mlen\u001b[39m(polygon_coord_strs)\u001b[38;5;132;01m}\u001b[39;00m\u001b[38;5;124m request(s)\u001b[39m\u001b[38;5;124m\"\u001b[39m\n\u001b[1;32m    552\u001b[0m )\n",
      "File \u001b[0;32m/Library/Frameworks/Python.framework/Versions/3.8/lib/python3.8/site-packages/osmnx/downloader.py:773\u001b[0m, in \u001b[0;36moverpass_request\u001b[0;34m(data, pause, error_pause)\u001b[0m\n\u001b[1;32m    771\u001b[0m utils\u001b[38;5;241m.\u001b[39mlog(\u001b[38;5;124mf\u001b[39m\u001b[38;5;124m\"\u001b[39m\u001b[38;5;124mPost \u001b[39m\u001b[38;5;132;01m{\u001b[39;00mprepared_url\u001b[38;5;132;01m}\u001b[39;00m\u001b[38;5;124m with timeout=\u001b[39m\u001b[38;5;132;01m{\u001b[39;00msettings\u001b[38;5;241m.\u001b[39mtimeout\u001b[38;5;132;01m}\u001b[39;00m\u001b[38;5;124m\"\u001b[39m)\n\u001b[1;32m    772\u001b[0m headers \u001b[38;5;241m=\u001b[39m _get_http_headers()\n\u001b[0;32m--> 773\u001b[0m response \u001b[38;5;241m=\u001b[39m \u001b[43mrequests\u001b[49m\u001b[38;5;241;43m.\u001b[39;49m\u001b[43mpost\u001b[49m\u001b[43m(\u001b[49m\n\u001b[1;32m    774\u001b[0m \u001b[43m    \u001b[49m\u001b[43murl\u001b[49m\u001b[43m,\u001b[49m\u001b[43m \u001b[49m\u001b[43mdata\u001b[49m\u001b[38;5;241;43m=\u001b[39;49m\u001b[43mdata\u001b[49m\u001b[43m,\u001b[49m\u001b[43m \u001b[49m\u001b[43mtimeout\u001b[49m\u001b[38;5;241;43m=\u001b[39;49m\u001b[43msettings\u001b[49m\u001b[38;5;241;43m.\u001b[39;49m\u001b[43mtimeout\u001b[49m\u001b[43m,\u001b[49m\u001b[43m \u001b[49m\u001b[43mheaders\u001b[49m\u001b[38;5;241;43m=\u001b[39;49m\u001b[43mheaders\u001b[49m\u001b[43m,\u001b[49m\u001b[43m \u001b[49m\u001b[38;5;241;43m*\u001b[39;49m\u001b[38;5;241;43m*\u001b[39;49m\u001b[43msettings\u001b[49m\u001b[38;5;241;43m.\u001b[39;49m\u001b[43mrequests_kwargs\u001b[49m\n\u001b[1;32m    775\u001b[0m \u001b[43m\u001b[49m\u001b[43m)\u001b[49m\n\u001b[1;32m    776\u001b[0m sc \u001b[38;5;241m=\u001b[39m response\u001b[38;5;241m.\u001b[39mstatus_code\n\u001b[1;32m    778\u001b[0m \u001b[38;5;66;03m# log the response size and domain\u001b[39;00m\n",
      "File \u001b[0;32m/Library/Frameworks/Python.framework/Versions/3.8/lib/python3.8/site-packages/requests/api.py:115\u001b[0m, in \u001b[0;36mpost\u001b[0;34m(url, data, json, **kwargs)\u001b[0m\n\u001b[1;32m    103\u001b[0m \u001b[38;5;28;01mdef\u001b[39;00m \u001b[38;5;21mpost\u001b[39m(url, data\u001b[38;5;241m=\u001b[39m\u001b[38;5;28;01mNone\u001b[39;00m, json\u001b[38;5;241m=\u001b[39m\u001b[38;5;28;01mNone\u001b[39;00m, \u001b[38;5;241m*\u001b[39m\u001b[38;5;241m*\u001b[39mkwargs):\n\u001b[1;32m    104\u001b[0m     \u001b[38;5;124mr\u001b[39m\u001b[38;5;124;03m\"\"\"Sends a POST request.\u001b[39;00m\n\u001b[1;32m    105\u001b[0m \n\u001b[1;32m    106\u001b[0m \u001b[38;5;124;03m    :param url: URL for the new :class:`Request` object.\u001b[39;00m\n\u001b[0;32m   (...)\u001b[0m\n\u001b[1;32m    112\u001b[0m \u001b[38;5;124;03m    :rtype: requests.Response\u001b[39;00m\n\u001b[1;32m    113\u001b[0m \u001b[38;5;124;03m    \"\"\"\u001b[39;00m\n\u001b[0;32m--> 115\u001b[0m     \u001b[38;5;28;01mreturn\u001b[39;00m \u001b[43mrequest\u001b[49m\u001b[43m(\u001b[49m\u001b[38;5;124;43m\"\u001b[39;49m\u001b[38;5;124;43mpost\u001b[39;49m\u001b[38;5;124;43m\"\u001b[39;49m\u001b[43m,\u001b[49m\u001b[43m \u001b[49m\u001b[43murl\u001b[49m\u001b[43m,\u001b[49m\u001b[43m \u001b[49m\u001b[43mdata\u001b[49m\u001b[38;5;241;43m=\u001b[39;49m\u001b[43mdata\u001b[49m\u001b[43m,\u001b[49m\u001b[43m \u001b[49m\u001b[43mjson\u001b[49m\u001b[38;5;241;43m=\u001b[39;49m\u001b[43mjson\u001b[49m\u001b[43m,\u001b[49m\u001b[43m \u001b[49m\u001b[38;5;241;43m*\u001b[39;49m\u001b[38;5;241;43m*\u001b[39;49m\u001b[43mkwargs\u001b[49m\u001b[43m)\u001b[49m\n",
      "File \u001b[0;32m/Library/Frameworks/Python.framework/Versions/3.8/lib/python3.8/site-packages/requests/api.py:59\u001b[0m, in \u001b[0;36mrequest\u001b[0;34m(method, url, **kwargs)\u001b[0m\n\u001b[1;32m     55\u001b[0m \u001b[38;5;66;03m# By using the 'with' statement we are sure the session is closed, thus we\u001b[39;00m\n\u001b[1;32m     56\u001b[0m \u001b[38;5;66;03m# avoid leaving sockets open which can trigger a ResourceWarning in some\u001b[39;00m\n\u001b[1;32m     57\u001b[0m \u001b[38;5;66;03m# cases, and look like a memory leak in others.\u001b[39;00m\n\u001b[1;32m     58\u001b[0m \u001b[38;5;28;01mwith\u001b[39;00m sessions\u001b[38;5;241m.\u001b[39mSession() \u001b[38;5;28;01mas\u001b[39;00m session:\n\u001b[0;32m---> 59\u001b[0m     \u001b[38;5;28;01mreturn\u001b[39;00m \u001b[43msession\u001b[49m\u001b[38;5;241;43m.\u001b[39;49m\u001b[43mrequest\u001b[49m\u001b[43m(\u001b[49m\u001b[43mmethod\u001b[49m\u001b[38;5;241;43m=\u001b[39;49m\u001b[43mmethod\u001b[49m\u001b[43m,\u001b[49m\u001b[43m \u001b[49m\u001b[43murl\u001b[49m\u001b[38;5;241;43m=\u001b[39;49m\u001b[43murl\u001b[49m\u001b[43m,\u001b[49m\u001b[43m \u001b[49m\u001b[38;5;241;43m*\u001b[39;49m\u001b[38;5;241;43m*\u001b[39;49m\u001b[43mkwargs\u001b[49m\u001b[43m)\u001b[49m\n",
      "File \u001b[0;32m/Library/Frameworks/Python.framework/Versions/3.8/lib/python3.8/site-packages/requests/sessions.py:587\u001b[0m, in \u001b[0;36mSession.request\u001b[0;34m(self, method, url, params, data, headers, cookies, files, auth, timeout, allow_redirects, proxies, hooks, stream, verify, cert, json)\u001b[0m\n\u001b[1;32m    582\u001b[0m send_kwargs \u001b[38;5;241m=\u001b[39m {\n\u001b[1;32m    583\u001b[0m     \u001b[38;5;124m\"\u001b[39m\u001b[38;5;124mtimeout\u001b[39m\u001b[38;5;124m\"\u001b[39m: timeout,\n\u001b[1;32m    584\u001b[0m     \u001b[38;5;124m\"\u001b[39m\u001b[38;5;124mallow_redirects\u001b[39m\u001b[38;5;124m\"\u001b[39m: allow_redirects,\n\u001b[1;32m    585\u001b[0m }\n\u001b[1;32m    586\u001b[0m send_kwargs\u001b[38;5;241m.\u001b[39mupdate(settings)\n\u001b[0;32m--> 587\u001b[0m resp \u001b[38;5;241m=\u001b[39m \u001b[38;5;28;43mself\u001b[39;49m\u001b[38;5;241;43m.\u001b[39;49m\u001b[43msend\u001b[49m\u001b[43m(\u001b[49m\u001b[43mprep\u001b[49m\u001b[43m,\u001b[49m\u001b[43m \u001b[49m\u001b[38;5;241;43m*\u001b[39;49m\u001b[38;5;241;43m*\u001b[39;49m\u001b[43msend_kwargs\u001b[49m\u001b[43m)\u001b[49m\n\u001b[1;32m    589\u001b[0m \u001b[38;5;28;01mreturn\u001b[39;00m resp\n",
      "File \u001b[0;32m/Library/Frameworks/Python.framework/Versions/3.8/lib/python3.8/site-packages/requests/sessions.py:701\u001b[0m, in \u001b[0;36mSession.send\u001b[0;34m(self, request, **kwargs)\u001b[0m\n\u001b[1;32m    698\u001b[0m start \u001b[38;5;241m=\u001b[39m preferred_clock()\n\u001b[1;32m    700\u001b[0m \u001b[38;5;66;03m# Send the request\u001b[39;00m\n\u001b[0;32m--> 701\u001b[0m r \u001b[38;5;241m=\u001b[39m \u001b[43madapter\u001b[49m\u001b[38;5;241;43m.\u001b[39;49m\u001b[43msend\u001b[49m\u001b[43m(\u001b[49m\u001b[43mrequest\u001b[49m\u001b[43m,\u001b[49m\u001b[43m \u001b[49m\u001b[38;5;241;43m*\u001b[39;49m\u001b[38;5;241;43m*\u001b[39;49m\u001b[43mkwargs\u001b[49m\u001b[43m)\u001b[49m\n\u001b[1;32m    703\u001b[0m \u001b[38;5;66;03m# Total elapsed time of the request (approximately)\u001b[39;00m\n\u001b[1;32m    704\u001b[0m elapsed \u001b[38;5;241m=\u001b[39m preferred_clock() \u001b[38;5;241m-\u001b[39m start\n",
      "File \u001b[0;32m/Library/Frameworks/Python.framework/Versions/3.8/lib/python3.8/site-packages/requests/adapters.py:489\u001b[0m, in \u001b[0;36mHTTPAdapter.send\u001b[0;34m(self, request, stream, timeout, verify, cert, proxies)\u001b[0m\n\u001b[1;32m    487\u001b[0m \u001b[38;5;28;01mtry\u001b[39;00m:\n\u001b[1;32m    488\u001b[0m     \u001b[38;5;28;01mif\u001b[39;00m \u001b[38;5;129;01mnot\u001b[39;00m chunked:\n\u001b[0;32m--> 489\u001b[0m         resp \u001b[38;5;241m=\u001b[39m \u001b[43mconn\u001b[49m\u001b[38;5;241;43m.\u001b[39;49m\u001b[43murlopen\u001b[49m\u001b[43m(\u001b[49m\n\u001b[1;32m    490\u001b[0m \u001b[43m            \u001b[49m\u001b[43mmethod\u001b[49m\u001b[38;5;241;43m=\u001b[39;49m\u001b[43mrequest\u001b[49m\u001b[38;5;241;43m.\u001b[39;49m\u001b[43mmethod\u001b[49m\u001b[43m,\u001b[49m\n\u001b[1;32m    491\u001b[0m \u001b[43m            \u001b[49m\u001b[43murl\u001b[49m\u001b[38;5;241;43m=\u001b[39;49m\u001b[43murl\u001b[49m\u001b[43m,\u001b[49m\n\u001b[1;32m    492\u001b[0m \u001b[43m            \u001b[49m\u001b[43mbody\u001b[49m\u001b[38;5;241;43m=\u001b[39;49m\u001b[43mrequest\u001b[49m\u001b[38;5;241;43m.\u001b[39;49m\u001b[43mbody\u001b[49m\u001b[43m,\u001b[49m\n\u001b[1;32m    493\u001b[0m \u001b[43m            \u001b[49m\u001b[43mheaders\u001b[49m\u001b[38;5;241;43m=\u001b[39;49m\u001b[43mrequest\u001b[49m\u001b[38;5;241;43m.\u001b[39;49m\u001b[43mheaders\u001b[49m\u001b[43m,\u001b[49m\n\u001b[1;32m    494\u001b[0m \u001b[43m            \u001b[49m\u001b[43mredirect\u001b[49m\u001b[38;5;241;43m=\u001b[39;49m\u001b[38;5;28;43;01mFalse\u001b[39;49;00m\u001b[43m,\u001b[49m\n\u001b[1;32m    495\u001b[0m \u001b[43m            \u001b[49m\u001b[43massert_same_host\u001b[49m\u001b[38;5;241;43m=\u001b[39;49m\u001b[38;5;28;43;01mFalse\u001b[39;49;00m\u001b[43m,\u001b[49m\n\u001b[1;32m    496\u001b[0m \u001b[43m            \u001b[49m\u001b[43mpreload_content\u001b[49m\u001b[38;5;241;43m=\u001b[39;49m\u001b[38;5;28;43;01mFalse\u001b[39;49;00m\u001b[43m,\u001b[49m\n\u001b[1;32m    497\u001b[0m \u001b[43m            \u001b[49m\u001b[43mdecode_content\u001b[49m\u001b[38;5;241;43m=\u001b[39;49m\u001b[38;5;28;43;01mFalse\u001b[39;49;00m\u001b[43m,\u001b[49m\n\u001b[1;32m    498\u001b[0m \u001b[43m            \u001b[49m\u001b[43mretries\u001b[49m\u001b[38;5;241;43m=\u001b[39;49m\u001b[38;5;28;43mself\u001b[39;49m\u001b[38;5;241;43m.\u001b[39;49m\u001b[43mmax_retries\u001b[49m\u001b[43m,\u001b[49m\n\u001b[1;32m    499\u001b[0m \u001b[43m            \u001b[49m\u001b[43mtimeout\u001b[49m\u001b[38;5;241;43m=\u001b[39;49m\u001b[43mtimeout\u001b[49m\u001b[43m,\u001b[49m\n\u001b[1;32m    500\u001b[0m \u001b[43m        \u001b[49m\u001b[43m)\u001b[49m\n\u001b[1;32m    502\u001b[0m     \u001b[38;5;66;03m# Send the request.\u001b[39;00m\n\u001b[1;32m    503\u001b[0m     \u001b[38;5;28;01melse\u001b[39;00m:\n\u001b[1;32m    504\u001b[0m         \u001b[38;5;28;01mif\u001b[39;00m \u001b[38;5;28mhasattr\u001b[39m(conn, \u001b[38;5;124m\"\u001b[39m\u001b[38;5;124mproxy_pool\u001b[39m\u001b[38;5;124m\"\u001b[39m):\n",
      "File \u001b[0;32m/Library/Frameworks/Python.framework/Versions/3.8/lib/python3.8/site-packages/urllib3/connectionpool.py:703\u001b[0m, in \u001b[0;36mHTTPConnectionPool.urlopen\u001b[0;34m(self, method, url, body, headers, retries, redirect, assert_same_host, timeout, pool_timeout, release_conn, chunked, body_pos, **response_kw)\u001b[0m\n\u001b[1;32m    700\u001b[0m     \u001b[38;5;28mself\u001b[39m\u001b[38;5;241m.\u001b[39m_prepare_proxy(conn)\n\u001b[1;32m    702\u001b[0m \u001b[38;5;66;03m# Make the request on the httplib connection object.\u001b[39;00m\n\u001b[0;32m--> 703\u001b[0m httplib_response \u001b[38;5;241m=\u001b[39m \u001b[38;5;28;43mself\u001b[39;49m\u001b[38;5;241;43m.\u001b[39;49m\u001b[43m_make_request\u001b[49m\u001b[43m(\u001b[49m\n\u001b[1;32m    704\u001b[0m \u001b[43m    \u001b[49m\u001b[43mconn\u001b[49m\u001b[43m,\u001b[49m\n\u001b[1;32m    705\u001b[0m \u001b[43m    \u001b[49m\u001b[43mmethod\u001b[49m\u001b[43m,\u001b[49m\n\u001b[1;32m    706\u001b[0m \u001b[43m    \u001b[49m\u001b[43murl\u001b[49m\u001b[43m,\u001b[49m\n\u001b[1;32m    707\u001b[0m \u001b[43m    \u001b[49m\u001b[43mtimeout\u001b[49m\u001b[38;5;241;43m=\u001b[39;49m\u001b[43mtimeout_obj\u001b[49m\u001b[43m,\u001b[49m\n\u001b[1;32m    708\u001b[0m \u001b[43m    \u001b[49m\u001b[43mbody\u001b[49m\u001b[38;5;241;43m=\u001b[39;49m\u001b[43mbody\u001b[49m\u001b[43m,\u001b[49m\n\u001b[1;32m    709\u001b[0m \u001b[43m    \u001b[49m\u001b[43mheaders\u001b[49m\u001b[38;5;241;43m=\u001b[39;49m\u001b[43mheaders\u001b[49m\u001b[43m,\u001b[49m\n\u001b[1;32m    710\u001b[0m \u001b[43m    \u001b[49m\u001b[43mchunked\u001b[49m\u001b[38;5;241;43m=\u001b[39;49m\u001b[43mchunked\u001b[49m\u001b[43m,\u001b[49m\n\u001b[1;32m    711\u001b[0m \u001b[43m\u001b[49m\u001b[43m)\u001b[49m\n\u001b[1;32m    713\u001b[0m \u001b[38;5;66;03m# If we're going to release the connection in ``finally:``, then\u001b[39;00m\n\u001b[1;32m    714\u001b[0m \u001b[38;5;66;03m# the response doesn't need to know about the connection. Otherwise\u001b[39;00m\n\u001b[1;32m    715\u001b[0m \u001b[38;5;66;03m# it will also try to release it and we'll have a double-release\u001b[39;00m\n\u001b[1;32m    716\u001b[0m \u001b[38;5;66;03m# mess.\u001b[39;00m\n\u001b[1;32m    717\u001b[0m response_conn \u001b[38;5;241m=\u001b[39m conn \u001b[38;5;28;01mif\u001b[39;00m \u001b[38;5;129;01mnot\u001b[39;00m release_conn \u001b[38;5;28;01melse\u001b[39;00m \u001b[38;5;28;01mNone\u001b[39;00m\n",
      "File \u001b[0;32m/Library/Frameworks/Python.framework/Versions/3.8/lib/python3.8/site-packages/urllib3/connectionpool.py:449\u001b[0m, in \u001b[0;36mHTTPConnectionPool._make_request\u001b[0;34m(self, conn, method, url, timeout, chunked, **httplib_request_kw)\u001b[0m\n\u001b[1;32m    444\u001b[0m             httplib_response \u001b[38;5;241m=\u001b[39m conn\u001b[38;5;241m.\u001b[39mgetresponse()\n\u001b[1;32m    445\u001b[0m         \u001b[38;5;28;01mexcept\u001b[39;00m \u001b[38;5;167;01mBaseException\u001b[39;00m \u001b[38;5;28;01mas\u001b[39;00m e:\n\u001b[1;32m    446\u001b[0m             \u001b[38;5;66;03m# Remove the TypeError from the exception chain in\u001b[39;00m\n\u001b[1;32m    447\u001b[0m             \u001b[38;5;66;03m# Python 3 (including for exceptions like SystemExit).\u001b[39;00m\n\u001b[1;32m    448\u001b[0m             \u001b[38;5;66;03m# Otherwise it looks like a bug in the code.\u001b[39;00m\n\u001b[0;32m--> 449\u001b[0m             \u001b[43msix\u001b[49m\u001b[38;5;241;43m.\u001b[39;49m\u001b[43mraise_from\u001b[49m\u001b[43m(\u001b[49m\u001b[43me\u001b[49m\u001b[43m,\u001b[49m\u001b[43m \u001b[49m\u001b[38;5;28;43;01mNone\u001b[39;49;00m\u001b[43m)\u001b[49m\n\u001b[1;32m    450\u001b[0m \u001b[38;5;28;01mexcept\u001b[39;00m (SocketTimeout, BaseSSLError, SocketError) \u001b[38;5;28;01mas\u001b[39;00m e:\n\u001b[1;32m    451\u001b[0m     \u001b[38;5;28mself\u001b[39m\u001b[38;5;241m.\u001b[39m_raise_timeout(err\u001b[38;5;241m=\u001b[39me, url\u001b[38;5;241m=\u001b[39murl, timeout_value\u001b[38;5;241m=\u001b[39mread_timeout)\n",
      "File \u001b[0;32m<string>:3\u001b[0m, in \u001b[0;36mraise_from\u001b[0;34m(value, from_value)\u001b[0m\n",
      "File \u001b[0;32m/Library/Frameworks/Python.framework/Versions/3.8/lib/python3.8/site-packages/urllib3/connectionpool.py:444\u001b[0m, in \u001b[0;36mHTTPConnectionPool._make_request\u001b[0;34m(self, conn, method, url, timeout, chunked, **httplib_request_kw)\u001b[0m\n\u001b[1;32m    441\u001b[0m \u001b[38;5;28;01mexcept\u001b[39;00m \u001b[38;5;167;01mTypeError\u001b[39;00m:\n\u001b[1;32m    442\u001b[0m     \u001b[38;5;66;03m# Python 3\u001b[39;00m\n\u001b[1;32m    443\u001b[0m     \u001b[38;5;28;01mtry\u001b[39;00m:\n\u001b[0;32m--> 444\u001b[0m         httplib_response \u001b[38;5;241m=\u001b[39m \u001b[43mconn\u001b[49m\u001b[38;5;241;43m.\u001b[39;49m\u001b[43mgetresponse\u001b[49m\u001b[43m(\u001b[49m\u001b[43m)\u001b[49m\n\u001b[1;32m    445\u001b[0m     \u001b[38;5;28;01mexcept\u001b[39;00m \u001b[38;5;167;01mBaseException\u001b[39;00m \u001b[38;5;28;01mas\u001b[39;00m e:\n\u001b[1;32m    446\u001b[0m         \u001b[38;5;66;03m# Remove the TypeError from the exception chain in\u001b[39;00m\n\u001b[1;32m    447\u001b[0m         \u001b[38;5;66;03m# Python 3 (including for exceptions like SystemExit).\u001b[39;00m\n\u001b[1;32m    448\u001b[0m         \u001b[38;5;66;03m# Otherwise it looks like a bug in the code.\u001b[39;00m\n\u001b[1;32m    449\u001b[0m         six\u001b[38;5;241m.\u001b[39mraise_from(e, \u001b[38;5;28;01mNone\u001b[39;00m)\n",
      "File \u001b[0;32m/Library/Frameworks/Python.framework/Versions/3.8/lib/python3.8/http/client.py:1347\u001b[0m, in \u001b[0;36mHTTPConnection.getresponse\u001b[0;34m(self)\u001b[0m\n\u001b[1;32m   1345\u001b[0m \u001b[38;5;28;01mtry\u001b[39;00m:\n\u001b[1;32m   1346\u001b[0m     \u001b[38;5;28;01mtry\u001b[39;00m:\n\u001b[0;32m-> 1347\u001b[0m         \u001b[43mresponse\u001b[49m\u001b[38;5;241;43m.\u001b[39;49m\u001b[43mbegin\u001b[49m\u001b[43m(\u001b[49m\u001b[43m)\u001b[49m\n\u001b[1;32m   1348\u001b[0m     \u001b[38;5;28;01mexcept\u001b[39;00m \u001b[38;5;167;01mConnectionError\u001b[39;00m:\n\u001b[1;32m   1349\u001b[0m         \u001b[38;5;28mself\u001b[39m\u001b[38;5;241m.\u001b[39mclose()\n",
      "File \u001b[0;32m/Library/Frameworks/Python.framework/Versions/3.8/lib/python3.8/http/client.py:307\u001b[0m, in \u001b[0;36mHTTPResponse.begin\u001b[0;34m(self)\u001b[0m\n\u001b[1;32m    305\u001b[0m \u001b[38;5;66;03m# read until we get a non-100 response\u001b[39;00m\n\u001b[1;32m    306\u001b[0m \u001b[38;5;28;01mwhile\u001b[39;00m \u001b[38;5;28;01mTrue\u001b[39;00m:\n\u001b[0;32m--> 307\u001b[0m     version, status, reason \u001b[38;5;241m=\u001b[39m \u001b[38;5;28;43mself\u001b[39;49m\u001b[38;5;241;43m.\u001b[39;49m\u001b[43m_read_status\u001b[49m\u001b[43m(\u001b[49m\u001b[43m)\u001b[49m\n\u001b[1;32m    308\u001b[0m     \u001b[38;5;28;01mif\u001b[39;00m status \u001b[38;5;241m!=\u001b[39m CONTINUE:\n\u001b[1;32m    309\u001b[0m         \u001b[38;5;28;01mbreak\u001b[39;00m\n",
      "File \u001b[0;32m/Library/Frameworks/Python.framework/Versions/3.8/lib/python3.8/http/client.py:268\u001b[0m, in \u001b[0;36mHTTPResponse._read_status\u001b[0;34m(self)\u001b[0m\n\u001b[1;32m    267\u001b[0m \u001b[38;5;28;01mdef\u001b[39;00m \u001b[38;5;21m_read_status\u001b[39m(\u001b[38;5;28mself\u001b[39m):\n\u001b[0;32m--> 268\u001b[0m     line \u001b[38;5;241m=\u001b[39m \u001b[38;5;28mstr\u001b[39m(\u001b[38;5;28;43mself\u001b[39;49m\u001b[38;5;241;43m.\u001b[39;49m\u001b[43mfp\u001b[49m\u001b[38;5;241;43m.\u001b[39;49m\u001b[43mreadline\u001b[49m\u001b[43m(\u001b[49m\u001b[43m_MAXLINE\u001b[49m\u001b[43m \u001b[49m\u001b[38;5;241;43m+\u001b[39;49m\u001b[43m \u001b[49m\u001b[38;5;241;43m1\u001b[39;49m\u001b[43m)\u001b[49m, \u001b[38;5;124m\"\u001b[39m\u001b[38;5;124miso-8859-1\u001b[39m\u001b[38;5;124m\"\u001b[39m)\n\u001b[1;32m    269\u001b[0m     \u001b[38;5;28;01mif\u001b[39;00m \u001b[38;5;28mlen\u001b[39m(line) \u001b[38;5;241m>\u001b[39m _MAXLINE:\n\u001b[1;32m    270\u001b[0m         \u001b[38;5;28;01mraise\u001b[39;00m LineTooLong(\u001b[38;5;124m\"\u001b[39m\u001b[38;5;124mstatus line\u001b[39m\u001b[38;5;124m\"\u001b[39m)\n",
      "File \u001b[0;32m/Library/Frameworks/Python.framework/Versions/3.8/lib/python3.8/socket.py:669\u001b[0m, in \u001b[0;36mSocketIO.readinto\u001b[0;34m(self, b)\u001b[0m\n\u001b[1;32m    667\u001b[0m \u001b[38;5;28;01mwhile\u001b[39;00m \u001b[38;5;28;01mTrue\u001b[39;00m:\n\u001b[1;32m    668\u001b[0m     \u001b[38;5;28;01mtry\u001b[39;00m:\n\u001b[0;32m--> 669\u001b[0m         \u001b[38;5;28;01mreturn\u001b[39;00m \u001b[38;5;28;43mself\u001b[39;49m\u001b[38;5;241;43m.\u001b[39;49m\u001b[43m_sock\u001b[49m\u001b[38;5;241;43m.\u001b[39;49m\u001b[43mrecv_into\u001b[49m\u001b[43m(\u001b[49m\u001b[43mb\u001b[49m\u001b[43m)\u001b[49m\n\u001b[1;32m    670\u001b[0m     \u001b[38;5;28;01mexcept\u001b[39;00m timeout:\n\u001b[1;32m    671\u001b[0m         \u001b[38;5;28mself\u001b[39m\u001b[38;5;241m.\u001b[39m_timeout_occurred \u001b[38;5;241m=\u001b[39m \u001b[38;5;28;01mTrue\u001b[39;00m\n",
      "File \u001b[0;32m/Library/Frameworks/Python.framework/Versions/3.8/lib/python3.8/ssl.py:1241\u001b[0m, in \u001b[0;36mSSLSocket.recv_into\u001b[0;34m(self, buffer, nbytes, flags)\u001b[0m\n\u001b[1;32m   1237\u001b[0m     \u001b[38;5;28;01mif\u001b[39;00m flags \u001b[38;5;241m!=\u001b[39m \u001b[38;5;241m0\u001b[39m:\n\u001b[1;32m   1238\u001b[0m         \u001b[38;5;28;01mraise\u001b[39;00m \u001b[38;5;167;01mValueError\u001b[39;00m(\n\u001b[1;32m   1239\u001b[0m           \u001b[38;5;124m\"\u001b[39m\u001b[38;5;124mnon-zero flags not allowed in calls to recv_into() on \u001b[39m\u001b[38;5;132;01m%s\u001b[39;00m\u001b[38;5;124m\"\u001b[39m \u001b[38;5;241m%\u001b[39m\n\u001b[1;32m   1240\u001b[0m           \u001b[38;5;28mself\u001b[39m\u001b[38;5;241m.\u001b[39m\u001b[38;5;18m__class__\u001b[39m)\n\u001b[0;32m-> 1241\u001b[0m     \u001b[38;5;28;01mreturn\u001b[39;00m \u001b[38;5;28;43mself\u001b[39;49m\u001b[38;5;241;43m.\u001b[39;49m\u001b[43mread\u001b[49m\u001b[43m(\u001b[49m\u001b[43mnbytes\u001b[49m\u001b[43m,\u001b[49m\u001b[43m \u001b[49m\u001b[43mbuffer\u001b[49m\u001b[43m)\u001b[49m\n\u001b[1;32m   1242\u001b[0m \u001b[38;5;28;01melse\u001b[39;00m:\n\u001b[1;32m   1243\u001b[0m     \u001b[38;5;28;01mreturn\u001b[39;00m \u001b[38;5;28msuper\u001b[39m()\u001b[38;5;241m.\u001b[39mrecv_into(buffer, nbytes, flags)\n",
      "File \u001b[0;32m/Library/Frameworks/Python.framework/Versions/3.8/lib/python3.8/ssl.py:1099\u001b[0m, in \u001b[0;36mSSLSocket.read\u001b[0;34m(self, len, buffer)\u001b[0m\n\u001b[1;32m   1097\u001b[0m \u001b[38;5;28;01mtry\u001b[39;00m:\n\u001b[1;32m   1098\u001b[0m     \u001b[38;5;28;01mif\u001b[39;00m buffer \u001b[38;5;129;01mis\u001b[39;00m \u001b[38;5;129;01mnot\u001b[39;00m \u001b[38;5;28;01mNone\u001b[39;00m:\n\u001b[0;32m-> 1099\u001b[0m         \u001b[38;5;28;01mreturn\u001b[39;00m \u001b[38;5;28;43mself\u001b[39;49m\u001b[38;5;241;43m.\u001b[39;49m\u001b[43m_sslobj\u001b[49m\u001b[38;5;241;43m.\u001b[39;49m\u001b[43mread\u001b[49m\u001b[43m(\u001b[49m\u001b[38;5;28;43mlen\u001b[39;49m\u001b[43m,\u001b[49m\u001b[43m \u001b[49m\u001b[43mbuffer\u001b[49m\u001b[43m)\u001b[49m\n\u001b[1;32m   1100\u001b[0m     \u001b[38;5;28;01melse\u001b[39;00m:\n\u001b[1;32m   1101\u001b[0m         \u001b[38;5;28;01mreturn\u001b[39;00m \u001b[38;5;28mself\u001b[39m\u001b[38;5;241m.\u001b[39m_sslobj\u001b[38;5;241m.\u001b[39mread(\u001b[38;5;28mlen\u001b[39m)\n",
      "\u001b[0;31mKeyboardInterrupt\u001b[0m: "
     ]
    }
   ],
   "source": [
    "g = osmnx.graph.graph_from_point(( 32.0723810, 34.7744890), dist=1000)"
   ]
  },
  {
   "cell_type": "code",
   "execution_count": 8,
   "id": "ac082e27",
   "metadata": {},
   "outputs": [
    {
     "data": {
      "text/plain": [
       "NodeView((1226802, 1227320, 1227328, 1227332, 1329372, 1627574, 1627580, 1627584, 1627585, 29944869, 33388430, 33388439, 33388440, 33388443, 33388444, 33388446, 33923838, 33923841, 34132755, 34132757, 34132762, 34650800, 34650802, 57046731, 57046734, 57046735, 267815381, 267816148, 267817909, 267818057, 267819097, 270480918, 270490795, 279713588, 279713591, 279713608, 279713616, 282458041, 282458047, 282458079, 282458089, 282458093, 282458149, 282458158, 282458166, 282458173, 282458178, 283612318, 284880414, 285953227, 285953228, 286367279, 286546551, 286546719, 287237222, 287237690, 287570531, 287570954, 287571173, 287572290, 287572295, 288134139, 288134274, 288134276, 288134277, 289089573, 289089574, 290034971, 311001030, 311001040, 311001044, 311001058, 311001060, 311001062, 315468518, 315468519, 315468520, 332204765, 332205122, 332205125, 332205587, 332205712, 332205713, 332205774, 332206685, 332207109, 334709788, 334710148, 334710405, 334710408, 334711446, 334711448, 334712025, 334712285, 334739043, 334740172, 338524359, 338524363, 338524366, 339420952, 339421078, 339421079, 339422118, 339468118, 339472687, 339472688, 339472702, 339473381, 339474658, 339474687, 339474931, 339475018, 339475875, 339475877, 339476005, 339482136, 339482152, 340005875, 340006743, 340008586, 340121936, 340121937, 340373545, 343415883, 343415896, 343415899, 343415905, 344462019, 345342110, 345574764, 345574807, 345574924, 345574947, 345575108, 352934153, 352934158, 352934199, 352934309, 352934310, 352934365, 352934500, 352934665, 352934666, 352934669, 352935359, 352935966, 352936063, 352936084, 352936093, 355602971, 357297508, 357297512, 357297519, 357491441, 357492752, 357493148, 357493795, 357493840, 357498733, 357503928, 357504498, 357504499, 357505221, 357505224, 357505226, 357505228, 357506422, 357506443, 357507801, 357515625, 357515631, 357515640, 357515920, 357516226, 357517186, 357518611, 357518612, 362653249, 362654303, 362654505, 362654582, 365768345, 367607977, 367608098, 367608169, 384595167, 384604490, 384604491, 384604871, 384604872, 384609471, 384611311, 384613392, 384613399, 384613775, 384622257, 384622740, 384622743, 384626451, 384632413, 384636414, 384636415, 384637410, 384637413, 384639051, 384639223, 384639342, 384639549, 384640695, 384644922, 384648218, 384648219, 384648220, 384648823, 384649099, 384650163, 384651116, 384651118, 384651121, 384651123, 384651125, 384653018, 384653019, 384653020, 384654416, 384654737, 384655119, 384655261, 384655862, 384656319, 384656323, 384656329, 384658095, 384658418, 384660226, 384660612, 384660615, 384660757, 384661228, 384661649, 384661655, 384662487, 384662488, 384662490, 384662704, 384663084, 384663288, 384663290, 384663621, 384663624, 384663683, 384664613, 384664614, 384664913, 384664971, 384664973, 384665045, 384667998, 384668105, 384668147, 384669147, 384669173, 384669178, 384669350, 384670581, 384670833, 384671144, 384671148, 384673348, 384673698, 384674784, 384674787, 384674961, 384674962, 384675482, 384675578, 384675739, 384675853, 384676006, 384676600, 384677576, 384677768, 384677991, 384678214, 384679001, 384682788, 384683898, 384684113, 384685098, 384685855, 384686796, 384687032, 384687040, 384687440, 384690638, 384690639, 384690640, 384691682, 384691691, 384691747, 384692739, 384692884, 384693618, 384693961, 384694041, 384719374, 384730905, 384731941, 384732671, 384732672, 384741724, 384741725, 384741726, 384741759, 384741761, 387493707, 387493754, 387494738, 387494857, 387494926, 410212795, 410212890, 412273847, 412399694, 412399993, 412402858, 412403926, 412403935, 412403937, 412404248, 412404249, 412404251, 412404252, 412404375, 412404411, 412404413, 412404416, 412404418, 412404419, 412404986, 412405070, 412405072, 412405984, 412406205, 412406223, 412406296, 412518361, 412518425, 412518429, 412518430, 412518436, 412518478, 412518614, 412518639, 412518853, 412518857, 412518859, 412518961, 412519014, 412519048, 412519273, 412519563, 412519569, 412519623, 412519635, 412519643, 412519703, 412519798, 412519847, 412520369, 412520370, 412520622, 412520635, 412521186, 412521760, 412521761, 412521762, 412521763, 412521855, 412528771, 412691495, 412702687, 412722105, 412816227, 415439840, 415442186, 415442591, 415442603, 415442652, 415442665, 440059961, 440059964, 440059966, 440059970, 440059978, 440059985, 440059986, 440059997, 440059998, 440059999, 440060000, 440060001, 440060003, 440060005, 440060011, 440060012, 440060013, 440060015, 440060016, 440060029, 440060035, 440060036, 440062872, 440068095, 440068121, 440077889, 441130038, 441130108, 445974705, 445974713, 445980148, 454114131, 454114132, 454114133, 454114134, 476368384, 476368635, 476376316, 476376664, 476379062, 476379129, 476383277, 476387543, 476389032, 476389622, 489536104, 496175198, 496175245, 496175385, 496175387, 530185823, 530185824, 530185827, 530185828, 531952045, 531952053, 531952072, 536542757, 536542765, 536542767, 539592764, 539592908, 539592993, 539592995, 539593089, 539593093, 539593809, 539593996, 539594006, 539594204, 539617401, 539619086, 539625937, 539625980, 539626016, 539627326, 539628367, 539628947, 539628952, 539628955, 539632333, 539634987, 539636482, 539638640, 539641899, 539642223, 539654214, 539655499, 539655506, 539655513, 539656397, 539658707, 549230649, 549230654, 549230993, 549231325, 549232384, 549232724, 549232875, 549232986, 549232988, 549233143, 549233323, 549233516, 549233531, 549236095, 549236100, 549236695, 549236700, 549236704, 549236716, 549237320, 549237407, 549237409, 549237411, 549237413, 549237512, 549237564, 549239503, 549239612, 549240225, 549241440, 579609263, 579609267, 579609979, 579610155, 579610168, 579610264, 579611220, 579612061, 579612318, 579613769, 579613780, 579614150, 579614152, 579614153, 641134209, 641134353, 679324056, 747694256, 747694259, 747694263, 747694264, 747694283, 747780244, 747780542, 902736435, 902736436, 937839291, 1107292317, 1107292327, 1184173364, 1187663812, 1187668072, 1187668073, 1187668074, 1187668083, 1187668085, 1187668087, 1187668091, 1187668093, 1187668097, 1187703909, 1187703941, 1187703953, 1187703954, 1187703963, 1187718334, 1187718336, 1187734205, 1187734215, 1187734218, 1187734222, 1209000995, 1209001015, 1234762891, 1234762937, 1279186285, 1312216029, 1312216051, 1312216055, 1312216059, 1312216071, 1312216073, 1312216095, 1312216118, 1312216122, 1312216124, 1312216127, 1312216141, 1312216144, 1312216156, 1312216172, 1312216177, 1312216178, 1312216182, 1312216204, 1312839269, 1315258457, 1342959834, 1342959838, 1563559690, 1563559694, 1624892961, 1628174243, 1628174263, 1628174304, 1628174331, 1628174335, 1628174441, 1628415502, 1628415503, 1628415504, 1628415505, 1628415509, 1628415510, 1628415520, 1628415522, 1628415523, 1628415524, 1628415531, 1628415536, 1628415537, 1628415538, 1628415541, 1639846256, 1639846259, 1643308435, 1645591881, 1645591882, 1672308816, 1672308833, 1672351151, 1672351169, 1678949779, 1678949791, 1678949792, 1678949794, 1678949800, 1678949806, 1678949808, 1678949818, 1678949829, 1680893663, 1683208870, 1683209667, 1684309906, 1701344389, 1701344419, 1707595664, 1707595667, 1707595671, 1707595675, 1707635641, 1707635642, 1707635643, 1707635646, 1707635653, 1724608614, 1724608620, 1724608621, 1724608624, 1724608628, 1897895736, 1897895738, 1897895749, 1897895760, 1930915645, 1930915646, 1930915647, 1930915649, 1930915652, 1930915654, 1941637469, 1941637478, 1941637481, 1990219980, 1990219998, 1995998439, 1995998451, 1995998484, 1995998490, 1995998498, 1995998503, 1995998518, 1995998522, 1995998526, 1995998532, 1995998535, 1995998538, 1995998544, 1995998547, 1995998551, 1995998555, 1995998560, 1995998570, 2065271132, 2065271172, 2065271183, 2065511815, 2065511822, 2065511824, 2072034581, 2072034592, 2072034595, 2072034598, 2072034601, 2072034604, 2079033919, 2093421792, 2093421793, 2093444674, 2093444772, 2093445172, 2105666216, 2107742542, 2107742551, 2132555839, 2132555840, 2132555841, 2133476079, 2138044997, 2138044998, 2138045001, 2138045002, 2138045005, 2138045009, 2139853855, 2139868154, 2141517068, 2141517101, 2141517106, 2141532014, 2144017077, 2144017079, 2144017080, 2144017081, 2144017091, 2144017093, 2144017096, 2144017098, 2144024859, 2144024860, 2144241315, 2144241316, 2144241318, 2144241319, 2144241320, 2144241322, 2144242207, 2144242653, 2148299903, 2148299910, 2148299917, 2160093330, 2160093347, 2160093348, 2160093351, 2229213068, 2229213521, 2268450648, 2274162150, 2294943908, 2294943911, 2298172436, 2298172438, 2298172442, 2365353778, 2365353783, 2367621203, 2373734830, 2374499613, 2381576084, 2384741926, 2384741929, 2384763532, 2384763534, 2384763539, 2384763540, 2384763541, 2403217894, 2405606769, 2468336495, 2469848030, 2469848033, 2469848034, 2469848036, 2469848038, 2469848040, 2469848050, 2469848057, 2469848058, 2469848059, 2469848066, 2469848067, 2469848068, 2469848073, 2469848074, 2469848075, 2469848114, 2469848115, 2469848118, 2469848119, 2469848123, 2469848138, 2469848149, 2469958048, 2469958049, 2469958071, 2469975173, 2469975175, 2471484172, 2471484175, 2471484177, 2471484185, 2471484200, 2471484202, 2471484210, 2471484216, 2471484222, 2473987478, 2473987480, 2473987482, 2473987496, 2473987501, 2473987503, 2473987515, 2474040359, 2479682970, 2479682975, 2479682976, 2496365141, 2496365161, 2496365195, 2508606452, 2508606453, 2508732711, 2508732714, 2508732756, 2508732765, 2508732776, 2541845407, 2546316028, 2546316044, 2558926072, 2558926075, 2594041601, 2594247881, 2594247886, 2594247888, 2594247892, 2594247893, 2594247900, 2594247907, 2594247909, 2594247917, 2594247928, 2673416488, 2674533292, 2674533299, 2674533300, 2674533302, 2674533305, 2674533310, 2674533314, 2674533315, 2674533318, 2674533326, 2674542067, 2674555591, 2674555595, 2674555600, 2674555606, 2674555608, 2674555612, 2674577349, 2680566750, 2680566754, 2683019657, 2692296651, 2692296654, 2692296658, 2692296666, 2692296671, 2698056236, 2698056248, 2698056292, 2698056307, 2698056361, 2701012452, 2701012456, 2701012459, 2701012461, 2701012470, 2716995082, 2777011573, 2835081880, 2835081881, 2855597707, 2855598801, 2855598802, 2855600801, 2855600804, 2931418488, 3056926059, 3123446731, 3227436730, 3227436731, 3227436734, 3258291981, 3258291982, 3258291987, 3258291988, 3258291989, 3258291991, 3307421768, 3307421769, 3457337468, 3457337472, 3457396315, 3457396317, 3462534460, 3462534461, 3474702590, 3474702591, 3474702893, 3474702898, 3476507813, 3593956982, 3594475640, 3594475641, 3594475643, 3594844017, 3595108463, 3598394830, 3598394831, 3598394836, 3598394837, 3599546661, 3599546668, 3601426656, 3601426663, 3612842299, 3621265272, 3659571732, 3659571733, 3667593236, 3669406136, 3669406138, 3669406141, 3675733111, 3675733112, 3675733113, 3675733249, 3676466165, 3676466166, 3676466167, 3676466168, 3676466169, 3676466170, 3676466176, 3677378521, 3686091677, 3686091687, 3686091690, 3686091691, 3686091693, 3686091694, 3686091695, 3686091698, 3686883539, 3697053925, 3697053928, 3697053930, 3699173896, 3699173905, 3699173906, 3699173910, 3699173917, 3700677393, 3708683971, 3712693700, 3717712396, 3717712397, 3724244937, 3724244939, 3725340283, 3725505596, 3725505597, 3725505598, 3725505603, 3725505604, 3725505605, 3725505606, 3727186426, 3727186429, 3730809308, 3730809309, 3736070218, 3736070220, 3736070221, 3736070223, 3736070525, 3746294580, 3754480725, 3781832758, 3820683111, 3820683112, 3820683113, 3820683117, 3853300846, 3853300848, 3868299946, 3868299947, 3914275801, 3914275806, 3929046187, 3929046198, 3980709597, 3985298557, 3985298562, 3985298563, 3985298565, 3985298566, 3985298575, 3985298576, 3985298578, 3985298579, 3985298582, 3985298584, 3985298587, 3985298595, 3987152292, 3987152293, 3987152307, 3987152322, 3987152337, 3987152340, 3987152341, 3987152342, 3987152352, 3987152355, 3988271551, 3992803564, 3992803565, 3992803566, 3992803567, 3992803568, 3992803571, 3992803572, 3992803573, 3992803574, 3992803575, 4000823193, 4000823194, 4010257602, 4010257603, 4010257607, 4013462834, 4013462835, 4013462837, 4014448473, 4014448474, 4014513958, 4014929253, 4014929254, 4018510522, 4018510526, 4018510533, 4018510534, 4018542415, 4018542419, 4018542420, 4018542421, 4018542422, 4020571610, 4023817515, 4031900533, 4031900534, 4031900536, 4031900538, 4031900539, 4031900542, 4031900544, 4031900545, 4031900546, 4031900547, 4031900548, 4031900560, 4066061782, 4082010253, 4082010262, 4085651845, 4085651846, 4085740739, 4085740740, 4086326504, 4139433219, 4139433220, 4139634023, 4139634029, 4141506014, 4141506015, 4141506016, 4141506017, 4148001302, 4166597195, 4166597202, 4166597203, 4166597206, 4166597207, 4172217116, 4172217117, 4178746392, 4215686691, 4215686694, 4413805917, 4413855649, 4413855650, 4475762404, 4475762405, 4484352857, 4497063020, 4517981860, 4517981861, 4587267129, 4587267135, 4587267139, 4587267152, 4589543183, 4589543188, 4610183549, 4610183552, 4637515476, 4637525327, 4637525330, 4637525331, 4730179667, 4730179668, 4730179669, 4730179671, 4730179674, 4730179677, 4730188485, 4730188487, 4730188488, 4730188890, 4730188891, 4730188892, 4740342194, 4740342195, 4794762966, 4794762970, 4794762971, 4794762972, 4841538184, 4841538185, 4841545565, 4845610990, 4849664926, 4874807263, 4874807264, 4875389968, 4875389970, 4875389972, 4875389973, 4875389974, 4875389989, 4875399192, 4875399193, 4903346621, 4903346622, 4961737960, 4961742621, 4961742624, 4961742625, 4961742627, 4961742628, 4961742629, 4961742644, 4961742646, 4961742647, 4961742650, 4961744397, 4961744398, 4988883015, 4988883016, 4988883017, 4988883018, 5139982340, 5139982342, 5162466760, 5163526948, 5163526956, 5163526958, 5163526974, 5163526978, 5163526979, 5163526982, 5163526983, 5163526984, 5163526987, 5163526991, 5163546161, 5163546163, 5237595681, 5442467297, 5442467298, 5627512875, 5627512876, 5836932558, 5857411491, 5857411492, 5857411493, 5873048858, 5910333283, 5910333285, 5910333286, 5910333289, 5910333290, 5910333291, 5923748603, 5923748608, 5923748609, 5923748619, 5931142273, 5931142274, 5931142275, 5931142276, 5931142277, 5931142278, 5931142279, 5931142280, 5931142281, 5931142282, 5931142283, 5931142284, 5933766274, 5957905806, 5959043985, 5959457740, 5959457741, 6027488373, 6037530040, 6037530041, 6050892534, 6050892543, 6050892550, 6050892552, 6050892885, 6050892897, 6050892916, 6065966319, 6099928359, 6169883778, 6169883781, 6269826300, 6269826302, 6270993526, 6276269922, 6276269924, 6378477658, 6378477659, 6420376496, 6420450333, 6420450340, 6420450341, 6420450342, 6420450343, 6432694165, 6432694166, 6432694181, 6433775803, 6434395319, 6434511040, 6434511041, 6434511042, 6435209876, 6435209878, 6437683700, 6437900701, 6437900725, 6467923526, 6467923530, 6485685130, 6485685134, 6485685135, 6487366243, 6487366254, 6487366260, 6487366262, 6487366263, 6487366264, 6487366267, 6487366275, 6487366276, 6487510739, 6487510740, 6487755172, 6515970370, 6515970371, 6801841057, 6815316677, 6815316682, 6815333786, 6815333793, 7052025159, 7052025161, 7052025163, 7052025165, 7056968251, 7056968256, 7151154577, 7151154578, 7151154579, 7151154580, 7151154581, 7151154582, 7151154583, 7151154584, 7153596743, 7153596744, 7187251861, 7187251862, 7281684030, 7291330525, 7560875876, 7618134368, 7618134369, 7674400193, 7752750448, 7752750451, 7752750454, 7752750455, 7752750457, 7752750459, 7768335018, 7768335019, 7768335020, 7768335022, 7768335024, 7768335026, 7768335029, 7768335033, 7768335034, 7768335038, 7768335040, 7768335041, 7769901144, 7769902786, 7769911996, 7769956756, 7996757587, 7996757591, 7996793322, 7996793323, 8009120329, 8009120330, 8009120331, 8009120332, 8125165352, 8125165355, 8125165358, 8125165366, 8283535352, 8283535353, 8319633768, 8319633774, 8319633777, 8425582096, 8425582097, 8425582098, 8425582100, 8446112894, 8446112895, 8564095183, 8564095184, 8564095185, 8564095186, 8564167001, 8564167002, 8564167003, 8564167004, 8564167005, 8564167006, 8564167007, 8564167008, 8564167009, 8564167010, 8564167013, 8564167016, 8564174117, 8564174118, 8564174120, 8564174121, 8564174122, 8565499573, 8565499575, 8569721096, 8569721100, 8569731021, 8569790992, 8569790999, 8569791006, 8569791016, 8570712383, 8570712384, 8570712388, 8570712389, 8592309599, 8592309600, 8626757680, 8626757681, 8655892084, 8655892085, 8678298619, 8678353780, 8678353781, 8678353784, 8739902413, 8964515774, 8964515775, 8967854969, 9077699416, 9091773188, 9103966612, 9237134288, 9237134289, 9237134298, 9237134299, 9237134303, 9237134304, 9237134307, 9237134308, 9242609653, 9242609656, 9242965313, 9296972472, 9296972474, 9332520454, 9332520455, 9332520456, 9332520465, 9332520468, 9335856710, 9338718492, 9338718503, 9341236085, 9342671468, 9344779488, 9344779489, 9344779490, 9344779491, 9399427379, 9399427381, 9399427384, 9399435705, 9399435706, 9399435713, 9399435714, 9399435733, 9399435734, 9399435737, 9399435738, 9399435742, 9399435764, 9399435765, 9399435766, 9399435767, 9399435769, 9399445044, 9402059242, 9402457797, 9405659073, 9405727117, 9408868377, 9408868397, 9409993672, 9411445554, 9411445562, 9411445565, 9436637750, 9436637753, 9492619450, 9492619452, 9492619455, 9523504527, 9523504529, 9554507378, 9554507379, 9554507405, 9554507407, 9554507415, 9554524076, 9554524078, 9554524079, 9554524083, 9554524084, 9554524085, 9554543521, 9554543534, 9554543537, 9554543539, 9554543540, 9556701814, 9556701815, 9585467224, 9585467230, 9606153298, 9606153301, 9606153302, 9625974089, 9649479652, 9649479655, 9649479656, 9649479657, 9649479667, 9649479668, 9649479670, 9649479671, 9649479672, 9649479673, 9649479674, 9649479675, 9649479676, 9649479679, 9649479681, 9649479684, 9649479686, 9649479690, 9649479691, 9649479692, 9649479693, 9649479694, 9649479698, 9649479703, 9650273067, 9650273068, 9650273069, 9650273070, 9650273071, 9650273072, 9650273073, 9650273089, 9650273090, 9650273093, 9650273096, 9650273097, 9650273098, 9650273099, 9650273107, 9650273110, 9650273111, 9650273112, 9650441469, 9650441471, 9650441476, 9650441478, 9650441479, 9650441480, 9650441481, 9650441485, 9650441491, 9650441492, 9652107080, 9652107081, 9652107082, 9652107085, 9652208362, 9665076356, 9665076357, 9665076358, 9665076359, 9665076360, 9665076361, 9665076362, 9666648903, 9670642602, 9683452903, 9683501529, 9683501533, 9683501536, 9683501542, 9683503123, 9689769160, 9689769170, 9694164999, 9709763819, 9737914124, 9737914125, 9737914126, 9737914127, 9906164086, 9906164087, 9916247145, 9922583791, 9932292781, 9932292782, 9970107646, 9970107647, 9970960129, 9970960130, 9974245241, 9983642821, 10018843819, 10050458133, 10127387817, 10127387818, 10127666886, 10127683924, 10127683925, 10127683926, 10127683927, 10127683933, 10127683934, 10127683935, 10127683936, 10127683943, 10127683946, 10127683949, 10127780337, 10127780338, 10127780345, 10186147097, 10186147099, 10186147100, 10186147101, 10186147102, 10186147105, 10186147107, 10186147108, 10186147110, 10186147111, 10186147113, 10186147114, 10186164720, 10186164721, 10186164722, 10186164724, 10186164725, 10186164726, 10186164727, 10186164728, 10186164734, 10186164735, 10186164739, 10186370217, 10186370219, 10186370220, 10238157224, 10238157225, 10238157226, 10238157227, 10238157236, 10238157241, 10238157244, 10238228716, 10238228717, 10238264134, 10238264149, 10238272211, 10238272212, 10291083566, 10296796311, 10296796314, 10301435672, 10301435674, 10301886562, 10301886578, 10303559668, 10304320415, 10304320419, 10540910602, 10540930312, 10565981257, 10568400383, 10568400385, 10573406008, 10573430409, 10573430410, 10573430411, 10578320574, 10578420600, 10578420602, 10578420614, 10578420630, 10578420631, 10578420637, 10578420638, 10578420640, 10578430741, 10578430742, 10578430746, 10578430758, 10578430762, 10578430769, 10578430770, 10578430771, 10578430772, 10578430773, 10578430774, 10578430775, 10578430776, 10578430777, 10578430779, 10578430806, 10730074618, 10731485280, 10731485281, 10731485282, 10731485283, 10731485285, 10731485286, 10733554663, 10741295286))"
      ]
     },
     "execution_count": 8,
     "metadata": {},
     "output_type": "execute_result"
    }
   ],
   "source": [
    "g.nodes"
   ]
  },
  {
   "cell_type": "code",
   "execution_count": 257,
   "id": "029ba9fb",
   "metadata": {},
   "outputs": [
    {
     "name": "stderr",
     "output_type": "stream",
     "text": [
      "/Library/Frameworks/Python.framework/Versions/3.8/lib/python3.8/site-packages/pandas/core/dtypes/cast.py:127: ShapelyDeprecationWarning: The array interface is deprecated and will no longer work in Shapely 2.0. Convert the '.coords' to a numpy array instead.\n",
      "  arr = construct_1d_object_array_from_listlike(values)\n"
     ]
    },
    {
     "data": {
      "application/json": {
       "ascii": false,
       "bar_format": null,
       "colour": null,
       "elapsed": 0.013151884078979492,
       "initial": 0,
       "n": 0,
       "ncols": null,
       "nrows": 8,
       "postfix": null,
       "prefix": "Pandas Apply",
       "rate": null,
       "total": 1131,
       "unit": "it",
       "unit_divisor": 1000,
       "unit_scale": false
      },
      "application/vnd.jupyter.widget-view+json": {
       "model_id": "4735ec2a008445319f3c0eede9d79c0e",
       "version_major": 2,
       "version_minor": 0
      },
      "text/plain": [
       "Pandas Apply:   0%|          | 0/1131 [00:00<?, ?it/s]"
      ]
     },
     "metadata": {},
     "output_type": "display_data"
    },
    {
     "name": "stderr",
     "output_type": "stream",
     "text": [
      "/Users/itaimondshine/PycharmProjects/NLP/HeGel2/HeGel2/HeGel2/geo/map_processor/map_structure.py:91: FutureWarning: In a future version of pandas all arguments of DataFrame.drop except for the argument 'labels' will be keyword-only.\n",
      "  self.edges.drop(self.edges.columns.difference(\n"
     ]
    }
   ],
   "source": [
    "map = create_osm_graph(REGION, s2_level=14)"
   ]
  },
  {
   "cell_type": "code",
   "execution_count": 373,
   "id": "28fa1ad7",
   "metadata": {},
   "outputs": [],
   "source": [
    "gdf = map.poi[map.poi['name'] == 'פסיפס תולדות תל אביב']"
   ]
  },
  {
   "cell_type": "code",
   "execution_count": 376,
   "id": "a95805da",
   "metadata": {},
   "outputs": [],
   "source": [
    "gdf = map.poi[map.poi['name'] == 'שמעון מלך המרקים']"
   ]
  },
  {
   "cell_type": "code",
   "execution_count": 372,
   "id": "abf81863",
   "metadata": {},
   "outputs": [
    {
     "data": {
      "text/plain": [
       "126         office\n",
       "818            yes\n",
       "824         office\n",
       "825         office\n",
       "826     commercial\n",
       "           ...    \n",
       "1132           yes\n",
       "1133           yes\n",
       "1135    apartments\n",
       "1139           yes\n",
       "1163           yes\n",
       "Name: building, Length: 173, dtype: object"
      ]
     },
     "execution_count": 372,
     "metadata": {},
     "output_type": "execute_result"
    }
   ],
   "source": [
    "map.poi[map.poi.building.notna()]['building']"
   ]
  },
  {
   "cell_type": "code",
   "execution_count": 377,
   "id": "87e3719a",
   "metadata": {},
   "outputs": [
    {
     "data": {
      "text/html": [
       "<div>\n",
       "<style scoped>\n",
       "    .dataframe tbody tr th:only-of-type {\n",
       "        vertical-align: middle;\n",
       "    }\n",
       "\n",
       "    .dataframe tbody tr th {\n",
       "        vertical-align: top;\n",
       "    }\n",
       "\n",
       "    .dataframe thead th {\n",
       "        text-align: right;\n",
       "    }\n",
       "</style>\n",
       "<table border=\"1\" class=\"dataframe\">\n",
       "  <thead>\n",
       "    <tr style=\"text-align: right;\">\n",
       "      <th></th>\n",
       "      <th>element_type</th>\n",
       "      <th>osmid</th>\n",
       "      <th>highway</th>\n",
       "      <th>geometry</th>\n",
       "      <th>name</th>\n",
       "      <th>name:en</th>\n",
       "      <th>name:he</th>\n",
       "      <th>maxheight</th>\n",
       "      <th>traffic_signals</th>\n",
       "      <th>crossing</th>\n",
       "      <th>...</th>\n",
       "      <th>station</th>\n",
       "      <th>cycleway:width</th>\n",
       "      <th>loc_name</th>\n",
       "      <th>source:width</th>\n",
       "      <th>lanes:psv:forward</th>\n",
       "      <th>vehicle:conditional</th>\n",
       "      <th>ways</th>\n",
       "      <th>type</th>\n",
       "      <th>centroid</th>\n",
       "      <th>s2cellids</th>\n",
       "    </tr>\n",
       "  </thead>\n",
       "  <tbody>\n",
       "  </tbody>\n",
       "</table>\n",
       "<p>0 rows × 358 columns</p>\n",
       "</div>"
      ],
      "text/plain": [
       "Empty GeoDataFrame\n",
       "Columns: [element_type, osmid, highway, geometry, name, name:en, name:he, maxheight, traffic_signals, crossing, created_by, railway, public_transport, train, amenity, brand, brand:en, brand:he, brand:wikidata, brand:wikipedia, name:ar, name:ru, website, bicycle, foot, segregated, name:fr, place, wikidata, addr:housenumber, addr:street, cuisine, internet_access, opening_hours, phone, toilets:wheelchair, wheelchair, access, leisure, entrance, operator, wikipedia, crossing:markings, addr:postcode, contact:phone, alt_name:en, man_made, fee, addr:city, description, parking, proposed, healthcare, name:it, capacity, network, payment:credit_cards, ref, compressed_air, tourism, bicycle_rental, contact:fax, contact:website, note, shop, fixme, alt_name, layer, supervised, barrier, addr:housename, air_conditioning, level, payment:cash, atm, disused:shop, int_name, internet_access:fee, contact:facebook, contact:instagram, outdoor_seating, toilets, source, name:en1, takeaway, branch:name, branch:number, drive_through, collection_times, operator:en, operator:he, operator:wikidata, backrest, name:he1, addr:country, old_name, old_name:en, bicycle_parking, covered, payment:bitcoin, ...]\n",
       "Index: []\n",
       "\n",
       "[0 rows x 358 columns]"
      ]
     },
     "execution_count": 377,
     "metadata": {},
     "output_type": "execute_result"
    }
   ],
   "source": [
    "gdf"
   ]
  },
  {
   "cell_type": "code",
   "execution_count": 367,
   "id": "f603f332",
   "metadata": {},
   "outputs": [],
   "source": [
    "not_nan_mask = gdf.notna().any()\n",
    "not_nan_cols = gdf.columns[not_nan_mask]"
   ]
  },
  {
   "cell_type": "code",
   "execution_count": 368,
   "id": "e304c890",
   "metadata": {},
   "outputs": [
    {
     "data": {
      "text/html": [
       "<div>\n",
       "<style scoped>\n",
       "    .dataframe tbody tr th:only-of-type {\n",
       "        vertical-align: middle;\n",
       "    }\n",
       "\n",
       "    .dataframe tbody tr th {\n",
       "        vertical-align: top;\n",
       "    }\n",
       "\n",
       "    .dataframe thead th {\n",
       "        text-align: right;\n",
       "    }\n",
       "</style>\n",
       "<table border=\"1\" class=\"dataframe\">\n",
       "  <thead>\n",
       "    <tr style=\"text-align: right;\">\n",
       "      <th></th>\n",
       "      <th>element_type</th>\n",
       "      <th>osmid</th>\n",
       "      <th>geometry</th>\n",
       "      <th>name</th>\n",
       "      <th>name:en</th>\n",
       "      <th>name:he</th>\n",
       "      <th>addr:street</th>\n",
       "      <th>addr:city</th>\n",
       "      <th>name:en1</th>\n",
       "      <th>building</th>\n",
       "      <th>nodes</th>\n",
       "      <th>name:en2</th>\n",
       "      <th>building:colour</th>\n",
       "      <th>building:levels</th>\n",
       "      <th>height</th>\n",
       "      <th>building:material</th>\n",
       "      <th>building:levels:underground</th>\n",
       "      <th>centroid</th>\n",
       "      <th>s2cellids</th>\n",
       "    </tr>\n",
       "  </thead>\n",
       "  <tbody>\n",
       "    <tr>\n",
       "      <th>968</th>\n",
       "      <td>way</td>\n",
       "      <td>#221638061</td>\n",
       "      <td>POLYGON ((34.78241 32.05981, 34.78250 32.05989...</td>\n",
       "      <td>מגדל הרכבת</td>\n",
       "      <td>TLV Train Tower</td>\n",
       "      <td>מגדל הרכבת</td>\n",
       "      <td>הרכבת</td>\n",
       "      <td>תל אביב-יפו</td>\n",
       "      <td>HaRakevet Tower</td>\n",
       "      <td>commercial</td>\n",
       "      <td>[2306704126, 4973944405, 4973944406, 497394442...</td>\n",
       "      <td>Migdal HaRakevet</td>\n",
       "      <td>teal</td>\n",
       "      <td>24</td>\n",
       "      <td>86</td>\n",
       "      <td>glass</td>\n",
       "      <td>5</td>\n",
       "      <td>POINT (34.78227672292994 32.060059982897556)</td>\n",
       "      <td>(0/22203222112302\u0000,)</td>\n",
       "    </tr>\n",
       "  </tbody>\n",
       "</table>\n",
       "</div>"
      ],
      "text/plain": [
       "    element_type       osmid  \\\n",
       "968          way  #221638061   \n",
       "\n",
       "                                              geometry        name  \\\n",
       "968  POLYGON ((34.78241 32.05981, 34.78250 32.05989...  מגדל הרכבת   \n",
       "\n",
       "             name:en     name:he addr:street    addr:city         name:en1  \\\n",
       "968  TLV Train Tower  מגדל הרכבת       הרכבת  תל אביב-יפו  HaRakevet Tower   \n",
       "\n",
       "       building                                              nodes  \\\n",
       "968  commercial  [2306704126, 4973944405, 4973944406, 497394442...   \n",
       "\n",
       "             name:en2 building:colour building:levels height  \\\n",
       "968  Migdal HaRakevet            teal              24     86   \n",
       "\n",
       "    building:material building:levels:underground  \\\n",
       "968             glass                           5   \n",
       "\n",
       "                                         centroid             s2cellids  \n",
       "968  POINT (34.78227672292994 32.060059982897556)  (0/22203222112302\u0000,)  "
      ]
     },
     "execution_count": 368,
     "metadata": {},
     "output_type": "execute_result"
    }
   ],
   "source": [
    "gdf[not_nan_cols]"
   ]
  },
  {
   "cell_type": "code",
   "execution_count": 369,
   "id": "71e6c67f",
   "metadata": {},
   "outputs": [
    {
     "name": "stderr",
     "output_type": "stream",
     "text": [
      "/Users/itaimondshine/PycharmProjects/NLP/HeGel2/HeGel2/HeGel2/geo/map_processor/map_structure.py:523: FutureWarning: In a future version of pandas all arguments of DataFrame.drop except for the argument 'labels' will be keyword-only.\n",
      "  pd_poi.drop(['s2cellids'], 1, inplace=True)\n"
     ]
    }
   ],
   "source": [
    "map.write_map(MAP_DIR)"
   ]
  },
  {
   "cell_type": "code",
   "execution_count": 21,
   "id": "34c36a7e",
   "metadata": {},
   "outputs": [
    {
     "data": {
      "text/html": [
       "<div>\n",
       "<style scoped>\n",
       "    .dataframe tbody tr th:only-of-type {\n",
       "        vertical-align: middle;\n",
       "    }\n",
       "\n",
       "    .dataframe tbody tr th {\n",
       "        vertical-align: top;\n",
       "    }\n",
       "\n",
       "    .dataframe thead th {\n",
       "        text-align: right;\n",
       "    }\n",
       "</style>\n",
       "<table border=\"1\" class=\"dataframe\">\n",
       "  <thead>\n",
       "    <tr style=\"text-align: right;\">\n",
       "      <th></th>\n",
       "      <th>element_type</th>\n",
       "      <th>osmid</th>\n",
       "      <th>highway</th>\n",
       "      <th>geometry</th>\n",
       "      <th>crossing</th>\n",
       "      <th>bicycle</th>\n",
       "      <th>amenity</th>\n",
       "      <th>cuisine</th>\n",
       "      <th>name</th>\n",
       "      <th>name:en</th>\n",
       "      <th>...</th>\n",
       "      <th>population</th>\n",
       "      <th>wikipedia:en</th>\n",
       "      <th>wikipedia:ru</th>\n",
       "      <th>light_rail</th>\n",
       "      <th>location</th>\n",
       "      <th>station</th>\n",
       "      <th>cycleway:width</th>\n",
       "      <th>motor_vehicle:conditional</th>\n",
       "      <th>centroid</th>\n",
       "      <th>s2cellids</th>\n",
       "    </tr>\n",
       "  </thead>\n",
       "  <tbody>\n",
       "    <tr>\n",
       "      <th>0</th>\n",
       "      <td>node</td>\n",
       "      <td>#347264775</td>\n",
       "      <td>NaN</td>\n",
       "      <td>POINT (34.77071 32.06977)</td>\n",
       "      <td>NaN</td>\n",
       "      <td>NaN</td>\n",
       "      <td>fast_food</td>\n",
       "      <td>israeli</td>\n",
       "      <td>Shawarma Shenkin</td>\n",
       "      <td>Shawarma Shenkin</td>\n",
       "      <td>...</td>\n",
       "      <td>NaN</td>\n",
       "      <td>NaN</td>\n",
       "      <td>NaN</td>\n",
       "      <td>NaN</td>\n",
       "      <td>NaN</td>\n",
       "      <td>NaN</td>\n",
       "      <td>NaN</td>\n",
       "      <td>NaN</td>\n",
       "      <td>POINT (34.7707149 32.0697704)</td>\n",
       "      <td>[0/22203222121000\u0000]</td>\n",
       "    </tr>\n",
       "    <tr>\n",
       "      <th>1</th>\n",
       "      <td>node</td>\n",
       "      <td>#646636146</td>\n",
       "      <td>NaN</td>\n",
       "      <td>POINT (34.77055 32.06562)</td>\n",
       "      <td>NaN</td>\n",
       "      <td>NaN</td>\n",
       "      <td>cafe</td>\n",
       "      <td>NaN</td>\n",
       "      <td>בנימין</td>\n",
       "      <td>Binyamin</td>\n",
       "      <td>...</td>\n",
       "      <td>NaN</td>\n",
       "      <td>NaN</td>\n",
       "      <td>NaN</td>\n",
       "      <td>NaN</td>\n",
       "      <td>NaN</td>\n",
       "      <td>NaN</td>\n",
       "      <td>NaN</td>\n",
       "      <td>NaN</td>\n",
       "      <td>POINT (34.7705549 32.0656201)</td>\n",
       "      <td>[0/22203222121001\u0000]</td>\n",
       "    </tr>\n",
       "    <tr>\n",
       "      <th>2</th>\n",
       "      <td>node</td>\n",
       "      <td>#683355593</td>\n",
       "      <td>NaN</td>\n",
       "      <td>POINT (34.77253 32.06998)</td>\n",
       "      <td>NaN</td>\n",
       "      <td>NaN</td>\n",
       "      <td>NaN</td>\n",
       "      <td>NaN</td>\n",
       "      <td>NaN</td>\n",
       "      <td>NaN</td>\n",
       "      <td>...</td>\n",
       "      <td>NaN</td>\n",
       "      <td>NaN</td>\n",
       "      <td>NaN</td>\n",
       "      <td>NaN</td>\n",
       "      <td>NaN</td>\n",
       "      <td>NaN</td>\n",
       "      <td>NaN</td>\n",
       "      <td>NaN</td>\n",
       "      <td>POINT (34.7725288 32.0699781)</td>\n",
       "      <td>[0/22203222121000\u0000]</td>\n",
       "    </tr>\n",
       "    <tr>\n",
       "      <th>3</th>\n",
       "      <td>node</td>\n",
       "      <td>#683387957</td>\n",
       "      <td>NaN</td>\n",
       "      <td>POINT (34.77387 32.06396)</td>\n",
       "      <td>NaN</td>\n",
       "      <td>NaN</td>\n",
       "      <td>cafe</td>\n",
       "      <td>coffee_shop</td>\n",
       "      <td>קקאו</td>\n",
       "      <td>Cacao</td>\n",
       "      <td>...</td>\n",
       "      <td>NaN</td>\n",
       "      <td>NaN</td>\n",
       "      <td>NaN</td>\n",
       "      <td>NaN</td>\n",
       "      <td>NaN</td>\n",
       "      <td>NaN</td>\n",
       "      <td>NaN</td>\n",
       "      <td>NaN</td>\n",
       "      <td>POINT (34.7738712 32.0639619)</td>\n",
       "      <td>[0/22203222121001\u0000]</td>\n",
       "    </tr>\n",
       "    <tr>\n",
       "      <th>4</th>\n",
       "      <td>node</td>\n",
       "      <td>#683388711</td>\n",
       "      <td>NaN</td>\n",
       "      <td>POINT (34.77356 32.06390)</td>\n",
       "      <td>NaN</td>\n",
       "      <td>NaN</td>\n",
       "      <td>restaurant</td>\n",
       "      <td>burger</td>\n",
       "      <td>Moses</td>\n",
       "      <td>Moses</td>\n",
       "      <td>...</td>\n",
       "      <td>NaN</td>\n",
       "      <td>NaN</td>\n",
       "      <td>NaN</td>\n",
       "      <td>NaN</td>\n",
       "      <td>NaN</td>\n",
       "      <td>NaN</td>\n",
       "      <td>NaN</td>\n",
       "      <td>NaN</td>\n",
       "      <td>POINT (34.7735574 32.0639026)</td>\n",
       "      <td>[0/22203222121001\u0000]</td>\n",
       "    </tr>\n",
       "    <tr>\n",
       "      <th>...</th>\n",
       "      <td>...</td>\n",
       "      <td>...</td>\n",
       "      <td>...</td>\n",
       "      <td>...</td>\n",
       "      <td>...</td>\n",
       "      <td>...</td>\n",
       "      <td>...</td>\n",
       "      <td>...</td>\n",
       "      <td>...</td>\n",
       "      <td>...</td>\n",
       "      <td>...</td>\n",
       "      <td>...</td>\n",
       "      <td>...</td>\n",
       "      <td>...</td>\n",
       "      <td>...</td>\n",
       "      <td>...</td>\n",
       "      <td>...</td>\n",
       "      <td>...</td>\n",
       "      <td>...</td>\n",
       "      <td>...</td>\n",
       "      <td>...</td>\n",
       "    </tr>\n",
       "    <tr>\n",
       "      <th>384</th>\n",
       "      <td>node</td>\n",
       "      <td>#10287259609</td>\n",
       "      <td>NaN</td>\n",
       "      <td>POINT (34.77288 32.06241)</td>\n",
       "      <td>NaN</td>\n",
       "      <td>NaN</td>\n",
       "      <td>NaN</td>\n",
       "      <td>NaN</td>\n",
       "      <td>Lily And Bloom Hotel</td>\n",
       "      <td>NaN</td>\n",
       "      <td>...</td>\n",
       "      <td>NaN</td>\n",
       "      <td>NaN</td>\n",
       "      <td>NaN</td>\n",
       "      <td>NaN</td>\n",
       "      <td>NaN</td>\n",
       "      <td>NaN</td>\n",
       "      <td>NaN</td>\n",
       "      <td>NaN</td>\n",
       "      <td>POINT (34.7728794 32.0624118)</td>\n",
       "      <td>[0/22203222121032\u0000]</td>\n",
       "    </tr>\n",
       "    <tr>\n",
       "      <th>385</th>\n",
       "      <td>node</td>\n",
       "      <td>#10292747709</td>\n",
       "      <td>NaN</td>\n",
       "      <td>POINT (34.76855 32.06887)</td>\n",
       "      <td>NaN</td>\n",
       "      <td>NaN</td>\n",
       "      <td>cafe</td>\n",
       "      <td>NaN</td>\n",
       "      <td>Hausbrandt Café</td>\n",
       "      <td>NaN</td>\n",
       "      <td>...</td>\n",
       "      <td>NaN</td>\n",
       "      <td>NaN</td>\n",
       "      <td>NaN</td>\n",
       "      <td>NaN</td>\n",
       "      <td>NaN</td>\n",
       "      <td>NaN</td>\n",
       "      <td>NaN</td>\n",
       "      <td>NaN</td>\n",
       "      <td>POINT (34.7685487 32.068866)</td>\n",
       "      <td>[0/22203222121002\u0000]</td>\n",
       "    </tr>\n",
       "    <tr>\n",
       "      <th>386</th>\n",
       "      <td>node</td>\n",
       "      <td>#10574649948</td>\n",
       "      <td>NaN</td>\n",
       "      <td>POINT (34.77486 32.06593)</td>\n",
       "      <td>NaN</td>\n",
       "      <td>NaN</td>\n",
       "      <td>bench</td>\n",
       "      <td>NaN</td>\n",
       "      <td>NaN</td>\n",
       "      <td>NaN</td>\n",
       "      <td>...</td>\n",
       "      <td>NaN</td>\n",
       "      <td>NaN</td>\n",
       "      <td>NaN</td>\n",
       "      <td>NaN</td>\n",
       "      <td>NaN</td>\n",
       "      <td>NaN</td>\n",
       "      <td>NaN</td>\n",
       "      <td>NaN</td>\n",
       "      <td>POINT (34.7748595 32.0659347)</td>\n",
       "      <td>[0/22203222112332\u0000]</td>\n",
       "    </tr>\n",
       "    <tr>\n",
       "      <th>387</th>\n",
       "      <td>node</td>\n",
       "      <td>#10671754505</td>\n",
       "      <td>NaN</td>\n",
       "      <td>POINT (34.77631 32.06313)</td>\n",
       "      <td>NaN</td>\n",
       "      <td>NaN</td>\n",
       "      <td>toilets</td>\n",
       "      <td>NaN</td>\n",
       "      <td>NaN</td>\n",
       "      <td>NaN</td>\n",
       "      <td>...</td>\n",
       "      <td>NaN</td>\n",
       "      <td>NaN</td>\n",
       "      <td>NaN</td>\n",
       "      <td>NaN</td>\n",
       "      <td>NaN</td>\n",
       "      <td>NaN</td>\n",
       "      <td>NaN</td>\n",
       "      <td>NaN</td>\n",
       "      <td>POINT (34.7763148 32.0631307)</td>\n",
       "      <td>[0/22203222112332\u0000]</td>\n",
       "    </tr>\n",
       "    <tr>\n",
       "      <th>388</th>\n",
       "      <td>node</td>\n",
       "      <td>#10727399152</td>\n",
       "      <td>NaN</td>\n",
       "      <td>POINT (34.77029 32.06949)</td>\n",
       "      <td>NaN</td>\n",
       "      <td>NaN</td>\n",
       "      <td>restaurant</td>\n",
       "      <td>regional</td>\n",
       "      <td>Kaful</td>\n",
       "      <td>NaN</td>\n",
       "      <td>...</td>\n",
       "      <td>NaN</td>\n",
       "      <td>NaN</td>\n",
       "      <td>NaN</td>\n",
       "      <td>NaN</td>\n",
       "      <td>NaN</td>\n",
       "      <td>NaN</td>\n",
       "      <td>NaN</td>\n",
       "      <td>NaN</td>\n",
       "      <td>POINT (34.7702882 32.069485)</td>\n",
       "      <td>[0/22203222121001\u0000]</td>\n",
       "    </tr>\n",
       "  </tbody>\n",
       "</table>\n",
       "<p>389 rows × 222 columns</p>\n",
       "</div>"
      ],
      "text/plain": [
       "    element_type         osmid highway                   geometry crossing  \\\n",
       "0           node    #347264775     NaN  POINT (34.77071 32.06977)      NaN   \n",
       "1           node    #646636146     NaN  POINT (34.77055 32.06562)      NaN   \n",
       "2           node    #683355593     NaN  POINT (34.77253 32.06998)      NaN   \n",
       "3           node    #683387957     NaN  POINT (34.77387 32.06396)      NaN   \n",
       "4           node    #683388711     NaN  POINT (34.77356 32.06390)      NaN   \n",
       "..           ...           ...     ...                        ...      ...   \n",
       "384         node  #10287259609     NaN  POINT (34.77288 32.06241)      NaN   \n",
       "385         node  #10292747709     NaN  POINT (34.76855 32.06887)      NaN   \n",
       "386         node  #10574649948     NaN  POINT (34.77486 32.06593)      NaN   \n",
       "387         node  #10671754505     NaN  POINT (34.77631 32.06313)      NaN   \n",
       "388         node  #10727399152     NaN  POINT (34.77029 32.06949)      NaN   \n",
       "\n",
       "    bicycle     amenity      cuisine                  name           name:en  \\\n",
       "0       NaN   fast_food      israeli      Shawarma Shenkin  Shawarma Shenkin   \n",
       "1       NaN        cafe          NaN                בנימין          Binyamin   \n",
       "2       NaN         NaN          NaN                   NaN               NaN   \n",
       "3       NaN        cafe  coffee_shop                  קקאו             Cacao   \n",
       "4       NaN  restaurant       burger                 Moses             Moses   \n",
       "..      ...         ...          ...                   ...               ...   \n",
       "384     NaN         NaN          NaN  Lily And Bloom Hotel               NaN   \n",
       "385     NaN        cafe          NaN       Hausbrandt Café               NaN   \n",
       "386     NaN       bench          NaN                   NaN               NaN   \n",
       "387     NaN     toilets          NaN                   NaN               NaN   \n",
       "388     NaN  restaurant     regional                 Kaful               NaN   \n",
       "\n",
       "     ... population wikipedia:en wikipedia:ru light_rail location station  \\\n",
       "0    ...        NaN          NaN          NaN        NaN      NaN     NaN   \n",
       "1    ...        NaN          NaN          NaN        NaN      NaN     NaN   \n",
       "2    ...        NaN          NaN          NaN        NaN      NaN     NaN   \n",
       "3    ...        NaN          NaN          NaN        NaN      NaN     NaN   \n",
       "4    ...        NaN          NaN          NaN        NaN      NaN     NaN   \n",
       "..   ...        ...          ...          ...        ...      ...     ...   \n",
       "384  ...        NaN          NaN          NaN        NaN      NaN     NaN   \n",
       "385  ...        NaN          NaN          NaN        NaN      NaN     NaN   \n",
       "386  ...        NaN          NaN          NaN        NaN      NaN     NaN   \n",
       "387  ...        NaN          NaN          NaN        NaN      NaN     NaN   \n",
       "388  ...        NaN          NaN          NaN        NaN      NaN     NaN   \n",
       "\n",
       "    cycleway:width motor_vehicle:conditional                       centroid  \\\n",
       "0              NaN                       NaN  POINT (34.7707149 32.0697704)   \n",
       "1              NaN                       NaN  POINT (34.7705549 32.0656201)   \n",
       "2              NaN                       NaN  POINT (34.7725288 32.0699781)   \n",
       "3              NaN                       NaN  POINT (34.7738712 32.0639619)   \n",
       "4              NaN                       NaN  POINT (34.7735574 32.0639026)   \n",
       "..             ...                       ...                            ...   \n",
       "384            NaN                       NaN  POINT (34.7728794 32.0624118)   \n",
       "385            NaN                       NaN   POINT (34.7685487 32.068866)   \n",
       "386            NaN                       NaN  POINT (34.7748595 32.0659347)   \n",
       "387            NaN                       NaN  POINT (34.7763148 32.0631307)   \n",
       "388            NaN                       NaN   POINT (34.7702882 32.069485)   \n",
       "\n",
       "               s2cellids  \n",
       "0    [0/22203222121000\u0000]  \n",
       "1    [0/22203222121001\u0000]  \n",
       "2    [0/22203222121000\u0000]  \n",
       "3    [0/22203222121001\u0000]  \n",
       "4    [0/22203222121001\u0000]  \n",
       "..                   ...  \n",
       "384  [0/22203222121032\u0000]  \n",
       "385  [0/22203222121002\u0000]  \n",
       "386  [0/22203222112332\u0000]  \n",
       "387  [0/22203222112332\u0000]  \n",
       "388  [0/22203222121001\u0000]  \n",
       "\n",
       "[389 rows x 222 columns]"
      ]
     },
     "execution_count": 21,
     "metadata": {},
     "output_type": "execute_result"
    }
   ],
   "source": [
    "map.poi[map.poi.element_type == 'node']"
   ]
  },
  {
   "cell_type": "code",
   "execution_count": 6,
   "id": "3b3ea23c",
   "metadata": {},
   "outputs": [
    {
     "data": {
      "text/plain": [
       "map"
      ]
     },
     "execution_count": 6,
     "metadata": {},
     "output_type": "execute_result"
    }
   ],
   "source": [
    "map"
   ]
  },
  {
   "cell_type": "code",
   "execution_count": 5,
   "id": "685d2e83",
   "metadata": {},
   "outputs": [
    {
     "ename": "AttributeError",
     "evalue": "type object 'map' has no attribute 'edges'",
     "output_type": "error",
     "traceback": [
      "\u001b[0;31m---------------------------------------------------------------------------\u001b[0m",
      "\u001b[0;31mAttributeError\u001b[0m                            Traceback (most recent call last)",
      "Cell \u001b[0;32mIn[5], line 1\u001b[0m\n\u001b[0;32m----> 1\u001b[0m edges \u001b[38;5;241m=\u001b[39m \u001b[38;5;28;43mmap\u001b[39;49m\u001b[38;5;241;43m.\u001b[39;49m\u001b[43medges\u001b[49m\u001b[38;5;241m.\u001b[39mreset_index()\n",
      "\u001b[0;31mAttributeError\u001b[0m: type object 'map' has no attribute 'edges'"
     ]
    }
   ],
   "source": [
    "edges = map.edges.reset_index()"
   ]
  },
  {
   "cell_type": "code",
   "execution_count": 142,
   "id": "0179f28f",
   "metadata": {},
   "outputs": [],
   "source": [
    "osmid = edges[edges['u'] == '#10727399152'].iloc[0]['osmid']"
   ]
  },
  {
   "cell_type": "code",
   "execution_count": 143,
   "id": "8cc97f6c",
   "metadata": {},
   "outputs": [
    {
     "data": {
      "text/plain": [
       "'5013379'"
      ]
     },
     "execution_count": 143,
     "metadata": {},
     "output_type": "execute_result"
    }
   ],
   "source": [
    "osmid"
   ]
  },
  {
   "cell_type": "code",
   "execution_count": 144,
   "id": "1df8e1be",
   "metadata": {},
   "outputs": [],
   "source": [
    "optional_streets = edges[edges['osmid'] == osmid]['name'].to_list()"
   ]
  },
  {
   "cell_type": "code",
   "execution_count": 145,
   "id": "5a79a48d",
   "metadata": {},
   "outputs": [],
   "source": [
    "optional_streets.remove('poi')"
   ]
  },
  {
   "cell_type": "code",
   "execution_count": 146,
   "id": "ca8e570f",
   "metadata": {},
   "outputs": [],
   "source": [
    "optional_streets = [edge for edge in optional_streets if edge != 'poi']"
   ]
  },
  {
   "cell_type": "code",
   "execution_count": 147,
   "id": "3c7e1cd2",
   "metadata": {},
   "outputs": [],
   "source": [
    "streets = list(set(optional_streets))"
   ]
  },
  {
   "cell_type": "code",
   "execution_count": 148,
   "id": "8ebfabe0",
   "metadata": {},
   "outputs": [
    {
     "data": {
      "text/plain": [
       "['נחלת בנימין']"
      ]
     },
     "execution_count": 148,
     "metadata": {},
     "output_type": "execute_result"
    }
   ],
   "source": [
    "streets"
   ]
  },
  {
   "cell_type": "code",
   "execution_count": 134,
   "id": "5dd25c41",
   "metadata": {},
   "outputs": [
    {
     "data": {
      "text/plain": [
       "2"
      ]
     },
     "execution_count": 134,
     "metadata": {},
     "output_type": "execute_result"
    }
   ],
   "source": [
    "map.nx_graph.degree()['#10574649948']"
   ]
  },
  {
   "cell_type": "code",
   "execution_count": 101,
   "id": "3c0b480a",
   "metadata": {},
   "outputs": [],
   "source": [
    "import osmnx as ox\n",
    "city = 'Tel Aviv'\n",
    "import pandas as pd"
   ]
  },
  {
   "cell_type": "code",
   "execution_count": 102,
   "id": "a2966c39",
   "metadata": {},
   "outputs": [],
   "source": [
    "city_graph_option1 = ox.geometries_from_place(f'{city}', {'place': 'suburb'})[['name', 'geometry']]\n",
    "# city_graph.to_file(f'city_polygons/{city}.geojson', driver='GeoJSON')\n",
    "\n",
    "# # Alternative way, again not working for all the places\n",
    "city_graph_option2 = ox.geometries_from_place(f'{city}', {'boundary': 'administrative'})[['name', 'geometry']]\n",
    "# city_graph.to_file(f'city_polygons/{city}', driver='GeoJSON')\n"
   ]
  },
  {
   "cell_type": "code",
   "execution_count": 103,
   "id": "c3b46019",
   "metadata": {},
   "outputs": [
    {
     "data": {
      "text/plain": [
       "geopandas.geodataframe.GeoDataFrame"
      ]
     },
     "execution_count": 103,
     "metadata": {},
     "output_type": "execute_result"
    }
   ],
   "source": [
    "type(city_graph_option1)"
   ]
  },
  {
   "cell_type": "code",
   "execution_count": 104,
   "id": "18faff0f",
   "metadata": {
    "scrolled": true
   },
   "outputs": [
    {
     "data": {
      "text/html": [
       "<div>\n",
       "<style scoped>\n",
       "    .dataframe tbody tr th:only-of-type {\n",
       "        vertical-align: middle;\n",
       "    }\n",
       "\n",
       "    .dataframe tbody tr th {\n",
       "        vertical-align: top;\n",
       "    }\n",
       "\n",
       "    .dataframe thead th {\n",
       "        text-align: right;\n",
       "    }\n",
       "</style>\n",
       "<table border=\"1\" class=\"dataframe\">\n",
       "  <thead>\n",
       "    <tr style=\"text-align: right;\">\n",
       "      <th></th>\n",
       "      <th></th>\n",
       "      <th>name</th>\n",
       "      <th>geometry</th>\n",
       "    </tr>\n",
       "    <tr>\n",
       "      <th>element_type</th>\n",
       "      <th>osmid</th>\n",
       "      <th></th>\n",
       "      <th></th>\n",
       "    </tr>\n",
       "  </thead>\n",
       "  <tbody>\n",
       "    <tr>\n",
       "      <th rowspan=\"29\" valign=\"top\">way</th>\n",
       "      <th>192125140</th>\n",
       "      <td>NaN</td>\n",
       "      <td>LINESTRING (34.77810 32.03867, 34.77437 32.040...</td>\n",
       "    </tr>\n",
       "    <tr>\n",
       "      <th>725859739</th>\n",
       "      <td>NaN</td>\n",
       "      <td>LINESTRING (34.72875 32.00485, 34.73239 32.014...</td>\n",
       "    </tr>\n",
       "    <tr>\n",
       "      <th>725859741</th>\n",
       "      <td>NaN</td>\n",
       "      <td>LINESTRING (34.74243 32.03313, 34.74307 32.033...</td>\n",
       "    </tr>\n",
       "    <tr>\n",
       "      <th>725859742</th>\n",
       "      <td>NaN</td>\n",
       "      <td>LINESTRING (34.75948 32.03293, 34.75963 32.032...</td>\n",
       "    </tr>\n",
       "    <tr>\n",
       "      <th>725874406</th>\n",
       "      <td>NaN</td>\n",
       "      <td>LINESTRING (34.75691 32.05763, 34.75497 32.058...</td>\n",
       "    </tr>\n",
       "    <tr>\n",
       "      <th>725874407</th>\n",
       "      <td>NaN</td>\n",
       "      <td>LINESTRING (34.73913 32.03376, 34.74220 32.032...</td>\n",
       "    </tr>\n",
       "    <tr>\n",
       "      <th>725874408</th>\n",
       "      <td>NaN</td>\n",
       "      <td>LINESTRING (34.82765 32.10558, 34.82741 32.105...</td>\n",
       "    </tr>\n",
       "    <tr>\n",
       "      <th>725874409</th>\n",
       "      <td>NaN</td>\n",
       "      <td>LINESTRING (34.73913 32.03376, 34.74078 32.038...</td>\n",
       "    </tr>\n",
       "    <tr>\n",
       "      <th>725874410</th>\n",
       "      <td>NaN</td>\n",
       "      <td>LINESTRING (34.75098 32.05911, 34.75402 32.060...</td>\n",
       "    </tr>\n",
       "    <tr>\n",
       "      <th>725874411</th>\n",
       "      <td>NaN</td>\n",
       "      <td>LINESTRING (34.78763 32.14698, 34.78949 32.146...</td>\n",
       "    </tr>\n",
       "    <tr>\n",
       "      <th>725874412</th>\n",
       "      <td>NaN</td>\n",
       "      <td>LINESTRING (34.79155 32.14607, 34.79199 32.145...</td>\n",
       "    </tr>\n",
       "    <tr>\n",
       "      <th>725878128</th>\n",
       "      <td>NaN</td>\n",
       "      <td>LINESTRING (34.77810 32.03867, 34.77667 32.036...</td>\n",
       "    </tr>\n",
       "    <tr>\n",
       "      <th>725878129</th>\n",
       "      <td>NaN</td>\n",
       "      <td>LINESTRING (34.81381 32.04460, 34.81242 32.040...</td>\n",
       "    </tr>\n",
       "    <tr>\n",
       "      <th>725881319</th>\n",
       "      <td>NaN</td>\n",
       "      <td>LINESTRING (34.81180 32.05863, 34.81165 32.057...</td>\n",
       "    </tr>\n",
       "    <tr>\n",
       "      <th>725881320</th>\n",
       "      <td>NaN</td>\n",
       "      <td>LINESTRING (34.80281 32.06605, 34.80378 32.066...</td>\n",
       "    </tr>\n",
       "    <tr>\n",
       "      <th>725881321</th>\n",
       "      <td>NaN</td>\n",
       "      <td>LINESTRING (34.80002 32.08119, 34.79990 32.081...</td>\n",
       "    </tr>\n",
       "    <tr>\n",
       "      <th>725885724</th>\n",
       "      <td>NaN</td>\n",
       "      <td>LINESTRING (34.80244 32.14402, 34.80202 32.142...</td>\n",
       "    </tr>\n",
       "    <tr>\n",
       "      <th>725885725</th>\n",
       "      <td>NaN</td>\n",
       "      <td>LINESTRING (34.84925 32.10703, 34.84896 32.107...</td>\n",
       "    </tr>\n",
       "    <tr>\n",
       "      <th>725885727</th>\n",
       "      <td>NaN</td>\n",
       "      <td>LINESTRING (34.85077 32.11360, 34.85072 32.113...</td>\n",
       "    </tr>\n",
       "    <tr>\n",
       "      <th>725885728</th>\n",
       "      <td>NaN</td>\n",
       "      <td>LINESTRING (34.84440 32.12046, 34.84427 32.120...</td>\n",
       "    </tr>\n",
       "    <tr>\n",
       "      <th>725928230</th>\n",
       "      <td>NaN</td>\n",
       "      <td>LINESTRING (34.78763 32.14698, 34.79013 32.154...</td>\n",
       "    </tr>\n",
       "    <tr>\n",
       "      <th>725928235</th>\n",
       "      <td>NaN</td>\n",
       "      <td>LINESTRING (34.81276 32.15133, 34.81318 32.152...</td>\n",
       "    </tr>\n",
       "    <tr>\n",
       "      <th>725941135</th>\n",
       "      <td>NaN</td>\n",
       "      <td>LINESTRING (34.82765 32.10558, 34.82771 32.105...</td>\n",
       "    </tr>\n",
       "    <tr>\n",
       "      <th>725941137</th>\n",
       "      <td>NaN</td>\n",
       "      <td>LINESTRING (34.81180 32.05863, 34.81275 32.058...</td>\n",
       "    </tr>\n",
       "    <tr>\n",
       "      <th>725941140</th>\n",
       "      <td>NaN</td>\n",
       "      <td>LINESTRING (34.82988 32.03808, 34.82978 32.038...</td>\n",
       "    </tr>\n",
       "    <tr>\n",
       "      <th>728056540</th>\n",
       "      <td>NaN</td>\n",
       "      <td>LINESTRING (34.77882 32.03827, 34.77898 32.038...</td>\n",
       "    </tr>\n",
       "    <tr>\n",
       "      <th>729072583</th>\n",
       "      <td>NaN</td>\n",
       "      <td>LINESTRING (34.85077 32.11360, 34.85178 32.113...</td>\n",
       "    </tr>\n",
       "    <tr>\n",
       "      <th>891059851</th>\n",
       "      <td>NaN</td>\n",
       "      <td>LINESTRING (34.84793 32.10136, 34.84811 32.102...</td>\n",
       "    </tr>\n",
       "    <tr>\n",
       "      <th>1138249362</th>\n",
       "      <td>NaN</td>\n",
       "      <td>LINESTRING (34.77882 32.03827, 34.77810 32.03867)</td>\n",
       "    </tr>\n",
       "    <tr>\n",
       "      <th rowspan=\"13\" valign=\"top\">relation</th>\n",
       "      <th>1382458</th>\n",
       "      <td>בת ים</td>\n",
       "      <td>POLYGON ((34.72875 32.00485, 34.73239 32.01401...</td>\n",
       "    </tr>\n",
       "    <tr>\n",
       "      <th>1382460</th>\n",
       "      <td>חולון</td>\n",
       "      <td>POLYGON ((34.75529 32.00202, 34.75546 32.00260...</td>\n",
       "    </tr>\n",
       "    <tr>\n",
       "      <th>1382493</th>\n",
       "      <td>רמת גן</td>\n",
       "      <td>POLYGON ((34.80002 32.08119, 34.80005 32.08165...</td>\n",
       "    </tr>\n",
       "    <tr>\n",
       "      <th>1382816</th>\n",
       "      <td>פתח תקווה</td>\n",
       "      <td>POLYGON ((34.84580 32.09025, 34.84580 32.09251...</td>\n",
       "    </tr>\n",
       "    <tr>\n",
       "      <th>1382817</th>\n",
       "      <td>בני ברק</td>\n",
       "      <td>POLYGON ((34.82765 32.10558, 34.82785 32.10563...</td>\n",
       "    </tr>\n",
       "    <tr>\n",
       "      <th>1382820</th>\n",
       "      <td>הרצליה</td>\n",
       "      <td>POLYGON ((34.78763 32.14698, 34.79013 32.15481...</td>\n",
       "    </tr>\n",
       "    <tr>\n",
       "      <th>1382821</th>\n",
       "      <td>רמת השרון</td>\n",
       "      <td>POLYGON ((34.80244 32.14402, 34.80267 32.14491...</td>\n",
       "    </tr>\n",
       "    <tr>\n",
       "      <th>1382923</th>\n",
       "      <td>גבעתיים</td>\n",
       "      <td>POLYGON ((34.80002 32.08119, 34.80018 32.08122...</td>\n",
       "    </tr>\n",
       "    <tr>\n",
       "      <th>1400916</th>\n",
       "      <td>מחוז תל אביב</td>\n",
       "      <td>POLYGON ((34.72875 32.00485, 34.73239 32.01401...</td>\n",
       "    </tr>\n",
       "    <tr>\n",
       "      <th>1400928</th>\n",
       "      <td>מחוז המרכז</td>\n",
       "      <td>POLYGON ((34.66046 31.86399, 34.67197 31.88773...</td>\n",
       "    </tr>\n",
       "    <tr>\n",
       "      <th>2589843</th>\n",
       "      <td>יפו</td>\n",
       "      <td>POLYGON ((34.73913 32.03376, 34.74078 32.03857...</td>\n",
       "    </tr>\n",
       "    <tr>\n",
       "      <th>11587672</th>\n",
       "      <td>נפת פתח תקווה</td>\n",
       "      <td>POLYGON ((34.83688 32.19101, 34.83919 32.19160...</td>\n",
       "    </tr>\n",
       "    <tr>\n",
       "      <th>12197868</th>\n",
       "      <td>נפת תל אביב</td>\n",
       "      <td>POLYGON ((34.72875 32.00485, 34.73239 32.01401...</td>\n",
       "    </tr>\n",
       "  </tbody>\n",
       "</table>\n",
       "</div>"
      ],
      "text/plain": [
       "                                  name  \\\n",
       "element_type osmid                       \n",
       "way          192125140             NaN   \n",
       "             725859739             NaN   \n",
       "             725859741             NaN   \n",
       "             725859742             NaN   \n",
       "             725874406             NaN   \n",
       "             725874407             NaN   \n",
       "             725874408             NaN   \n",
       "             725874409             NaN   \n",
       "             725874410             NaN   \n",
       "             725874411             NaN   \n",
       "             725874412             NaN   \n",
       "             725878128             NaN   \n",
       "             725878129             NaN   \n",
       "             725881319             NaN   \n",
       "             725881320             NaN   \n",
       "             725881321             NaN   \n",
       "             725885724             NaN   \n",
       "             725885725             NaN   \n",
       "             725885727             NaN   \n",
       "             725885728             NaN   \n",
       "             725928230             NaN   \n",
       "             725928235             NaN   \n",
       "             725941135             NaN   \n",
       "             725941137             NaN   \n",
       "             725941140             NaN   \n",
       "             728056540             NaN   \n",
       "             729072583             NaN   \n",
       "             891059851             NaN   \n",
       "             1138249362            NaN   \n",
       "relation     1382458             בת ים   \n",
       "             1382460             חולון   \n",
       "             1382493            רמת גן   \n",
       "             1382816         פתח תקווה   \n",
       "             1382817           בני ברק   \n",
       "             1382820            הרצליה   \n",
       "             1382821         רמת השרון   \n",
       "             1382923           גבעתיים   \n",
       "             1400916      מחוז תל אביב   \n",
       "             1400928        מחוז המרכז   \n",
       "             2589843               יפו   \n",
       "             11587672    נפת פתח תקווה   \n",
       "             12197868      נפת תל אביב   \n",
       "\n",
       "                                                                  geometry  \n",
       "element_type osmid                                                          \n",
       "way          192125140   LINESTRING (34.77810 32.03867, 34.77437 32.040...  \n",
       "             725859739   LINESTRING (34.72875 32.00485, 34.73239 32.014...  \n",
       "             725859741   LINESTRING (34.74243 32.03313, 34.74307 32.033...  \n",
       "             725859742   LINESTRING (34.75948 32.03293, 34.75963 32.032...  \n",
       "             725874406   LINESTRING (34.75691 32.05763, 34.75497 32.058...  \n",
       "             725874407   LINESTRING (34.73913 32.03376, 34.74220 32.032...  \n",
       "             725874408   LINESTRING (34.82765 32.10558, 34.82741 32.105...  \n",
       "             725874409   LINESTRING (34.73913 32.03376, 34.74078 32.038...  \n",
       "             725874410   LINESTRING (34.75098 32.05911, 34.75402 32.060...  \n",
       "             725874411   LINESTRING (34.78763 32.14698, 34.78949 32.146...  \n",
       "             725874412   LINESTRING (34.79155 32.14607, 34.79199 32.145...  \n",
       "             725878128   LINESTRING (34.77810 32.03867, 34.77667 32.036...  \n",
       "             725878129   LINESTRING (34.81381 32.04460, 34.81242 32.040...  \n",
       "             725881319   LINESTRING (34.81180 32.05863, 34.81165 32.057...  \n",
       "             725881320   LINESTRING (34.80281 32.06605, 34.80378 32.066...  \n",
       "             725881321   LINESTRING (34.80002 32.08119, 34.79990 32.081...  \n",
       "             725885724   LINESTRING (34.80244 32.14402, 34.80202 32.142...  \n",
       "             725885725   LINESTRING (34.84925 32.10703, 34.84896 32.107...  \n",
       "             725885727   LINESTRING (34.85077 32.11360, 34.85072 32.113...  \n",
       "             725885728   LINESTRING (34.84440 32.12046, 34.84427 32.120...  \n",
       "             725928230   LINESTRING (34.78763 32.14698, 34.79013 32.154...  \n",
       "             725928235   LINESTRING (34.81276 32.15133, 34.81318 32.152...  \n",
       "             725941135   LINESTRING (34.82765 32.10558, 34.82771 32.105...  \n",
       "             725941137   LINESTRING (34.81180 32.05863, 34.81275 32.058...  \n",
       "             725941140   LINESTRING (34.82988 32.03808, 34.82978 32.038...  \n",
       "             728056540   LINESTRING (34.77882 32.03827, 34.77898 32.038...  \n",
       "             729072583   LINESTRING (34.85077 32.11360, 34.85178 32.113...  \n",
       "             891059851   LINESTRING (34.84793 32.10136, 34.84811 32.102...  \n",
       "             1138249362  LINESTRING (34.77882 32.03827, 34.77810 32.03867)  \n",
       "relation     1382458     POLYGON ((34.72875 32.00485, 34.73239 32.01401...  \n",
       "             1382460     POLYGON ((34.75529 32.00202, 34.75546 32.00260...  \n",
       "             1382493     POLYGON ((34.80002 32.08119, 34.80005 32.08165...  \n",
       "             1382816     POLYGON ((34.84580 32.09025, 34.84580 32.09251...  \n",
       "             1382817     POLYGON ((34.82765 32.10558, 34.82785 32.10563...  \n",
       "             1382820     POLYGON ((34.78763 32.14698, 34.79013 32.15481...  \n",
       "             1382821     POLYGON ((34.80244 32.14402, 34.80267 32.14491...  \n",
       "             1382923     POLYGON ((34.80002 32.08119, 34.80018 32.08122...  \n",
       "             1400916     POLYGON ((34.72875 32.00485, 34.73239 32.01401...  \n",
       "             1400928     POLYGON ((34.66046 31.86399, 34.67197 31.88773...  \n",
       "             2589843     POLYGON ((34.73913 32.03376, 34.74078 32.03857...  \n",
       "             11587672    POLYGON ((34.83688 32.19101, 34.83919 32.19160...  \n",
       "             12197868    POLYGON ((34.72875 32.00485, 34.73239 32.01401...  "
      ]
     },
     "execution_count": 104,
     "metadata": {},
     "output_type": "execute_result"
    }
   ],
   "source": [
    "city_graph_option2"
   ]
  },
  {
   "cell_type": "code",
   "execution_count": 108,
   "id": "6e779081",
   "metadata": {},
   "outputs": [],
   "source": [
    "tel_aviv = pd.concat([city_graph_option2, city_graph_option1], axis=0)"
   ]
  },
  {
   "cell_type": "code",
   "execution_count": 112,
   "id": "3ae8cad7",
   "metadata": {},
   "outputs": [],
   "source": [
    "tel_aviv_point = tel_aviv[tel_aviv.geom_type == 'Polygon']"
   ]
  },
  {
   "cell_type": "code",
   "execution_count": 116,
   "id": "252514d4",
   "metadata": {},
   "outputs": [
    {
     "data": {
      "text/html": [
       "<div>\n",
       "<style scoped>\n",
       "    .dataframe tbody tr th:only-of-type {\n",
       "        vertical-align: middle;\n",
       "    }\n",
       "\n",
       "    .dataframe tbody tr th {\n",
       "        vertical-align: top;\n",
       "    }\n",
       "\n",
       "    .dataframe thead th {\n",
       "        text-align: right;\n",
       "    }\n",
       "</style>\n",
       "<table border=\"1\" class=\"dataframe\">\n",
       "  <thead>\n",
       "    <tr style=\"text-align: right;\">\n",
       "      <th></th>\n",
       "      <th></th>\n",
       "      <th>name</th>\n",
       "      <th>geometry</th>\n",
       "    </tr>\n",
       "    <tr>\n",
       "      <th>element_type</th>\n",
       "      <th>osmid</th>\n",
       "      <th></th>\n",
       "      <th></th>\n",
       "    </tr>\n",
       "  </thead>\n",
       "  <tbody>\n",
       "    <tr>\n",
       "      <th rowspan=\"11\" valign=\"top\">way</th>\n",
       "      <th>192125140</th>\n",
       "      <td>NaN</td>\n",
       "      <td>LINESTRING (34.77810 32.03867, 34.77437 32.040...</td>\n",
       "    </tr>\n",
       "    <tr>\n",
       "      <th>725859739</th>\n",
       "      <td>NaN</td>\n",
       "      <td>LINESTRING (34.72875 32.00485, 34.73239 32.014...</td>\n",
       "    </tr>\n",
       "    <tr>\n",
       "      <th>725859741</th>\n",
       "      <td>NaN</td>\n",
       "      <td>LINESTRING (34.74243 32.03313, 34.74307 32.033...</td>\n",
       "    </tr>\n",
       "    <tr>\n",
       "      <th>725859742</th>\n",
       "      <td>NaN</td>\n",
       "      <td>LINESTRING (34.75948 32.03293, 34.75963 32.032...</td>\n",
       "    </tr>\n",
       "    <tr>\n",
       "      <th>725874406</th>\n",
       "      <td>NaN</td>\n",
       "      <td>LINESTRING (34.75691 32.05763, 34.75497 32.058...</td>\n",
       "    </tr>\n",
       "    <tr>\n",
       "      <th>...</th>\n",
       "      <td>...</td>\n",
       "      <td>...</td>\n",
       "    </tr>\n",
       "    <tr>\n",
       "      <th>819865928</th>\n",
       "      <td>המשתלה</td>\n",
       "      <td>POLYGON ((34.83579 32.12769, 34.83729 32.12769...</td>\n",
       "    </tr>\n",
       "    <tr>\n",
       "      <th>819865929</th>\n",
       "      <td>צהלה</td>\n",
       "      <td>POLYGON ((34.83993 32.12539, 34.83990 32.12433...</td>\n",
       "    </tr>\n",
       "    <tr>\n",
       "      <th>819866913</th>\n",
       "      <td>רמת החייל</td>\n",
       "      <td>POLYGON ((34.83637 32.11876, 34.83642 32.11875...</td>\n",
       "    </tr>\n",
       "    <tr>\n",
       "      <th>893349040</th>\n",
       "      <td>סיטי</td>\n",
       "      <td>POLYGON ((34.80169 32.08115, 34.80137 32.08115...</td>\n",
       "    </tr>\n",
       "    <tr>\n",
       "      <th>917333960</th>\n",
       "      <td>נוה שרת</td>\n",
       "      <td>POLYGON ((34.84083 32.11457, 34.84187 32.11553...</td>\n",
       "    </tr>\n",
       "  </tbody>\n",
       "</table>\n",
       "<p>162 rows × 2 columns</p>\n",
       "</div>"
      ],
      "text/plain": [
       "                             name  \\\n",
       "element_type osmid                  \n",
       "way          192125140        NaN   \n",
       "             725859739        NaN   \n",
       "             725859741        NaN   \n",
       "             725859742        NaN   \n",
       "             725874406        NaN   \n",
       "...                           ...   \n",
       "             819865928     המשתלה   \n",
       "             819865929       צהלה   \n",
       "             819866913  רמת החייל   \n",
       "             893349040       סיטי   \n",
       "             917333960    נוה שרת   \n",
       "\n",
       "                                                                 geometry  \n",
       "element_type osmid                                                         \n",
       "way          192125140  LINESTRING (34.77810 32.03867, 34.77437 32.040...  \n",
       "             725859739  LINESTRING (34.72875 32.00485, 34.73239 32.014...  \n",
       "             725859741  LINESTRING (34.74243 32.03313, 34.74307 32.033...  \n",
       "             725859742  LINESTRING (34.75948 32.03293, 34.75963 32.032...  \n",
       "             725874406  LINESTRING (34.75691 32.05763, 34.75497 32.058...  \n",
       "...                                                                   ...  \n",
       "             819865928  POLYGON ((34.83579 32.12769, 34.83729 32.12769...  \n",
       "             819865929  POLYGON ((34.83993 32.12539, 34.83990 32.12433...  \n",
       "             819866913  POLYGON ((34.83637 32.11876, 34.83642 32.11875...  \n",
       "             893349040  POLYGON ((34.80169 32.08115, 34.80137 32.08115...  \n",
       "             917333960  POLYGON ((34.84083 32.11457, 34.84187 32.11553...  \n",
       "\n",
       "[162 rows x 2 columns]"
      ]
     },
     "execution_count": 116,
     "metadata": {},
     "output_type": "execute_result"
    }
   ],
   "source": [
    "tel_aviv"
   ]
  },
  {
   "cell_type": "code",
   "execution_count": 117,
   "id": "311bf7de",
   "metadata": {},
   "outputs": [
    {
     "data": {
      "text/html": [
       "<div>\n",
       "<style scoped>\n",
       "    .dataframe tbody tr th:only-of-type {\n",
       "        vertical-align: middle;\n",
       "    }\n",
       "\n",
       "    .dataframe tbody tr th {\n",
       "        vertical-align: top;\n",
       "    }\n",
       "\n",
       "    .dataframe thead th {\n",
       "        text-align: right;\n",
       "    }\n",
       "</style>\n",
       "<table border=\"1\" class=\"dataframe\">\n",
       "  <thead>\n",
       "    <tr style=\"text-align: right;\">\n",
       "      <th></th>\n",
       "      <th></th>\n",
       "      <th>name</th>\n",
       "      <th>geometry</th>\n",
       "    </tr>\n",
       "    <tr>\n",
       "      <th>element_type</th>\n",
       "      <th>osmid</th>\n",
       "      <th></th>\n",
       "      <th></th>\n",
       "    </tr>\n",
       "  </thead>\n",
       "  <tbody>\n",
       "    <tr>\n",
       "      <th rowspan=\"11\" valign=\"top\">node</th>\n",
       "      <th>278469824</th>\n",
       "      <td>רמת אשכול</td>\n",
       "      <td>POINT (35.22288 31.80179)</td>\n",
       "    </tr>\n",
       "    <tr>\n",
       "      <th>278470233</th>\n",
       "      <td>קרית היובל</td>\n",
       "      <td>POINT (35.17504 31.76436)</td>\n",
       "    </tr>\n",
       "    <tr>\n",
       "      <th>278470480</th>\n",
       "      <td>סנהדריה מורחבת</td>\n",
       "      <td>POINT (35.21754 31.80259)</td>\n",
       "    </tr>\n",
       "    <tr>\n",
       "      <th>278470644</th>\n",
       "      <td>גבעת שאול</td>\n",
       "      <td>POINT (35.19310 31.79112)</td>\n",
       "    </tr>\n",
       "    <tr>\n",
       "      <th>278471069</th>\n",
       "      <td>עיר גנים</td>\n",
       "      <td>POINT (35.17313 31.75565)</td>\n",
       "    </tr>\n",
       "    <tr>\n",
       "      <th>...</th>\n",
       "      <td>...</td>\n",
       "      <td>...</td>\n",
       "    </tr>\n",
       "    <tr>\n",
       "      <th>8316380890</th>\n",
       "      <td>מקור ברוך</td>\n",
       "      <td>POINT (35.21135 31.78899)</td>\n",
       "    </tr>\n",
       "    <tr>\n",
       "      <th>9107808023</th>\n",
       "      <td>ארנונה</td>\n",
       "      <td>POINT (35.22140 31.74920)</td>\n",
       "    </tr>\n",
       "    <tr>\n",
       "      <th>9107818768</th>\n",
       "      <td>נחלת שבעה</td>\n",
       "      <td>POINT (35.22044 31.78079)</td>\n",
       "    </tr>\n",
       "    <tr>\n",
       "      <th>9493856826</th>\n",
       "      <td>גבעת חנניה</td>\n",
       "      <td>POINT (35.22781 31.76516)</td>\n",
       "    </tr>\n",
       "    <tr>\n",
       "      <th>10103368277</th>\n",
       "      <td>בית חולים הדסה עין כרם</td>\n",
       "      <td>POINT (35.15019 31.76531)</td>\n",
       "    </tr>\n",
       "  </tbody>\n",
       "</table>\n",
       "<p>79 rows × 2 columns</p>\n",
       "</div>"
      ],
      "text/plain": [
       "                                            name                   geometry\n",
       "element_type osmid                                                         \n",
       "node         278469824                 רמת אשכול  POINT (35.22288 31.80179)\n",
       "             278470233                קרית היובל  POINT (35.17504 31.76436)\n",
       "             278470480            סנהדריה מורחבת  POINT (35.21754 31.80259)\n",
       "             278470644                 גבעת שאול  POINT (35.19310 31.79112)\n",
       "             278471069                  עיר גנים  POINT (35.17313 31.75565)\n",
       "...                                          ...                        ...\n",
       "             8316380890                מקור ברוך  POINT (35.21135 31.78899)\n",
       "             9107808023                   ארנונה  POINT (35.22140 31.74920)\n",
       "             9107818768                נחלת שבעה  POINT (35.22044 31.78079)\n",
       "             9493856826               גבעת חנניה  POINT (35.22781 31.76516)\n",
       "             10103368277  בית חולים הדסה עין כרם  POINT (35.15019 31.76531)\n",
       "\n",
       "[79 rows x 2 columns]"
      ]
     },
     "execution_count": 117,
     "metadata": {},
     "output_type": "execute_result"
    }
   ],
   "source": [
    "jerusalem_point"
   ]
  },
  {
   "cell_type": "code",
   "execution_count": 119,
   "id": "7f418dc2",
   "metadata": {},
   "outputs": [],
   "source": [
    "from shapely.geometry import Point"
   ]
  },
  {
   "cell_type": "code",
   "execution_count": 120,
   "id": "5882f4cc",
   "metadata": {},
   "outputs": [],
   "source": [
    "updated_geometry = []\n",
    "for row in jerusalem_point.iterrows():\n",
    "    if isinstance(row[1]['geometry'], Point):\n",
    "        updated_geometry.append(row[1]['geometry'].buffer(0.006))\n",
    "    else:\n",
    "        updated_geometry.append(row[1]['geometry'])"
   ]
  },
  {
   "cell_type": "code",
   "execution_count": 123,
   "id": "927eea84",
   "metadata": {},
   "outputs": [
    {
     "name": "stderr",
     "output_type": "stream",
     "text": [
      "/Library/Frameworks/Python.framework/Versions/3.8/lib/python3.8/site-packages/geopandas/geodataframe.py:1443: SettingWithCopyWarning: \n",
      "A value is trying to be set on a copy of a slice from a DataFrame.\n",
      "Try using .loc[row_indexer,col_indexer] = value instead\n",
      "\n",
      "See the caveats in the documentation: https://pandas.pydata.org/pandas-docs/stable/user_guide/indexing.html#returning-a-view-versus-a-copy\n",
      "  super().__setitem__(key, value)\n"
     ]
    }
   ],
   "source": [
    "jerusalem_point['geometry'] = updated_geometry"
   ]
  },
  {
   "cell_type": "code",
   "execution_count": 125,
   "id": "30e4f1df",
   "metadata": {
    "collapsed": true
   },
   "outputs": [
    {
     "data": {
      "text/html": [
       "<div>\n",
       "<style scoped>\n",
       "    .dataframe tbody tr th:only-of-type {\n",
       "        vertical-align: middle;\n",
       "    }\n",
       "\n",
       "    .dataframe tbody tr th {\n",
       "        vertical-align: top;\n",
       "    }\n",
       "\n",
       "    .dataframe thead th {\n",
       "        text-align: right;\n",
       "    }\n",
       "</style>\n",
       "<table border=\"1\" class=\"dataframe\">\n",
       "  <thead>\n",
       "    <tr style=\"text-align: right;\">\n",
       "      <th></th>\n",
       "      <th></th>\n",
       "      <th>name</th>\n",
       "      <th>geometry</th>\n",
       "    </tr>\n",
       "    <tr>\n",
       "      <th>element_type</th>\n",
       "      <th>osmid</th>\n",
       "      <th></th>\n",
       "      <th></th>\n",
       "    </tr>\n",
       "  </thead>\n",
       "  <tbody>\n",
       "    <tr>\n",
       "      <th rowspan=\"11\" valign=\"top\">node</th>\n",
       "      <th>278469824</th>\n",
       "      <td>רמת אשכול</td>\n",
       "      <td>POLYGON ((35.22888 31.80179, 35.22885 31.80120...</td>\n",
       "    </tr>\n",
       "    <tr>\n",
       "      <th>278470233</th>\n",
       "      <td>קרית היובל</td>\n",
       "      <td>POLYGON ((35.18104 31.76436, 35.18102 31.76377...</td>\n",
       "    </tr>\n",
       "    <tr>\n",
       "      <th>278470480</th>\n",
       "      <td>סנהדריה מורחבת</td>\n",
       "      <td>POLYGON ((35.22354 31.80259, 35.22351 31.80200...</td>\n",
       "    </tr>\n",
       "    <tr>\n",
       "      <th>278470644</th>\n",
       "      <td>גבעת שאול</td>\n",
       "      <td>POLYGON ((35.19910 31.79112, 35.19907 31.79053...</td>\n",
       "    </tr>\n",
       "    <tr>\n",
       "      <th>278471069</th>\n",
       "      <td>עיר גנים</td>\n",
       "      <td>POLYGON ((35.17913 31.75565, 35.17910 31.75507...</td>\n",
       "    </tr>\n",
       "    <tr>\n",
       "      <th>...</th>\n",
       "      <td>...</td>\n",
       "      <td>...</td>\n",
       "    </tr>\n",
       "    <tr>\n",
       "      <th>8316380890</th>\n",
       "      <td>מקור ברוך</td>\n",
       "      <td>POLYGON ((35.21735 31.78899, 35.21732 31.78840...</td>\n",
       "    </tr>\n",
       "    <tr>\n",
       "      <th>9107808023</th>\n",
       "      <td>ארנונה</td>\n",
       "      <td>POLYGON ((35.22740 31.74920, 35.22737 31.74861...</td>\n",
       "    </tr>\n",
       "    <tr>\n",
       "      <th>9107818768</th>\n",
       "      <td>נחלת שבעה</td>\n",
       "      <td>POLYGON ((35.22644 31.78079, 35.22641 31.78021...</td>\n",
       "    </tr>\n",
       "    <tr>\n",
       "      <th>9493856826</th>\n",
       "      <td>גבעת חנניה</td>\n",
       "      <td>POLYGON ((35.23381 31.76516, 35.23378 31.76457...</td>\n",
       "    </tr>\n",
       "    <tr>\n",
       "      <th>10103368277</th>\n",
       "      <td>בית חולים הדסה עין כרם</td>\n",
       "      <td>POLYGON ((35.15619 31.76531, 35.15617 31.76473...</td>\n",
       "    </tr>\n",
       "  </tbody>\n",
       "</table>\n",
       "<p>79 rows × 2 columns</p>\n",
       "</div>"
      ],
      "text/plain": [
       "                                            name  \\\n",
       "element_type osmid                                 \n",
       "node         278469824                 רמת אשכול   \n",
       "             278470233                קרית היובל   \n",
       "             278470480            סנהדריה מורחבת   \n",
       "             278470644                 גבעת שאול   \n",
       "             278471069                  עיר גנים   \n",
       "...                                          ...   \n",
       "             8316380890                מקור ברוך   \n",
       "             9107808023                   ארנונה   \n",
       "             9107818768                נחלת שבעה   \n",
       "             9493856826               גבעת חנניה   \n",
       "             10103368277  בית חולים הדסה עין כרם   \n",
       "\n",
       "                                                                   geometry  \n",
       "element_type osmid                                                           \n",
       "node         278469824    POLYGON ((35.22888 31.80179, 35.22885 31.80120...  \n",
       "             278470233    POLYGON ((35.18104 31.76436, 35.18102 31.76377...  \n",
       "             278470480    POLYGON ((35.22354 31.80259, 35.22351 31.80200...  \n",
       "             278470644    POLYGON ((35.19910 31.79112, 35.19907 31.79053...  \n",
       "             278471069    POLYGON ((35.17913 31.75565, 35.17910 31.75507...  \n",
       "...                                                                     ...  \n",
       "             8316380890   POLYGON ((35.21735 31.78899, 35.21732 31.78840...  \n",
       "             9107808023   POLYGON ((35.22740 31.74920, 35.22737 31.74861...  \n",
       "             9107818768   POLYGON ((35.22644 31.78079, 35.22641 31.78021...  \n",
       "             9493856826   POLYGON ((35.23381 31.76516, 35.23378 31.76457...  \n",
       "             10103368277  POLYGON ((35.15619 31.76531, 35.15617 31.76473...  \n",
       "\n",
       "[79 rows x 2 columns]"
      ]
     },
     "execution_count": 125,
     "metadata": {},
     "output_type": "execute_result"
    }
   ],
   "source": [
    "jerusalem_point"
   ]
  },
  {
   "cell_type": "code",
   "execution_count": 124,
   "id": "53d52879",
   "metadata": {},
   "outputs": [
    {
     "data": {
      "text/plain": [
       "<AxesSubplot:>"
      ]
     },
     "execution_count": 124,
     "metadata": {},
     "output_type": "execute_result"
    },
    {
     "data": {
      "image/png": "[encoded data removed]",
      "text/plain": [
       "<Figure size 640x480 with 1 Axes>"
      ]
     },
     "metadata": {},
     "output_type": "display_data"
    }
   ],
   "source": [
    "jerusalem_point.plot()"
   ]
  },
  {
   "cell_type": "code",
   "execution_count": 150,
   "id": "f09f7404",
   "metadata": {},
   "outputs": [],
   "source": [
    "def generate_neighborhood_polygons_gdf(city: str):\n",
    "    updated_geometry = []\n",
    "    city_graph_option1 = ox.geometries_from_place(f'{city}', {'place': 'suburb'})[['name', 'geometry']]\n",
    "    #Alternative way in osm\n",
    "    city_graph_option2 = ox.geometries_from_place(f'{city}', {'boundary': 'administrative'})[['name', 'geometry']]\n",
    "    concated_df = pd.concat([city_graph_option2, city_graph_option1], axis=0)\n",
    "    concated_df = concated_df.dropna(subset=['name']).reset_index()\n",
    "    \n",
    "    # Remove large areas - may be not a neighborhood \n",
    "    concated_df['area'] = concated_df['geometry'].area\n",
    "    concated_df = concated_df.loc[concated_df['area'] < 0.000310]\n",
    "    \n",
    "    point_df = concated_df.loc[concated_df.geo_typ]\n",
    "    \n",
    "    concated_df.geom_type()\n",
    "    for neighborhood in concated_df.iterrows():\n",
    "        if isinstance(row[1]['geometry'], Point):\n",
    "            updated_geometry.append(row[1]['geometry'].buffer(0.00006))\n",
    "        else:\n",
    "            updated_geometry.append(row[1]['geometry'])\n",
    "    concated_df['geometry'] = updated_geometry\n",
    "    print(concated_df.plot())\n",
    "    return concated_df"
   ]
  },
  {
   "cell_type": "code",
   "execution_count": 246,
   "id": "cdf1eb37",
   "metadata": {},
   "outputs": [],
   "source": [
    "city = 'Haifa'"
   ]
  },
  {
   "cell_type": "code",
   "execution_count": 247,
   "id": "72685b74",
   "metadata": {},
   "outputs": [
    {
     "name": "stderr",
     "output_type": "stream",
     "text": [
      "/var/folders/6c/7s9j6b710cn7h_bnq4jrn_700000gn/T/ipykernel_1129/1224921331.py:6: UserWarning: Geometry is in a geographic CRS. Results from 'area' are likely incorrect. Use 'GeoSeries.to_crs()' to re-project geometries to a projected CRS before this operation.\n",
      "\n",
      "  concated_df['area'] = concated_df['geometry'].area\n",
      "/var/folders/6c/7s9j6b710cn7h_bnq4jrn_700000gn/T/ipykernel_1129/1224921331.py:13: UserWarning: Geometry is in a geographic CRS. Results from 'buffer' are likely incorrect. Use 'GeoSeries.to_crs()' to re-project geometries to a projected CRS before this operation.\n",
      "\n",
      "  concated_df_points_no_has_polygons_to_polygons = concated_df_points_no_has_polygons.buffer(0.006)\n",
      "/Library/Frameworks/Python.framework/Versions/3.8/lib/python3.8/site-packages/geopandas/geodataframe.py:1443: SettingWithCopyWarning: \n",
      "A value is trying to be set on a copy of a slice from a DataFrame.\n",
      "Try using .loc[row_indexer,col_indexer] = value instead\n",
      "\n",
      "See the caveats in the documentation: https://pandas.pydata.org/pandas-docs/stable/user_guide/indexing.html#returning-a-view-versus-a-copy\n",
      "  super().__setitem__(key, value)\n"
     ]
    }
   ],
   "source": [
    "city_graph_option1 = ox.geometries_from_place(f'{city}', {'place': 'suburb'})[['name', 'geometry']]\n",
    "#Alternative way in osm\n",
    "city_graph_option2 = ox.geometries_from_place(f'{city}', {'boundary': 'administrative'})[['name', 'geometry']]\n",
    "concated_df = pd.concat([city_graph_option2, city_graph_option1], axis=0)\n",
    "concated_df = concated_df.dropna(subset=['name']).reset_index()\n",
    "concated_df['area'] = concated_df['geometry'].area\n",
    "concated_df = concated_df.loc[concated_df['area'] < 0.000310]\n",
    "\n",
    "concated_df_points = concated_df.loc[concated_df.geom_type == 'Point']\n",
    "concated_df_polygons = concated_df.loc[concated_df.geom_type == 'Polygon']\n",
    "\n",
    "concated_df_points_no_has_polygons = concated_df_points[~ concated_df_points['name'].isin(concated_df_polygons['name'])]\n",
    "concated_df_points_no_has_polygons_to_polygons = concated_df_points_no_has_polygons.buffer(0.006)\n",
    "concated_df_points_no_has_polygons['geometry'] = concated_df_points_no_has_polygons_to_polygons\n",
    "neigborhood_concated = pd.concat([concated_df_polygons, concated_df_points_no_has_polygons], axis=0)"
   ]
  },
  {
   "cell_type": "code",
   "execution_count": 199,
   "id": "72a2d7eb",
   "metadata": {},
   "outputs": [
    {
     "name": "stderr",
     "output_type": "stream",
     "text": [
      "/var/folders/6c/7s9j6b710cn7h_bnq4jrn_700000gn/T/ipykernel_1129/853487642.py:1: UserWarning: Geometry is in a geographic CRS. Results from 'area' are likely incorrect. Use 'GeoSeries.to_crs()' to re-project geometries to a projected CRS before this operation.\n",
      "\n",
      "  concated_df['area'] = concated_df['geometry'].area\n"
     ]
    }
   ],
   "source": [
    "concated_df['area'] = concated_df['geometry'].area\n",
    "concated_df = concated_df.loc[concated_df['area'] < 0.000310]"
   ]
  },
  {
   "cell_type": "code",
   "execution_count": 200,
   "id": "b28e6d17",
   "metadata": {},
   "outputs": [],
   "source": [
    "concated_df_points = concated_df.loc[concated_df.geom_type == 'Point']"
   ]
  },
  {
   "cell_type": "code",
   "execution_count": 201,
   "id": "018d736c",
   "metadata": {
    "collapsed": true
   },
   "outputs": [
    {
     "data": {
      "text/html": [
       "<div>\n",
       "<style scoped>\n",
       "    .dataframe tbody tr th:only-of-type {\n",
       "        vertical-align: middle;\n",
       "    }\n",
       "\n",
       "    .dataframe tbody tr th {\n",
       "        vertical-align: top;\n",
       "    }\n",
       "\n",
       "    .dataframe thead th {\n",
       "        text-align: right;\n",
       "    }\n",
       "</style>\n",
       "<table border=\"1\" class=\"dataframe\">\n",
       "  <thead>\n",
       "    <tr style=\"text-align: right;\">\n",
       "      <th></th>\n",
       "      <th>element_type</th>\n",
       "      <th>osmid</th>\n",
       "      <th>name</th>\n",
       "      <th>geometry</th>\n",
       "      <th>area</th>\n",
       "    </tr>\n",
       "  </thead>\n",
       "  <tbody>\n",
       "    <tr>\n",
       "      <th>13</th>\n",
       "      <td>node</td>\n",
       "      <td>278472972</td>\n",
       "      <td>התקווה</td>\n",
       "      <td>POINT (34.78810 32.05129)</td>\n",
       "      <td>0.0</td>\n",
       "    </tr>\n",
       "    <tr>\n",
       "      <th>14</th>\n",
       "      <td>node</td>\n",
       "      <td>278473220</td>\n",
       "      <td>צהלה</td>\n",
       "      <td>POINT (34.83618 32.12255)</td>\n",
       "      <td>0.0</td>\n",
       "    </tr>\n",
       "    <tr>\n",
       "      <th>15</th>\n",
       "      <td>node</td>\n",
       "      <td>278473531</td>\n",
       "      <td>כפר שלם</td>\n",
       "      <td>POINT (34.80628 32.05138)</td>\n",
       "      <td>0.0</td>\n",
       "    </tr>\n",
       "    <tr>\n",
       "      <th>16</th>\n",
       "      <td>node</td>\n",
       "      <td>278473722</td>\n",
       "      <td>אבו כביר</td>\n",
       "      <td>POINT (34.76862 32.04712)</td>\n",
       "      <td>0.0</td>\n",
       "    </tr>\n",
       "    <tr>\n",
       "      <th>17</th>\n",
       "      <td>node</td>\n",
       "      <td>278473942</td>\n",
       "      <td>רמת אביב</td>\n",
       "      <td>POINT (34.79509 32.10886)</td>\n",
       "      <td>0.0</td>\n",
       "    </tr>\n",
       "    <tr>\n",
       "      <th>18</th>\n",
       "      <td>node</td>\n",
       "      <td>278477013</td>\n",
       "      <td>הדר יוסף</td>\n",
       "      <td>POINT (34.82364 32.10825)</td>\n",
       "      <td>0.0</td>\n",
       "    </tr>\n",
       "    <tr>\n",
       "      <th>19</th>\n",
       "      <td>node</td>\n",
       "      <td>278477912</td>\n",
       "      <td>תל ברוך צפון</td>\n",
       "      <td>POINT (34.81795 32.12247)</td>\n",
       "      <td>0.0</td>\n",
       "    </tr>\n",
       "    <tr>\n",
       "      <th>20</th>\n",
       "      <td>node</td>\n",
       "      <td>278478134</td>\n",
       "      <td>רמת החייל</td>\n",
       "      <td>POINT (34.83665 32.11557)</td>\n",
       "      <td>0.0</td>\n",
       "    </tr>\n",
       "    <tr>\n",
       "      <th>21</th>\n",
       "      <td>node</td>\n",
       "      <td>278478480</td>\n",
       "      <td>קריית שלום</td>\n",
       "      <td>POINT (34.77676 32.04484)</td>\n",
       "      <td>0.0</td>\n",
       "    </tr>\n",
       "    <tr>\n",
       "      <th>22</th>\n",
       "      <td>node</td>\n",
       "      <td>301909053</td>\n",
       "      <td>רביבים</td>\n",
       "      <td>POINT (34.82856 32.11576)</td>\n",
       "      <td>0.0</td>\n",
       "    </tr>\n",
       "    <tr>\n",
       "      <th>23</th>\n",
       "      <td>node</td>\n",
       "      <td>301909520</td>\n",
       "      <td>נוה דן</td>\n",
       "      <td>POINT (34.82772 32.11134)</td>\n",
       "      <td>0.0</td>\n",
       "    </tr>\n",
       "    <tr>\n",
       "      <th>24</th>\n",
       "      <td>node</td>\n",
       "      <td>303893216</td>\n",
       "      <td>רמת אביב ג'</td>\n",
       "      <td>POINT (34.80045 32.12673)</td>\n",
       "      <td>0.0</td>\n",
       "    </tr>\n",
       "    <tr>\n",
       "      <th>25</th>\n",
       "      <td>node</td>\n",
       "      <td>346148719</td>\n",
       "      <td>נווה בארבור</td>\n",
       "      <td>POINT (34.80150 32.05231)</td>\n",
       "      <td>0.0</td>\n",
       "    </tr>\n",
       "    <tr>\n",
       "      <th>26</th>\n",
       "      <td>node</td>\n",
       "      <td>346148847</td>\n",
       "      <td>נווה צה\"ל</td>\n",
       "      <td>POINT (34.79792 32.05265)</td>\n",
       "      <td>0.0</td>\n",
       "    </tr>\n",
       "    <tr>\n",
       "      <th>27</th>\n",
       "      <td>node</td>\n",
       "      <td>346148934</td>\n",
       "      <td>עזרא</td>\n",
       "      <td>POINT (34.79094 32.04405)</td>\n",
       "      <td>0.0</td>\n",
       "    </tr>\n",
       "    <tr>\n",
       "      <th>28</th>\n",
       "      <td>node</td>\n",
       "      <td>346149094</td>\n",
       "      <td>הארגזים</td>\n",
       "      <td>POINT (34.79710 32.04610)</td>\n",
       "      <td>0.0</td>\n",
       "    </tr>\n",
       "    <tr>\n",
       "      <th>29</th>\n",
       "      <td>node</td>\n",
       "      <td>346184624</td>\n",
       "      <td>בית יעקב</td>\n",
       "      <td>POINT (34.79723 32.04845)</td>\n",
       "      <td>0.0</td>\n",
       "    </tr>\n",
       "    <tr>\n",
       "      <th>30</th>\n",
       "      <td>node</td>\n",
       "      <td>346197380</td>\n",
       "      <td>שיכון ל'</td>\n",
       "      <td>POINT (34.79027 32.10776)</td>\n",
       "      <td>0.0</td>\n",
       "    </tr>\n",
       "    <tr>\n",
       "      <th>31</th>\n",
       "      <td>node</td>\n",
       "      <td>346197929</td>\n",
       "      <td>רמת אביב החדשה</td>\n",
       "      <td>POINT (34.79271 32.11939)</td>\n",
       "      <td>0.0</td>\n",
       "    </tr>\n",
       "    <tr>\n",
       "      <th>32</th>\n",
       "      <td>node</td>\n",
       "      <td>346199466</td>\n",
       "      <td>אפקה</td>\n",
       "      <td>POINT (34.80686 32.12246)</td>\n",
       "      <td>0.0</td>\n",
       "    </tr>\n",
       "    <tr>\n",
       "      <th>33</th>\n",
       "      <td>node</td>\n",
       "      <td>346199871</td>\n",
       "      <td>תל ברוך</td>\n",
       "      <td>POINT (34.81587 32.11979)</td>\n",
       "      <td>0.0</td>\n",
       "    </tr>\n",
       "    <tr>\n",
       "      <th>34</th>\n",
       "      <td>node</td>\n",
       "      <td>346200056</td>\n",
       "      <td>מעוז אביב א</td>\n",
       "      <td>POINT (34.81420 32.11203)</td>\n",
       "      <td>0.0</td>\n",
       "    </tr>\n",
       "    <tr>\n",
       "      <th>35</th>\n",
       "      <td>node</td>\n",
       "      <td>358838190</td>\n",
       "      <td>מונטיפיורי</td>\n",
       "      <td>POINT (34.78968 32.06908)</td>\n",
       "      <td>0.0</td>\n",
       "    </tr>\n",
       "    <tr>\n",
       "      <th>36</th>\n",
       "      <td>node</td>\n",
       "      <td>366641070</td>\n",
       "      <td>שבזי</td>\n",
       "      <td>POINT (34.76462 32.06284)</td>\n",
       "      <td>0.0</td>\n",
       "    </tr>\n",
       "    <tr>\n",
       "      <th>37</th>\n",
       "      <td>node</td>\n",
       "      <td>410212152</td>\n",
       "      <td>המשתלה</td>\n",
       "      <td>POINT (34.83349 32.12754)</td>\n",
       "      <td>0.0</td>\n",
       "    </tr>\n",
       "    <tr>\n",
       "      <th>38</th>\n",
       "      <td>node</td>\n",
       "      <td>417650555</td>\n",
       "      <td>רמות צהלה</td>\n",
       "      <td>POINT (34.83082 32.12170)</td>\n",
       "      <td>0.0</td>\n",
       "    </tr>\n",
       "    <tr>\n",
       "      <th>39</th>\n",
       "      <td>node</td>\n",
       "      <td>417651020</td>\n",
       "      <td>נווה שרת</td>\n",
       "      <td>POINT (34.84041 32.11865)</td>\n",
       "      <td>0.0</td>\n",
       "    </tr>\n",
       "    <tr>\n",
       "      <th>40</th>\n",
       "      <td>node</td>\n",
       "      <td>419006528</td>\n",
       "      <td>מעוז אביב ב</td>\n",
       "      <td>POINT (34.81777 32.11225)</td>\n",
       "      <td>0.0</td>\n",
       "    </tr>\n",
       "    <tr>\n",
       "      <th>41</th>\n",
       "      <td>node</td>\n",
       "      <td>429882121</td>\n",
       "      <td>גני צהלה</td>\n",
       "      <td>POINT (34.82997 32.12548)</td>\n",
       "      <td>0.0</td>\n",
       "    </tr>\n",
       "    <tr>\n",
       "      <th>42</th>\n",
       "      <td>node</td>\n",
       "      <td>429882124</td>\n",
       "      <td>נאות אפקה ב</td>\n",
       "      <td>POINT (34.82205 32.11923)</td>\n",
       "      <td>0.0</td>\n",
       "    </tr>\n",
       "    <tr>\n",
       "      <th>43</th>\n",
       "      <td>node</td>\n",
       "      <td>429882295</td>\n",
       "      <td>נאות אפקה א</td>\n",
       "      <td>POINT (34.82048 32.11519)</td>\n",
       "      <td>0.0</td>\n",
       "    </tr>\n",
       "    <tr>\n",
       "      <th>44</th>\n",
       "      <td>node</td>\n",
       "      <td>513478496</td>\n",
       "      <td>ביצרון</td>\n",
       "      <td>POINT (34.79664 32.06986)</td>\n",
       "      <td>0.0</td>\n",
       "    </tr>\n",
       "    <tr>\n",
       "      <th>45</th>\n",
       "      <td>node</td>\n",
       "      <td>540638518</td>\n",
       "      <td>נווה עופר</td>\n",
       "      <td>POINT (34.76600 32.04144)</td>\n",
       "      <td>0.0</td>\n",
       "    </tr>\n",
       "    <tr>\n",
       "      <th>46</th>\n",
       "      <td>node</td>\n",
       "      <td>1116182645</td>\n",
       "      <td>נווה כפיר</td>\n",
       "      <td>POINT (34.79993 32.04791)</td>\n",
       "      <td>0.0</td>\n",
       "    </tr>\n",
       "    <tr>\n",
       "      <th>47</th>\n",
       "      <td>node</td>\n",
       "      <td>1169841935</td>\n",
       "      <td>ישגב</td>\n",
       "      <td>POINT (34.83407 32.11023)</td>\n",
       "      <td>0.0</td>\n",
       "    </tr>\n",
       "    <tr>\n",
       "      <th>48</th>\n",
       "      <td>node</td>\n",
       "      <td>1171837023</td>\n",
       "      <td>אזור תעשייה עבר הירקון</td>\n",
       "      <td>POINT (34.83913 32.10877)</td>\n",
       "      <td>0.0</td>\n",
       "    </tr>\n",
       "    <tr>\n",
       "      <th>49</th>\n",
       "      <td>node</td>\n",
       "      <td>1171837025</td>\n",
       "      <td>קריית עתידים</td>\n",
       "      <td>POINT (34.84347 32.11450)</td>\n",
       "      <td>0.0</td>\n",
       "    </tr>\n",
       "    <tr>\n",
       "      <th>50</th>\n",
       "      <td>node</td>\n",
       "      <td>1198725889</td>\n",
       "      <td>אזורי חן</td>\n",
       "      <td>POINT (34.79342 32.12998)</td>\n",
       "      <td>0.0</td>\n",
       "    </tr>\n",
       "    <tr>\n",
       "      <th>51</th>\n",
       "      <td>node</td>\n",
       "      <td>1199980410</td>\n",
       "      <td>שוק א-דיר</td>\n",
       "      <td>POINT (34.75690 32.05451)</td>\n",
       "      <td>0.0</td>\n",
       "    </tr>\n",
       "    <tr>\n",
       "      <th>52</th>\n",
       "      <td>node</td>\n",
       "      <td>1696731874</td>\n",
       "      <td>נחלת יצחק</td>\n",
       "      <td>POINT (34.79918 32.07592)</td>\n",
       "      <td>0.0</td>\n",
       "    </tr>\n",
       "    <tr>\n",
       "      <th>53</th>\n",
       "      <td>node</td>\n",
       "      <td>2855165359</td>\n",
       "      <td>נופי ים</td>\n",
       "      <td>POINT (34.78729 32.11481)</td>\n",
       "      <td>0.0</td>\n",
       "    </tr>\n",
       "    <tr>\n",
       "      <th>54</th>\n",
       "      <td>node</td>\n",
       "      <td>3501417886</td>\n",
       "      <td>נווה אביבים</td>\n",
       "      <td>POINT (34.79646 32.11908)</td>\n",
       "      <td>0.0</td>\n",
       "    </tr>\n",
       "    <tr>\n",
       "      <th>55</th>\n",
       "      <td>node</td>\n",
       "      <td>3501417887</td>\n",
       "      <td>כוכב הצפון</td>\n",
       "      <td>POINT (34.78459 32.10074)</td>\n",
       "      <td>0.0</td>\n",
       "    </tr>\n",
       "    <tr>\n",
       "      <th>56</th>\n",
       "      <td>node</td>\n",
       "      <td>3501472085</td>\n",
       "      <td>רמת ישראל</td>\n",
       "      <td>POINT (34.80075 32.06813)</td>\n",
       "      <td>0.0</td>\n",
       "    </tr>\n",
       "    <tr>\n",
       "      <th>57</th>\n",
       "      <td>node</td>\n",
       "      <td>3501472086</td>\n",
       "      <td>ניר אביב</td>\n",
       "      <td>POINT (34.81152 32.04803)</td>\n",
       "      <td>0.0</td>\n",
       "    </tr>\n",
       "    <tr>\n",
       "      <th>58</th>\n",
       "      <td>node</td>\n",
       "      <td>5124052753</td>\n",
       "      <td>הצפון החדש</td>\n",
       "      <td>POINT (34.78964 32.08685)</td>\n",
       "      <td>0.0</td>\n",
       "    </tr>\n",
       "    <tr>\n",
       "      <th>59</th>\n",
       "      <td>node</td>\n",
       "      <td>5124052755</td>\n",
       "      <td>גני שרונה</td>\n",
       "      <td>POINT (34.78491 32.07069)</td>\n",
       "      <td>0.0</td>\n",
       "    </tr>\n",
       "    <tr>\n",
       "      <th>60</th>\n",
       "      <td>node</td>\n",
       "      <td>5981169271</td>\n",
       "      <td>קרית שאול</td>\n",
       "      <td>POINT (34.82531 32.12584)</td>\n",
       "      <td>0.0</td>\n",
       "    </tr>\n",
       "    <tr>\n",
       "      <th>61</th>\n",
       "      <td>node</td>\n",
       "      <td>10235172861</td>\n",
       "      <td>אוניברסיטת תל אביב</td>\n",
       "      <td>POINT (34.80369 32.11344)</td>\n",
       "      <td>0.0</td>\n",
       "    </tr>\n",
       "  </tbody>\n",
       "</table>\n",
       "</div>"
      ],
      "text/plain": [
       "   element_type        osmid                    name  \\\n",
       "13         node    278472972                  התקווה   \n",
       "14         node    278473220                    צהלה   \n",
       "15         node    278473531                 כפר שלם   \n",
       "16         node    278473722                אבו כביר   \n",
       "17         node    278473942                רמת אביב   \n",
       "18         node    278477013                הדר יוסף   \n",
       "19         node    278477912            תל ברוך צפון   \n",
       "20         node    278478134               רמת החייל   \n",
       "21         node    278478480              קריית שלום   \n",
       "22         node    301909053                  רביבים   \n",
       "23         node    301909520                  נוה דן   \n",
       "24         node    303893216             רמת אביב ג'   \n",
       "25         node    346148719             נווה בארבור   \n",
       "26         node    346148847               נווה צה\"ל   \n",
       "27         node    346148934                    עזרא   \n",
       "28         node    346149094                 הארגזים   \n",
       "29         node    346184624                בית יעקב   \n",
       "30         node    346197380                שיכון ל'   \n",
       "31         node    346197929          רמת אביב החדשה   \n",
       "32         node    346199466                    אפקה   \n",
       "33         node    346199871                 תל ברוך   \n",
       "34         node    346200056             מעוז אביב א   \n",
       "35         node    358838190              מונטיפיורי   \n",
       "36         node    366641070                    שבזי   \n",
       "37         node    410212152                  המשתלה   \n",
       "38         node    417650555               רמות צהלה   \n",
       "39         node    417651020                נווה שרת   \n",
       "40         node    419006528             מעוז אביב ב   \n",
       "41         node    429882121                גני צהלה   \n",
       "42         node    429882124             נאות אפקה ב   \n",
       "43         node    429882295             נאות אפקה א   \n",
       "44         node    513478496                  ביצרון   \n",
       "45         node    540638518               נווה עופר   \n",
       "46         node   1116182645               נווה כפיר   \n",
       "47         node   1169841935                    ישגב   \n",
       "48         node   1171837023  אזור תעשייה עבר הירקון   \n",
       "49         node   1171837025            קריית עתידים   \n",
       "50         node   1198725889                אזורי חן   \n",
       "51         node   1199980410               שוק א-דיר   \n",
       "52         node   1696731874               נחלת יצחק   \n",
       "53         node   2855165359                 נופי ים   \n",
       "54         node   3501417886             נווה אביבים   \n",
       "55         node   3501417887              כוכב הצפון   \n",
       "56         node   3501472085               רמת ישראל   \n",
       "57         node   3501472086                ניר אביב   \n",
       "58         node   5124052753              הצפון החדש   \n",
       "59         node   5124052755               גני שרונה   \n",
       "60         node   5981169271               קרית שאול   \n",
       "61         node  10235172861      אוניברסיטת תל אביב   \n",
       "\n",
       "                     geometry  area  \n",
       "13  POINT (34.78810 32.05129)   0.0  \n",
       "14  POINT (34.83618 32.12255)   0.0  \n",
       "15  POINT (34.80628 32.05138)   0.0  \n",
       "16  POINT (34.76862 32.04712)   0.0  \n",
       "17  POINT (34.79509 32.10886)   0.0  \n",
       "18  POINT (34.82364 32.10825)   0.0  \n",
       "19  POINT (34.81795 32.12247)   0.0  \n",
       "20  POINT (34.83665 32.11557)   0.0  \n",
       "21  POINT (34.77676 32.04484)   0.0  \n",
       "22  POINT (34.82856 32.11576)   0.0  \n",
       "23  POINT (34.82772 32.11134)   0.0  \n",
       "24  POINT (34.80045 32.12673)   0.0  \n",
       "25  POINT (34.80150 32.05231)   0.0  \n",
       "26  POINT (34.79792 32.05265)   0.0  \n",
       "27  POINT (34.79094 32.04405)   0.0  \n",
       "28  POINT (34.79710 32.04610)   0.0  \n",
       "29  POINT (34.79723 32.04845)   0.0  \n",
       "30  POINT (34.79027 32.10776)   0.0  \n",
       "31  POINT (34.79271 32.11939)   0.0  \n",
       "32  POINT (34.80686 32.12246)   0.0  \n",
       "33  POINT (34.81587 32.11979)   0.0  \n",
       "34  POINT (34.81420 32.11203)   0.0  \n",
       "35  POINT (34.78968 32.06908)   0.0  \n",
       "36  POINT (34.76462 32.06284)   0.0  \n",
       "37  POINT (34.83349 32.12754)   0.0  \n",
       "38  POINT (34.83082 32.12170)   0.0  \n",
       "39  POINT (34.84041 32.11865)   0.0  \n",
       "40  POINT (34.81777 32.11225)   0.0  \n",
       "41  POINT (34.82997 32.12548)   0.0  \n",
       "42  POINT (34.82205 32.11923)   0.0  \n",
       "43  POINT (34.82048 32.11519)   0.0  \n",
       "44  POINT (34.79664 32.06986)   0.0  \n",
       "45  POINT (34.76600 32.04144)   0.0  \n",
       "46  POINT (34.79993 32.04791)   0.0  \n",
       "47  POINT (34.83407 32.11023)   0.0  \n",
       "48  POINT (34.83913 32.10877)   0.0  \n",
       "49  POINT (34.84347 32.11450)   0.0  \n",
       "50  POINT (34.79342 32.12998)   0.0  \n",
       "51  POINT (34.75690 32.05451)   0.0  \n",
       "52  POINT (34.79918 32.07592)   0.0  \n",
       "53  POINT (34.78729 32.11481)   0.0  \n",
       "54  POINT (34.79646 32.11908)   0.0  \n",
       "55  POINT (34.78459 32.10074)   0.0  \n",
       "56  POINT (34.80075 32.06813)   0.0  \n",
       "57  POINT (34.81152 32.04803)   0.0  \n",
       "58  POINT (34.78964 32.08685)   0.0  \n",
       "59  POINT (34.78491 32.07069)   0.0  \n",
       "60  POINT (34.82531 32.12584)   0.0  \n",
       "61  POINT (34.80369 32.11344)   0.0  "
      ]
     },
     "execution_count": 201,
     "metadata": {},
     "output_type": "execute_result"
    }
   ],
   "source": [
    "concated_df_points"
   ]
  },
  {
   "cell_type": "code",
   "execution_count": 202,
   "id": "166f4740",
   "metadata": {},
   "outputs": [],
   "source": [
    "concated_df_polygons = concated_df.loc[concated_df.geom_type == 'Polygon']"
   ]
  },
  {
   "cell_type": "code",
   "execution_count": 203,
   "id": "85a054e5",
   "metadata": {},
   "outputs": [
    {
     "data": {
      "text/html": [
       "<div>\n",
       "<style scoped>\n",
       "    .dataframe tbody tr th:only-of-type {\n",
       "        vertical-align: middle;\n",
       "    }\n",
       "\n",
       "    .dataframe tbody tr th {\n",
       "        vertical-align: top;\n",
       "    }\n",
       "\n",
       "    .dataframe thead th {\n",
       "        text-align: right;\n",
       "    }\n",
       "</style>\n",
       "<table border=\"1\" class=\"dataframe\">\n",
       "  <thead>\n",
       "    <tr style=\"text-align: right;\">\n",
       "      <th></th>\n",
       "      <th>element_type</th>\n",
       "      <th>osmid</th>\n",
       "      <th>name</th>\n",
       "      <th>geometry</th>\n",
       "      <th>area</th>\n",
       "    </tr>\n",
       "  </thead>\n",
       "  <tbody>\n",
       "    <tr>\n",
       "      <th>7</th>\n",
       "      <td>relation</td>\n",
       "      <td>1382923</td>\n",
       "      <td>גבעתיים</td>\n",
       "      <td>POLYGON ((34.80002 32.08119, 34.80018 32.08122...</td>\n",
       "      <td>0.000310</td>\n",
       "    </tr>\n",
       "    <tr>\n",
       "      <th>62</th>\n",
       "      <td>way</td>\n",
       "      <td>720020257</td>\n",
       "      <td>הבורסה</td>\n",
       "      <td>POLYGON ((34.80116 32.08957, 34.80201 32.08917...</td>\n",
       "      <td>0.000032</td>\n",
       "    </tr>\n",
       "    <tr>\n",
       "      <th>63</th>\n",
       "      <td>way</td>\n",
       "      <td>721022542</td>\n",
       "      <td>חרוזים</td>\n",
       "      <td>POLYGON ((34.80562 32.08696, 34.80617 32.08754...</td>\n",
       "      <td>0.000025</td>\n",
       "    </tr>\n",
       "    <tr>\n",
       "      <th>64</th>\n",
       "      <td>way</td>\n",
       "      <td>799173479</td>\n",
       "      <td>רמת חן</td>\n",
       "      <td>POLYGON ((34.81692 32.05416, 34.81640 32.05274...</td>\n",
       "      <td>0.000091</td>\n",
       "    </tr>\n",
       "    <tr>\n",
       "      <th>65</th>\n",
       "      <td>way</td>\n",
       "      <td>799173480</td>\n",
       "      <td>רמת שקמה</td>\n",
       "      <td>POLYGON ((34.82150 32.05229, 34.82067 32.05271...</td>\n",
       "      <td>0.000045</td>\n",
       "    </tr>\n",
       "    <tr>\n",
       "      <th>...</th>\n",
       "      <td>...</td>\n",
       "      <td>...</td>\n",
       "      <td>...</td>\n",
       "      <td>...</td>\n",
       "      <td>...</td>\n",
       "    </tr>\n",
       "    <tr>\n",
       "      <th>128</th>\n",
       "      <td>way</td>\n",
       "      <td>819865928</td>\n",
       "      <td>המשתלה</td>\n",
       "      <td>POLYGON ((34.83579 32.12769, 34.83729 32.12769...</td>\n",
       "      <td>0.000028</td>\n",
       "    </tr>\n",
       "    <tr>\n",
       "      <th>129</th>\n",
       "      <td>way</td>\n",
       "      <td>819865929</td>\n",
       "      <td>צהלה</td>\n",
       "      <td>POLYGON ((34.83993 32.12539, 34.83990 32.12433...</td>\n",
       "      <td>0.000053</td>\n",
       "    </tr>\n",
       "    <tr>\n",
       "      <th>130</th>\n",
       "      <td>way</td>\n",
       "      <td>819866913</td>\n",
       "      <td>רמת החייל</td>\n",
       "      <td>POLYGON ((34.83637 32.11876, 34.83642 32.11875...</td>\n",
       "      <td>0.000069</td>\n",
       "    </tr>\n",
       "    <tr>\n",
       "      <th>131</th>\n",
       "      <td>way</td>\n",
       "      <td>893349040</td>\n",
       "      <td>סיטי</td>\n",
       "      <td>POLYGON ((34.80169 32.08115, 34.80137 32.08115...</td>\n",
       "      <td>0.000008</td>\n",
       "    </tr>\n",
       "    <tr>\n",
       "      <th>132</th>\n",
       "      <td>way</td>\n",
       "      <td>917333960</td>\n",
       "      <td>נוה שרת</td>\n",
       "      <td>POLYGON ((34.84083 32.11457, 34.84187 32.11553...</td>\n",
       "      <td>0.000037</td>\n",
       "    </tr>\n",
       "  </tbody>\n",
       "</table>\n",
       "<p>72 rows × 5 columns</p>\n",
       "</div>"
      ],
      "text/plain": [
       "    element_type      osmid       name  \\\n",
       "7       relation    1382923    גבעתיים   \n",
       "62           way  720020257     הבורסה   \n",
       "63           way  721022542     חרוזים   \n",
       "64           way  799173479     רמת חן   \n",
       "65           way  799173480   רמת שקמה   \n",
       "..           ...        ...        ...   \n",
       "128          way  819865928     המשתלה   \n",
       "129          way  819865929       צהלה   \n",
       "130          way  819866913  רמת החייל   \n",
       "131          way  893349040       סיטי   \n",
       "132          way  917333960    נוה שרת   \n",
       "\n",
       "                                              geometry      area  \n",
       "7    POLYGON ((34.80002 32.08119, 34.80018 32.08122...  0.000310  \n",
       "62   POLYGON ((34.80116 32.08957, 34.80201 32.08917...  0.000032  \n",
       "63   POLYGON ((34.80562 32.08696, 34.80617 32.08754...  0.000025  \n",
       "64   POLYGON ((34.81692 32.05416, 34.81640 32.05274...  0.000091  \n",
       "65   POLYGON ((34.82150 32.05229, 34.82067 32.05271...  0.000045  \n",
       "..                                                 ...       ...  \n",
       "128  POLYGON ((34.83579 32.12769, 34.83729 32.12769...  0.000028  \n",
       "129  POLYGON ((34.83993 32.12539, 34.83990 32.12433...  0.000053  \n",
       "130  POLYGON ((34.83637 32.11876, 34.83642 32.11875...  0.000069  \n",
       "131  POLYGON ((34.80169 32.08115, 34.80137 32.08115...  0.000008  \n",
       "132  POLYGON ((34.84083 32.11457, 34.84187 32.11553...  0.000037  \n",
       "\n",
       "[72 rows x 5 columns]"
      ]
     },
     "execution_count": 203,
     "metadata": {},
     "output_type": "execute_result"
    }
   ],
   "source": [
    "concated_df_polygons\n"
   ]
  },
  {
   "cell_type": "code",
   "execution_count": 204,
   "id": "c1a32550",
   "metadata": {},
   "outputs": [],
   "source": [
    "concated_df_points_no_has_polygons = concated_df_points[~ concated_df_points['name'].isin(concated_df_polygons['name'])]"
   ]
  },
  {
   "cell_type": "code",
   "execution_count": 206,
   "id": "ab605392",
   "metadata": {},
   "outputs": [
    {
     "name": "stderr",
     "output_type": "stream",
     "text": [
      "/var/folders/6c/7s9j6b710cn7h_bnq4jrn_700000gn/T/ipykernel_1129/1803421102.py:1: UserWarning: Geometry is in a geographic CRS. Results from 'buffer' are likely incorrect. Use 'GeoSeries.to_crs()' to re-project geometries to a projected CRS before this operation.\n",
      "\n",
      "  concated_df_points_no_has_polygons_to_polygons = concated_df_points_no_has_polygons.buffer(0.006)\n"
     ]
    }
   ],
   "source": [
    "concated_df_points_no_has_polygons_to_polygons = concated_df_points_no_has_polygons.buffer(0.006)"
   ]
  },
  {
   "cell_type": "code",
   "execution_count": 213,
   "id": "bb79b613",
   "metadata": {},
   "outputs": [
    {
     "name": "stderr",
     "output_type": "stream",
     "text": [
      "/Library/Frameworks/Python.framework/Versions/3.8/lib/python3.8/site-packages/geopandas/geodataframe.py:1443: SettingWithCopyWarning: \n",
      "A value is trying to be set on a copy of a slice from a DataFrame.\n",
      "Try using .loc[row_indexer,col_indexer] = value instead\n",
      "\n",
      "See the caveats in the documentation: https://pandas.pydata.org/pandas-docs/stable/user_guide/indexing.html#returning-a-view-versus-a-copy\n",
      "  super().__setitem__(key, value)\n"
     ]
    }
   ],
   "source": [
    "concated_df_points_no_has_polygons['geometry'] = concated_df_points_no_has_polygons_to_polygons"
   ]
  },
  {
   "cell_type": "code",
   "execution_count": 215,
   "id": "24d9ba97",
   "metadata": {},
   "outputs": [],
   "source": [
    "neigborhood_concated = pd.concat([concated_df_polygons, concated_df_points_no_has_polygons], axis=0)"
   ]
  },
  {
   "cell_type": "code",
   "execution_count": 217,
   "id": "14c97375",
   "metadata": {},
   "outputs": [
    {
     "data": {
      "text/plain": [
       "<AxesSubplot:>"
      ]
     },
     "execution_count": 217,
     "metadata": {},
     "output_type": "execute_result"
    },
    {
     "data": {
      "image/png": "[encoded data removed]",
      "text/plain": [
       "<Figure size 640x480 with 1 Axes>"
      ]
     },
     "metadata": {},
     "output_type": "display_data"
    }
   ],
   "source": [
    "neigborhood_concated.plot()"
   ]
  },
  {
   "cell_type": "code",
   "execution_count": 214,
   "id": "fae35045",
   "metadata": {},
   "outputs": [
    {
     "data": {
      "text/html": [
       "<div>\n",
       "<style scoped>\n",
       "    .dataframe tbody tr th:only-of-type {\n",
       "        vertical-align: middle;\n",
       "    }\n",
       "\n",
       "    .dataframe tbody tr th {\n",
       "        vertical-align: top;\n",
       "    }\n",
       "\n",
       "    .dataframe thead th {\n",
       "        text-align: right;\n",
       "    }\n",
       "</style>\n",
       "<table border=\"1\" class=\"dataframe\">\n",
       "  <thead>\n",
       "    <tr style=\"text-align: right;\">\n",
       "      <th></th>\n",
       "      <th>element_type</th>\n",
       "      <th>osmid</th>\n",
       "      <th>name</th>\n",
       "      <th>geometry</th>\n",
       "      <th>area</th>\n",
       "    </tr>\n",
       "  </thead>\n",
       "  <tbody>\n",
       "    <tr>\n",
       "      <th>13</th>\n",
       "      <td>node</td>\n",
       "      <td>278472972</td>\n",
       "      <td>התקווה</td>\n",
       "      <td>POLYGON ((34.79410 32.05129, 34.79407 32.05070...</td>\n",
       "      <td>0.0</td>\n",
       "    </tr>\n",
       "    <tr>\n",
       "      <th>15</th>\n",
       "      <td>node</td>\n",
       "      <td>278473531</td>\n",
       "      <td>כפר שלם</td>\n",
       "      <td>POLYGON ((34.81228 32.05138, 34.81225 32.05079...</td>\n",
       "      <td>0.0</td>\n",
       "    </tr>\n",
       "    <tr>\n",
       "      <th>16</th>\n",
       "      <td>node</td>\n",
       "      <td>278473722</td>\n",
       "      <td>אבו כביר</td>\n",
       "      <td>POLYGON ((34.77462 32.04712, 34.77459 32.04653...</td>\n",
       "      <td>0.0</td>\n",
       "    </tr>\n",
       "    <tr>\n",
       "      <th>17</th>\n",
       "      <td>node</td>\n",
       "      <td>278473942</td>\n",
       "      <td>רמת אביב</td>\n",
       "      <td>POLYGON ((34.80109 32.10886, 34.80107 32.10827...</td>\n",
       "      <td>0.0</td>\n",
       "    </tr>\n",
       "    <tr>\n",
       "      <th>18</th>\n",
       "      <td>node</td>\n",
       "      <td>278477013</td>\n",
       "      <td>הדר יוסף</td>\n",
       "      <td>POLYGON ((34.82964 32.10825, 34.82961 32.10767...</td>\n",
       "      <td>0.0</td>\n",
       "    </tr>\n",
       "    <tr>\n",
       "      <th>21</th>\n",
       "      <td>node</td>\n",
       "      <td>278478480</td>\n",
       "      <td>קריית שלום</td>\n",
       "      <td>POLYGON ((34.78276 32.04484, 34.78273 32.04425...</td>\n",
       "      <td>0.0</td>\n",
       "    </tr>\n",
       "    <tr>\n",
       "      <th>24</th>\n",
       "      <td>node</td>\n",
       "      <td>303893216</td>\n",
       "      <td>רמת אביב ג'</td>\n",
       "      <td>POLYGON ((34.80645 32.12673, 34.80642 32.12614...</td>\n",
       "      <td>0.0</td>\n",
       "    </tr>\n",
       "    <tr>\n",
       "      <th>25</th>\n",
       "      <td>node</td>\n",
       "      <td>346148719</td>\n",
       "      <td>נווה בארבור</td>\n",
       "      <td>POLYGON ((34.80750 32.05231, 34.80747 32.05172...</td>\n",
       "      <td>0.0</td>\n",
       "    </tr>\n",
       "    <tr>\n",
       "      <th>26</th>\n",
       "      <td>node</td>\n",
       "      <td>346148847</td>\n",
       "      <td>נווה צה\"ל</td>\n",
       "      <td>POLYGON ((34.80392 32.05265, 34.80389 32.05206...</td>\n",
       "      <td>0.0</td>\n",
       "    </tr>\n",
       "    <tr>\n",
       "      <th>27</th>\n",
       "      <td>node</td>\n",
       "      <td>346148934</td>\n",
       "      <td>עזרא</td>\n",
       "      <td>POLYGON ((34.79694 32.04405, 34.79691 32.04346...</td>\n",
       "      <td>0.0</td>\n",
       "    </tr>\n",
       "    <tr>\n",
       "      <th>28</th>\n",
       "      <td>node</td>\n",
       "      <td>346149094</td>\n",
       "      <td>הארגזים</td>\n",
       "      <td>POLYGON ((34.80310 32.04610, 34.80307 32.04552...</td>\n",
       "      <td>0.0</td>\n",
       "    </tr>\n",
       "    <tr>\n",
       "      <th>29</th>\n",
       "      <td>node</td>\n",
       "      <td>346184624</td>\n",
       "      <td>בית יעקב</td>\n",
       "      <td>POLYGON ((34.80323 32.04845, 34.80320 32.04787...</td>\n",
       "      <td>0.0</td>\n",
       "    </tr>\n",
       "    <tr>\n",
       "      <th>30</th>\n",
       "      <td>node</td>\n",
       "      <td>346197380</td>\n",
       "      <td>שיכון ל'</td>\n",
       "      <td>POLYGON ((34.79627 32.10776, 34.79625 32.10717...</td>\n",
       "      <td>0.0</td>\n",
       "    </tr>\n",
       "    <tr>\n",
       "      <th>31</th>\n",
       "      <td>node</td>\n",
       "      <td>346197929</td>\n",
       "      <td>רמת אביב החדשה</td>\n",
       "      <td>POLYGON ((34.79871 32.11939, 34.79868 32.11880...</td>\n",
       "      <td>0.0</td>\n",
       "    </tr>\n",
       "    <tr>\n",
       "      <th>34</th>\n",
       "      <td>node</td>\n",
       "      <td>346200056</td>\n",
       "      <td>מעוז אביב א</td>\n",
       "      <td>POLYGON ((34.82020 32.11203, 34.82017 32.11144...</td>\n",
       "      <td>0.0</td>\n",
       "    </tr>\n",
       "    <tr>\n",
       "      <th>36</th>\n",
       "      <td>node</td>\n",
       "      <td>366641070</td>\n",
       "      <td>שבזי</td>\n",
       "      <td>POLYGON ((34.77062 32.06284, 34.77059 32.06225...</td>\n",
       "      <td>0.0</td>\n",
       "    </tr>\n",
       "    <tr>\n",
       "      <th>38</th>\n",
       "      <td>node</td>\n",
       "      <td>417650555</td>\n",
       "      <td>רמות צהלה</td>\n",
       "      <td>POLYGON ((34.83682 32.12170, 34.83679 32.12111...</td>\n",
       "      <td>0.0</td>\n",
       "    </tr>\n",
       "    <tr>\n",
       "      <th>39</th>\n",
       "      <td>node</td>\n",
       "      <td>417651020</td>\n",
       "      <td>נווה שרת</td>\n",
       "      <td>POLYGON ((34.84641 32.11865, 34.84638 32.11806...</td>\n",
       "      <td>0.0</td>\n",
       "    </tr>\n",
       "    <tr>\n",
       "      <th>40</th>\n",
       "      <td>node</td>\n",
       "      <td>419006528</td>\n",
       "      <td>מעוז אביב ב</td>\n",
       "      <td>POLYGON ((34.82377 32.11225, 34.82374 32.11167...</td>\n",
       "      <td>0.0</td>\n",
       "    </tr>\n",
       "    <tr>\n",
       "      <th>41</th>\n",
       "      <td>node</td>\n",
       "      <td>429882121</td>\n",
       "      <td>גני צהלה</td>\n",
       "      <td>POLYGON ((34.83597 32.12548, 34.83595 32.12489...</td>\n",
       "      <td>0.0</td>\n",
       "    </tr>\n",
       "    <tr>\n",
       "      <th>42</th>\n",
       "      <td>node</td>\n",
       "      <td>429882124</td>\n",
       "      <td>נאות אפקה ב</td>\n",
       "      <td>POLYGON ((34.82805 32.11923, 34.82802 32.11864...</td>\n",
       "      <td>0.0</td>\n",
       "    </tr>\n",
       "    <tr>\n",
       "      <th>44</th>\n",
       "      <td>node</td>\n",
       "      <td>513478496</td>\n",
       "      <td>ביצרון</td>\n",
       "      <td>POLYGON ((34.80264 32.06986, 34.80261 32.06927...</td>\n",
       "      <td>0.0</td>\n",
       "    </tr>\n",
       "    <tr>\n",
       "      <th>46</th>\n",
       "      <td>node</td>\n",
       "      <td>1116182645</td>\n",
       "      <td>נווה כפיר</td>\n",
       "      <td>POLYGON ((34.80593 32.04791, 34.80590 32.04733...</td>\n",
       "      <td>0.0</td>\n",
       "    </tr>\n",
       "    <tr>\n",
       "      <th>47</th>\n",
       "      <td>node</td>\n",
       "      <td>1169841935</td>\n",
       "      <td>ישגב</td>\n",
       "      <td>POLYGON ((34.84007 32.11023, 34.84004 32.10964...</td>\n",
       "      <td>0.0</td>\n",
       "    </tr>\n",
       "    <tr>\n",
       "      <th>48</th>\n",
       "      <td>node</td>\n",
       "      <td>1171837023</td>\n",
       "      <td>אזור תעשייה עבר הירקון</td>\n",
       "      <td>POLYGON ((34.84513 32.10877, 34.84510 32.10818...</td>\n",
       "      <td>0.0</td>\n",
       "    </tr>\n",
       "    <tr>\n",
       "      <th>49</th>\n",
       "      <td>node</td>\n",
       "      <td>1171837025</td>\n",
       "      <td>קריית עתידים</td>\n",
       "      <td>POLYGON ((34.84947 32.11450, 34.84944 32.11392...</td>\n",
       "      <td>0.0</td>\n",
       "    </tr>\n",
       "    <tr>\n",
       "      <th>50</th>\n",
       "      <td>node</td>\n",
       "      <td>1198725889</td>\n",
       "      <td>אזורי חן</td>\n",
       "      <td>POLYGON ((34.79942 32.12998, 34.79940 32.12939...</td>\n",
       "      <td>0.0</td>\n",
       "    </tr>\n",
       "    <tr>\n",
       "      <th>51</th>\n",
       "      <td>node</td>\n",
       "      <td>1199980410</td>\n",
       "      <td>שוק א-דיר</td>\n",
       "      <td>POLYGON ((34.76290 32.05451, 34.76287 32.05392...</td>\n",
       "      <td>0.0</td>\n",
       "    </tr>\n",
       "    <tr>\n",
       "      <th>54</th>\n",
       "      <td>node</td>\n",
       "      <td>3501417886</td>\n",
       "      <td>נווה אביבים</td>\n",
       "      <td>POLYGON ((34.80246 32.11908, 34.80243 32.11850...</td>\n",
       "      <td>0.0</td>\n",
       "    </tr>\n",
       "    <tr>\n",
       "      <th>56</th>\n",
       "      <td>node</td>\n",
       "      <td>3501472085</td>\n",
       "      <td>רמת ישראל</td>\n",
       "      <td>POLYGON ((34.80675 32.06813, 34.80672 32.06754...</td>\n",
       "      <td>0.0</td>\n",
       "    </tr>\n",
       "    <tr>\n",
       "      <th>58</th>\n",
       "      <td>node</td>\n",
       "      <td>5124052753</td>\n",
       "      <td>הצפון החדש</td>\n",
       "      <td>POLYGON ((34.79564 32.08685, 34.79561 32.08626...</td>\n",
       "      <td>0.0</td>\n",
       "    </tr>\n",
       "    <tr>\n",
       "      <th>61</th>\n",
       "      <td>node</td>\n",
       "      <td>10235172861</td>\n",
       "      <td>אוניברסיטת תל אביב</td>\n",
       "      <td>POLYGON ((34.80969 32.11344, 34.80966 32.11285...</td>\n",
       "      <td>0.0</td>\n",
       "    </tr>\n",
       "  </tbody>\n",
       "</table>\n",
       "</div>"
      ],
      "text/plain": [
       "   element_type        osmid                    name  \\\n",
       "13         node    278472972                  התקווה   \n",
       "15         node    278473531                 כפר שלם   \n",
       "16         node    278473722                אבו כביר   \n",
       "17         node    278473942                רמת אביב   \n",
       "18         node    278477013                הדר יוסף   \n",
       "21         node    278478480              קריית שלום   \n",
       "24         node    303893216             רמת אביב ג'   \n",
       "25         node    346148719             נווה בארבור   \n",
       "26         node    346148847               נווה צה\"ל   \n",
       "27         node    346148934                    עזרא   \n",
       "28         node    346149094                 הארגזים   \n",
       "29         node    346184624                בית יעקב   \n",
       "30         node    346197380                שיכון ל'   \n",
       "31         node    346197929          רמת אביב החדשה   \n",
       "34         node    346200056             מעוז אביב א   \n",
       "36         node    366641070                    שבזי   \n",
       "38         node    417650555               רמות צהלה   \n",
       "39         node    417651020                נווה שרת   \n",
       "40         node    419006528             מעוז אביב ב   \n",
       "41         node    429882121                גני צהלה   \n",
       "42         node    429882124             נאות אפקה ב   \n",
       "44         node    513478496                  ביצרון   \n",
       "46         node   1116182645               נווה כפיר   \n",
       "47         node   1169841935                    ישגב   \n",
       "48         node   1171837023  אזור תעשייה עבר הירקון   \n",
       "49         node   1171837025            קריית עתידים   \n",
       "50         node   1198725889                אזורי חן   \n",
       "51         node   1199980410               שוק א-דיר   \n",
       "54         node   3501417886             נווה אביבים   \n",
       "56         node   3501472085               רמת ישראל   \n",
       "58         node   5124052753              הצפון החדש   \n",
       "61         node  10235172861      אוניברסיטת תל אביב   \n",
       "\n",
       "                                             geometry  area  \n",
       "13  POLYGON ((34.79410 32.05129, 34.79407 32.05070...   0.0  \n",
       "15  POLYGON ((34.81228 32.05138, 34.81225 32.05079...   0.0  \n",
       "16  POLYGON ((34.77462 32.04712, 34.77459 32.04653...   0.0  \n",
       "17  POLYGON ((34.80109 32.10886, 34.80107 32.10827...   0.0  \n",
       "18  POLYGON ((34.82964 32.10825, 34.82961 32.10767...   0.0  \n",
       "21  POLYGON ((34.78276 32.04484, 34.78273 32.04425...   0.0  \n",
       "24  POLYGON ((34.80645 32.12673, 34.80642 32.12614...   0.0  \n",
       "25  POLYGON ((34.80750 32.05231, 34.80747 32.05172...   0.0  \n",
       "26  POLYGON ((34.80392 32.05265, 34.80389 32.05206...   0.0  \n",
       "27  POLYGON ((34.79694 32.04405, 34.79691 32.04346...   0.0  \n",
       "28  POLYGON ((34.80310 32.04610, 34.80307 32.04552...   0.0  \n",
       "29  POLYGON ((34.80323 32.04845, 34.80320 32.04787...   0.0  \n",
       "30  POLYGON ((34.79627 32.10776, 34.79625 32.10717...   0.0  \n",
       "31  POLYGON ((34.79871 32.11939, 34.79868 32.11880...   0.0  \n",
       "34  POLYGON ((34.82020 32.11203, 34.82017 32.11144...   0.0  \n",
       "36  POLYGON ((34.77062 32.06284, 34.77059 32.06225...   0.0  \n",
       "38  POLYGON ((34.83682 32.12170, 34.83679 32.12111...   0.0  \n",
       "39  POLYGON ((34.84641 32.11865, 34.84638 32.11806...   0.0  \n",
       "40  POLYGON ((34.82377 32.11225, 34.82374 32.11167...   0.0  \n",
       "41  POLYGON ((34.83597 32.12548, 34.83595 32.12489...   0.0  \n",
       "42  POLYGON ((34.82805 32.11923, 34.82802 32.11864...   0.0  \n",
       "44  POLYGON ((34.80264 32.06986, 34.80261 32.06927...   0.0  \n",
       "46  POLYGON ((34.80593 32.04791, 34.80590 32.04733...   0.0  \n",
       "47  POLYGON ((34.84007 32.11023, 34.84004 32.10964...   0.0  \n",
       "48  POLYGON ((34.84513 32.10877, 34.84510 32.10818...   0.0  \n",
       "49  POLYGON ((34.84947 32.11450, 34.84944 32.11392...   0.0  \n",
       "50  POLYGON ((34.79942 32.12998, 34.79940 32.12939...   0.0  \n",
       "51  POLYGON ((34.76290 32.05451, 34.76287 32.05392...   0.0  \n",
       "54  POLYGON ((34.80246 32.11908, 34.80243 32.11850...   0.0  \n",
       "56  POLYGON ((34.80675 32.06813, 34.80672 32.06754...   0.0  \n",
       "58  POLYGON ((34.79564 32.08685, 34.79561 32.08626...   0.0  \n",
       "61  POLYGON ((34.80969 32.11344, 34.80966 32.11285...   0.0  "
      ]
     },
     "execution_count": 214,
     "metadata": {},
     "output_type": "execute_result"
    }
   ],
   "source": [
    "concated_df_points_no_has_polygons"
   ]
  },
  {
   "cell_type": "code",
   "execution_count": 195,
   "id": "153ba8d8",
   "metadata": {},
   "outputs": [
    {
     "name": "stderr",
     "output_type": "stream",
     "text": [
      "/Library/Frameworks/Python.framework/Versions/3.8/lib/python3.8/site-packages/geopandas/geodataframe.py:1443: SettingWithCopyWarning: \n",
      "A value is trying to be set on a copy of a slice from a DataFrame.\n",
      "Try using .loc[row_indexer,col_indexer] = value instead\n",
      "\n",
      "See the caveats in the documentation: https://pandas.pydata.org/pandas-docs/stable/user_guide/indexing.html#returning-a-view-versus-a-copy\n",
      "  super().__setitem__(key, value)\n"
     ]
    }
   ],
   "source": [
    "concated_df_points_no_has_polygons['geometry'] = concated_df_points_no_has_polygons_to_polygons"
   ]
  },
  {
   "cell_type": "code",
   "execution_count": 197,
   "id": "dede919f",
   "metadata": {},
   "outputs": [
    {
     "data": {
      "text/plain": [
       "14    POLYGON ((34.84218 32.12255, 34.84215 32.12197...\n",
       "19    POLYGON ((34.82395 32.12247, 34.82392 32.12188...\n",
       "20    POLYGON ((34.84265 32.11557, 34.84262 32.11499...\n",
       "22    POLYGON ((34.83456 32.11576, 34.83453 32.11517...\n",
       "23    POLYGON ((34.83372 32.11134, 34.83369 32.11076...\n",
       "32    POLYGON ((34.81286 32.12246, 34.81284 32.12187...\n",
       "33    POLYGON ((34.82187 32.11979, 34.82184 32.11920...\n",
       "35    POLYGON ((34.79568 32.06908, 34.79565 32.06850...\n",
       "37    POLYGON ((34.83949 32.12754, 34.83946 32.12695...\n",
       "43    POLYGON ((34.82648 32.11519, 34.82645 32.11460...\n",
       "45    POLYGON ((34.77200 32.04144, 34.77197 32.04086...\n",
       "52    POLYGON ((34.80518 32.07592, 34.80515 32.07533...\n",
       "53    POLYGON ((34.79329 32.11481, 34.79327 32.11422...\n",
       "55    POLYGON ((34.79059 32.10074, 34.79056 32.10015...\n",
       "57    POLYGON ((34.81752 32.04803, 34.81749 32.04744...\n",
       "59    POLYGON ((34.79091 32.07069, 34.79088 32.07010...\n",
       "60    POLYGON ((34.83131 32.12584, 34.83128 32.12525...\n",
       "dtype: geometry"
      ]
     },
     "execution_count": 197,
     "metadata": {},
     "output_type": "execute_result"
    }
   ],
   "source": [
    "concated_df_points_no_has_polygons_to_polygons"
   ]
  },
  {
   "cell_type": "code",
   "execution_count": 172,
   "id": "bfc6663d",
   "metadata": {},
   "outputs": [
    {
     "ename": "IndexingError",
     "evalue": "Unalignable boolean Series provided as indexer (index of the boolean Series and of the indexed object do not match).",
     "output_type": "error",
     "traceback": [
      "\u001b[0;31m---------------------------------------------------------------------------\u001b[0m",
      "\u001b[0;31mIndexingError\u001b[0m                             Traceback (most recent call last)",
      "Cell \u001b[0;32mIn[172], line 1\u001b[0m\n\u001b[0;32m----> 1\u001b[0m concated_df_points_no_intersection \u001b[38;5;241m=\u001b[39m \u001b[43mconcated_df_polygons\u001b[49m\u001b[38;5;241;43m.\u001b[39;49m\u001b[43mloc\u001b[49m\u001b[43m[\u001b[49m\u001b[38;5;241;43m~\u001b[39;49m\u001b[43mconcated_df_points\u001b[49m\u001b[43m[\u001b[49m\u001b[38;5;124;43m'\u001b[39;49m\u001b[38;5;124;43mname\u001b[39;49m\u001b[38;5;124;43m'\u001b[39;49m\u001b[43m]\u001b[49m\u001b[38;5;241;43m.\u001b[39;49m\u001b[43misin\u001b[49m\u001b[43m(\u001b[49m\u001b[43mconcated_df_polygons\u001b[49m\u001b[43m[\u001b[49m\u001b[38;5;124;43m'\u001b[39;49m\u001b[38;5;124;43mname\u001b[39;49m\u001b[38;5;124;43m'\u001b[39;49m\u001b[43m]\u001b[49m\u001b[43m)\u001b[49m\u001b[43m]\u001b[49m\n",
      "File \u001b[0;32m/Library/Frameworks/Python.framework/Versions/3.8/lib/python3.8/site-packages/pandas/core/indexing.py:1073\u001b[0m, in \u001b[0;36m_LocationIndexer.__getitem__\u001b[0;34m(self, key)\u001b[0m\n\u001b[1;32m   1070\u001b[0m axis \u001b[38;5;241m=\u001b[39m \u001b[38;5;28mself\u001b[39m\u001b[38;5;241m.\u001b[39maxis \u001b[38;5;129;01mor\u001b[39;00m \u001b[38;5;241m0\u001b[39m\n\u001b[1;32m   1072\u001b[0m maybe_callable \u001b[38;5;241m=\u001b[39m com\u001b[38;5;241m.\u001b[39mapply_if_callable(key, \u001b[38;5;28mself\u001b[39m\u001b[38;5;241m.\u001b[39mobj)\n\u001b[0;32m-> 1073\u001b[0m \u001b[38;5;28;01mreturn\u001b[39;00m \u001b[38;5;28;43mself\u001b[39;49m\u001b[38;5;241;43m.\u001b[39;49m\u001b[43m_getitem_axis\u001b[49m\u001b[43m(\u001b[49m\u001b[43mmaybe_callable\u001b[49m\u001b[43m,\u001b[49m\u001b[43m \u001b[49m\u001b[43maxis\u001b[49m\u001b[38;5;241;43m=\u001b[39;49m\u001b[43maxis\u001b[49m\u001b[43m)\u001b[49m\n",
      "File \u001b[0;32m/Library/Frameworks/Python.framework/Versions/3.8/lib/python3.8/site-packages/pandas/core/indexing.py:1292\u001b[0m, in \u001b[0;36m_LocIndexer._getitem_axis\u001b[0;34m(self, key, axis)\u001b[0m\n\u001b[1;32m   1290\u001b[0m     \u001b[38;5;28;01mreturn\u001b[39;00m \u001b[38;5;28mself\u001b[39m\u001b[38;5;241m.\u001b[39m_get_slice_axis(key, axis\u001b[38;5;241m=\u001b[39maxis)\n\u001b[1;32m   1291\u001b[0m \u001b[38;5;28;01melif\u001b[39;00m com\u001b[38;5;241m.\u001b[39mis_bool_indexer(key):\n\u001b[0;32m-> 1292\u001b[0m     \u001b[38;5;28;01mreturn\u001b[39;00m \u001b[38;5;28;43mself\u001b[39;49m\u001b[38;5;241;43m.\u001b[39;49m\u001b[43m_getbool_axis\u001b[49m\u001b[43m(\u001b[49m\u001b[43mkey\u001b[49m\u001b[43m,\u001b[49m\u001b[43m \u001b[49m\u001b[43maxis\u001b[49m\u001b[38;5;241;43m=\u001b[39;49m\u001b[43maxis\u001b[49m\u001b[43m)\u001b[49m\n\u001b[1;32m   1293\u001b[0m \u001b[38;5;28;01melif\u001b[39;00m is_list_like_indexer(key):\n\u001b[1;32m   1294\u001b[0m \n\u001b[1;32m   1295\u001b[0m     \u001b[38;5;66;03m# an iterable multi-selection\u001b[39;00m\n\u001b[1;32m   1296\u001b[0m     \u001b[38;5;28;01mif\u001b[39;00m \u001b[38;5;129;01mnot\u001b[39;00m (\u001b[38;5;28misinstance\u001b[39m(key, \u001b[38;5;28mtuple\u001b[39m) \u001b[38;5;129;01mand\u001b[39;00m \u001b[38;5;28misinstance\u001b[39m(labels, MultiIndex)):\n",
      "File \u001b[0;32m/Library/Frameworks/Python.framework/Versions/3.8/lib/python3.8/site-packages/pandas/core/indexing.py:1091\u001b[0m, in \u001b[0;36m_LocationIndexer._getbool_axis\u001b[0;34m(self, key, axis)\u001b[0m\n\u001b[1;32m   1087\u001b[0m \u001b[38;5;129m@final\u001b[39m\n\u001b[1;32m   1088\u001b[0m \u001b[38;5;28;01mdef\u001b[39;00m \u001b[38;5;21m_getbool_axis\u001b[39m(\u001b[38;5;28mself\u001b[39m, key, axis: \u001b[38;5;28mint\u001b[39m):\n\u001b[1;32m   1089\u001b[0m     \u001b[38;5;66;03m# caller is responsible for ensuring non-None axis\u001b[39;00m\n\u001b[1;32m   1090\u001b[0m     labels \u001b[38;5;241m=\u001b[39m \u001b[38;5;28mself\u001b[39m\u001b[38;5;241m.\u001b[39mobj\u001b[38;5;241m.\u001b[39m_get_axis(axis)\n\u001b[0;32m-> 1091\u001b[0m     key \u001b[38;5;241m=\u001b[39m \u001b[43mcheck_bool_indexer\u001b[49m\u001b[43m(\u001b[49m\u001b[43mlabels\u001b[49m\u001b[43m,\u001b[49m\u001b[43m \u001b[49m\u001b[43mkey\u001b[49m\u001b[43m)\u001b[49m\n\u001b[1;32m   1092\u001b[0m     inds \u001b[38;5;241m=\u001b[39m key\u001b[38;5;241m.\u001b[39mnonzero()[\u001b[38;5;241m0\u001b[39m]\n\u001b[1;32m   1093\u001b[0m     \u001b[38;5;28;01mreturn\u001b[39;00m \u001b[38;5;28mself\u001b[39m\u001b[38;5;241m.\u001b[39mobj\u001b[38;5;241m.\u001b[39m_take_with_is_copy(inds, axis\u001b[38;5;241m=\u001b[39maxis)\n",
      "File \u001b[0;32m/Library/Frameworks/Python.framework/Versions/3.8/lib/python3.8/site-packages/pandas/core/indexing.py:2552\u001b[0m, in \u001b[0;36mcheck_bool_indexer\u001b[0;34m(index, key)\u001b[0m\n\u001b[1;32m   2550\u001b[0m indexer \u001b[38;5;241m=\u001b[39m result\u001b[38;5;241m.\u001b[39mindex\u001b[38;5;241m.\u001b[39mget_indexer_for(index)\n\u001b[1;32m   2551\u001b[0m \u001b[38;5;28;01mif\u001b[39;00m \u001b[38;5;241m-\u001b[39m\u001b[38;5;241m1\u001b[39m \u001b[38;5;129;01min\u001b[39;00m indexer:\n\u001b[0;32m-> 2552\u001b[0m     \u001b[38;5;28;01mraise\u001b[39;00m IndexingError(\n\u001b[1;32m   2553\u001b[0m         \u001b[38;5;124m\"\u001b[39m\u001b[38;5;124mUnalignable boolean Series provided as \u001b[39m\u001b[38;5;124m\"\u001b[39m\n\u001b[1;32m   2554\u001b[0m         \u001b[38;5;124m\"\u001b[39m\u001b[38;5;124mindexer (index of the boolean Series and of \u001b[39m\u001b[38;5;124m\"\u001b[39m\n\u001b[1;32m   2555\u001b[0m         \u001b[38;5;124m\"\u001b[39m\u001b[38;5;124mthe indexed object do not match).\u001b[39m\u001b[38;5;124m\"\u001b[39m\n\u001b[1;32m   2556\u001b[0m     )\n\u001b[1;32m   2558\u001b[0m result \u001b[38;5;241m=\u001b[39m result\u001b[38;5;241m.\u001b[39mtake(indexer)\n\u001b[1;32m   2560\u001b[0m \u001b[38;5;66;03m# fall through for boolean\u001b[39;00m\n",
      "\u001b[0;31mIndexingError\u001b[0m: Unalignable boolean Series provided as indexer (index of the boolean Series and of the indexed object do not match)."
     ]
    }
   ],
   "source": [
    "concated_df_points_no_intersection = concated_df_polygons.loc[~concated_df_points['name'].isin(concated_df_polygons['name'])]"
   ]
  },
  {
   "cell_type": "code",
   "execution_count": 165,
   "id": "7597ff32",
   "metadata": {},
   "outputs": [
    {
     "data": {
      "text/html": [
       "<div>\n",
       "<style scoped>\n",
       "    .dataframe tbody tr th:only-of-type {\n",
       "        vertical-align: middle;\n",
       "    }\n",
       "\n",
       "    .dataframe tbody tr th {\n",
       "        vertical-align: top;\n",
       "    }\n",
       "\n",
       "    .dataframe thead th {\n",
       "        text-align: right;\n",
       "    }\n",
       "</style>\n",
       "<table border=\"1\" class=\"dataframe\">\n",
       "  <thead>\n",
       "    <tr style=\"text-align: right;\">\n",
       "      <th></th>\n",
       "      <th>element_type</th>\n",
       "      <th>osmid</th>\n",
       "      <th>name</th>\n",
       "      <th>geometry</th>\n",
       "      <th>area</th>\n",
       "    </tr>\n",
       "  </thead>\n",
       "  <tbody>\n",
       "    <tr>\n",
       "      <th>16</th>\n",
       "      <td>node</td>\n",
       "      <td>278473722</td>\n",
       "      <td>אבו כביר</td>\n",
       "      <td>POINT (34.76862 32.04712)</td>\n",
       "      <td>0.0</td>\n",
       "    </tr>\n",
       "  </tbody>\n",
       "</table>\n",
       "</div>"
      ],
      "text/plain": [
       "   element_type      osmid      name                   geometry  area\n",
       "16         node  278473722  אבו כביר  POINT (34.76862 32.04712)   0.0"
      ]
     },
     "execution_count": 165,
     "metadata": {},
     "output_type": "execute_result"
    }
   ],
   "source": [
    "concated_df[concated_df.name == 'אבו כביר']"
   ]
  },
  {
   "cell_type": "code",
   "execution_count": 151,
   "id": "d7e227d5",
   "metadata": {
    "collapsed": true
   },
   "outputs": [
    {
     "name": "stdout",
     "output_type": "stream",
     "text": [
      "AxesSubplot(0.267001,0.11;0.490997x0.77)\n"
     ]
    },
    {
     "name": "stderr",
     "output_type": "stream",
     "text": [
      "/var/folders/6c/7s9j6b710cn7h_bnq4jrn_700000gn/T/ipykernel_1129/938060875.py:10: UserWarning: Geometry is in a geographic CRS. Results from 'area' are likely incorrect. Use 'GeoSeries.to_crs()' to re-project geometries to a projected CRS before this operation.\n",
      "\n",
      "  concated_df['area'] = concated_df['geometry'].area\n"
     ]
    },
    {
     "data": {
      "image/png": "[encoded data removed]",
      "text/plain": [
       "<Figure size 640x480 with 1 Axes>"
      ]
     },
     "metadata": {},
     "output_type": "display_data"
    },
    {
     "data": {
      "image/png": "[encoded data removed]",
      "text/plain": [
       "<Figure size 640x480 with 1 Axes>"
      ]
     },
     "metadata": {},
     "output_type": "display_data"
    }
   ],
   "source": [
    "df = generate_neighborhood_polygons_gdf('Jerusalem')"
   ]
  },
  {
   "cell_type": "code",
   "execution_count": 152,
   "id": "31a202cb",
   "metadata": {},
   "outputs": [
    {
     "data": {
      "text/plain": [
       "0      Polygon\n",
       "1      Polygon\n",
       "2      Polygon\n",
       "3      Polygon\n",
       "4      Polygon\n",
       "        ...   \n",
       "112    Polygon\n",
       "113    Polygon\n",
       "114    Polygon\n",
       "115    Polygon\n",
       "116    Polygon\n",
       "Length: 103, dtype: object"
      ]
     },
     "execution_count": 152,
     "metadata": {},
     "output_type": "execute_result"
    }
   ],
   "source": [
    "df.geom_type"
   ]
  },
  {
   "cell_type": "code",
   "execution_count": 149,
   "id": "289ae37d",
   "metadata": {
    "scrolled": true
   },
   "outputs": [
    {
     "data": {
      "text/plain": [
       "<AxesSubplot:>"
      ]
     },
     "execution_count": 149,
     "metadata": {},
     "output_type": "execute_result"
    },
    {
     "data": {
      "image/png": "[encoded data removed]",
      "text/plain": [
       "<Figure size 640x480 with 1 Axes>"
      ]
     },
     "metadata": {},
     "output_type": "display_data"
    }
   ],
   "source": [
    "df.plot()"
   ]
  },
  {
   "cell_type": "code",
   "execution_count": 96,
   "id": "24da3123",
   "metadata": {},
   "outputs": [
    {
     "name": "stderr",
     "output_type": "stream",
     "text": [
      "/var/folders/6c/7s9j6b710cn7h_bnq4jrn_700000gn/T/ipykernel_1129/2093804072.py:1: UserWarning: Geometry is in a geographic CRS. Results from 'buffer' are likely incorrect. Use 'GeoSeries.to_crs()' to re-project geometries to a projected CRS before this operation.\n",
      "\n",
      "  jerusalme_polygons = jerusalem_point.buffer(0.006)\n"
     ]
    }
   ],
   "source": [
    "jerusalme_polygons = jerusalem_point.buffer(0.006)"
   ]
  },
  {
   "cell_type": "code",
   "execution_count": 97,
   "id": "5ba10f6e",
   "metadata": {},
   "outputs": [
    {
     "data": {
      "text/plain": [
       "<AxesSubplot:>"
      ]
     },
     "execution_count": 97,
     "metadata": {},
     "output_type": "execute_result"
    },
    {
     "data": {
      "image/png": "[encoded data removed]",
      "text/plain": [
       "<Figure size 640x480 with 1 Axes>"
      ]
     },
     "metadata": {},
     "output_type": "display_data"
    }
   ],
   "source": [
    "jerusalme_polygons.plot()"
   ]
  },
  {
   "cell_type": "code",
   "execution_count": 98,
   "id": "b239958a",
   "metadata": {},
   "outputs": [
    {
     "name": "stderr",
     "output_type": "stream",
     "text": [
      "/var/folders/6c/7s9j6b710cn7h_bnq4jrn_700000gn/T/ipykernel_1129/2569124481.py:1: UserWarning: Geometry is in a geographic CRS. Results from 'area' are likely incorrect. Use 'GeoSeries.to_crs()' to re-project geometries to a projected CRS before this operation.\n",
      "\n",
      "  jerusalme_polygons.area\n"
     ]
    },
    {
     "data": {
      "text/plain": [
       "element_type  osmid      \n",
       "node          278469824      0.000113\n",
       "              278470233      0.000113\n",
       "              278470480      0.000113\n",
       "              278470644      0.000113\n",
       "              278471069      0.000113\n",
       "                               ...   \n",
       "              8316380890     0.000113\n",
       "              9107808023     0.000113\n",
       "              9107818768     0.000113\n",
       "              9493856826     0.000113\n",
       "              10103368277    0.000113\n",
       "Length: 79, dtype: float64"
      ]
     },
     "execution_count": 98,
     "metadata": {},
     "output_type": "execute_result"
    }
   ],
   "source": [
    "jerusalme_polygons.area"
   ]
  },
  {
   "cell_type": "code",
   "execution_count": 99,
   "id": "1e1f3f74",
   "metadata": {},
   "outputs": [],
   "source": [
    "tel_aviv = tel_aviv.dropna(subset=['name'])\n"
   ]
  },
  {
   "cell_type": "code",
   "execution_count": 100,
   "id": "57284cd6",
   "metadata": {},
   "outputs": [
    {
     "data": {
      "text/plain": [
       "<AxesSubplot:>"
      ]
     },
     "execution_count": 100,
     "metadata": {},
     "output_type": "execute_result"
    },
    {
     "data": {
      "image/png": "[encoded data removed]",
      "text/plain": [
       "<Figure size 640x480 with 1 Axes>"
      ]
     },
     "metadata": {},
     "output_type": "display_data"
    }
   ],
   "source": [
    "tel_aviv.plot()"
   ]
  },
  {
   "cell_type": "code",
   "execution_count": 38,
   "id": "74bc58d5",
   "metadata": {},
   "outputs": [],
   "source": [
    "tel_aviv = tel_aviv.dropna(subset=['name'])\n",
    "tel_aviv = tel_aviv.reset_index()"
   ]
  },
  {
   "cell_type": "code",
   "execution_count": 39,
   "id": "a9625a8e",
   "metadata": {},
   "outputs": [
    {
     "name": "stderr",
     "output_type": "stream",
     "text": [
      "/var/folders/6c/7s9j6b710cn7h_bnq4jrn_700000gn/T/ipykernel_1129/3695017055.py:1: UserWarning: Geometry is in a geographic CRS. Results from 'area' are likely incorrect. Use 'GeoSeries.to_crs()' to re-project geometries to a projected CRS before this operation.\n",
      "\n",
      "  tel_aviv['area'] = tel_aviv['geometry'].area\n"
     ]
    }
   ],
   "source": [
    "tel_aviv['area'] = tel_aviv['geometry'].area"
   ]
  },
  {
   "cell_type": "code",
   "execution_count": 51,
   "id": "6bf56316",
   "metadata": {
    "scrolled": false
   },
   "outputs": [
    {
     "data": {
      "text/plain": [
       "13       Point\n",
       "14       Point\n",
       "15       Point\n",
       "16       Point\n",
       "17       Point\n",
       "        ...   \n",
       "128    Polygon\n",
       "129    Polygon\n",
       "130    Polygon\n",
       "131    Polygon\n",
       "132    Polygon\n",
       "Length: 120, dtype: object"
      ]
     },
     "execution_count": 51,
     "metadata": {},
     "output_type": "execute_result"
    }
   ],
   "source": [
    "tel_aviv.geom_type"
   ]
  },
  {
   "cell_type": "code",
   "execution_count": 53,
   "id": "39ff100d",
   "metadata": {},
   "outputs": [],
   "source": [
    "tel_aviv = tel_aviv[tel_aviv.geom_type == 'Polygon']"
   ]
  },
  {
   "cell_type": "code",
   "execution_count": 54,
   "id": "19c1b7b7",
   "metadata": {},
   "outputs": [
    {
     "data": {
      "text/plain": [
       "<AxesSubplot:>"
      ]
     },
     "execution_count": 54,
     "metadata": {},
     "output_type": "execute_result"
    },
    {
     "data": {
      "image/png": "[encoded data removed]",
      "text/plain": [
       "<Figure size 640x480 with 1 Axes>"
      ]
     },
     "metadata": {},
     "output_type": "display_data"
    }
   ],
   "source": [
    "tel_aviv.plot()"
   ]
  },
  {
   "cell_type": "code",
   "execution_count": 43,
   "id": "31632496",
   "metadata": {},
   "outputs": [],
   "source": [
    "tel_aviv = tel_aviv.loc[tel_aviv['area'] < 0.000309]"
   ]
  },
  {
   "cell_type": "code",
   "execution_count": 411,
   "id": "464e5b48",
   "metadata": {},
   "outputs": [],
   "source": [
    "updated_geometry = []\n",
    "for row in tel_aviv.iterrows():\n",
    "    if isinstance(row[1]['geometry'], Point):\n",
    "        updated_geometry.append(row[1]['geometry'].buffer(0.000028))\n",
    "    else:\n",
    "        updated_geometry.append(row[1]['geometry'])"
   ]
  },
  {
   "cell_type": "code",
   "execution_count": 412,
   "id": "5032067a",
   "metadata": {},
   "outputs": [],
   "source": [
    "tel_aviv['geometry'] = updated_geometry"
   ]
  },
  {
   "cell_type": "code",
   "execution_count": 413,
   "id": "a1386582",
   "metadata": {},
   "outputs": [
    {
     "data": {
      "text/plain": [
       "<AxesSubplot:>"
      ]
     },
     "execution_count": 413,
     "metadata": {},
     "output_type": "execute_result"
    },
    {
     "data": {
      "image/png": "[encoded data removed]",
      "text/plain": [
       "<Figure size 640x480 with 1 Axes>"
      ]
     },
     "metadata": {},
     "output_type": "display_data"
    }
   ],
   "source": [
    "tel_aviv.plot()"
   ]
  },
  {
   "cell_type": "code",
   "execution_count": 374,
   "id": "5065be2c",
   "metadata": {},
   "outputs": [
    {
     "data": {
      "text/plain": [
       "<AxesSubplot:>"
      ]
     },
     "execution_count": 374,
     "metadata": {},
     "output_type": "execute_result"
    },
    {
     "data": {
      "image/png": "[encoded data removed]",
      "text/plain": [
       "<Figure size 640x480 with 1 Axes>"
      ]
     },
     "metadata": {},
     "output_type": "display_data"
    }
   ],
   "source": [
    "tel_aviv.plot()"
   ]
  },
  {
   "cell_type": "code",
   "execution_count": 327,
   "id": "9a578bb5",
   "metadata": {},
   "outputs": [
    {
     "name": "stderr",
     "output_type": "stream",
     "text": [
      "/var/folders/6c/7s9j6b710cn7h_bnq4jrn_700000gn/T/ipykernel_12943/2870845345.py:1: SettingWithCopyWarning: \n",
      "A value is trying to be set on a copy of a slice from a DataFrame\n",
      "\n",
      "See the caveats in the documentation: https://pandas.pydata.org/pandas-docs/stable/user_guide/indexing.html#returning-a-view-versus-a-copy\n",
      "  tel_aviv.iloc[0]['geometry']  = None\n"
     ]
    }
   ],
   "source": [
    "tel_aviv.iloc[0]['geometry']  = None"
   ]
  },
  {
   "cell_type": "code",
   "execution_count": 419,
   "id": "520d80e3",
   "metadata": {},
   "outputs": [],
   "source": [
    "city_graph_option1 = ox.geometries_from_place('Jerusalem, Israel', {'place': 'suburb'})[['name', 'geometry']]\n",
    "# city_graph.to_file(f'city_polygons/{city}.geojson', driver='GeoJSON')\n",
    "\n",
    "# # Alternative way, again not working for all the places\n",
    "city_graph_option2 = ox.geometries_from_place('Jerusalem, Israel', {'boundary': 'administrative'})[['name', 'geometry']]\n",
    "# city_graph.to_file(f'city_polygons/{city}', driver='GeoJSON')\n"
   ]
  },
  {
   "cell_type": "code",
   "execution_count": 646,
   "id": "811b61e7",
   "metadata": {},
   "outputs": [],
   "source": [
    "jerusalem = pd.concat([city_graph_option2, city_graph_option1], axis=0)"
   ]
  },
  {
   "cell_type": "code",
   "execution_count": 647,
   "id": "66236111",
   "metadata": {},
   "outputs": [],
   "source": [
    "jerusalem = jerusalem.dropna(subset=['name'])\n",
    "jerusalem = jerusalem.reset_index()"
   ]
  },
  {
   "cell_type": "code",
   "execution_count": 648,
   "id": "c927d4c9",
   "metadata": {},
   "outputs": [
    {
     "name": "stderr",
     "output_type": "stream",
     "text": [
      "/var/folders/6c/7s9j6b710cn7h_bnq4jrn_700000gn/T/ipykernel_12943/659791838.py:1: UserWarning: Geometry is in a geographic CRS. Results from 'area' are likely incorrect. Use 'GeoSeries.to_crs()' to re-project geometries to a projected CRS before this operation.\n",
      "\n",
      "  jerusalem['area'] = jerusalem['geometry'].area\n"
     ]
    }
   ],
   "source": [
    "jerusalem['area'] = jerusalem['geometry'].area\n",
    "jerusalem = jerusalem.loc[jerusalem['area'] < 0.000310]"
   ]
  },
  {
   "cell_type": "code",
   "execution_count": 649,
   "id": "fbf2bd7a",
   "metadata": {},
   "outputs": [
    {
     "data": {
      "text/plain": [
       "<AxesSubplot:>"
      ]
     },
     "execution_count": 649,
     "metadata": {},
     "output_type": "execute_result"
    },
    {
     "data": {
      "image/png": "[encoded data removed]",
      "text/plain": [
       "<Figure size 640x480 with 1 Axes>"
      ]
     },
     "metadata": {},
     "output_type": "display_data"
    }
   ],
   "source": [
    "jerusalem.plot()"
   ]
  },
  {
   "cell_type": "code",
   "execution_count": 650,
   "id": "a23a28b6",
   "metadata": {},
   "outputs": [],
   "source": [
    "jerusalem = jerusalem[jerusalem.geom_type != 'LineString']"
   ]
  },
  {
   "cell_type": "code",
   "execution_count": 676,
   "id": "9bbed1e1",
   "metadata": {},
   "outputs": [
    {
     "data": {
      "text/html": [
       "<div>\n",
       "<style scoped>\n",
       "    .dataframe tbody tr th:only-of-type {\n",
       "        vertical-align: middle;\n",
       "    }\n",
       "\n",
       "    .dataframe tbody tr th {\n",
       "        vertical-align: top;\n",
       "    }\n",
       "\n",
       "    .dataframe thead th {\n",
       "        text-align: right;\n",
       "    }\n",
       "</style>\n",
       "<table border=\"1\" class=\"dataframe\">\n",
       "  <thead>\n",
       "    <tr style=\"text-align: right;\">\n",
       "      <th></th>\n",
       "      <th>element_type</th>\n",
       "      <th>osmid</th>\n",
       "      <th>name</th>\n",
       "      <th>geometry</th>\n",
       "      <th>area</th>\n",
       "    </tr>\n",
       "  </thead>\n",
       "  <tbody>\n",
       "    <tr>\n",
       "      <th>24</th>\n",
       "      <td>relation</td>\n",
       "      <td>5862581</td>\n",
       "      <td>הרובע הארמני</td>\n",
       "      <td>POLYGON ((35.22758 31.77666, 35.22838 31.77669...</td>\n",
       "      <td>0.000010</td>\n",
       "    </tr>\n",
       "    <tr>\n",
       "      <th>25</th>\n",
       "      <td>relation</td>\n",
       "      <td>5862582</td>\n",
       "      <td>הרובע הנוצרי</td>\n",
       "      <td>POLYGON ((35.22758 31.77666, 35.22742 31.77679...</td>\n",
       "      <td>0.000017</td>\n",
       "    </tr>\n",
       "    <tr>\n",
       "      <th>26</th>\n",
       "      <td>relation</td>\n",
       "      <td>5862583</td>\n",
       "      <td>הרובע היהודי</td>\n",
       "      <td>POLYGON ((35.23071 31.77293, 35.23069 31.77303...</td>\n",
       "      <td>0.000014</td>\n",
       "    </tr>\n",
       "    <tr>\n",
       "      <th>27</th>\n",
       "      <td>relation</td>\n",
       "      <td>5862585</td>\n",
       "      <td>הרובע המוסלמי</td>\n",
       "      <td>POLYGON ((35.23035 31.78166, 35.23039 31.78169...</td>\n",
       "      <td>0.000041</td>\n",
       "    </tr>\n",
       "    <tr>\n",
       "      <th>28</th>\n",
       "      <td>relation</td>\n",
       "      <td>5862586</td>\n",
       "      <td>העיר העתיקה</td>\n",
       "      <td>POLYGON ((35.22758 31.77666, 35.22742 31.77679...</td>\n",
       "      <td>0.000082</td>\n",
       "    </tr>\n",
       "    <tr>\n",
       "      <th>31</th>\n",
       "      <td>relation</td>\n",
       "      <td>6771264</td>\n",
       "      <td>خلة حمامة</td>\n",
       "      <td>POLYGON ((35.19148 31.71915, 35.19146 31.71916...</td>\n",
       "      <td>0.000018</td>\n",
       "    </tr>\n",
       "    <tr>\n",
       "      <th>32</th>\n",
       "      <td>relation</td>\n",
       "      <td>6771266</td>\n",
       "      <td>بير عونة</td>\n",
       "      <td>POLYGON ((35.18680 31.72123, 35.18883 31.72143...</td>\n",
       "      <td>0.000009</td>\n",
       "    </tr>\n",
       "    <tr>\n",
       "      <th>35</th>\n",
       "      <td>node</td>\n",
       "      <td>278469824</td>\n",
       "      <td>רמת אשכול</td>\n",
       "      <td>POINT (35.22288 31.80179)</td>\n",
       "      <td>0.000000</td>\n",
       "    </tr>\n",
       "    <tr>\n",
       "      <th>36</th>\n",
       "      <td>node</td>\n",
       "      <td>278470233</td>\n",
       "      <td>קרית היובל</td>\n",
       "      <td>POINT (35.17504 31.76436)</td>\n",
       "      <td>0.000000</td>\n",
       "    </tr>\n",
       "    <tr>\n",
       "      <th>37</th>\n",
       "      <td>node</td>\n",
       "      <td>278470480</td>\n",
       "      <td>סנהדריה מורחבת</td>\n",
       "      <td>POINT (35.21754 31.80259)</td>\n",
       "      <td>0.000000</td>\n",
       "    </tr>\n",
       "    <tr>\n",
       "      <th>38</th>\n",
       "      <td>node</td>\n",
       "      <td>278470644</td>\n",
       "      <td>גבעת שאול</td>\n",
       "      <td>POINT (35.19310 31.79112)</td>\n",
       "      <td>0.000000</td>\n",
       "    </tr>\n",
       "    <tr>\n",
       "      <th>39</th>\n",
       "      <td>node</td>\n",
       "      <td>278471069</td>\n",
       "      <td>עיר גנים</td>\n",
       "      <td>POINT (35.17313 31.75565)</td>\n",
       "      <td>0.000000</td>\n",
       "    </tr>\n",
       "    <tr>\n",
       "      <th>40</th>\n",
       "      <td>node</td>\n",
       "      <td>278473074</td>\n",
       "      <td>קרית מנחם</td>\n",
       "      <td>POINT (35.16492 31.75784)</td>\n",
       "      <td>0.000000</td>\n",
       "    </tr>\n",
       "    <tr>\n",
       "      <th>41</th>\n",
       "      <td>node</td>\n",
       "      <td>278473356</td>\n",
       "      <td>יפה נוף</td>\n",
       "      <td>POINT (35.18516 31.77851)</td>\n",
       "      <td>0.000000</td>\n",
       "    </tr>\n",
       "    <tr>\n",
       "      <th>42</th>\n",
       "      <td>node</td>\n",
       "      <td>278474182</td>\n",
       "      <td>בקעה</td>\n",
       "      <td>POINT (35.21967 31.75955)</td>\n",
       "      <td>0.000000</td>\n",
       "    </tr>\n",
       "    <tr>\n",
       "      <th>43</th>\n",
       "      <td>node</td>\n",
       "      <td>278475686</td>\n",
       "      <td>סנהדריה</td>\n",
       "      <td>POINT (35.22020 31.80008)</td>\n",
       "      <td>0.000000</td>\n",
       "    </tr>\n",
       "    <tr>\n",
       "      <th>44</th>\n",
       "      <td>node</td>\n",
       "      <td>278475869</td>\n",
       "      <td>אבו טור</td>\n",
       "      <td>POINT (35.23244 31.76452)</td>\n",
       "      <td>0.000000</td>\n",
       "    </tr>\n",
       "    <tr>\n",
       "      <th>45</th>\n",
       "      <td>node</td>\n",
       "      <td>278476009</td>\n",
       "      <td>תלפיות</td>\n",
       "      <td>POINT (35.21602 31.75154)</td>\n",
       "      <td>0.000000</td>\n",
       "    </tr>\n",
       "    <tr>\n",
       "      <th>46</th>\n",
       "      <td>node</td>\n",
       "      <td>278476471</td>\n",
       "      <td>בית וגן</td>\n",
       "      <td>POINT (35.18669 31.76414)</td>\n",
       "      <td>0.000000</td>\n",
       "    </tr>\n",
       "    <tr>\n",
       "      <th>47</th>\n",
       "      <td>node</td>\n",
       "      <td>278477123</td>\n",
       "      <td>בית הכרם</td>\n",
       "      <td>POINT (35.18942 31.77900)</td>\n",
       "      <td>0.000000</td>\n",
       "    </tr>\n",
       "  </tbody>\n",
       "</table>\n",
       "</div>"
      ],
      "text/plain": [
       "   element_type      osmid            name  \\\n",
       "24     relation    5862581    הרובע הארמני   \n",
       "25     relation    5862582    הרובע הנוצרי   \n",
       "26     relation    5862583    הרובע היהודי   \n",
       "27     relation    5862585   הרובע המוסלמי   \n",
       "28     relation    5862586     העיר העתיקה   \n",
       "31     relation    6771264       خلة حمامة   \n",
       "32     relation    6771266        بير عونة   \n",
       "35         node  278469824       רמת אשכול   \n",
       "36         node  278470233      קרית היובל   \n",
       "37         node  278470480  סנהדריה מורחבת   \n",
       "38         node  278470644       גבעת שאול   \n",
       "39         node  278471069        עיר גנים   \n",
       "40         node  278473074       קרית מנחם   \n",
       "41         node  278473356         יפה נוף   \n",
       "42         node  278474182            בקעה   \n",
       "43         node  278475686         סנהדריה   \n",
       "44         node  278475869         אבו טור   \n",
       "45         node  278476009          תלפיות   \n",
       "46         node  278476471         בית וגן   \n",
       "47         node  278477123        בית הכרם   \n",
       "\n",
       "                                             geometry      area  \n",
       "24  POLYGON ((35.22758 31.77666, 35.22838 31.77669...  0.000010  \n",
       "25  POLYGON ((35.22758 31.77666, 35.22742 31.77679...  0.000017  \n",
       "26  POLYGON ((35.23071 31.77293, 35.23069 31.77303...  0.000014  \n",
       "27  POLYGON ((35.23035 31.78166, 35.23039 31.78169...  0.000041  \n",
       "28  POLYGON ((35.22758 31.77666, 35.22742 31.77679...  0.000082  \n",
       "31  POLYGON ((35.19148 31.71915, 35.19146 31.71916...  0.000018  \n",
       "32  POLYGON ((35.18680 31.72123, 35.18883 31.72143...  0.000009  \n",
       "35                          POINT (35.22288 31.80179)  0.000000  \n",
       "36                          POINT (35.17504 31.76436)  0.000000  \n",
       "37                          POINT (35.21754 31.80259)  0.000000  \n",
       "38                          POINT (35.19310 31.79112)  0.000000  \n",
       "39                          POINT (35.17313 31.75565)  0.000000  \n",
       "40                          POINT (35.16492 31.75784)  0.000000  \n",
       "41                          POINT (35.18516 31.77851)  0.000000  \n",
       "42                          POINT (35.21967 31.75955)  0.000000  \n",
       "43                          POINT (35.22020 31.80008)  0.000000  \n",
       "44                          POINT (35.23244 31.76452)  0.000000  \n",
       "45                          POINT (35.21602 31.75154)  0.000000  \n",
       "46                          POINT (35.18669 31.76414)  0.000000  \n",
       "47                          POINT (35.18942 31.77900)  0.000000  "
      ]
     },
     "execution_count": 676,
     "metadata": {},
     "output_type": "execute_result"
    }
   ],
   "source": [
    "jerusalem.head(20)"
   ]
  },
  {
   "cell_type": "code",
   "execution_count": 652,
   "id": "82a3092b",
   "metadata": {},
   "outputs": [],
   "source": [
    "p = Point(35.19310, 31.79112)"
   ]
  },
  {
   "cell_type": "code",
   "execution_count": 653,
   "id": "72cc678a",
   "metadata": {},
   "outputs": [],
   "source": [
    "b = p.buffer(1)"
   ]
  },
  {
   "cell_type": "code",
   "execution_count": 654,
   "id": "a44e1639",
   "metadata": {},
   "outputs": [
    {
     "ename": "AttributeError",
     "evalue": "'Polygon' object has no attribute 'plot'",
     "output_type": "error",
     "traceback": [
      "\u001b[0;31m---------------------------------------------------------------------------\u001b[0m",
      "\u001b[0;31mAttributeError\u001b[0m                            Traceback (most recent call last)",
      "Cell \u001b[0;32mIn[654], line 1\u001b[0m\n\u001b[0;32m----> 1\u001b[0m \u001b[43mb\u001b[49m\u001b[38;5;241;43m.\u001b[39;49m\u001b[43mplot\u001b[49m()\n",
      "\u001b[0;31mAttributeError\u001b[0m: 'Polygon' object has no attribute 'plot'"
     ]
    }
   ],
   "source": [
    "b.plot()"
   ]
  },
  {
   "cell_type": "code",
   "execution_count": 655,
   "id": "8fd087fc",
   "metadata": {},
   "outputs": [
    {
     "name": "stdout",
     "output_type": "stream",
     "text": [
      "POLYGON ((35.222876899999996 31.8017893, 35.222876895184726 31.80178920198286, 35.22287688078528 31.801789104909677, 35.22287685694033 31.80178900971532, 35.22287682387953 31.801788917316568, 35.222876781921265 31.80178882860326, 35.22287673146961 31.801788744429768, 35.222876673010454 31.801788665606715, 35.22287660710678 31.801788592893217, 35.22287653439328 31.801788526989547, 35.22287645557023 31.801788468530386, 35.22287637139674 31.801788418078736, 35.22287628268343 31.801788376120466, 35.22287619028467 31.801788343059663, 35.22287609509032 31.80178831921472, 35.22287599801714 31.801788304815272, 35.2228759 31.8017883, 35.22287580198286 31.801788304815272, 35.222875704909676 31.80178831921472, 35.222875609715324 31.801788343059663, 35.22287551731657 31.801788376120466, 35.22287542860326 31.801788418078736, 35.22287534442977 31.801788468530386, 35.22287526560672 31.801788526989547, 35.22287519289322 31.801788592893217, 35.22287512698954 31.801788665606715, 35.222875068530385 31.801788744429768, 35.22287501807873 31.80178882860326, 35.222874976120465 31.801788917316568, 35.222874943059665 31.80178900971532, 35.22287491921472 31.801789104909677, 35.22287490481527 31.80178920198286, 35.2228749 31.8017893, 35.22287490481527 31.80178939801714, 35.22287491921472 31.801789495090322, 35.222874943059665 31.801789590284677, 35.222874976120465 31.80178968268343, 35.22287501807873 31.801789771396738, 35.222875068530385 31.80178985557023, 35.22287512698954 31.801789934393284, 35.22287519289322 31.80179000710678, 35.22287526560672 31.80179007301045, 35.22287534442977 31.801790131469613, 35.22287542860326 31.801790181921263, 35.22287551731657 31.801790223879532, 35.222875609715324 31.801790256940336, 35.222875704909676 31.80179028078528, 35.22287580198286 31.801790295184727, 35.2228759 31.8017903, 35.22287599801714 31.801790295184727, 35.22287609509032 31.80179028078528, 35.22287619028467 31.801790256940336, 35.22287628268343 31.801790223879532, 35.22287637139674 31.801790181921263, 35.22287645557023 31.801790131469613, 35.22287653439328 31.80179007301045, 35.22287660710678 31.80179000710678, 35.222876673010454 31.801789934393284, 35.22287673146961 31.80178985557023, 35.222876781921265 31.801789771396738, 35.22287682387953 31.80178968268343, 35.22287685694033 31.801789590284677, 35.22287688078528 31.801789495090322, 35.222876895184726 31.80178939801714, 35.222876899999996 31.8017893))\n",
      "POLYGON ((35.1750459 31.7643601, 35.17504589518473 31.764360001982862, 35.175045880785284 31.76435990490968, 35.175045856940336 31.764359809715323, 35.175045823879536 31.76435971731657, 35.17504578192127 31.764359628603263, 35.175045731469616 31.76435954442977, 35.17504567301046 31.764359465606717, 35.17504560710678 31.76435939289322, 35.175045534393284 31.76435932698955, 35.175045455570235 31.764359268530388, 35.17504537139674 31.764359218078738, 35.175045282683435 31.764359176120468, 35.17504519028468 31.764359143059664, 35.175045095090326 31.76435911921472, 35.17504499801714 31.764359104815274, 35.1750449 31.7643591, 35.175044801982864 31.764359104815274, 35.17504470490968 31.76435911921472, 35.17504460971533 31.764359143059664, 35.17504451731657 31.764359176120468, 35.175044428603265 31.764359218078738, 35.17504434442977 31.764359268530388, 35.17504426560672 31.76435932698955, 35.175044192893225 31.76435939289322, 35.17504412698955 31.764359465606717, 35.17504406853039 31.76435954442977, 35.17504401807874 31.764359628603263, 35.17504397612047 31.76435971731657, 35.17504394305967 31.764359809715323, 35.17504391921472 31.76435990490968, 35.175043904815276 31.764360001982862, 35.175043900000006 31.7643601, 35.175043904815276 31.76436019801714, 35.17504391921472 31.764360295090324, 35.17504394305967 31.76436039028468, 35.17504397612047 31.764360482683433, 35.17504401807874 31.76436057139674, 35.17504406853039 31.764360655570233, 35.17504412698955 31.764360734393286, 35.175044192893225 31.764360807106783, 35.17504426560672 31.764360873010453, 35.17504434442977 31.764360931469614, 35.175044428603265 31.764360981921264, 35.17504451731657 31.764361023879534, 35.17504460971533 31.764361056940338, 35.17504470490968 31.76436108078528, 35.175044801982864 31.76436109518473, 35.1750449 31.764361100000002, 35.17504499801714 31.76436109518473, 35.175045095090326 31.76436108078528, 35.17504519028468 31.764361056940338, 35.175045282683435 31.764361023879534, 35.17504537139674 31.764360981921264, 35.175045455570235 31.764360931469614, 35.175045534393284 31.764360873010453, 35.17504560710678 31.764360807106783, 35.17504567301046 31.764360734393286, 35.175045731469616 31.764360655570233, 35.17504578192127 31.76436057139674, 35.175045823879536 31.764360482683433, 35.175045856940336 31.76436039028468, 35.175045880785284 31.764360295090324, 35.17504589518473 31.76436019801714, 35.1750459 31.7643601))\n",
      "POLYGON ((35.2175395 31.802587, 35.21753949518473 31.80258690198286, 35.217539480785284 31.802586804909676, 35.21753945694034 31.80258670971532, 35.217539423879536 31.802586617316567, 35.21753938192127 31.80258652860326, 35.21753933146962 31.802586444429767, 35.21753927301046 31.802586365606714, 35.21753920710678 31.802586292893217, 35.217539134393284 31.802586226989547, 35.217539055570235 31.802586168530386, 35.21753897139674 31.802586118078736, 35.217538882683435 31.802586076120466, 35.21753879028468 31.802586043059662, 35.217538695090326 31.80258601921472, 35.21753859801714 31.80258600481527, 35.2175385 31.802585999999998, 35.217538401982864 31.80258600481527, 35.21753830490968 31.80258601921472, 35.21753820971533 31.802586043059662, 35.21753811731657 31.802586076120466, 35.217538028603265 31.802586118078736, 35.21753794442977 31.802586168530386, 35.21753786560672 31.802586226989547, 35.217537792893225 31.802586292893217, 35.21753772698955 31.802586365606714, 35.21753766853039 31.802586444429767, 35.21753761807874 31.80258652860326, 35.21753757612047 31.802586617316567, 35.21753754305967 31.80258670971532, 35.21753751921472 31.802586804909676, 35.217537504815276 31.80258690198286, 35.217537500000006 31.802587, 35.217537504815276 31.80258709801714, 35.21753751921472 31.80258719509032, 35.21753754305967 31.802587290284677, 35.21753757612047 31.80258738268343, 35.21753761807874 31.802587471396738, 35.21753766853039 31.80258755557023, 35.21753772698955 31.802587634393284, 35.217537792893225 31.80258770710678, 35.21753786560672 31.80258777301045, 35.21753794442977 31.802587831469612, 35.217538028603265 31.802587881921262, 35.21753811731657 31.802587923879532, 35.21753820971533 31.802587956940336, 35.21753830490968 31.80258798078528, 35.217538401982864 31.802587995184727, 35.2175385 31.802588, 35.21753859801714 31.802587995184727, 35.217538695090326 31.80258798078528, 35.21753879028468 31.802587956940336, 35.217538882683435 31.802587923879532, 35.21753897139674 31.802587881921262, 35.217539055570235 31.802587831469612, 35.217539134393284 31.80258777301045, 35.21753920710678 31.80258770710678, 35.21753927301046 31.802587634393284, 35.21753933146962 31.80258755557023, 35.21753938192127 31.802587471396738, 35.217539423879536 31.80258738268343, 35.21753945694034 31.802587290284677, 35.217539480785284 31.80258719509032, 35.21753949518473 31.80258709801714, 35.2175395 31.802587))\n",
      "POLYGON ((35.1931033 31.7911185, 35.19310329518473 31.79111840198286, 35.19310328078528 31.791118304909677, 35.19310325694033 31.79111820971532, 35.19310322387953 31.791118117316568, 35.193103181921266 31.79111802860326, 35.19310313146961 31.791117944429768, 35.193103073010455 31.791117865606715, 35.19310300710678 31.791117792893218, 35.19310293439328 31.791117726989548, 35.19310285557023 31.791117668530386, 35.19310277139674 31.791117618078736, 35.19310268268343 31.791117576120467, 35.193102590284674 31.791117543059663, 35.19310249509032 31.79111751921472, 35.19310239801714 31.791117504815272, 35.1931023 31.7911175, 35.19310220198286 31.791117504815272, 35.19310210490968 31.79111751921472, 35.193102009715325 31.791117543059663, 35.19310191731657 31.791117576120467, 35.19310182860326 31.791117618078736, 35.19310174442977 31.791117668530386, 35.19310166560672 31.791117726989548, 35.19310159289322 31.791117792893218, 35.193101526989544 31.791117865606715, 35.19310146853039 31.791117944429768, 35.19310141807873 31.79111802860326, 35.19310137612047 31.791118117316568, 35.193101343059666 31.79111820971532, 35.19310131921472 31.791118304909677, 35.19310130481527 31.79111840198286, 35.1931013 31.7911185, 35.19310130481527 31.79111859801714, 35.19310131921472 31.791118695090322, 35.193101343059666 31.791118790284678, 35.19310137612047 31.79111888268343, 35.19310141807873 31.791118971396738, 35.19310146853039 31.79111905557023, 35.193101526989544 31.791119134393284, 35.19310159289322 31.79111920710678, 35.19310166560672 31.79111927301045, 35.19310174442977 31.791119331469613, 35.19310182860326 31.791119381921263, 35.19310191731657 31.791119423879532, 35.193102009715325 31.791119456940336, 35.19310210490968 31.79111948078528, 35.19310220198286 31.791119495184727, 35.1931023 31.7911195, 35.19310239801714 31.791119495184727, 35.19310249509032 31.79111948078528, 35.193102590284674 31.791119456940336, 35.19310268268343 31.791119423879532, 35.19310277139674 31.791119381921263, 35.19310285557023 31.791119331469613, 35.19310293439328 31.79111927301045, 35.19310300710678 31.79111920710678, 35.193103073010455 31.791119134393284, 35.19310313146961 31.79111905557023, 35.193103181921266 31.791118971396738, 35.19310322387953 31.79111888268343, 35.19310325694033 31.791118790284678, 35.19310328078528 31.791118695090322, 35.19310329518473 31.79111859801714, 35.1931033 31.7911185))\n",
      "POLYGON ((35.1731268 31.7556535, 35.17312679518473 31.755653401982862, 35.17312678078528 31.75565330490968, 35.173126756940334 31.755653209715323, 35.173126723879534 31.75565311731657, 35.17312668192127 31.755653028603263, 35.173126631469614 31.75565294442977, 35.17312657301046 31.755652865606717, 35.17312650710678 31.75565279289322, 35.17312643439328 31.75565272698955, 35.17312635557023 31.755652668530388, 35.17312627139674 31.755652618078738, 35.17312618268343 31.755652576120468, 35.173126090284676 31.755652543059664, 35.173125995090324 31.75565251921472, 35.17312589801714 31.755652504815274, 35.1731258 31.7556525, 35.17312570198286 31.755652504815274, 35.17312560490968 31.75565251921472, 35.17312550971533 31.755652543059664, 35.17312541731657 31.755652576120468, 35.17312532860326 31.755652618078738, 35.17312524442977 31.755652668530388, 35.17312516560672 31.75565272698955, 35.17312509289322 31.75565279289322, 35.173125026989545 31.755652865606717, 35.17312496853039 31.75565294442977, 35.173124918078734 31.755653028603263, 35.17312487612047 31.75565311731657, 35.17312484305967 31.755653209715323, 35.17312481921472 31.75565330490968, 35.173124804815274 31.755653401982862, 35.173124800000004 31.7556535, 35.173124804815274 31.75565359801714, 35.17312481921472 31.755653695090324, 35.17312484305967 31.75565379028468, 35.17312487612047 31.755653882683433, 35.173124918078734 31.75565397139674, 35.17312496853039 31.755654055570233, 35.173125026989545 31.755654134393286, 35.17312509289322 31.755654207106783, 35.17312516560672 31.755654273010453, 35.17312524442977 31.755654331469614, 35.17312532860326 31.755654381921264, 35.17312541731657 31.755654423879534, 35.17312550971533 31.755654456940338, 35.17312560490968 31.75565448078528, 35.17312570198286 31.75565449518473, 35.1731258 31.755654500000002, 35.17312589801714 31.75565449518473, 35.173125995090324 31.75565448078528, 35.173126090284676 31.755654456940338, 35.17312618268343 31.755654423879534, 35.17312627139674 31.755654381921264, 35.17312635557023 31.755654331469614, 35.17312643439328 31.755654273010453, 35.17312650710678 31.755654207106783, 35.17312657301046 31.755654134393286, 35.173126631469614 31.755654055570233, 35.17312668192127 31.75565397139674, 35.173126723879534 31.755653882683433, 35.173126756940334 31.75565379028468, 35.17312678078528 31.755653695090324, 35.17312679518473 31.75565359801714, 35.1731268 31.7556535))\n",
      "POLYGON ((35.1649172 31.7578408, 35.16491719518473 31.75784070198286, 35.16491718078528 31.757840604909678, 35.164917156940334 31.757840509715322, 35.16491712387953 31.75784041731657, 35.16491708192127 31.757840328603262, 35.164917031469614 31.75784024442977, 35.164916973010456 31.757840165606716, 35.16491690710678 31.75784009289322, 35.16491683439328 31.757840026989548, 35.16491675557023 31.757839968530387, 35.16491667139674 31.757839918078737, 35.16491658268343 31.757839876120467, 35.164916490284675 31.757839843059664, 35.16491639509032 31.75783981921472, 35.16491629801714 31.757839804815273, 35.1649162 31.7578398, 35.16491610198286 31.757839804815273, 35.16491600490968 31.75783981921472, 35.164915909715326 31.757839843059664, 35.16491581731657 31.757839876120467, 35.16491572860326 31.757839918078737, 35.16491564442977 31.757839968530387, 35.16491556560672 31.757840026989548, 35.16491549289322 31.75784009289322, 35.164915426989545 31.757840165606716, 35.16491536853039 31.75784024442977, 35.164915318078734 31.757840328603262, 35.16491527612047 31.75784041731657, 35.16491524305967 31.757840509715322, 35.16491521921472 31.757840604909678, 35.16491520481527 31.75784070198286, 35.1649152 31.7578408, 35.16491520481527 31.75784089801714, 35.16491521921472 31.757840995090323, 35.16491524305967 31.75784109028468, 35.16491527612047 31.757841182683432, 35.164915318078734 31.75784127139674, 35.16491536853039 31.757841355570232, 35.164915426989545 31.757841434393285, 35.16491549289322 31.757841507106782, 35.16491556560672 31.757841573010452, 35.16491564442977 31.757841631469613, 35.16491572860326 31.757841681921263, 35.16491581731657 31.757841723879533, 35.164915909715326 31.757841756940337, 35.16491600490968 31.75784178078528, 35.16491610198286 31.757841795184728, 35.1649162 31.7578418, 35.16491629801714 31.757841795184728, 35.16491639509032 31.75784178078528, 35.164916490284675 31.757841756940337, 35.16491658268343 31.757841723879533, 35.16491667139674 31.757841681921263, 35.16491675557023 31.757841631469613, 35.16491683439328 31.757841573010452, 35.16491690710678 31.757841507106782, 35.164916973010456 31.757841434393285, 35.164917031469614 31.757841355570232, 35.16491708192127 31.75784127139674, 35.16491712387953 31.757841182683432, 35.164917156940334 31.75784109028468, 35.16491718078528 31.757840995090323, 35.16491719518473 31.75784089801714, 35.1649172 31.7578408))\n",
      "POLYGON ((35.185165899999994 31.778508, 35.185165895184724 31.77850790198286, 35.18516588078528 31.778507804909676, 35.18516585694033 31.77850770971532, 35.18516582387953 31.778507617316567, 35.18516578192126 31.77850752860326, 35.18516573146961 31.778507444429767, 35.18516567301045 31.778507365606714, 35.185165607106775 31.778507292893217, 35.18516553439328 31.778507226989547, 35.18516545557023 31.778507168530385, 35.185165371396735 31.778507118078736, 35.18516528268343 31.778507076120466, 35.18516519028467 31.778507043059662, 35.18516509509032 31.778507019214718, 35.185164998017136 31.77850700481527, 35.1851649 31.778506999999998, 35.18516480198286 31.77850700481527, 35.185164704909674 31.778507019214718, 35.18516460971532 31.778507043059662, 35.185164517316565 31.778507076120466, 35.18516442860326 31.778507118078736, 35.185164344429765 31.778507168530385, 35.185164265606716 31.778507226989547, 35.18516419289322 31.778507292893217, 35.18516412698954 31.778507365606714, 35.18516406853038 31.778507444429767, 35.18516401807873 31.77850752860326, 35.185163976120464 31.778507617316567, 35.18516394305966 31.77850770971532, 35.185163919214716 31.778507804909676, 35.18516390481527 31.77850790198286, 35.1851639 31.778508, 35.18516390481527 31.778508098017138, 35.185163919214716 31.77850819509032, 35.18516394305966 31.778508290284677, 35.185163976120464 31.77850838268343, 35.18516401807873 31.778508471396737, 35.18516406853038 31.77850855557023, 35.18516412698954 31.778508634393283, 35.18516419289322 31.77850870710678, 35.185164265606716 31.77850877301045, 35.185164344429765 31.778508831469612, 35.18516442860326 31.77850888192126, 35.185164517316565 31.77850892387953, 35.18516460971532 31.778508956940335, 35.185164704909674 31.77850898078528, 35.18516480198286 31.778508995184726, 35.1851649 31.778509, 35.185164998017136 31.778508995184726, 35.18516509509032 31.77850898078528, 35.18516519028467 31.778508956940335, 35.18516528268343 31.77850892387953, 35.185165371396735 31.77850888192126, 35.18516545557023 31.778508831469612, 35.18516553439328 31.77850877301045, 35.185165607106775 31.77850870710678, 35.18516567301045 31.778508634393283, 35.18516573146961 31.77850855557023, 35.18516578192126 31.778508471396737, 35.18516582387953 31.77850838268343, 35.18516585694033 31.778508290284677, 35.18516588078528 31.77850819509032, 35.185165895184724 31.778508098017138, 35.185165899999994 31.778508))\n",
      "POLYGON ((35.2196733 31.7595534, 35.21967329518473 31.759553301982862, 35.21967328078528 31.75955320490968, 35.21967325694033 31.759553109715323, 35.21967322387953 31.75955301731657, 35.219673181921266 31.759552928603263, 35.21967313146961 31.75955284442977, 35.219673073010455 31.759552765606717, 35.21967300710678 31.75955269289322, 35.21967293439328 31.75955262698955, 35.21967285557023 31.75955256853039, 35.21967277139674 31.75955251807874, 35.21967268268343 31.75955247612047, 35.219672590284674 31.759552443059665, 35.21967249509032 31.75955241921472, 35.21967239801714 31.759552404815274, 35.2196723 31.7595524, 35.21967220198286 31.759552404815274, 35.21967210490968 31.75955241921472, 35.219672009715325 31.759552443059665, 35.21967191731657 31.75955247612047, 35.21967182860326 31.75955251807874, 35.21967174442977 31.75955256853039, 35.21967166560672 31.75955262698955, 35.21967159289322 31.75955269289322, 35.21967152698954 31.759552765606717, 35.219671468530386 31.75955284442977, 35.21967141807873 31.759552928603263, 35.219671376120466 31.75955301731657, 35.219671343059666 31.759553109715323, 35.21967131921472 31.75955320490968, 35.21967130481527 31.759553301982862, 35.2196713 31.7595534, 35.21967130481527 31.75955349801714, 35.21967131921472 31.759553595090324, 35.219671343059666 31.75955369028468, 35.219671376120466 31.759553782683433, 35.21967141807873 31.75955387139674, 35.219671468530386 31.759553955570233, 35.21967152698954 31.759554034393286, 35.21967159289322 31.759554107106784, 35.21967166560672 31.759554173010454, 35.21967174442977 31.759554231469615, 35.21967182860326 31.759554281921265, 35.21967191731657 31.759554323879534, 35.219672009715325 31.75955435694034, 35.21967210490968 31.759554380785282, 35.21967220198286 31.75955439518473, 35.2196723 31.759554400000003, 35.21967239801714 31.75955439518473, 35.21967249509032 31.759554380785282, 35.219672590284674 31.75955435694034, 35.21967268268343 31.759554323879534, 35.21967277139674 31.759554281921265, 35.21967285557023 31.759554231469615, 35.21967293439328 31.759554173010454, 35.21967300710678 31.759554107106784, 35.219673073010455 31.759554034393286, 35.21967313146961 31.759553955570233, 35.219673181921266 31.75955387139674, 35.21967322387953 31.759553782683433, 35.21967325694033 31.75955369028468, 35.21967328078528 31.759553595090324, 35.21967329518473 31.75955349801714, 35.2196733 31.7595534))\n",
      "POLYGON ((35.2202002 31.800079, 35.22020019518473 31.80007890198286, 35.220200180785284 31.800078804909678, 35.22020015694034 31.800078709715322, 35.220200123879536 31.80007861731657, 35.22020008192127 31.80007852860326, 35.220200031469616 31.80007844442977, 35.22019997301046 31.800078365606716, 35.22019990710678 31.800078292893218, 35.220199834393284 31.800078226989548, 35.220199755570235 31.800078168530387, 35.22019967139674 31.800078118078737, 35.220199582683435 31.800078076120467, 35.22019949028468 31.800078043059663, 35.220199395090326 31.80007801921472, 35.22019929801714 31.800078004815273, 35.2201992 31.800078, 35.220199101982864 31.800078004815273, 35.22019900490968 31.80007801921472, 35.22019890971533 31.800078043059663, 35.22019881731657 31.800078076120467, 35.220198728603265 31.800078118078737, 35.22019864442977 31.800078168530387, 35.22019856560672 31.800078226989548, 35.220198492893225 31.800078292893218, 35.22019842698955 31.800078365606716, 35.22019836853039 31.80007844442977, 35.22019831807874 31.80007852860326, 35.22019827612047 31.80007861731657, 35.22019824305967 31.800078709715322, 35.22019821921472 31.800078804909678, 35.220198204815276 31.80007890198286, 35.220198200000006 31.800079, 35.220198204815276 31.80007909801714, 35.22019821921472 31.800079195090323, 35.22019824305967 31.80007929028468, 35.22019827612047 31.800079382683432, 35.22019831807874 31.80007947139674, 35.22019836853039 31.800079555570232, 35.22019842698955 31.800079634393285, 35.220198492893225 31.800079707106782, 35.22019856560672 31.800079773010452, 35.22019864442977 31.800079831469613, 35.220198728603265 31.800079881921263, 35.22019881731657 31.800079923879533, 35.22019890971533 31.800079956940337, 35.22019900490968 31.80007998078528, 35.220199101982864 31.800079995184728, 35.2201992 31.80008, 35.22019929801714 31.800079995184728, 35.220199395090326 31.80007998078528, 35.22019949028468 31.800079956940337, 35.220199582683435 31.800079923879533, 35.22019967139674 31.800079881921263, 35.220199755570235 31.800079831469613, 35.220199834393284 31.800079773010452, 35.22019990710678 31.800079707106782, 35.22019997301046 31.800079634393285, 35.220200031469616 31.800079555570232, 35.22020008192127 31.80007947139674, 35.220200123879536 31.800079382683432, 35.22020015694034 31.80007929028468, 35.220200180785284 31.800079195090323, 35.22020019518473 31.80007909801714, 35.2202002 31.800079))\n",
      "POLYGON ((35.232445399999996 31.7645177, 35.232445395184726 31.76451760198286, 35.23244538078528 31.764517504909676, 35.23244535694033 31.76451740971532, 35.23244532387953 31.764517317316567, 35.232445281921265 31.76451722860326, 35.23244523146961 31.764517144429767, 35.232445173010454 31.764517065606714, 35.23244510710678 31.764516992893217, 35.23244503439328 31.764516926989547, 35.23244495557023 31.764516868530386, 35.23244487139674 31.764516818078736, 35.23244478268343 31.764516776120466, 35.23244469028467 31.764516743059662, 35.23244459509032 31.76451671921472, 35.23244449801714 31.76451670481527, 35.2324444 31.764516699999998, 35.23244430198286 31.76451670481527, 35.232444204909676 31.76451671921472, 35.232444109715324 31.764516743059662, 35.23244401731657 31.764516776120466, 35.23244392860326 31.764516818078736, 35.23244384442977 31.764516868530386, 35.23244376560672 31.764516926989547, 35.23244369289322 31.764516992893217, 35.23244362698954 31.764517065606714, 35.232443568530385 31.764517144429767, 35.23244351807873 31.76451722860326, 35.232443476120466 31.764517317316567, 35.232443443059665 31.76451740971532, 35.23244341921472 31.764517504909676, 35.23244340481527 31.76451760198286, 35.2324434 31.7645177, 35.23244340481527 31.76451779801714, 35.23244341921472 31.76451789509032, 35.232443443059665 31.764517990284677, 35.232443476120466 31.76451808268343, 35.23244351807873 31.764518171396738, 35.232443568530385 31.76451825557023, 35.23244362698954 31.764518334393284, 35.23244369289322 31.76451840710678, 35.23244376560672 31.76451847301045, 35.23244384442977 31.764518531469612, 35.23244392860326 31.764518581921262, 35.23244401731657 31.764518623879532, 35.232444109715324 31.764518656940336, 35.232444204909676 31.76451868078528, 35.23244430198286 31.764518695184726, 35.2324444 31.7645187, 35.23244449801714 31.764518695184726, 35.23244459509032 31.76451868078528, 35.23244469028467 31.764518656940336, 35.23244478268343 31.764518623879532, 35.23244487139674 31.764518581921262, 35.23244495557023 31.764518531469612, 35.23244503439328 31.76451847301045, 35.23244510710678 31.76451840710678, 35.232445173010454 31.764518334393284, 35.23244523146961 31.76451825557023, 35.232445281921265 31.764518171396738, 35.23244532387953 31.76451808268343, 35.23244535694033 31.764517990284677, 35.23244538078528 31.76451789509032, 35.232445395184726 31.76451779801714, 35.232445399999996 31.7645177))\n",
      "POLYGON ((35.216023799999995 31.7515394, 35.216023795184725 31.75153930198286, 35.21602378078528 31.751539204909676, 35.21602375694033 31.75153910971532, 35.21602372387953 31.751539017316567, 35.216023681921264 31.75153892860326, 35.21602363146961 31.751538844429767, 35.21602357301045 31.751538765606714, 35.216023507106776 31.751538692893217, 35.21602343439328 31.751538626989547, 35.21602335557023 31.751538568530385, 35.216023271396736 31.751538518078736, 35.21602318268343 31.751538476120466, 35.21602309028467 31.751538443059662, 35.21602299509032 31.751538419214718, 35.21602289801714 31.75153840481527, 35.2160228 31.751538399999998, 35.21602270198286 31.75153840481527, 35.216022604909675 31.751538419214718, 35.21602250971532 31.751538443059662, 35.216022417316566 31.751538476120466, 35.21602232860326 31.751538518078736, 35.216022244429766 31.751538568530385, 35.21602216560672 31.751538626989547, 35.21602209289322 31.751538692893217, 35.21602202698954 31.751538765606714, 35.216021968530384 31.751538844429767, 35.21602191807873 31.75153892860326, 35.216021876120465 31.751539017316567, 35.216021843059664 31.75153910971532, 35.21602181921472 31.751539204909676, 35.21602180481527 31.75153930198286, 35.2160218 31.7515394, 35.21602180481527 31.751539498017138, 35.21602181921472 31.75153959509032, 35.216021843059664 31.751539690284677, 35.216021876120465 31.75153978268343, 35.21602191807873 31.751539871396737, 35.216021968530384 31.75153995557023, 35.21602202698954 31.751540034393283, 35.21602209289322 31.75154010710678, 35.21602216560672 31.75154017301045, 35.216022244429766 31.751540231469612, 35.21602232860326 31.75154028192126, 35.216022417316566 31.75154032387953, 35.21602250971532 31.751540356940335, 35.216022604909675 31.75154038078528, 35.21602270198286 31.751540395184726, 35.2160228 31.7515404, 35.21602289801714 31.751540395184726, 35.21602299509032 31.75154038078528, 35.21602309028467 31.751540356940335, 35.21602318268343 31.75154032387953, 35.216023271396736 31.75154028192126, 35.21602335557023 31.751540231469612, 35.21602343439328 31.75154017301045, 35.216023507106776 31.75154010710678, 35.21602357301045 31.751540034393283, 35.21602363146961 31.75153995557023, 35.216023681921264 31.751539871396737, 35.21602372387953 31.75153978268343, 35.21602375694033 31.751539690284677, 35.21602378078528 31.75153959509032, 35.216023795184725 31.751539498017138, 35.216023799999995 31.7515394))\n",
      "POLYGON ((35.1866889 31.7641422, 35.18668889518473 31.76414210198286, 35.18668888078528 31.764142004909676, 35.186688856940336 31.76414190971532, 35.186688823879535 31.764141817316567, 35.18668878192127 31.76414172860326, 35.186688731469616 31.764141644429767, 35.18668867301046 31.764141565606714, 35.18668860710678 31.764141492893216, 35.186688534393284 31.764141426989546, 35.186688455570234 31.764141368530385, 35.18668837139674 31.764141318078735, 35.186688282683434 31.764141276120466, 35.18668819028468 31.76414124305966, 35.186688095090325 31.764141219214718, 35.18668799801714 31.76414120481527, 35.1866879 31.764141199999997, 35.18668780198286 31.76414120481527, 35.18668770490968 31.764141219214718, 35.18668760971533 31.76414124305966, 35.18668751731657 31.764141276120466, 35.186687428603264 31.764141318078735, 35.18668734442977 31.764141368530385, 35.18668726560672 31.764141426989546, 35.186687192893224 31.764141492893216, 35.18668712698955 31.764141565606714, 35.18668706853039 31.764141644429767, 35.186687018078736 31.76414172860326, 35.18668697612047 31.764141817316567, 35.18668694305967 31.76414190971532, 35.18668691921472 31.764142004909676, 35.186686904815275 31.76414210198286, 35.186686900000005 31.7641422, 35.186686904815275 31.764142298017138, 35.18668691921472 31.76414239509032, 35.18668694305967 31.764142490284677, 35.18668697612047 31.76414258268343, 35.186687018078736 31.764142671396737, 35.18668706853039 31.76414275557023, 35.18668712698955 31.764142834393283, 35.186687192893224 31.76414290710678, 35.18668726560672 31.76414297301045, 35.18668734442977 31.76414303146961, 35.186687428603264 31.76414308192126, 35.18668751731657 31.76414312387953, 35.18668760971533 31.764143156940335, 35.18668770490968 31.76414318078528, 35.18668780198286 31.764143195184726, 35.1866879 31.7641432, 35.18668799801714 31.764143195184726, 35.186688095090325 31.76414318078528, 35.18668819028468 31.764143156940335, 35.186688282683434 31.76414312387953, 35.18668837139674 31.76414308192126, 35.186688455570234 31.76414303146961, 35.186688534393284 31.76414297301045, 35.18668860710678 31.76414290710678, 35.18668867301046 31.764142834393283, 35.186688731469616 31.76414275557023, 35.18668878192127 31.764142671396737, 35.186688823879535 31.76414258268343, 35.186688856940336 31.764142490284677, 35.18668888078528 31.76414239509032, 35.18668889518473 31.764142298017138, 35.1866889 31.7641422))\n",
      "POLYGON ((35.189424499999994 31.7789979, 35.189424495184724 31.77899780198286, 35.18942448078528 31.778997704909678, 35.18942445694033 31.778997609715322, 35.18942442387953 31.77899751731657, 35.18942438192126 31.77899742860326, 35.18942433146961 31.77899734442977, 35.18942427301045 31.778997265606716, 35.189424207106775 31.77899719289322, 35.18942413439328 31.778997126989548, 35.18942405557023 31.778997068530387, 35.189423971396735 31.778997018078737, 35.18942388268343 31.778996976120467, 35.18942379028467 31.778996943059663, 35.18942369509032 31.77899691921472, 35.189423598017136 31.778996904815273, 35.1894235 31.7789969, 35.18942340198286 31.778996904815273, 35.189423304909674 31.77899691921472, 35.18942320971532 31.778996943059663, 35.189423117316565 31.778996976120467, 35.18942302860326 31.778997018078737, 35.189422944429765 31.778997068530387, 35.189422865606716 31.778997126989548, 35.18942279289322 31.77899719289322, 35.18942272698954 31.778997265606716, 35.18942266853038 31.77899734442977, 35.18942261807873 31.77899742860326, 35.189422576120464 31.77899751731657, 35.18942254305966 31.778997609715322, 35.189422519214716 31.778997704909678, 35.18942250481527 31.77899780198286, 35.1894225 31.7789979, 35.18942250481527 31.77899799801714, 35.189422519214716 31.778998095090323, 35.18942254305966 31.77899819028468, 35.189422576120464 31.778998282683432, 35.18942261807873 31.77899837139674, 35.18942266853038 31.778998455570232, 35.18942272698954 31.778998534393285, 35.18942279289322 31.778998607106782, 35.189422865606716 31.778998673010452, 35.189422944429765 31.778998731469613, 35.18942302860326 31.778998781921263, 35.189423117316565 31.778998823879533, 35.18942320971532 31.778998856940337, 35.189423304909674 31.77899888078528, 35.18942340198286 31.778998895184728, 35.1894235 31.7789989, 35.189423598017136 31.778998895184728, 35.18942369509032 31.77899888078528, 35.18942379028467 31.778998856940337, 35.18942388268343 31.778998823879533, 35.189423971396735 31.778998781921263, 35.18942405557023 31.778998731469613, 35.18942413439328 31.778998673010452, 35.189424207106775 31.778998607106782, 35.18942427301045 31.778998534393285, 35.18942433146961 31.778998455570232, 35.18942438192126 31.77899837139674, 35.18942442387953 31.778998282683432, 35.18942445694033 31.77899819028468, 35.18942448078528 31.778998095090323, 35.189424495184724 31.77899799801714, 35.189424499999994 31.7789979))\n",
      "POLYGON ((35.203680899999995 31.7916556, 35.203680895184725 31.79165550198286, 35.20368088078528 31.791655404909676, 35.20368085694033 31.79165530971532, 35.20368082387953 31.791655217316567, 35.203680781921264 31.79165512860326, 35.20368073146961 31.791655044429767, 35.20368067301045 31.791654965606714, 35.203680607106776 31.791654892893217, 35.20368053439328 31.791654826989546, 35.20368045557023 31.791654768530385, 35.203680371396736 31.791654718078735, 35.20368028268343 31.791654676120466, 35.20368019028467 31.791654643059662, 35.20368009509032 31.791654619214718, 35.20367999801714 31.79165460481527, 35.2036799 31.791654599999998, 35.20367980198286 31.79165460481527, 35.203679704909675 31.791654619214718, 35.20367960971532 31.791654643059662, 35.203679517316566 31.791654676120466, 35.20367942860326 31.791654718078735, 35.203679344429766 31.791654768530385, 35.203679265606716 31.791654826989546, 35.20367919289322 31.791654892893217, 35.20367912698954 31.791654965606714, 35.203679068530384 31.791655044429767, 35.20367901807873 31.79165512860326, 35.203678976120464 31.791655217316567, 35.203678943059664 31.79165530971532, 35.20367891921472 31.791655404909676, 35.20367890481527 31.79165550198286, 35.2036789 31.7916556, 35.20367890481527 31.791655698017138, 35.20367891921472 31.79165579509032, 35.203678943059664 31.791655890284677, 35.203678976120464 31.79165598268343, 35.20367901807873 31.791656071396737, 35.203679068530384 31.79165615557023, 35.20367912698954 31.791656234393283, 35.20367919289322 31.79165630710678, 35.203679265606716 31.79165637301045, 35.203679344429766 31.79165643146961, 35.20367942860326 31.79165648192126, 35.203679517316566 31.79165652387953, 35.20367960971532 31.791656556940335, 35.203679704909675 31.79165658078528, 35.20367980198286 31.791656595184726, 35.2036799 31.7916566, 35.20367999801714 31.791656595184726, 35.20368009509032 31.79165658078528, 35.20368019028467 31.791656556940335, 35.20368028268343 31.79165652387953, 35.203680371396736 31.79165648192126, 35.20368045557023 31.79165643146961, 35.20368053439328 31.79165637301045, 35.203680607106776 31.79165630710678, 35.20368067301045 31.791656234393283, 35.20368073146961 31.79165615557023, 35.203680781921264 31.791656071396737, 35.20368082387953 31.79165598268343, 35.20368085694033 31.791655890284677, 35.20368088078528 31.79165579509032, 35.203680895184725 31.791655698017138, 35.203680899999995 31.7916556))\n",
      "POLYGON ((35.1969138 31.7778868, 35.19691379518473 31.77788670198286, 35.19691378078528 31.77788660490968, 35.19691375694033 31.777886509715323, 35.19691372387953 31.77788641731657, 35.19691368192127 31.777886328603262, 35.19691363146961 31.77788624442977, 35.196913573010455 31.777886165606716, 35.19691350710678 31.77788609289322, 35.19691343439328 31.77788602698955, 35.19691335557023 31.777885968530388, 35.19691327139674 31.777885918078738, 35.19691318268343 31.777885876120468, 35.196913090284674 31.777885843059664, 35.19691299509032 31.77788581921472, 35.19691289801714 31.777885804815273, 35.1969128 31.7778858, 35.19691270198286 31.777885804815273, 35.19691260490968 31.77788581921472, 35.196912509715325 31.777885843059664, 35.19691241731657 31.777885876120468, 35.19691232860326 31.777885918078738, 35.19691224442977 31.777885968530388, 35.19691216560672 31.77788602698955, 35.19691209289322 31.77788609289322, 35.196912026989544 31.777886165606716, 35.19691196853039 31.77788624442977, 35.19691191807873 31.777886328603262, 35.19691187612047 31.77788641731657, 35.19691184305967 31.777886509715323, 35.19691181921472 31.77788660490968, 35.19691180481527 31.77788670198286, 35.1969118 31.7778868, 35.19691180481527 31.77788689801714, 35.19691181921472 31.777886995090324, 35.19691184305967 31.77788709028468, 35.19691187612047 31.777887182683433, 35.19691191807873 31.77788727139674, 35.19691196853039 31.777887355570233, 35.196912026989544 31.777887434393286, 35.19691209289322 31.777887507106783, 35.19691216560672 31.777887573010453, 35.19691224442977 31.777887631469614, 35.19691232860326 31.777887681921264, 35.19691241731657 31.777887723879534, 35.196912509715325 31.777887756940338, 35.19691260490968 31.77788778078528, 35.19691270198286 31.77788779518473, 35.1969128 31.777887800000002, 35.19691289801714 31.77788779518473, 35.19691299509032 31.77788778078528, 35.196913090284674 31.777887756940338, 35.19691318268343 31.777887723879534, 35.19691327139674 31.777887681921264, 35.19691335557023 31.777887631469614, 35.19691343439328 31.777887573010453, 35.19691350710678 31.777887507106783, 35.196913573010455 31.777887434393286, 35.19691363146961 31.777887355570233, 35.19691368192127 31.77788727139674, 35.19691372387953 31.777887182683433, 35.19691375694033 31.77788709028468, 35.19691378078528 31.777886995090324, 35.19691379518473 31.77788689801714, 35.1969138 31.7778868))\n",
      "POLYGON ((35.2496739 31.7990943, 35.24967389518473 31.79909420198286, 35.24967388078528 31.799094104909678, 35.24967385694033 31.799094009715322, 35.24967382387953 31.79909391731657, 35.24967378192127 31.79909382860326, 35.24967373146961 31.79909374442977, 35.249673673010456 31.799093665606716, 35.24967360710678 31.799093592893218, 35.24967353439328 31.799093526989548, 35.24967345557023 31.799093468530387, 35.24967337139674 31.799093418078737, 35.24967328268343 31.799093376120467, 35.249673190284675 31.799093343059663, 35.24967309509032 31.79909331921472, 35.24967299801714 31.799093304815273, 35.2496729 31.7990933, 35.24967280198286 31.799093304815273, 35.24967270490968 31.79909331921472, 35.249672609715326 31.799093343059663, 35.24967251731657 31.799093376120467, 35.24967242860326 31.799093418078737, 35.24967234442977 31.799093468530387, 35.24967226560672 31.799093526989548, 35.24967219289322 31.799093592893218, 35.249672126989545 31.799093665606716, 35.24967206853039 31.79909374442977, 35.24967201807873 31.79909382860326, 35.24967197612047 31.79909391731657, 35.24967194305967 31.799094009715322, 35.24967191921472 31.799094104909678, 35.24967190481527 31.79909420198286, 35.2496719 31.7990943, 35.24967190481527 31.79909439801714, 35.24967191921472 31.799094495090323, 35.24967194305967 31.799094590284678, 35.24967197612047 31.79909468268343, 35.24967201807873 31.79909477139674, 35.24967206853039 31.79909485557023, 35.249672126989545 31.799094934393285, 35.24967219289322 31.799095007106782, 35.24967226560672 31.799095073010452, 35.24967234442977 31.799095131469613, 35.24967242860326 31.799095181921263, 35.24967251731657 31.799095223879533, 35.249672609715326 31.799095256940337, 35.24967270490968 31.79909528078528, 35.24967280198286 31.799095295184728, 35.2496729 31.7990953, 35.24967299801714 31.799095295184728, 35.24967309509032 31.79909528078528, 35.249673190284675 31.799095256940337, 35.24967328268343 31.799095223879533, 35.24967337139674 31.799095181921263, 35.24967345557023 31.799095131469613, 35.24967353439328 31.799095073010452, 35.24967360710678 31.799095007106782, 35.249673673010456 31.799094934393285, 35.24967373146961 31.79909485557023, 35.24967378192127 31.79909477139674, 35.24967382387953 31.79909468268343, 35.24967385694033 31.799094590284678, 35.24967388078528 31.799094495090323, 35.24967389518473 31.79909439801714, 35.2496739 31.7990943))\n",
      "POLYGON ((35.19439 31.7850583, 35.19438999518473 31.78505820198286, 35.19438998078528 31.785058104909677, 35.194389956940334 31.78505800971532, 35.194389923879534 31.785057917316568, 35.19438988192127 31.78505782860326, 35.194389831469614 31.785057744429768, 35.19438977301046 31.785057665606715, 35.19438970710678 31.785057592893217, 35.19438963439328 31.785057526989547, 35.19438955557023 31.785057468530386, 35.19438947139674 31.785057418078736, 35.19438938268343 31.785057376120466, 35.194389290284676 31.785057343059663, 35.194389195090324 31.78505731921472, 35.19438909801714 31.785057304815272, 35.194389 31.7850573, 35.19438890198286 31.785057304815272, 35.19438880490968 31.78505731921472, 35.19438870971533 31.785057343059663, 35.19438861731657 31.785057376120466, 35.19438852860326 31.785057418078736, 35.19438844442977 31.785057468530386, 35.19438836560672 31.785057526989547, 35.19438829289322 31.785057592893217, 35.194388226989545 31.785057665606715, 35.19438816853039 31.785057744429768, 35.194388118078734 31.78505782860326, 35.19438807612047 31.785057917316568, 35.19438804305967 31.78505800971532, 35.19438801921472 31.785058104909677, 35.19438800481527 31.78505820198286, 35.194388000000004 31.7850583, 35.19438800481527 31.78505839801714, 35.19438801921472 31.785058495090322, 35.19438804305967 31.785058590284677, 35.19438807612047 31.78505868268343, 35.194388118078734 31.785058771396738, 35.19438816853039 31.78505885557023, 35.194388226989545 31.785058934393284, 35.19438829289322 31.78505900710678, 35.19438836560672 31.78505907301045, 35.19438844442977 31.785059131469612, 35.19438852860326 31.785059181921262, 35.19438861731657 31.785059223879532, 35.19438870971533 31.785059256940336, 35.19438880490968 31.78505928078528, 35.19438890198286 31.785059295184727, 35.194389 31.7850593, 35.19438909801714 31.785059295184727, 35.194389195090324 31.78505928078528, 35.194389290284676 31.785059256940336, 35.19438938268343 31.785059223879532, 35.19438947139674 31.785059181921262, 35.19438955557023 31.785059131469612, 35.19438963439328 31.78505907301045, 35.19438970710678 31.78505900710678, 35.19438977301046 31.785058934393284, 35.194389831469614 31.78505885557023, 35.19438988192127 31.785058771396738, 35.194389923879534 31.78505868268343, 35.194389956940334 31.785058590284677, 35.19438998078528 31.785058495090322, 35.19438999518473 31.78505839801714, 35.19439 31.7850583))\n",
      "POLYGON ((35.1968276 31.762696, 35.19682759518473 31.76269590198286, 35.19682758078528 31.762695804909676, 35.196827556940335 31.76269570971532, 35.196827523879534 31.762695617316567, 35.19682748192127 31.76269552860326, 35.196827431469615 31.762695444429767, 35.19682737301046 31.762695365606714, 35.19682730710678 31.762695292893216, 35.19682723439328 31.762695226989546, 35.19682715557023 31.762695168530385, 35.19682707139674 31.762695118078735, 35.19682698268343 31.762695076120465, 35.196826890284676 31.76269504305966, 35.196826795090324 31.762695019214718, 35.19682669801714 31.76269500481527, 35.1968266 31.762694999999997, 35.19682650198286 31.76269500481527, 35.19682640490968 31.762695019214718, 35.19682630971533 31.76269504305966, 35.19682621731657 31.762695076120465, 35.19682612860326 31.762695118078735, 35.19682604442977 31.762695168530385, 35.19682596560672 31.762695226989546, 35.19682589289322 31.762695292893216, 35.196825826989546 31.762695365606714, 35.19682576853039 31.762695444429767, 35.196825718078735 31.76269552860326, 35.19682567612047 31.762695617316567, 35.19682564305967 31.76269570971532, 35.19682561921472 31.762695804909676, 35.196825604815274 31.76269590198286, 35.196825600000004 31.762696, 35.196825604815274 31.762696098017138, 35.19682561921472 31.76269619509032, 35.19682564305967 31.762696290284676, 35.19682567612047 31.76269638268343, 35.196825718078735 31.762696471396737, 35.19682576853039 31.76269655557023, 35.196825826989546 31.762696634393283, 35.19682589289322 31.76269670710678, 35.19682596560672 31.76269677301045, 35.19682604442977 31.76269683146961, 35.19682612860326 31.76269688192126, 35.19682621731657 31.76269692387953, 35.19682630971533 31.762696956940335, 35.19682640490968 31.76269698078528, 35.19682650198286 31.762696995184726, 35.1968266 31.762697, 35.19682669801714 31.762696995184726, 35.196826795090324 31.76269698078528, 35.196826890284676 31.762696956940335, 35.19682698268343 31.76269692387953, 35.19682707139674 31.76269688192126, 35.19682715557023 31.76269683146961, 35.19682723439328 31.76269677301045, 35.19682730710678 31.76269670710678, 35.19682737301046 31.762696634393283, 35.196827431469615 31.76269655557023, 35.19682748192127 31.762696471396737, 35.196827523879534 31.76269638268343, 35.196827556940335 31.762696290284676, 35.19682758078528 31.76269619509032, 35.19682759518473 31.762696098017138, 35.1968276 31.762696))\n",
      "POLYGON ((35.1829763 31.7514658, 35.18297629518473 31.75146570198286, 35.18297628078528 31.751465604909676, 35.182976256940336 31.75146550971532, 35.182976223879535 31.751465417316567, 35.18297618192127 31.75146532860326, 35.182976131469616 31.751465244429767, 35.18297607301046 31.751465165606714, 35.18297600710678 31.751465092893216, 35.18297593439328 31.751465026989546, 35.182975855570234 31.751464968530385, 35.18297577139674 31.751464918078735, 35.182975682683434 31.751464876120465, 35.18297559028468 31.75146484305966, 35.182975495090325 31.751464819214718, 35.18297539801714 31.75146480481527, 35.1829753 31.751464799999997, 35.18297520198286 31.75146480481527, 35.18297510490968 31.751464819214718, 35.18297500971533 31.75146484305966, 35.18297491731657 31.751464876120465, 35.182974828603264 31.751464918078735, 35.18297474442977 31.751464968530385, 35.18297466560672 31.751465026989546, 35.182974592893224 31.751465092893216, 35.18297452698955 31.751465165606714, 35.18297446853039 31.751465244429767, 35.182974418078736 31.75146532860326, 35.18297437612047 31.751465417316567, 35.18297434305967 31.75146550971532, 35.18297431921472 31.751465604909676, 35.182974304815275 31.75146570198286, 35.182974300000005 31.7514658, 35.182974304815275 31.751465898017138, 35.18297431921472 31.75146599509032, 35.18297434305967 31.751466090284676, 35.18297437612047 31.75146618268343, 35.182974418078736 31.751466271396737, 35.18297446853039 31.75146635557023, 35.18297452698955 31.751466434393283, 35.182974592893224 31.75146650710678, 35.18297466560672 31.75146657301045, 35.18297474442977 31.75146663146961, 35.182974828603264 31.75146668192126, 35.18297491731657 31.75146672387953, 35.18297500971533 31.751466756940335, 35.18297510490968 31.75146678078528, 35.18297520198286 31.751466795184726, 35.1829753 31.7514668, 35.18297539801714 31.751466795184726, 35.182975495090325 31.75146678078528, 35.18297559028468 31.751466756940335, 35.182975682683434 31.75146672387953, 35.18297577139674 31.75146668192126, 35.182975855570234 31.75146663146961, 35.18297593439328 31.75146657301045, 35.18297600710678 31.75146650710678, 35.18297607301046 31.751466434393283, 35.182976131469616 31.75146635557023, 35.18297618192127 31.751466271396737, 35.182976223879535 31.75146618268343, 35.182976256940336 31.751466090284676, 35.18297628078528 31.75146599509032, 35.18297629518473 31.751465898017138, 35.1829763 31.7514658))\n",
      "POLYGON ((35.2187749 31.8748922, 35.21877489518473 31.874892101982862, 35.21877488078528 31.87489200490968, 35.218774856940335 31.874891909715323, 35.218774823879535 31.87489181731657, 35.21877478192127 31.874891728603263, 35.218774731469615 31.87489164442977, 35.21877467301046 31.874891565606717, 35.21877460710678 31.87489149289322, 35.21877453439328 31.87489142698955, 35.218774455570234 31.87489136853039, 35.21877437139674 31.87489131807874, 35.218774282683434 31.87489127612047, 35.21877419028468 31.874891243059665, 35.218774095090325 31.87489121921472, 35.21877399801714 31.874891204815274, 35.2187739 31.8748912, 35.21877380198286 31.874891204815274, 35.21877370490968 31.87489121921472, 35.21877360971533 31.874891243059665, 35.21877351731657 31.87489127612047, 35.218773428603264 31.87489131807874, 35.21877334442977 31.87489136853039, 35.21877326560672 31.87489142698955, 35.218773192893224 31.87489149289322, 35.21877312698955 31.874891565606717, 35.21877306853039 31.87489164442977, 35.218773018078736 31.874891728603263, 35.21877297612047 31.87489181731657, 35.21877294305967 31.874891909715323, 35.21877291921472 31.87489200490968, 35.218772904815275 31.874892101982862, 35.218772900000005 31.8748922, 35.218772904815275 31.87489229801714, 35.21877291921472 31.874892395090324, 35.21877294305967 31.87489249028468, 35.21877297612047 31.874892582683433, 35.218773018078736 31.87489267139674, 35.21877306853039 31.874892755570233, 35.21877312698955 31.874892834393286, 35.218773192893224 31.874892907106783, 35.21877326560672 31.874892973010454, 35.21877334442977 31.874893031469615, 35.218773428603264 31.874893081921265, 35.21877351731657 31.874893123879534, 35.21877360971533 31.874893156940338, 35.21877370490968 31.874893180785282, 35.21877380198286 31.87489319518473, 35.2187739 31.874893200000002, 35.21877399801714 31.87489319518473, 35.218774095090325 31.874893180785282, 35.21877419028468 31.874893156940338, 35.218774282683434 31.874893123879534, 35.21877437139674 31.874893081921265, 35.218774455570234 31.874893031469615, 35.21877453439328 31.874892973010454, 35.21877460710678 31.874892907106783, 35.21877467301046 31.874892834393286, 35.218774731469615 31.874892755570233, 35.21877478192127 31.87489267139674, 35.218774823879535 31.874892582683433, 35.218774856940335 31.87489249028468, 35.21877488078528 31.874892395090324, 35.21877489518473 31.87489229801714, 35.2187749 31.8748922))\n",
      "POLYGON ((35.2277311 31.8248703, 35.22773109518473 31.82487020198286, 35.22773108078528 31.824870104909678, 35.227731056940335 31.824870009715323, 35.227731023879535 31.82486991731657, 35.22773098192127 31.824869828603262, 35.227730931469615 31.82486974442977, 35.22773087301046 31.824869665606716, 35.22773080710678 31.82486959289322, 35.22773073439328 31.82486952698955, 35.227730655570234 31.824869468530387, 35.22773057139674 31.824869418078737, 35.227730482683434 31.824869376120468, 35.22773039028468 31.824869343059664, 35.227730295090325 31.82486931921472, 35.22773019801714 31.824869304815273, 35.2277301 31.8248693, 35.22773000198286 31.824869304815273, 35.22772990490968 31.82486931921472, 35.22772980971533 31.824869343059664, 35.22772971731657 31.824869376120468, 35.227729628603264 31.824869418078737, 35.22772954442977 31.824869468530387, 35.22772946560672 31.82486952698955, 35.227729392893224 31.82486959289322, 35.22772932698955 31.824869665606716, 35.22772926853039 31.82486974442977, 35.227729218078736 31.824869828603262, 35.22772917612047 31.82486991731657, 35.22772914305967 31.824870009715323, 35.22772911921472 31.824870104909678, 35.227729104815275 31.82487020198286, 35.227729100000005 31.8248703, 35.227729104815275 31.82487039801714, 35.22772911921472 31.824870495090323, 35.22772914305967 31.82487059028468, 35.22772917612047 31.824870682683432, 35.227729218078736 31.82487077139674, 35.22772926853039 31.824870855570232, 35.22772932698955 31.824870934393285, 35.227729392893224 31.824871007106783, 35.22772946560672 31.824871073010453, 35.22772954442977 31.824871131469614, 35.227729628603264 31.824871181921264, 35.22772971731657 31.824871223879533, 35.22772980971533 31.824871256940337, 35.22772990490968 31.82487128078528, 35.22773000198286 31.824871295184728, 35.2277301 31.8248713, 35.22773019801714 31.824871295184728, 35.227730295090325 31.82487128078528, 35.22773039028468 31.824871256940337, 35.227730482683434 31.824871223879533, 35.22773057139674 31.824871181921264, 35.227730655570234 31.824871131469614, 35.22773073439328 31.824871073010453, 35.22773080710678 31.824871007106783, 35.22773087301046 31.824870934393285, 35.227730931469615 31.824870855570232, 35.22773098192127 31.82487077139674, 35.227731023879535 31.824870682683432, 35.227731056940335 31.82487059028468, 35.22773108078528 31.824870495090323, 35.22773109518473 31.82487039801714, 35.2277311 31.8248703))\n",
      "POLYGON ((35.2352114 31.8107643, 35.23521139518473 31.81076420198286, 35.23521138078528 31.810764104909676, 35.23521135694033 31.81076400971532, 35.23521132387953 31.810763917316567, 35.235211281921266 31.81076382860326, 35.23521123146961 31.810763744429767, 35.235211173010455 31.810763665606714, 35.23521110710678 31.810763592893217, 35.23521103439328 31.810763526989547, 35.23521095557023 31.810763468530386, 35.23521087139674 31.810763418078736, 35.23521078268343 31.810763376120466, 35.235210690284674 31.810763343059662, 35.23521059509032 31.81076331921472, 35.23521049801714 31.81076330481527, 35.2352104 31.810763299999998, 35.23521030198286 31.81076330481527, 35.23521020490968 31.81076331921472, 35.235210109715325 31.810763343059662, 35.23521001731657 31.810763376120466, 35.23520992860326 31.810763418078736, 35.23520984442977 31.810763468530386, 35.23520976560672 31.810763526989547, 35.23520969289322 31.810763592893217, 35.235209626989544 31.810763665606714, 35.23520956853039 31.810763744429767, 35.23520951807873 31.81076382860326, 35.23520947612047 31.810763917316567, 35.23520944305967 31.81076400971532, 35.23520941921472 31.810764104909676, 35.23520940481527 31.81076420198286, 35.2352094 31.8107643, 35.23520940481527 31.810764398017138, 35.23520941921472 31.81076449509032, 35.23520944305967 31.810764590284677, 35.23520947612047 31.81076468268343, 35.23520951807873 31.810764771396737, 35.23520956853039 31.81076485557023, 35.235209626989544 31.810764934393283, 35.23520969289322 31.81076500710678, 35.23520976560672 31.81076507301045, 35.23520984442977 31.810765131469612, 35.23520992860326 31.810765181921262, 35.23521001731657 31.81076522387953, 35.235210109715325 31.810765256940336, 35.23521020490968 31.81076528078528, 35.23521030198286 31.810765295184726, 35.2352104 31.8107653, 35.23521049801714 31.810765295184726, 35.23521059509032 31.81076528078528, 35.235210690284674 31.810765256940336, 35.23521078268343 31.81076522387953, 35.23521087139674 31.810765181921262, 35.23521095557023 31.810765131469612, 35.23521103439328 31.81076507301045, 35.23521110710678 31.81076500710678, 35.235211173010455 31.810764934393283, 35.23521123146961 31.81076485557023, 35.235211281921266 31.810764771396737, 35.23521132387953 31.81076468268343, 35.23521135694033 31.810764590284677, 35.23521138078528 31.81076449509032, 35.23521139518473 31.810764398017138, 35.2352114 31.8107643))\n",
      "POLYGON ((35.231434899999996 31.7379075, 35.23143489518473 31.73790740198286, 35.23143488078528 31.737907304909676, 35.23143485694033 31.73790720971532, 35.23143482387953 31.737907117316567, 35.231434781921266 31.73790702860326, 35.23143473146961 31.737906944429767, 35.231434673010455 31.737906865606714, 35.23143460710678 31.737906792893217, 35.23143453439328 31.737906726989547, 35.23143445557023 31.737906668530385, 35.23143437139674 31.737906618078735, 35.23143428268343 31.737906576120466, 35.23143419028467 31.737906543059662, 35.23143409509032 31.737906519214718, 35.23143399801714 31.73790650481527, 35.2314339 31.737906499999998, 35.23143380198286 31.73790650481527, 35.231433704909676 31.737906519214718, 35.231433609715324 31.737906543059662, 35.23143351731657 31.737906576120466, 35.23143342860326 31.737906618078735, 35.23143334442977 31.737906668530385, 35.23143326560672 31.737906726989547, 35.23143319289322 31.737906792893217, 35.23143312698954 31.737906865606714, 35.231433068530386 31.737906944429767, 35.23143301807873 31.73790702860326, 35.231432976120466 31.737907117316567, 35.231432943059666 31.73790720971532, 35.23143291921472 31.737907304909676, 35.23143290481527 31.73790740198286, 35.2314329 31.7379075, 35.23143290481527 31.737907598017138, 35.23143291921472 31.73790769509032, 35.231432943059666 31.737907790284677, 35.231432976120466 31.73790788268343, 35.23143301807873 31.737907971396737, 35.231433068530386 31.73790805557023, 35.23143312698954 31.737908134393283, 35.23143319289322 31.73790820710678, 35.23143326560672 31.73790827301045, 35.23143334442977 31.73790833146961, 35.23143342860326 31.73790838192126, 35.23143351731657 31.73790842387953, 35.231433609715324 31.737908456940335, 35.231433704909676 31.73790848078528, 35.23143380198286 31.737908495184726, 35.2314339 31.7379085, 35.23143399801714 31.737908495184726, 35.23143409509032 31.73790848078528, 35.23143419028467 31.737908456940335, 35.23143428268343 31.73790842387953, 35.23143437139674 31.73790838192126, 35.23143445557023 31.73790833146961, 35.23143453439328 31.73790827301045, 35.23143460710678 31.73790820710678, 35.231434673010455 31.737908134393283, 35.23143473146961 31.73790805557023, 35.231434781921266 31.737907971396737, 35.23143482387953 31.73790788268343, 35.23143485694033 31.737907790284677, 35.23143488078528 31.73790769509032, 35.23143489518473 31.737907598017138, 35.231434899999996 31.7379075))\n",
      "POLYGON ((35.2062527 31.7441489, 35.20625269518473 31.74414880198286, 35.20625268078528 31.744148704909676, 35.206252656940336 31.74414860971532, 35.206252623879536 31.744148517316567, 35.20625258192127 31.74414842860326, 35.206252531469616 31.744148344429767, 35.20625247301046 31.744148265606714, 35.20625240710678 31.744148192893217, 35.206252334393284 31.744148126989547, 35.206252255570234 31.744148068530386, 35.20625217139674 31.744148018078736, 35.206252082683434 31.744147976120466, 35.20625199028468 31.744147943059662, 35.206251895090325 31.74414791921472, 35.20625179801714 31.74414790481527, 35.2062517 31.744147899999998, 35.20625160198286 31.74414790481527, 35.20625150490968 31.74414791921472, 35.20625140971533 31.744147943059662, 35.20625131731657 31.744147976120466, 35.206251228603264 31.744148018078736, 35.20625114442977 31.744148068530386, 35.20625106560672 31.744148126989547, 35.206250992893224 31.744148192893217, 35.20625092698955 31.744148265606714, 35.20625086853039 31.744148344429767, 35.206250818078736 31.74414842860326, 35.20625077612047 31.744148517316567, 35.20625074305967 31.74414860971532, 35.20625071921472 31.744148704909676, 35.206250704815275 31.74414880198286, 35.206250700000005 31.7441489, 35.206250704815275 31.74414899801714, 35.20625071921472 31.74414909509032, 35.20625074305967 31.744149190284677, 35.20625077612047 31.74414928268343, 35.206250818078736 31.744149371396738, 35.20625086853039 31.74414945557023, 35.20625092698955 31.744149534393284, 35.206250992893224 31.74414960710678, 35.20625106560672 31.74414967301045, 35.20625114442977 31.744149731469612, 35.206251228603264 31.744149781921262, 35.20625131731657 31.744149823879532, 35.20625140971533 31.744149856940336, 35.20625150490968 31.74414988078528, 35.20625160198286 31.744149895184727, 35.2062517 31.7441499, 35.20625179801714 31.744149895184727, 35.206251895090325 31.74414988078528, 35.20625199028468 31.744149856940336, 35.206252082683434 31.744149823879532, 35.20625217139674 31.744149781921262, 35.206252255570234 31.744149731469612, 35.206252334393284 31.74414967301045, 35.20625240710678 31.74414960710678, 35.20625247301046 31.744149534393284, 35.206252531469616 31.74414945557023, 35.20625258192127 31.744149371396738, 35.206252623879536 31.74414928268343, 35.206252656940336 31.744149190284677, 35.20625268078528 31.74414909509032, 35.20625269518473 31.74414899801714, 35.2062527 31.7441489))\n",
      "POLYGON ((35.2319536 31.7782872, 35.23195359518473 31.778287101982862, 35.23195358078528 31.77828700490968, 35.23195355694033 31.778286909715323, 35.23195352387953 31.77828681731657, 35.231953481921266 31.778286728603263, 35.23195343146961 31.77828664442977, 35.231953373010455 31.778286565606717, 35.23195330710678 31.77828649289322, 35.23195323439328 31.77828642698955, 35.23195315557023 31.778286368530388, 35.23195307139674 31.778286318078738, 35.23195298268343 31.77828627612047, 35.231952890284674 31.778286243059664, 35.23195279509032 31.77828621921472, 35.23195269801714 31.778286204815274, 35.2319526 31.7782862, 35.23195250198286 31.778286204815274, 35.23195240490968 31.77828621921472, 35.231952309715325 31.778286243059664, 35.23195221731657 31.77828627612047, 35.23195212860326 31.778286318078738, 35.23195204442977 31.778286368530388, 35.23195196560672 31.77828642698955, 35.23195189289322 31.77828649289322, 35.231951826989544 31.778286565606717, 35.23195176853039 31.77828664442977, 35.23195171807873 31.778286728603263, 35.23195167612047 31.77828681731657, 35.231951643059666 31.778286909715323, 35.23195161921472 31.77828700490968, 35.23195160481527 31.778287101982862, 35.2319516 31.7782872, 35.23195160481527 31.77828729801714, 35.23195161921472 31.778287395090324, 35.231951643059666 31.77828749028468, 35.23195167612047 31.778287582683433, 35.23195171807873 31.77828767139674, 35.23195176853039 31.778287755570233, 35.231951826989544 31.778287834393286, 35.23195189289322 31.778287907106783, 35.23195196560672 31.778287973010453, 35.23195204442977 31.778288031469614, 35.23195212860326 31.778288081921264, 35.23195221731657 31.778288123879534, 35.231952309715325 31.778288156940338, 35.23195240490968 31.77828818078528, 35.23195250198286 31.77828819518473, 35.2319526 31.778288200000002, 35.23195269801714 31.77828819518473, 35.23195279509032 31.77828818078528, 35.231952890284674 31.778288156940338, 35.23195298268343 31.778288123879534, 35.23195307139674 31.778288081921264, 35.23195315557023 31.778288031469614, 35.23195323439328 31.778287973010453, 35.23195330710678 31.778287907106783, 35.231953373010455 31.778287834393286, 35.23195343146961 31.778287755570233, 35.231953481921266 31.77828767139674, 35.23195352387953 31.778287582683433, 35.23195355694033 31.77828749028468, 35.23195358078528 31.778287395090324, 35.23195359518473 31.77828729801714, 35.2319536 31.7782872))\n",
      "POLYGON ((35.2485728 31.821263, 35.24857279518473 31.82126290198286, 35.24857278078528 31.821262804909676, 35.248572756940334 31.82126270971532, 35.24857272387953 31.821262617316567, 35.24857268192127 31.82126252860326, 35.248572631469614 31.821262444429767, 35.248572573010456 31.821262365606714, 35.24857250710678 31.821262292893216, 35.24857243439328 31.821262226989546, 35.24857235557023 31.821262168530385, 35.24857227139674 31.821262118078735, 35.24857218268343 31.821262076120465, 35.248572090284675 31.82126204305966, 35.24857199509032 31.821262019214718, 35.24857189801714 31.82126200481527, 35.2485718 31.821261999999997, 35.24857170198286 31.82126200481527, 35.24857160490968 31.821262019214718, 35.248571509715326 31.82126204305966, 35.24857141731657 31.821262076120465, 35.24857132860326 31.821262118078735, 35.24857124442977 31.821262168530385, 35.24857116560672 31.821262226989546, 35.24857109289322 31.821262292893216, 35.248571026989545 31.821262365606714, 35.24857096853039 31.821262444429767, 35.248570918078734 31.82126252860326, 35.24857087612047 31.821262617316567, 35.24857084305967 31.82126270971532, 35.24857081921472 31.821262804909676, 35.24857080481527 31.82126290198286, 35.2485708 31.821263, 35.24857080481527 31.821263098017138, 35.24857081921472 31.82126319509032, 35.24857084305967 31.821263290284676, 35.24857087612047 31.82126338268343, 35.248570918078734 31.821263471396737, 35.24857096853039 31.82126355557023, 35.248571026989545 31.821263634393283, 35.24857109289322 31.82126370710678, 35.24857116560672 31.82126377301045, 35.24857124442977 31.82126383146961, 35.24857132860326 31.82126388192126, 35.24857141731657 31.82126392387953, 35.248571509715326 31.821263956940335, 35.24857160490968 31.82126398078528, 35.24857170198286 31.821263995184726, 35.2485718 31.821264, 35.24857189801714 31.821263995184726, 35.24857199509032 31.82126398078528, 35.248572090284675 31.821263956940335, 35.24857218268343 31.82126392387953, 35.24857227139674 31.82126388192126, 35.24857235557023 31.82126383146961, 35.24857243439328 31.82126377301045, 35.24857250710678 31.82126370710678, 35.248572573010456 31.821263634393283, 35.248572631469614 31.82126355557023, 35.24857268192127 31.821263471396737, 35.24857272387953 31.82126338268343, 35.248572756940334 31.821263290284676, 35.24857278078528 31.82126319509032, 35.24857279518473 31.821263098017138, 35.2485728 31.821263))\n",
      "POLYGON ((35.1954948 31.81561, 35.19549479518473 31.81560990198286, 35.19549478078528 31.815609804909677, 35.195494756940334 31.81560970971532, 35.195494723879534 31.815609617316568, 35.19549468192127 31.81560952860326, 35.195494631469614 31.815609444429768, 35.19549457301046 31.815609365606715, 35.19549450710678 31.815609292893217, 35.19549443439328 31.815609226989547, 35.19549435557023 31.815609168530386, 35.19549427139674 31.815609118078736, 35.19549418268343 31.815609076120467, 35.195494090284676 31.815609043059663, 35.195493995090324 31.81560901921472, 35.19549389801714 31.815609004815272, 35.1954938 31.815609, 35.19549370198286 31.815609004815272, 35.19549360490968 31.81560901921472, 35.19549350971533 31.815609043059663, 35.19549341731657 31.815609076120467, 35.19549332860326 31.815609118078736, 35.19549324442977 31.815609168530386, 35.19549316560672 31.815609226989547, 35.19549309289322 31.815609292893217, 35.195493026989546 31.815609365606715, 35.19549296853039 31.815609444429768, 35.195492918078735 31.81560952860326, 35.19549287612047 31.815609617316568, 35.19549284305967 31.81560970971532, 35.19549281921472 31.815609804909677, 35.195492804815274 31.81560990198286, 35.195492800000004 31.81561, 35.195492804815274 31.81561009801714, 35.19549281921472 31.815610195090322, 35.19549284305967 31.815610290284678, 35.19549287612047 31.81561038268343, 35.195492918078735 31.815610471396738, 35.19549296853039 31.81561055557023, 35.195493026989546 31.815610634393284, 35.19549309289322 31.81561070710678, 35.19549316560672 31.81561077301045, 35.19549324442977 31.815610831469613, 35.19549332860326 31.815610881921263, 35.19549341731657 31.815610923879532, 35.19549350971533 31.815610956940336, 35.19549360490968 31.81561098078528, 35.19549370198286 31.815610995184727, 35.1954938 31.815611, 35.19549389801714 31.815610995184727, 35.195493995090324 31.81561098078528, 35.195494090284676 31.815610956940336, 35.19549418268343 31.815610923879532, 35.19549427139674 31.815610881921263, 35.19549435557023 31.815610831469613, 35.19549443439328 31.81561077301045, 35.19549450710678 31.81561070710678, 35.19549457301046 31.815610634393284, 35.195494631469614 31.81561055557023, 35.19549468192127 31.815610471396738, 35.195494723879534 31.81561038268343, 35.195494756940334 31.815610290284678, 35.19549478078528 31.815610195090322, 35.19549479518473 31.81561009801714, 35.1954948 31.81561))\n",
      "POLYGON ((35.2212823 31.7257259, 35.22128229518473 31.72572580198286, 35.22128228078528 31.725725704909678, 35.221282256940334 31.725725609715322, 35.221282223879534 31.72572551731657, 35.22128218192127 31.725725428603262, 35.221282131469614 31.72572534442977, 35.22128207301046 31.725725265606716, 35.22128200710678 31.72572519289322, 35.22128193439328 31.72572512698955, 35.22128185557023 31.725725068530387, 35.22128177139674 31.725725018078737, 35.22128168268343 31.725724976120468, 35.221281590284676 31.725724943059664, 35.221281495090324 31.72572491921472, 35.22128139801714 31.725724904815273, 35.2212813 31.7257249, 35.22128120198286 31.725724904815273, 35.22128110490968 31.72572491921472, 35.22128100971533 31.725724943059664, 35.22128091731657 31.725724976120468, 35.22128082860326 31.725725018078737, 35.22128074442977 31.725725068530387, 35.22128066560672 31.72572512698955, 35.22128059289322 31.72572519289322, 35.221280526989545 31.725725265606716, 35.22128046853039 31.72572534442977, 35.221280418078734 31.725725428603262, 35.22128037612047 31.72572551731657, 35.22128034305967 31.725725609715322, 35.22128031921472 31.725725704909678, 35.221280304815274 31.72572580198286, 35.221280300000004 31.7257259, 35.221280304815274 31.72572599801714, 35.22128031921472 31.725726095090323, 35.22128034305967 31.72572619028468, 35.22128037612047 31.725726282683432, 35.221280418078734 31.72572637139674, 35.22128046853039 31.725726455570232, 35.221280526989545 31.725726534393285, 35.22128059289322 31.725726607106782, 35.22128066560672 31.725726673010453, 35.22128074442977 31.725726731469614, 35.22128082860326 31.725726781921264, 35.22128091731657 31.725726823879533, 35.22128100971533 31.725726856940337, 35.22128110490968 31.72572688078528, 35.22128120198286 31.725726895184728, 35.2212813 31.7257269, 35.22128139801714 31.725726895184728, 35.221281495090324 31.72572688078528, 35.221281590284676 31.725726856940337, 35.22128168268343 31.725726823879533, 35.22128177139674 31.725726781921264, 35.22128185557023 31.725726731469614, 35.22128193439328 31.725726673010453, 35.22128200710678 31.725726607106782, 35.22128207301046 31.725726534393285, 35.221282131469614 31.725726455570232, 35.22128218192127 31.72572637139674, 35.221282223879534 31.725726282683432, 35.221282256940334 31.72572619028468, 35.22128228078528 31.725726095090323, 35.22128229518473 31.72572599801714, 35.2212823 31.7257259))\n",
      "POLYGON ((35.2120787 31.7748, 35.21207869518473 31.77479990198286, 35.21207868078528 31.774799804909676, 35.212078656940335 31.77479970971532, 35.212078623879535 31.774799617316567, 35.21207858192127 31.77479952860326, 35.212078531469615 31.774799444429767, 35.21207847301046 31.774799365606714, 35.21207840710678 31.774799292893217, 35.21207833439328 31.774799226989547, 35.21207825557023 31.774799168530386, 35.21207817139674 31.774799118078736, 35.21207808268343 31.774799076120466, 35.212077990284676 31.774799043059662, 35.212077895090324 31.77479901921472, 35.21207779801714 31.77479900481527, 35.2120777 31.774798999999998, 35.21207760198286 31.77479900481527, 35.21207750490968 31.77479901921472, 35.21207740971533 31.774799043059662, 35.21207731731657 31.774799076120466, 35.21207722860326 31.774799118078736, 35.21207714442977 31.774799168530386, 35.21207706560672 31.774799226989547, 35.21207699289322 31.774799292893217, 35.212076926989546 31.774799365606714, 35.21207686853039 31.774799444429767, 35.212076818078735 31.77479952860326, 35.21207677612047 31.774799617316567, 35.21207674305967 31.77479970971532, 35.21207671921472 31.774799804909676, 35.212076704815274 31.77479990198286, 35.212076700000004 31.7748, 35.212076704815274 31.77480009801714, 35.21207671921472 31.77480019509032, 35.21207674305967 31.774800290284677, 35.21207677612047 31.77480038268343, 35.212076818078735 31.774800471396738, 35.21207686853039 31.77480055557023, 35.212076926989546 31.774800634393284, 35.21207699289322 31.77480070710678, 35.21207706560672 31.77480077301045, 35.21207714442977 31.774800831469612, 35.21207722860326 31.774800881921262, 35.21207731731657 31.774800923879532, 35.21207740971533 31.774800956940336, 35.21207750490968 31.77480098078528, 35.21207760198286 31.774800995184727, 35.2120777 31.774801, 35.21207779801714 31.774800995184727, 35.212077895090324 31.77480098078528, 35.212077990284676 31.774800956940336, 35.21207808268343 31.774800923879532, 35.21207817139674 31.774800881921262, 35.21207825557023 31.774800831469612, 35.21207833439328 31.77480077301045, 35.21207840710678 31.77480070710678, 35.21207847301046 31.774800634393284, 35.212078531469615 31.77480055557023, 35.21207858192127 31.774800471396738, 35.212078623879535 31.77480038268343, 35.212078656940335 31.774800290284677, 35.21207868078528 31.77480019509032, 35.21207869518473 31.77480009801714, 35.2120787 31.7748))\n",
      "POLYGON ((35.1867758 31.7311395, 35.18677579518473 31.731139401982862, 35.18677578078528 31.73113930490968, 35.186775756940335 31.731139209715323, 35.186775723879535 31.73113911731657, 35.18677568192127 31.731139028603263, 35.186775631469615 31.73113894442977, 35.18677557301046 31.731138865606717, 35.18677550710678 31.73113879289322, 35.18677543439328 31.73113872698955, 35.186775355570234 31.731138668530388, 35.18677527139674 31.731138618078738, 35.186775182683434 31.73113857612047, 35.18677509028468 31.731138543059664, 35.186774995090325 31.73113851921472, 35.18677489801714 31.731138504815274, 35.1867748 31.7311385, 35.18677470198286 31.731138504815274, 35.18677460490968 31.73113851921472, 35.18677450971533 31.731138543059664, 35.18677441731657 31.73113857612047, 35.18677432860326 31.731138618078738, 35.18677424442977 31.731138668530388, 35.18677416560672 31.73113872698955, 35.186774092893224 31.73113879289322, 35.186774026989546 31.731138865606717, 35.18677396853039 31.73113894442977, 35.186773918078735 31.731139028603263, 35.18677387612047 31.73113911731657, 35.18677384305967 31.731139209715323, 35.18677381921472 31.73113930490968, 35.186773804815275 31.731139401982862, 35.186773800000005 31.7311395, 35.186773804815275 31.73113959801714, 35.18677381921472 31.731139695090324, 35.18677384305967 31.73113979028468, 35.18677387612047 31.731139882683433, 35.186773918078735 31.73113997139674, 35.18677396853039 31.731140055570233, 35.186774026989546 31.731140134393286, 35.186774092893224 31.731140207106783, 35.18677416560672 31.731140273010453, 35.18677424442977 31.731140331469614, 35.18677432860326 31.731140381921264, 35.18677441731657 31.731140423879534, 35.18677450971533 31.731140456940338, 35.18677460490968 31.73114048078528, 35.18677470198286 31.73114049518473, 35.1867748 31.731140500000002, 35.18677489801714 31.73114049518473, 35.186774995090325 31.73114048078528, 35.18677509028468 31.731140456940338, 35.186775182683434 31.731140423879534, 35.18677527139674 31.731140381921264, 35.186775355570234 31.731140331469614, 35.18677543439328 31.731140273010453, 35.18677550710678 31.731140207106783, 35.18677557301046 31.731140134393286, 35.186775631469615 31.731140055570233, 35.18677568192127 31.73113997139674, 35.186775723879535 31.731139882683433, 35.186775756940335 31.73113979028468, 35.18677578078528 31.731139695090324, 35.18677579518473 31.73113959801714, 35.1867758 31.7311395))\n",
      "POLYGON ((35.1811149 31.7625073, 35.18111489518473 31.76250720198286, 35.18111488078528 31.762507104909677, 35.18111485694033 31.76250700971532, 35.18111482387953 31.762506917316568, 35.181114781921266 31.76250682860326, 35.18111473146961 31.762506744429768, 35.181114673010455 31.762506665606715, 35.18111460710678 31.762506592893217, 35.18111453439328 31.762506526989547, 35.18111445557023 31.762506468530386, 35.18111437139674 31.762506418078736, 35.18111428268343 31.762506376120466, 35.181114190284674 31.762506343059663, 35.18111409509032 31.76250631921472, 35.18111399801714 31.762506304815272, 35.1811139 31.7625063, 35.18111380198286 31.762506304815272, 35.18111370490968 31.76250631921472, 35.181113609715325 31.762506343059663, 35.18111351731657 31.762506376120466, 35.18111342860326 31.762506418078736, 35.18111334442977 31.762506468530386, 35.18111326560672 31.762506526989547, 35.18111319289322 31.762506592893217, 35.181113126989544 31.762506665606715, 35.18111306853039 31.762506744429768, 35.18111301807873 31.76250682860326, 35.18111297612047 31.762506917316568, 35.18111294305967 31.76250700971532, 35.18111291921472 31.762507104909677, 35.18111290481527 31.76250720198286, 35.1811129 31.7625073, 35.18111290481527 31.76250739801714, 35.18111291921472 31.762507495090322, 35.18111294305967 31.762507590284677, 35.18111297612047 31.76250768268343, 35.18111301807873 31.762507771396738, 35.18111306853039 31.76250785557023, 35.181113126989544 31.762507934393284, 35.18111319289322 31.76250800710678, 35.18111326560672 31.76250807301045, 35.18111334442977 31.762508131469612, 35.18111342860326 31.762508181921262, 35.18111351731657 31.762508223879532, 35.181113609715325 31.762508256940336, 35.18111370490968 31.76250828078528, 35.18111380198286 31.762508295184727, 35.1811139 31.7625083, 35.18111399801714 31.762508295184727, 35.18111409509032 31.76250828078528, 35.181114190284674 31.762508256940336, 35.18111428268343 31.762508223879532, 35.18111437139674 31.762508181921262, 35.18111445557023 31.762508131469612, 35.18111453439328 31.76250807301045, 35.18111460710678 31.76250800710678, 35.181114673010455 31.762507934393284, 35.18111473146961 31.76250785557023, 35.181114781921266 31.762507771396738, 35.18111482387953 31.76250768268343, 35.18111485694033 31.762507590284677, 35.18111488078528 31.762507495090322, 35.18111489518473 31.76250739801714, 35.1811149 31.7625073))\n",
      "POLYGON ((35.209703299999994 31.8016529, 35.209703295184724 31.80165280198286, 35.20970328078528 31.801652704909678, 35.20970325694033 31.801652609715322, 35.20970322387953 31.80165251731657, 35.20970318192126 31.801652428603262, 35.20970313146961 31.80165234442977, 35.20970307301045 31.801652265606716, 35.209703007106775 31.80165219289322, 35.20970293439328 31.80165212698955, 35.20970285557023 31.801652068530387, 35.209702771396735 31.801652018078737, 35.20970268268343 31.801651976120468, 35.20970259028467 31.801651943059664, 35.20970249509032 31.80165191921472, 35.209702398017136 31.801651904815273, 35.2097023 31.8016519, 35.20970220198286 31.801651904815273, 35.209702104909674 31.80165191921472, 35.20970200971532 31.801651943059664, 35.209701917316565 31.801651976120468, 35.20970182860326 31.801652018078737, 35.209701744429765 31.801652068530387, 35.209701665606715 31.80165212698955, 35.20970159289322 31.80165219289322, 35.20970152698954 31.801652265606716, 35.20970146853038 31.80165234442977, 35.20970141807873 31.801652428603262, 35.209701376120464 31.80165251731657, 35.20970134305966 31.801652609715322, 35.209701319214716 31.801652704909678, 35.20970130481527 31.80165280198286, 35.2097013 31.8016529, 35.20970130481527 31.80165299801714, 35.209701319214716 31.801653095090323, 35.20970134305966 31.80165319028468, 35.209701376120464 31.801653282683432, 35.20970141807873 31.80165337139674, 35.20970146853038 31.801653455570232, 35.20970152698954 31.801653534393285, 35.20970159289322 31.801653607106783, 35.209701665606715 31.801653673010453, 35.209701744429765 31.801653731469614, 35.20970182860326 31.801653781921264, 35.209701917316565 31.801653823879533, 35.20970200971532 31.801653856940337, 35.209702104909674 31.80165388078528, 35.20970220198286 31.801653895184728, 35.2097023 31.8016539, 35.209702398017136 31.801653895184728, 35.20970249509032 31.80165388078528, 35.20970259028467 31.801653856940337, 35.20970268268343 31.801653823879533, 35.209702771396735 31.801653781921264, 35.20970285557023 31.801653731469614, 35.20970293439328 31.801653673010453, 35.209703007106775 31.801653607106783, 35.20970307301045 31.801653534393285, 35.20970313146961 31.801653455570232, 35.20970318192126 31.80165337139674, 35.20970322387953 31.801653282683432, 35.20970325694033 31.80165319028468, 35.20970328078528 31.801653095090323, 35.209703295184724 31.80165299801714, 35.209703299999994 31.8016529))\n",
      "POLYGON ((35.218711 31.85492, 35.21871099518473 31.85491990198286, 35.21871098078528 31.854919804909677, 35.218710956940335 31.854919709715322, 35.218710923879534 31.85491961731657, 35.21871088192127 31.85491952860326, 35.218710831469615 31.85491944442977, 35.21871077301046 31.854919365606715, 35.21871070710678 31.854919292893218, 35.21871063439328 31.854919226989548, 35.21871055557023 31.854919168530387, 35.21871047139674 31.854919118078737, 35.21871038268343 31.854919076120467, 35.218710290284676 31.854919043059663, 35.218710195090324 31.85491901921472, 35.21871009801714 31.854919004815272, 35.21871 31.854919, 35.21870990198286 31.854919004815272, 35.21870980490968 31.85491901921472, 35.21870970971533 31.854919043059663, 35.21870961731657 31.854919076120467, 35.21870952860326 31.854919118078737, 35.21870944442977 31.854919168530387, 35.21870936560672 31.854919226989548, 35.21870929289322 31.854919292893218, 35.218709226989546 31.854919365606715, 35.21870916853039 31.85491944442977, 35.218709118078735 31.85491952860326, 35.21870907612047 31.85491961731657, 35.21870904305967 31.854919709715322, 35.21870901921472 31.854919804909677, 35.218709004815274 31.85491990198286, 35.218709000000004 31.85492, 35.218709004815274 31.85492009801714, 35.21870901921472 31.854920195090322, 35.21870904305967 31.854920290284678, 35.21870907612047 31.85492038268343, 35.218709118078735 31.85492047139674, 35.21870916853039 31.85492055557023, 35.218709226989546 31.854920634393284, 35.21870929289322 31.854920707106782, 35.21870936560672 31.854920773010452, 35.21870944442977 31.854920831469613, 35.21870952860326 31.854920881921263, 35.21870961731657 31.854920923879533, 35.21870970971533 31.854920956940337, 35.21870980490968 31.85492098078528, 35.21870990198286 31.854920995184727, 35.21871 31.854921, 35.21871009801714 31.854920995184727, 35.218710195090324 31.85492098078528, 35.218710290284676 31.854920956940337, 35.21871038268343 31.854920923879533, 35.21871047139674 31.854920881921263, 35.21871055557023 31.854920831469613, 35.21871063439328 31.854920773010452, 35.21871070710678 31.854920707106782, 35.21871077301046 31.854920634393284, 35.218710831469615 31.85492055557023, 35.21871088192127 31.85492047139674, 35.218710923879534 31.85492038268343, 35.218710956940335 31.854920290284678, 35.21871098078528 31.854920195090322, 35.21871099518473 31.85492009801714, 35.218711 31.85492))\n",
      "POLYGON ((35.163903499999996 31.7676367, 35.16390349518473 31.76763660198286, 35.16390348078528 31.767636504909678, 35.16390345694033 31.767636409715323, 35.16390342387953 31.76763631731657, 35.163903381921266 31.767636228603262, 35.16390333146961 31.76763614442977, 35.163903273010455 31.767636065606716, 35.16390320710678 31.76763599289322, 35.16390313439328 31.76763592698955, 35.16390305557023 31.767635868530387, 35.16390297139674 31.767635818078737, 35.16390288268343 31.767635776120468, 35.16390279028467 31.767635743059664, 35.16390269509032 31.76763571921472, 35.16390259801714 31.767635704815273, 35.1639025 31.7676357, 35.16390240198286 31.767635704815273, 35.163902304909676 31.76763571921472, 35.163902209715324 31.767635743059664, 35.16390211731657 31.767635776120468, 35.16390202860326 31.767635818078737, 35.16390194442977 31.767635868530387, 35.16390186560672 31.76763592698955, 35.16390179289322 31.76763599289322, 35.16390172698954 31.767636065606716, 35.163901668530386 31.76763614442977, 35.16390161807873 31.767636228603262, 35.163901576120466 31.76763631731657, 35.163901543059666 31.767636409715323, 35.16390151921472 31.767636504909678, 35.16390150481527 31.76763660198286, 35.1639015 31.7676367, 35.16390150481527 31.76763679801714, 35.16390151921472 31.767636895090323, 35.163901543059666 31.76763699028468, 35.163901576120466 31.767637082683432, 35.16390161807873 31.76763717139674, 35.163901668530386 31.767637255570232, 35.16390172698954 31.767637334393285, 35.16390179289322 31.767637407106783, 35.16390186560672 31.767637473010453, 35.16390194442977 31.767637531469614, 35.16390202860326 31.767637581921264, 35.16390211731657 31.767637623879533, 35.163902209715324 31.767637656940337, 35.163902304909676 31.76763768078528, 35.16390240198286 31.767637695184728, 35.1639025 31.7676377, 35.16390259801714 31.767637695184728, 35.16390269509032 31.76763768078528, 35.16390279028467 31.767637656940337, 35.16390288268343 31.767637623879533, 35.16390297139674 31.767637581921264, 35.16390305557023 31.767637531469614, 35.16390313439328 31.767637473010453, 35.16390320710678 31.767637407106783, 35.163903273010455 31.767637334393285, 35.16390333146961 31.767637255570232, 35.163903381921266 31.76763717139674, 35.16390342387953 31.767637082683432, 35.16390345694033 31.76763699028468, 35.16390348078528 31.767636895090323, 35.16390349518473 31.76763679801714, 35.163903499999996 31.7676367))\n",
      "POLYGON ((35.231419599999995 31.7342777, 35.231419595184725 31.73427760198286, 35.23141958078528 31.734277504909677, 35.23141955694033 31.73427740971532, 35.23141952387953 31.734277317316568, 35.231419481921264 31.73427722860326, 35.23141943146961 31.734277144429768, 35.23141937301045 31.734277065606715, 35.231419307106776 31.734276992893218, 35.23141923439328 31.734276926989548, 35.23141915557023 31.734276868530387, 35.231419071396736 31.734276818078737, 35.23141898268343 31.734276776120467, 35.23141889028467 31.734276743059663, 35.23141879509032 31.73427671921472, 35.23141869801714 31.734276704815272, 35.2314186 31.7342767, 35.23141850198286 31.734276704815272, 35.231418404909675 31.73427671921472, 35.23141830971532 31.734276743059663, 35.231418217316566 31.734276776120467, 35.23141812860326 31.734276818078737, 35.231418044429766 31.734276868530387, 35.23141796560672 31.734276926989548, 35.23141789289322 31.734276992893218, 35.23141782698954 31.734277065606715, 35.231417768530385 31.734277144429768, 35.23141771807873 31.73427722860326, 35.231417676120465 31.734277317316568, 35.231417643059665 31.73427740971532, 35.23141761921472 31.734277504909677, 35.23141760481527 31.73427760198286, 35.2314176 31.7342777, 35.23141760481527 31.73427779801714, 35.23141761921472 31.734277895090322, 35.231417643059665 31.734277990284678, 35.231417676120465 31.73427808268343, 35.23141771807873 31.73427817139674, 35.231417768530385 31.73427825557023, 35.23141782698954 31.734278334393284, 35.23141789289322 31.734278407106782, 35.23141796560672 31.734278473010452, 35.231418044429766 31.734278531469613, 35.23141812860326 31.734278581921263, 35.231418217316566 31.734278623879533, 35.23141830971532 31.734278656940337, 35.231418404909675 31.73427868078528, 35.23141850198286 31.734278695184727, 35.2314186 31.7342787, 35.23141869801714 31.734278695184727, 35.23141879509032 31.73427868078528, 35.23141889028467 31.734278656940337, 35.23141898268343 31.734278623879533, 35.231419071396736 31.734278581921263, 35.23141915557023 31.734278531469613, 35.23141923439328 31.734278473010452, 35.231419307106776 31.734278407106782, 35.23141937301045 31.734278334393284, 35.23141943146961 31.73427825557023, 35.231419481921264 31.73427817139674, 35.23141952387953 31.73427808268343, 35.23141955694033 31.734277990284678, 35.23141958078528 31.734277895090322, 35.231419595184725 31.73427779801714, 35.231419599999995 31.7342777))\n",
      "POLYGON ((35.2457214 31.7520029, 35.24572139518473 31.75200280198286, 35.245721380785284 31.75200270490968, 35.24572135694034 31.752002609715323, 35.245721323879536 31.75200251731657, 35.24572128192127 31.752002428603262, 35.245721231469616 31.75200234442977, 35.24572117301046 31.752002265606716, 35.24572110710678 31.75200219289322, 35.245721034393284 31.75200212698955, 35.245720955570235 31.752002068530388, 35.24572087139674 31.752002018078738, 35.245720782683435 31.752001976120468, 35.24572069028468 31.752001943059664, 35.245720595090326 31.75200191921472, 35.24572049801714 31.752001904815273, 35.2457204 31.7520019, 35.245720301982864 31.752001904815273, 35.24572020490968 31.75200191921472, 35.24572010971533 31.752001943059664, 35.24572001731657 31.752001976120468, 35.245719928603265 31.752002018078738, 35.24571984442977 31.752002068530388, 35.24571976560672 31.75200212698955, 35.245719692893225 31.75200219289322, 35.24571962698955 31.752002265606716, 35.24571956853039 31.75200234442977, 35.24571951807874 31.752002428603262, 35.24571947612047 31.75200251731657, 35.24571944305967 31.752002609715323, 35.24571941921472 31.75200270490968, 35.245719404815276 31.75200280198286, 35.245719400000006 31.7520029, 35.245719404815276 31.75200299801714, 35.24571941921472 31.752003095090323, 35.24571944305967 31.75200319028468, 35.24571947612047 31.752003282683432, 35.24571951807874 31.75200337139674, 35.24571956853039 31.752003455570232, 35.24571962698955 31.752003534393285, 35.245719692893225 31.752003607106783, 35.24571976560672 31.752003673010453, 35.24571984442977 31.752003731469614, 35.245719928603265 31.752003781921264, 35.24572001731657 31.752003823879534, 35.24572010971533 31.752003856940338, 35.24572020490968 31.75200388078528, 35.245720301982864 31.75200389518473, 35.2457204 31.752003900000002, 35.24572049801714 31.75200389518473, 35.245720595090326 31.75200388078528, 35.24572069028468 31.752003856940338, 35.245720782683435 31.752003823879534, 35.24572087139674 31.752003781921264, 35.245720955570235 31.752003731469614, 35.245721034393284 31.752003673010453, 35.24572110710678 31.752003607106783, 35.24572117301046 31.752003534393285, 35.245721231469616 31.752003455570232, 35.24572128192127 31.75200337139674, 35.245721323879536 31.752003282683432, 35.24572135694034 31.75200319028468, 35.245721380785284 31.752003095090323, 35.24572139518473 31.75200299801714, 35.2457214 31.7520029))\n",
      "POLYGON ((35.2366933 31.7899912, 35.23669329518473 31.78999110198286, 35.23669328078528 31.789991004909677, 35.236693256940335 31.78999090971532, 35.236693223879534 31.789990817316568, 35.23669318192127 31.78999072860326, 35.236693131469615 31.789990644429768, 35.23669307301046 31.789990565606715, 35.23669300710678 31.789990492893217, 35.23669293439328 31.789990426989547, 35.23669285557023 31.789990368530386, 35.23669277139674 31.789990318078736, 35.23669268268343 31.789990276120466, 35.236692590284676 31.789990243059663, 35.236692495090324 31.78999021921472, 35.23669239801714 31.789990204815272, 35.2366923 31.7899902, 35.23669220198286 31.789990204815272, 35.23669210490968 31.78999021921472, 35.23669200971533 31.789990243059663, 35.23669191731657 31.789990276120466, 35.23669182860326 31.789990318078736, 35.23669174442977 31.789990368530386, 35.23669166560672 31.789990426989547, 35.23669159289322 31.789990492893217, 35.236691526989546 31.789990565606715, 35.23669146853039 31.789990644429768, 35.236691418078735 31.78999072860326, 35.23669137612047 31.789990817316568, 35.23669134305967 31.78999090971532, 35.23669131921472 31.789991004909677, 35.236691304815274 31.78999110198286, 35.236691300000004 31.7899912, 35.236691304815274 31.78999129801714, 35.23669131921472 31.789991395090322, 35.23669134305967 31.789991490284677, 35.23669137612047 31.78999158268343, 35.236691418078735 31.789991671396738, 35.23669146853039 31.78999175557023, 35.236691526989546 31.789991834393284, 35.23669159289322 31.78999190710678, 35.23669166560672 31.78999197301045, 35.23669174442977 31.789992031469612, 35.23669182860326 31.789992081921262, 35.23669191731657 31.789992123879532, 35.23669200971533 31.789992156940336, 35.23669210490968 31.78999218078528, 35.23669220198286 31.789992195184727, 35.2366923 31.7899922, 35.23669239801714 31.789992195184727, 35.236692495090324 31.78999218078528, 35.236692590284676 31.789992156940336, 35.23669268268343 31.789992123879532, 35.23669277139674 31.789992081921262, 35.23669285557023 31.789992031469612, 35.23669293439328 31.78999197301045, 35.23669300710678 31.78999190710678, 35.23669307301046 31.789991834393284, 35.236693131469615 31.78999175557023, 35.23669318192127 31.789991671396738, 35.236693223879534 31.78999158268343, 35.236693256940335 31.789991490284677, 35.23669328078528 31.789991395090322, 35.23669329518473 31.78999129801714, 35.2366933 31.7899912))\n",
      "POLYGON ((35.230906499999996 31.7947744, 35.230906495184726 31.794774301982862, 35.23090648078528 31.79477420490968, 35.23090645694033 31.794774109715323, 35.23090642387953 31.79477401731657, 35.230906381921265 31.794773928603263, 35.23090633146961 31.79477384442977, 35.230906273010454 31.794773765606717, 35.23090620710678 31.79477369289322, 35.23090613439328 31.79477362698955, 35.23090605557023 31.79477356853039, 35.23090597139674 31.79477351807874, 35.23090588268343 31.79477347612047, 35.23090579028467 31.794773443059665, 35.23090569509032 31.79477341921472, 35.23090559801714 31.794773404815274, 35.2309055 31.7947734, 35.23090540198286 31.794773404815274, 35.230905304909676 31.79477341921472, 35.230905209715324 31.794773443059665, 35.23090511731657 31.79477347612047, 35.23090502860326 31.79477351807874, 35.23090494442977 31.79477356853039, 35.23090486560672 31.79477362698955, 35.23090479289322 31.79477369289322, 35.23090472698954 31.794773765606717, 35.230904668530385 31.79477384442977, 35.23090461807873 31.794773928603263, 35.230904576120466 31.79477401731657, 35.230904543059665 31.794774109715323, 35.23090451921472 31.79477420490968, 35.23090450481527 31.794774301982862, 35.2309045 31.7947744, 35.23090450481527 31.79477449801714, 35.23090451921472 31.794774595090324, 35.230904543059665 31.79477469028468, 35.230904576120466 31.794774782683433, 35.23090461807873 31.79477487139674, 35.230904668530385 31.794774955570233, 35.23090472698954 31.794775034393286, 35.23090479289322 31.794775107106783, 35.23090486560672 31.794775173010454, 35.23090494442977 31.794775231469615, 35.23090502860326 31.794775281921265, 35.23090511731657 31.794775323879534, 35.230905209715324 31.794775356940338, 35.230905304909676 31.794775380785282, 35.23090540198286 31.79477539518473, 35.2309055 31.794775400000002, 35.23090559801714 31.79477539518473, 35.23090569509032 31.794775380785282, 35.23090579028467 31.794775356940338, 35.23090588268343 31.794775323879534, 35.23090597139674 31.794775281921265, 35.23090605557023 31.794775231469615, 35.23090613439328 31.794775173010454, 35.23090620710678 31.794775107106783, 35.230906273010454 31.794775034393286, 35.23090633146961 31.794774955570233, 35.230906381921265 31.79477487139674, 35.23090642387953 31.794774782683433, 35.23090645694033 31.79477469028468, 35.23090648078528 31.794774595090324, 35.230906495184726 31.79477449801714, 35.230906499999996 31.7947744))\n",
      "POLYGON ((35.230809699999995 31.7855769, 35.230809695184725 31.78557680198286, 35.23080968078528 31.785576704909676, 35.23080965694033 31.78557660971532, 35.23080962387953 31.785576517316567, 35.230809581921264 31.78557642860326, 35.23080953146961 31.785576344429767, 35.23080947301045 31.785576265606714, 35.230809407106776 31.785576192893217, 35.23080933439328 31.785576126989547, 35.23080925557023 31.785576068530386, 35.230809171396736 31.785576018078736, 35.23080908268343 31.785575976120466, 35.23080899028467 31.785575943059662, 35.23080889509032 31.78557591921472, 35.23080879801714 31.78557590481527, 35.2308087 31.785575899999998, 35.23080860198286 31.78557590481527, 35.230808504909675 31.78557591921472, 35.23080840971532 31.785575943059662, 35.230808317316566 31.785575976120466, 35.23080822860326 31.785576018078736, 35.230808144429766 31.785576068530386, 35.230808065606716 31.785576126989547, 35.23080799289322 31.785576192893217, 35.23080792698954 31.785576265606714, 35.230807868530384 31.785576344429767, 35.23080781807873 31.78557642860326, 35.230807776120464 31.785576517316567, 35.230807743059664 31.78557660971532, 35.23080771921472 31.785576704909676, 35.23080770481527 31.78557680198286, 35.2308077 31.7855769, 35.23080770481527 31.785576998017138, 35.23080771921472 31.78557709509032, 35.230807743059664 31.785577190284677, 35.230807776120464 31.78557728268343, 35.23080781807873 31.785577371396737, 35.230807868530384 31.78557745557023, 35.23080792698954 31.785577534393283, 35.23080799289322 31.78557760710678, 35.230808065606716 31.78557767301045, 35.230808144429766 31.785577731469612, 35.23080822860326 31.785577781921262, 35.230808317316566 31.78557782387953, 35.23080840971532 31.785577856940336, 35.230808504909675 31.78557788078528, 35.23080860198286 31.785577895184726, 35.2308087 31.7855779, 35.23080879801714 31.785577895184726, 35.23080889509032 31.78557788078528, 35.23080899028467 31.785577856940336, 35.23080908268343 31.78557782387953, 35.230809171396736 31.785577781921262, 35.23080925557023 31.785577731469612, 35.23080933439328 31.78557767301045, 35.230809407106776 31.78557760710678, 35.23080947301045 31.785577534393283, 35.23080953146961 31.78557745557023, 35.230809581921264 31.785577371396737, 35.23080962387953 31.78557728268343, 35.23080965694033 31.785577190284677, 35.23080968078528 31.78557709509032, 35.230809695184725 31.785576998017138, 35.230809699999995 31.7855769))\n",
      "POLYGON ((35.2492963 31.7812795, 35.24929629518473 31.78127940198286, 35.24929628078528 31.781279304909678, 35.24929625694033 31.781279209715322, 35.24929622387953 31.78127911731657, 35.24929618192127 31.78127902860326, 35.24929613146961 31.78127894442977, 35.249296073010456 31.781278865606716, 35.24929600710678 31.781278792893218, 35.24929593439328 31.781278726989548, 35.24929585557023 31.781278668530387, 35.24929577139674 31.781278618078737, 35.24929568268343 31.781278576120467, 35.249295590284675 31.781278543059663, 35.24929549509032 31.78127851921472, 35.24929539801714 31.781278504815273, 35.2492953 31.7812785, 35.24929520198286 31.781278504815273, 35.24929510490968 31.78127851921472, 35.249295009715325 31.781278543059663, 35.24929491731657 31.781278576120467, 35.24929482860326 31.781278618078737, 35.24929474442977 31.781278668530387, 35.24929466560672 31.781278726989548, 35.24929459289322 31.781278792893218, 35.249294526989544 31.781278865606716, 35.24929446853039 31.78127894442977, 35.24929441807873 31.78127902860326, 35.24929437612047 31.78127911731657, 35.24929434305967 31.781279209715322, 35.24929431921472 31.781279304909678, 35.24929430481527 31.78127940198286, 35.2492943 31.7812795, 35.24929430481527 31.78127959801714, 35.24929431921472 31.781279695090323, 35.24929434305967 31.781279790284678, 35.24929437612047 31.78127988268343, 35.24929441807873 31.78127997139674, 35.24929446853039 31.78128005557023, 35.249294526989544 31.781280134393285, 35.24929459289322 31.781280207106782, 35.24929466560672 31.781280273010452, 35.24929474442977 31.781280331469613, 35.24929482860326 31.781280381921263, 35.24929491731657 31.781280423879533, 35.249295009715325 31.781280456940337, 35.24929510490968 31.78128048078528, 35.24929520198286 31.781280495184728, 35.2492953 31.7812805, 35.24929539801714 31.781280495184728, 35.24929549509032 31.78128048078528, 35.249295590284675 31.781280456940337, 35.24929568268343 31.781280423879533, 35.24929577139674 31.781280381921263, 35.24929585557023 31.781280331469613, 35.24929593439328 31.781280273010452, 35.24929600710678 31.781280207106782, 35.249296073010456 31.781280134393285, 35.24929613146961 31.78128005557023, 35.24929618192127 31.78127997139674, 35.24929622387953 31.78127988268343, 35.24929625694033 31.781279790284678, 35.24929628078528 31.781279695090323, 35.24929629518473 31.78127959801714, 35.2492963 31.7812795))\n",
      "POLYGON ((35.222721799999995 31.789301, 35.222721795184725 31.78930090198286, 35.22272178078528 31.789300804909676, 35.22272175694033 31.78930070971532, 35.22272172387953 31.789300617316567, 35.222721681921264 31.78930052860326, 35.22272163146961 31.789300444429767, 35.22272157301045 31.789300365606714, 35.222721507106776 31.789300292893216, 35.22272143439328 31.789300226989546, 35.22272135557023 31.789300168530385, 35.222721271396736 31.789300118078735, 35.22272118268343 31.789300076120465, 35.22272109028467 31.78930004305966, 35.22272099509032 31.789300019214718, 35.22272089801714 31.78930000481527, 35.2227208 31.789299999999997, 35.22272070198286 31.78930000481527, 35.222720604909675 31.789300019214718, 35.22272050971532 31.78930004305966, 35.222720417316566 31.789300076120465, 35.22272032860326 31.789300118078735, 35.222720244429766 31.789300168530385, 35.22272016560672 31.789300226989546, 35.22272009289322 31.789300292893216, 35.22272002698954 31.789300365606714, 35.222719968530384 31.789300444429767, 35.22271991807873 31.78930052860326, 35.222719876120465 31.789300617316567, 35.222719843059664 31.78930070971532, 35.22271981921472 31.789300804909676, 35.22271980481527 31.78930090198286, 35.2227198 31.789301, 35.22271980481527 31.789301098017138, 35.22271981921472 31.78930119509032, 35.222719843059664 31.789301290284676, 35.222719876120465 31.78930138268343, 35.22271991807873 31.789301471396737, 35.222719968530384 31.78930155557023, 35.22272002698954 31.789301634393283, 35.22272009289322 31.78930170710678, 35.22272016560672 31.78930177301045, 35.222720244429766 31.78930183146961, 35.22272032860326 31.78930188192126, 35.222720417316566 31.78930192387953, 35.22272050971532 31.789301956940335, 35.222720604909675 31.78930198078528, 35.22272070198286 31.789301995184726, 35.2227208 31.789302, 35.22272089801714 31.789301995184726, 35.22272099509032 31.78930198078528, 35.22272109028467 31.789301956940335, 35.22272118268343 31.78930192387953, 35.222721271396736 31.78930188192126, 35.22272135557023 31.78930183146961, 35.22272143439328 31.78930177301045, 35.222721507106776 31.78930170710678, 35.22272157301045 31.789301634393283, 35.22272163146961 31.78930155557023, 35.222721681921264 31.789301471396737, 35.22272172387953 31.78930138268343, 35.22272175694033 31.789301290284676, 35.22272178078528 31.78930119509032, 35.222721795184725 31.789301098017138, 35.222721799999995 31.789301))\n",
      "POLYGON ((35.2337731 31.7496635, 35.23377309518473 31.74966340198286, 35.233773080785284 31.749663304909678, 35.233773056940336 31.749663209715322, 35.233773023879536 31.74966311731657, 35.23377298192127 31.749663028603262, 35.233772931469616 31.74966294442977, 35.23377287301046 31.749662865606716, 35.23377280710678 31.74966279289322, 35.233772734393284 31.74966272698955, 35.233772655570235 31.749662668530387, 35.23377257139674 31.749662618078737, 35.233772482683435 31.749662576120468, 35.23377239028468 31.749662543059664, 35.233772295090326 31.74966251921472, 35.23377219801714 31.749662504815273, 35.2337721 31.7496625, 35.233772001982864 31.749662504815273, 35.23377190490968 31.74966251921472, 35.23377180971533 31.749662543059664, 35.23377171731657 31.749662576120468, 35.233771628603265 31.749662618078737, 35.23377154442977 31.749662668530387, 35.23377146560672 31.74966272698955, 35.233771392893225 31.74966279289322, 35.23377132698955 31.749662865606716, 35.23377126853039 31.74966294442977, 35.233771218078736 31.749663028603262, 35.23377117612047 31.74966311731657, 35.23377114305967 31.749663209715322, 35.23377111921472 31.749663304909678, 35.233771104815276 31.74966340198286, 35.233771100000006 31.7496635, 35.233771104815276 31.74966359801714, 35.23377111921472 31.749663695090323, 35.23377114305967 31.74966379028468, 35.23377117612047 31.749663882683432, 35.233771218078736 31.74966397139674, 35.23377126853039 31.749664055570232, 35.23377132698955 31.749664134393285, 35.233771392893225 31.749664207106782, 35.23377146560672 31.749664273010453, 35.23377154442977 31.749664331469614, 35.233771628603265 31.749664381921264, 35.23377171731657 31.749664423879533, 35.23377180971533 31.749664456940337, 35.23377190490968 31.74966448078528, 35.233772001982864 31.749664495184728, 35.2337721 31.7496645, 35.23377219801714 31.749664495184728, 35.233772295090326 31.74966448078528, 35.23377239028468 31.749664456940337, 35.233772482683435 31.749664423879533, 35.23377257139674 31.749664381921264, 35.233772655570235 31.749664331469614, 35.233772734393284 31.749664273010453, 35.23377280710678 31.749664207106782, 35.23377287301046 31.749664134393285, 35.233772931469616 31.749664055570232, 35.23377298192127 31.74966397139674, 35.233773023879536 31.749663882683432, 35.233773056940336 31.74966379028468, 35.233773080785284 31.749663695090323, 35.23377309518473 31.74966359801714, 35.2337731 31.7496635))\n",
      "POLYGON ((35.2382773 31.8040234, 35.23827729518473 31.80402330198286, 35.23827728078528 31.804023204909676, 35.238277256940336 31.80402310971532, 35.238277223879535 31.804023017316567, 35.23827718192127 31.80402292860326, 35.238277131469616 31.804022844429767, 35.23827707301046 31.804022765606714, 35.23827700710678 31.804022692893216, 35.238276934393284 31.804022626989546, 35.238276855570234 31.804022568530385, 35.23827677139674 31.804022518078735, 35.238276682683434 31.804022476120466, 35.23827659028468 31.80402244305966, 35.238276495090325 31.804022419214718, 35.23827639801714 31.80402240481527, 35.2382763 31.804022399999997, 35.23827620198286 31.80402240481527, 35.23827610490968 31.804022419214718, 35.23827600971533 31.80402244305966, 35.23827591731657 31.804022476120466, 35.238275828603264 31.804022518078735, 35.23827574442977 31.804022568530385, 35.23827566560672 31.804022626989546, 35.238275592893224 31.804022692893216, 35.23827552698955 31.804022765606714, 35.23827546853039 31.804022844429767, 35.238275418078736 31.80402292860326, 35.23827537612047 31.804023017316567, 35.23827534305967 31.80402310971532, 35.23827531921472 31.804023204909676, 35.238275304815275 31.80402330198286, 35.238275300000005 31.8040234, 35.238275304815275 31.804023498017138, 35.23827531921472 31.80402359509032, 35.23827534305967 31.804023690284676, 35.23827537612047 31.80402378268343, 35.238275418078736 31.804023871396737, 35.23827546853039 31.80402395557023, 35.23827552698955 31.804024034393283, 35.238275592893224 31.80402410710678, 35.23827566560672 31.80402417301045, 35.23827574442977 31.80402423146961, 35.238275828603264 31.80402428192126, 35.23827591731657 31.80402432387953, 35.23827600971533 31.804024356940335, 35.23827610490968 31.80402438078528, 35.23827620198286 31.804024395184726, 35.2382763 31.8040244, 35.23827639801714 31.804024395184726, 35.238276495090325 31.80402438078528, 35.23827659028468 31.804024356940335, 35.238276682683434 31.80402432387953, 35.23827677139674 31.80402428192126, 35.238276855570234 31.80402423146961, 35.238276934393284 31.80402417301045, 35.23827700710678 31.80402410710678, 35.23827707301046 31.804024034393283, 35.238277131469616 31.80402395557023, 35.23827718192127 31.804023871396737, 35.238277223879535 31.80402378268343, 35.238277256940336 31.804023690284676, 35.23827728078528 31.80402359509032, 35.23827729518473 31.804023498017138, 35.2382773 31.8040234))\n",
      "POLYGON ((35.220552299999994 31.7643906, 35.220552295184724 31.76439050198286, 35.22055228078528 31.764390404909676, 35.22055225694033 31.76439030971532, 35.22055222387953 31.764390217316567, 35.22055218192126 31.76439012860326, 35.22055213146961 31.764390044429767, 35.22055207301045 31.764389965606714, 35.220552007106775 31.764389892893217, 35.22055193439328 31.764389826989547, 35.22055185557023 31.764389768530386, 35.220551771396735 31.764389718078736, 35.22055168268343 31.764389676120466, 35.22055159028467 31.764389643059662, 35.22055149509032 31.764389619214718, 35.220551398017136 31.76438960481527, 35.2205513 31.764389599999998, 35.22055120198286 31.76438960481527, 35.220551104909674 31.764389619214718, 35.22055100971532 31.764389643059662, 35.220550917316565 31.764389676120466, 35.22055082860326 31.764389718078736, 35.220550744429765 31.764389768530386, 35.220550665606716 31.764389826989547, 35.22055059289322 31.764389892893217, 35.22055052698954 31.764389965606714, 35.220550468530384 31.764390044429767, 35.22055041807873 31.76439012860326, 35.220550376120464 31.764390217316567, 35.220550343059664 31.76439030971532, 35.220550319214716 31.764390404909676, 35.22055030481527 31.76439050198286, 35.2205503 31.7643906, 35.22055030481527 31.764390698017138, 35.220550319214716 31.76439079509032, 35.220550343059664 31.764390890284677, 35.220550376120464 31.76439098268343, 35.22055041807873 31.764391071396737, 35.220550468530384 31.76439115557023, 35.22055052698954 31.764391234393283, 35.22055059289322 31.76439130710678, 35.220550665606716 31.76439137301045, 35.220550744429765 31.764391431469612, 35.22055082860326 31.764391481921262, 35.220550917316565 31.76439152387953, 35.22055100971532 31.764391556940335, 35.220551104909674 31.76439158078528, 35.22055120198286 31.764391595184726, 35.2205513 31.7643916, 35.220551398017136 31.764391595184726, 35.22055149509032 31.76439158078528, 35.22055159028467 31.764391556940335, 35.22055168268343 31.76439152387953, 35.220551771396735 31.764391481921262, 35.22055185557023 31.764391431469612, 35.22055193439328 31.76439137301045, 35.220552007106775 31.76439130710678, 35.22055207301045 31.764391234393283, 35.22055213146961 31.76439115557023, 35.22055218192126 31.764391071396737, 35.22055222387953 31.76439098268343, 35.22055225694033 31.764390890284677, 35.22055228078528 31.76439079509032, 35.220552295184724 31.764390698017138, 35.220552299999994 31.7643906))\n",
      "POLYGON ((35.216052999999995 31.7883192, 35.216052995184725 31.78831910198286, 35.21605298078528 31.788319004909678, 35.21605295694033 31.788318909715322, 35.21605292387953 31.78831881731657, 35.216052881921264 31.78831872860326, 35.21605283146961 31.78831864442977, 35.21605277301045 31.788318565606716, 35.216052707106776 31.788318492893218, 35.21605263439328 31.788318426989548, 35.21605255557023 31.788318368530387, 35.216052471396736 31.788318318078737, 35.21605238268343 31.788318276120467, 35.21605229028467 31.788318243059663, 35.21605219509032 31.78831821921472, 35.21605209801714 31.788318204815273, 35.216052 31.7883182, 35.21605190198286 31.788318204815273, 35.216051804909675 31.78831821921472, 35.21605170971532 31.788318243059663, 35.216051617316566 31.788318276120467, 35.21605152860326 31.788318318078737, 35.216051444429766 31.788318368530387, 35.21605136560672 31.788318426989548, 35.21605129289322 31.788318492893218, 35.21605122698954 31.788318565606716, 35.216051168530385 31.78831864442977, 35.21605111807873 31.78831872860326, 35.216051076120465 31.78831881731657, 35.216051043059664 31.788318909715322, 35.21605101921472 31.788319004909678, 35.21605100481527 31.78831910198286, 35.216051 31.7883192, 35.21605100481527 31.78831929801714, 35.21605101921472 31.788319395090323, 35.216051043059664 31.788319490284678, 35.216051076120465 31.78831958268343, 35.21605111807873 31.78831967139674, 35.216051168530385 31.78831975557023, 35.21605122698954 31.788319834393285, 35.21605129289322 31.788319907106782, 35.21605136560672 31.788319973010452, 35.216051444429766 31.788320031469613, 35.21605152860326 31.788320081921263, 35.216051617316566 31.788320123879533, 35.21605170971532 31.788320156940337, 35.216051804909675 31.78832018078528, 35.21605190198286 31.788320195184728, 35.216052 31.7883202, 35.21605209801714 31.788320195184728, 35.21605219509032 31.78832018078528, 35.21605229028467 31.788320156940337, 35.21605238268343 31.788320123879533, 35.216052471396736 31.788320081921263, 35.21605255557023 31.788320031469613, 35.21605263439328 31.788319973010452, 35.216052707106776 31.788319907106782, 35.21605277301045 31.788319834393285, 35.21605283146961 31.78831975557023, 35.216052881921264 31.78831967139674, 35.21605292387953 31.78831958268343, 35.21605295694033 31.788319490284678, 35.21605298078528 31.788319395090323, 35.216052995184725 31.78831929801714, 35.216052999999995 31.7883192))\n",
      "POLYGON ((35.218786699999995 31.7925078, 35.218786695184725 31.79250770198286, 35.21878668078528 31.792507604909677, 35.21878665694033 31.79250750971532, 35.21878662387953 31.792507417316568, 35.218786581921265 31.79250732860326, 35.21878653146961 31.792507244429768, 35.218786473010454 31.792507165606715, 35.218786407106776 31.792507092893217, 35.21878633439328 31.792507026989547, 35.21878625557023 31.792506968530386, 35.21878617139674 31.792506918078736, 35.21878608268343 31.792506876120466, 35.21878599028467 31.792506843059662, 35.21878589509032 31.79250681921472, 35.21878579801714 31.79250680481527, 35.2187857 31.792506799999998, 35.21878560198286 31.79250680481527, 35.218785504909675 31.79250681921472, 35.21878540971532 31.792506843059662, 35.218785317316566 31.792506876120466, 35.21878522860326 31.792506918078736, 35.218785144429766 31.792506968530386, 35.21878506560672 31.792507026989547, 35.21878499289322 31.792507092893217, 35.21878492698954 31.792507165606715, 35.218784868530385 31.792507244429768, 35.21878481807873 31.79250732860326, 35.218784776120465 31.792507417316568, 35.218784743059665 31.79250750971532, 35.21878471921472 31.792507604909677, 35.21878470481527 31.79250770198286, 35.2187847 31.7925078, 35.21878470481527 31.79250789801714, 35.21878471921472 31.79250799509032, 35.218784743059665 31.792508090284677, 35.218784776120465 31.79250818268343, 35.21878481807873 31.792508271396738, 35.218784868530385 31.79250835557023, 35.21878492698954 31.792508434393284, 35.21878499289322 31.79250850710678, 35.21878506560672 31.79250857301045, 35.218785144429766 31.792508631469612, 35.21878522860326 31.792508681921262, 35.218785317316566 31.792508723879532, 35.21878540971532 31.792508756940336, 35.218785504909675 31.79250878078528, 35.21878560198286 31.792508795184727, 35.2187857 31.7925088, 35.21878579801714 31.792508795184727, 35.21878589509032 31.79250878078528, 35.21878599028467 31.792508756940336, 35.21878608268343 31.792508723879532, 35.21878617139674 31.792508681921262, 35.21878625557023 31.792508631469612, 35.21878633439328 31.79250857301045, 35.218786407106776 31.79250850710678, 35.218786473010454 31.792508434393284, 35.21878653146961 31.79250835557023, 35.218786581921265 31.792508271396738, 35.21878662387953 31.79250818268343, 35.21878665694033 31.792508090284677, 35.21878668078528 31.79250799509032, 35.218786695184725 31.79250789801714, 35.218786699999995 31.7925078))\n",
      "POLYGON ((35.2057334 31.7560437, 35.20573339518473 31.75604360198286, 35.20573338078528 31.756043504909677, 35.205733356940335 31.75604340971532, 35.205733323879535 31.756043317316568, 35.20573328192127 31.75604322860326, 35.205733231469615 31.756043144429768, 35.20573317301046 31.756043065606715, 35.20573310710678 31.756042992893217, 35.20573303439328 31.756042926989547, 35.205732955570234 31.756042868530386, 35.20573287139674 31.756042818078736, 35.205732782683434 31.756042776120466, 35.20573269028468 31.756042743059663, 35.205732595090325 31.75604271921472, 35.20573249801714 31.756042704815272, 35.2057324 31.7560427, 35.20573230198286 31.756042704815272, 35.20573220490968 31.75604271921472, 35.20573210971533 31.756042743059663, 35.20573201731657 31.756042776120466, 35.205731928603264 31.756042818078736, 35.20573184442977 31.756042868530386, 35.20573176560672 31.756042926989547, 35.205731692893224 31.756042992893217, 35.20573162698955 31.756043065606715, 35.20573156853039 31.756043144429768, 35.205731518078736 31.75604322860326, 35.20573147612047 31.756043317316568, 35.20573144305967 31.75604340971532, 35.20573141921472 31.756043504909677, 35.205731404815275 31.75604360198286, 35.205731400000005 31.7560437, 35.205731404815275 31.75604379801714, 35.20573141921472 31.756043895090322, 35.20573144305967 31.756043990284677, 35.20573147612047 31.75604408268343, 35.205731518078736 31.756044171396738, 35.20573156853039 31.75604425557023, 35.20573162698955 31.756044334393284, 35.205731692893224 31.75604440710678, 35.20573176560672 31.75604447301045, 35.20573184442977 31.756044531469612, 35.205731928603264 31.756044581921262, 35.20573201731657 31.756044623879532, 35.20573210971533 31.756044656940336, 35.20573220490968 31.75604468078528, 35.20573230198286 31.756044695184727, 35.2057324 31.7560447, 35.20573249801714 31.756044695184727, 35.205732595090325 31.75604468078528, 35.20573269028468 31.756044656940336, 35.205732782683434 31.756044623879532, 35.20573287139674 31.756044581921262, 35.205732955570234 31.756044531469612, 35.20573303439328 31.75604447301045, 35.20573310710678 31.75604440710678, 35.20573317301046 31.756044334393284, 35.205733231469615 31.75604425557023, 35.20573328192127 31.756044171396738, 35.205733323879535 31.75604408268343, 35.205733356940335 31.756043990284677, 35.20573338078528 31.756043895090322, 35.20573339518473 31.75604379801714, 35.2057334 31.7560437))\n",
      "POLYGON ((35.202808399999995 31.7799495, 35.202808395184725 31.77994940198286, 35.20280838078528 31.779949304909678, 35.20280835694033 31.779949209715323, 35.20280832387953 31.77994911731657, 35.202808281921264 31.779949028603262, 35.20280823146961 31.77994894442977, 35.20280817301045 31.779948865606716, 35.202808107106776 31.77994879289322, 35.20280803439328 31.77994872698955, 35.20280795557023 31.779948668530388, 35.202807871396736 31.779948618078738, 35.20280778268343 31.779948576120468, 35.20280769028467 31.779948543059664, 35.20280759509032 31.77994851921472, 35.20280749801714 31.779948504815273, 35.2028074 31.7799485, 35.20280730198286 31.779948504815273, 35.202807204909675 31.77994851921472, 35.20280710971532 31.779948543059664, 35.202807017316566 31.779948576120468, 35.20280692860326 31.779948618078738, 35.202806844429766 31.779948668530388, 35.20280676560672 31.77994872698955, 35.20280669289322 31.77994879289322, 35.20280662698954 31.779948865606716, 35.202806568530384 31.77994894442977, 35.20280651807873 31.779949028603262, 35.202806476120465 31.77994911731657, 35.202806443059664 31.779949209715323, 35.20280641921472 31.779949304909678, 35.20280640481527 31.77994940198286, 35.2028064 31.7799495, 35.20280640481527 31.77994959801714, 35.20280641921472 31.779949695090323, 35.202806443059664 31.77994979028468, 35.202806476120465 31.779949882683432, 35.20280651807873 31.77994997139674, 35.202806568530384 31.779950055570232, 35.20280662698954 31.779950134393285, 35.20280669289322 31.779950207106783, 35.20280676560672 31.779950273010453, 35.202806844429766 31.779950331469614, 35.20280692860326 31.779950381921264, 35.202807017316566 31.779950423879534, 35.20280710971532 31.779950456940337, 35.202807204909675 31.77995048078528, 35.20280730198286 31.77995049518473, 35.2028074 31.7799505, 35.20280749801714 31.77995049518473, 35.20280759509032 31.77995048078528, 35.20280769028467 31.779950456940337, 35.20280778268343 31.779950423879534, 35.202807871396736 31.779950381921264, 35.20280795557023 31.779950331469614, 35.20280803439328 31.779950273010453, 35.202808107106776 31.779950207106783, 35.20280817301045 31.779950134393285, 35.20280823146961 31.779950055570232, 35.202808281921264 31.77994997139674, 35.20280832387953 31.779949882683432, 35.20280835694033 31.77994979028468, 35.20280838078528 31.779949695090323, 35.202808395184725 31.77994959801714, 35.202808399999995 31.7799495))\n",
      "POLYGON ((35.2114273 31.7688698, 35.21142729518473 31.76886970198286, 35.21142728078528 31.76886960490968, 35.21142725694033 31.768869509715323, 35.21142722387953 31.76886941731657, 35.211427181921266 31.768869328603262, 35.21142713146961 31.76886924442977, 35.211427073010455 31.768869165606716, 35.21142700710678 31.76886909289322, 35.21142693439328 31.76886902698955, 35.21142685557023 31.768868968530388, 35.21142677139674 31.768868918078738, 35.21142668268343 31.768868876120468, 35.211426590284674 31.768868843059664, 35.21142649509032 31.76886881921472, 35.21142639801714 31.768868804815273, 35.2114263 31.7688688, 35.21142620198286 31.768868804815273, 35.21142610490968 31.76886881921472, 35.211426009715325 31.768868843059664, 35.21142591731657 31.768868876120468, 35.21142582860326 31.768868918078738, 35.21142574442977 31.768868968530388, 35.21142566560672 31.76886902698955, 35.21142559289322 31.76886909289322, 35.211425526989544 31.768869165606716, 35.211425468530386 31.76886924442977, 35.21142541807873 31.768869328603262, 35.21142537612047 31.76886941731657, 35.211425343059666 31.768869509715323, 35.21142531921472 31.76886960490968, 35.21142530481527 31.76886970198286, 35.2114253 31.7688698, 35.21142530481527 31.76886989801714, 35.21142531921472 31.768869995090323, 35.211425343059666 31.76887009028468, 35.21142537612047 31.768870182683433, 35.21142541807873 31.76887027139674, 35.211425468530386 31.768870355570233, 35.211425526989544 31.768870434393286, 35.21142559289322 31.768870507106783, 35.21142566560672 31.768870573010453, 35.21142574442977 31.768870631469614, 35.21142582860326 31.768870681921264, 35.21142591731657 31.768870723879534, 35.211426009715325 31.768870756940338, 35.21142610490968 31.76887078078528, 35.21142620198286 31.76887079518473, 35.2114263 31.768870800000002, 35.21142639801714 31.76887079518473, 35.21142649509032 31.76887078078528, 35.211426590284674 31.768870756940338, 35.21142668268343 31.768870723879534, 35.21142677139674 31.768870681921264, 35.21142685557023 31.768870631469614, 35.21142693439328 31.768870573010453, 35.21142700710678 31.768870507106783, 35.211427073010455 31.768870434393286, 35.21142713146961 31.768870355570233, 35.211427181921266 31.76887027139674, 35.21142722387953 31.768870182683433, 35.21142725694033 31.76887009028468, 35.21142728078528 31.768869995090323, 35.21142729518473 31.76886989801714, 35.2114273 31.7688698))\n",
      "POLYGON ((35.2246774 31.7933736, 35.22467739518473 31.79337350198286, 35.22467738078528 31.793373404909676, 35.22467735694033 31.79337330971532, 35.22467732387953 31.793373217316567, 35.22467728192127 31.79337312860326, 35.22467723146961 31.793373044429767, 35.224677173010456 31.793372965606714, 35.22467710710678 31.793372892893217, 35.22467703439328 31.793372826989547, 35.22467695557023 31.793372768530386, 35.22467687139674 31.793372718078736, 35.22467678268343 31.793372676120466, 35.224676690284674 31.793372643059662, 35.22467659509032 31.79337261921472, 35.22467649801714 31.79337260481527, 35.2246764 31.793372599999998, 35.22467630198286 31.79337260481527, 35.22467620490968 31.79337261921472, 35.224676109715325 31.793372643059662, 35.22467601731657 31.793372676120466, 35.22467592860326 31.793372718078736, 35.22467584442977 31.793372768530386, 35.22467576560672 31.793372826989547, 35.22467569289322 31.793372892893217, 35.224675626989544 31.793372965606714, 35.22467556853039 31.793373044429767, 35.22467551807873 31.79337312860326, 35.22467547612047 31.793373217316567, 35.22467544305967 31.79337330971532, 35.22467541921472 31.793373404909676, 35.22467540481527 31.79337350198286, 35.2246754 31.7933736, 35.22467540481527 31.793373698017138, 35.22467541921472 31.79337379509032, 35.22467544305967 31.793373890284677, 35.22467547612047 31.79337398268343, 35.22467551807873 31.793374071396737, 35.22467556853039 31.79337415557023, 35.224675626989544 31.793374234393283, 35.22467569289322 31.79337430710678, 35.22467576560672 31.79337437301045, 35.22467584442977 31.793374431469612, 35.22467592860326 31.793374481921262, 35.22467601731657 31.793374523879532, 35.224676109715325 31.793374556940336, 35.22467620490968 31.79337458078528, 35.22467630198286 31.793374595184726, 35.2246764 31.7933746, 35.22467649801714 31.793374595184726, 35.22467659509032 31.79337458078528, 35.224676690284674 31.793374556940336, 35.22467678268343 31.793374523879532, 35.22467687139674 31.793374481921262, 35.22467695557023 31.793374431469612, 35.22467703439328 31.79337437301045, 35.22467710710678 31.79337430710678, 35.224677173010456 31.793374234393283, 35.22467723146961 31.79337415557023, 35.22467728192127 31.793374071396737, 35.22467732387953 31.79337398268343, 35.22467735694033 31.793373890284677, 35.22467738078528 31.79337379509032, 35.22467739518473 31.793373698017138, 35.2246774 31.7933736))\n",
      "POLYGON ((35.2208062 31.7865608, 35.22080619518473 31.78656070198286, 35.22080618078528 31.786560604909678, 35.220806156940334 31.786560509715322, 35.220806123879534 31.78656041731657, 35.22080608192127 31.78656032860326, 35.220806031469614 31.78656024442977, 35.22080597301046 31.786560165606716, 35.22080590710678 31.786560092893218, 35.22080583439328 31.786560026989548, 35.22080575557023 31.786559968530387, 35.22080567139674 31.786559918078737, 35.22080558268343 31.786559876120467, 35.220805490284675 31.786559843059663, 35.22080539509032 31.78655981921472, 35.22080529801714 31.786559804815273, 35.2208052 31.7865598, 35.22080510198286 31.786559804815273, 35.22080500490968 31.78655981921472, 35.220804909715326 31.786559843059663, 35.22080481731657 31.786559876120467, 35.22080472860326 31.786559918078737, 35.22080464442977 31.786559968530387, 35.22080456560672 31.786560026989548, 35.22080449289322 31.786560092893218, 35.220804426989545 31.786560165606716, 35.22080436853039 31.78656024442977, 35.220804318078734 31.78656032860326, 35.22080427612047 31.78656041731657, 35.22080424305967 31.786560509715322, 35.22080421921472 31.786560604909678, 35.22080420481527 31.78656070198286, 35.2208042 31.7865608, 35.22080420481527 31.78656089801714, 35.22080421921472 31.786560995090323, 35.22080424305967 31.78656109028468, 35.22080427612047 31.786561182683432, 35.220804318078734 31.78656127139674, 35.22080436853039 31.78656135557023, 35.220804426989545 31.786561434393285, 35.22080449289322 31.786561507106782, 35.22080456560672 31.786561573010452, 35.22080464442977 31.786561631469613, 35.22080472860326 31.786561681921263, 35.22080481731657 31.786561723879533, 35.220804909715326 31.786561756940337, 35.22080500490968 31.78656178078528, 35.22080510198286 31.786561795184728, 35.2208052 31.7865618, 35.22080529801714 31.786561795184728, 35.22080539509032 31.78656178078528, 35.220805490284675 31.786561756940337, 35.22080558268343 31.786561723879533, 35.22080567139674 31.786561681921263, 35.22080575557023 31.786561631469613, 35.22080583439328 31.786561573010452, 35.22080590710678 31.786561507106782, 35.22080597301046 31.786561434393285, 35.220806031469614 31.78656135557023, 35.22080608192127 31.78656127139674, 35.220806123879534 31.786561182683432, 35.220806156940334 31.78656109028468, 35.22080618078528 31.786560995090323, 35.22080619518473 31.78656089801714, 35.2208062 31.7865608))\n",
      "POLYGON ((35.212621299999995 31.7555555, 35.212621295184725 31.75555540198286, 35.21262128078528 31.755555304909677, 35.21262125694033 31.75555520971532, 35.21262122387953 31.755555117316568, 35.212621181921264 31.75555502860326, 35.21262113146961 31.75555494442977, 35.21262107301045 31.755554865606715, 35.212621007106776 31.755554792893218, 35.21262093439328 31.755554726989548, 35.21262085557023 31.755554668530387, 35.212620771396736 31.755554618078737, 35.21262068268343 31.755554576120467, 35.21262059028467 31.755554543059663, 35.21262049509032 31.75555451921472, 35.21262039801714 31.755554504815272, 35.2126203 31.7555545, 35.21262020198286 31.755554504815272, 35.212620104909675 31.75555451921472, 35.21262000971532 31.755554543059663, 35.212619917316566 31.755554576120467, 35.21261982860326 31.755554618078737, 35.212619744429766 31.755554668530387, 35.21261966560672 31.755554726989548, 35.21261959289322 31.755554792893218, 35.21261952698954 31.755554865606715, 35.212619468530384 31.75555494442977, 35.21261941807873 31.75555502860326, 35.212619376120465 31.755555117316568, 35.212619343059664 31.75555520971532, 35.21261931921472 31.755555304909677, 35.21261930481527 31.75555540198286, 35.2126193 31.7555555, 35.21261930481527 31.75555559801714, 35.21261931921472 31.755555695090322, 35.212619343059664 31.755555790284678, 35.212619376120465 31.75555588268343, 35.21261941807873 31.75555597139674, 35.212619468530384 31.75555605557023, 35.21261952698954 31.755556134393284, 35.21261959289322 31.755556207106782, 35.21261966560672 31.755556273010452, 35.212619744429766 31.755556331469613, 35.21261982860326 31.755556381921263, 35.212619917316566 31.755556423879533, 35.21262000971532 31.755556456940337, 35.212620104909675 31.75555648078528, 35.21262020198286 31.755556495184727, 35.2126203 31.7555565, 35.21262039801714 31.755556495184727, 35.21262049509032 31.75555648078528, 35.21262059028467 31.755556456940337, 35.21262068268343 31.755556423879533, 35.212620771396736 31.755556381921263, 35.21262085557023 31.755556331469613, 35.21262093439328 31.755556273010452, 35.212621007106776 31.755556207106782, 35.21262107301045 31.755556134393284, 35.21262113146961 31.75555605557023, 35.212621181921264 31.75555597139674, 35.21262122387953 31.75555588268343, 35.21262125694033 31.755555790284678, 35.21262128078528 31.755555695090322, 35.212621295184725 31.75555559801714, 35.212621299999995 31.7555555))\n",
      "POLYGON ((35.2260728 31.7820246, 35.22607279518473 31.78202450198286, 35.22607278078528 31.782024404909677, 35.22607275694033 31.78202430971532, 35.22607272387953 31.782024217316568, 35.226072681921266 31.78202412860326, 35.22607263146961 31.782024044429768, 35.226072573010455 31.782023965606715, 35.22607250710678 31.782023892893218, 35.22607243439328 31.782023826989548, 35.22607235557023 31.782023768530387, 35.22607227139674 31.782023718078737, 35.22607218268343 31.782023676120467, 35.226072090284674 31.782023643059663, 35.22607199509032 31.78202361921472, 35.22607189801714 31.782023604815272, 35.2260718 31.7820236, 35.22607170198286 31.782023604815272, 35.22607160490968 31.78202361921472, 35.226071509715325 31.782023643059663, 35.22607141731657 31.782023676120467, 35.22607132860326 31.782023718078737, 35.22607124442977 31.782023768530387, 35.22607116560672 31.782023826989548, 35.22607109289322 31.782023892893218, 35.226071026989544 31.782023965606715, 35.22607096853039 31.782024044429768, 35.22607091807873 31.78202412860326, 35.22607087612047 31.782024217316568, 35.22607084305967 31.78202430971532, 35.22607081921472 31.782024404909677, 35.22607080481527 31.78202450198286, 35.2260708 31.7820246, 35.22607080481527 31.78202469801714, 35.22607081921472 31.782024795090322, 35.22607084305967 31.782024890284678, 35.22607087612047 31.78202498268343, 35.22607091807873 31.78202507139674, 35.22607096853039 31.78202515557023, 35.226071026989544 31.782025234393284, 35.22607109289322 31.78202530710678, 35.22607116560672 31.782025373010452, 35.22607124442977 31.782025431469613, 35.22607132860326 31.782025481921263, 35.22607141731657 31.782025523879533, 35.226071509715325 31.782025556940336, 35.22607160490968 31.78202558078528, 35.22607170198286 31.782025595184727, 35.2260718 31.7820256, 35.22607189801714 31.782025595184727, 35.22607199509032 31.78202558078528, 35.226072090284674 31.782025556940336, 35.22607218268343 31.782025523879533, 35.22607227139674 31.782025481921263, 35.22607235557023 31.782025431469613, 35.22607243439328 31.782025373010452, 35.22607250710678 31.78202530710678, 35.226072573010455 31.782025234393284, 35.22607263146961 31.78202515557023, 35.226072681921266 31.78202507139674, 35.22607272387953 31.78202498268343, 35.22607275694033 31.782024890284678, 35.22607278078528 31.782024795090322, 35.22607279518473 31.78202469801714, 35.2260728 31.7820246))\n",
      "POLYGON ((35.2123978 31.7831454, 35.21239779518473 31.78314530198286, 35.21239778078528 31.783145204909676, 35.212397756940334 31.78314510971532, 35.21239772387953 31.783145017316567, 35.21239768192127 31.78314492860326, 35.212397631469614 31.783144844429767, 35.212397573010456 31.783144765606714, 35.21239750710678 31.783144692893217, 35.21239743439328 31.783144626989547, 35.21239735557023 31.783144568530385, 35.21239727139674 31.783144518078736, 35.21239718268343 31.783144476120466, 35.212397090284675 31.783144443059662, 35.21239699509032 31.783144419214718, 35.21239689801714 31.78314440481527, 35.2123968 31.783144399999998, 35.21239670198286 31.78314440481527, 35.21239660490968 31.783144419214718, 35.212396509715326 31.783144443059662, 35.21239641731657 31.783144476120466, 35.21239632860326 31.783144518078736, 35.21239624442977 31.783144568530385, 35.21239616560672 31.783144626989547, 35.21239609289322 31.783144692893217, 35.212396026989545 31.783144765606714, 35.21239596853039 31.783144844429767, 35.212395918078734 31.78314492860326, 35.21239587612047 31.783145017316567, 35.21239584305967 31.78314510971532, 35.21239581921472 31.783145204909676, 35.21239580481527 31.78314530198286, 35.2123958 31.7831454, 35.21239580481527 31.783145498017138, 35.21239581921472 31.78314559509032, 35.21239584305967 31.783145690284677, 35.21239587612047 31.78314578268343, 35.212395918078734 31.783145871396737, 35.21239596853039 31.78314595557023, 35.212396026989545 31.783146034393283, 35.21239609289322 31.78314610710678, 35.21239616560672 31.78314617301045, 35.21239624442977 31.783146231469612, 35.21239632860326 31.783146281921262, 35.21239641731657 31.78314632387953, 35.212396509715326 31.783146356940335, 35.21239660490968 31.78314638078528, 35.21239670198286 31.783146395184726, 35.2123968 31.7831464, 35.21239689801714 31.783146395184726, 35.21239699509032 31.78314638078528, 35.212397090284675 31.783146356940335, 35.21239718268343 31.78314632387953, 35.21239727139674 31.783146281921262, 35.21239735557023 31.783146231469612, 35.21239743439328 31.78314617301045, 35.21239750710678 31.78314610710678, 35.212397573010456 31.783146034393283, 35.212397631469614 31.78314595557023, 35.21239768192127 31.783145871396737, 35.21239772387953 31.78314578268343, 35.212397756940334 31.783145690284677, 35.21239778078528 31.78314559509032, 35.21239779518473 31.783145498017138, 35.2123978 31.7831454))\n",
      "POLYGON ((35.2024434 31.7693712, 35.20244339518473 31.76937110198286, 35.20244338078528 31.769371004909676, 35.202443356940336 31.76937090971532, 35.202443323879535 31.769370817316567, 35.20244328192127 31.76937072860326, 35.202443231469616 31.769370644429767, 35.20244317301046 31.769370565606714, 35.20244310710678 31.769370492893216, 35.20244303439328 31.769370426989546, 35.202442955570234 31.769370368530385, 35.20244287139674 31.769370318078735, 35.202442782683434 31.769370276120465, 35.20244269028468 31.76937024305966, 35.202442595090325 31.769370219214718, 35.20244249801714 31.76937020481527, 35.2024424 31.769370199999997, 35.20244230198286 31.76937020481527, 35.20244220490968 31.769370219214718, 35.20244210971533 31.76937024305966, 35.20244201731657 31.769370276120465, 35.202441928603264 31.769370318078735, 35.20244184442977 31.769370368530385, 35.20244176560672 31.769370426989546, 35.202441692893224 31.769370492893216, 35.20244162698955 31.769370565606714, 35.20244156853039 31.769370644429767, 35.202441518078736 31.76937072860326, 35.20244147612047 31.769370817316567, 35.20244144305967 31.76937090971532, 35.20244141921472 31.769371004909676, 35.202441404815275 31.76937110198286, 35.202441400000005 31.7693712, 35.202441404815275 31.769371298017138, 35.20244141921472 31.76937139509032, 35.20244144305967 31.769371490284676, 35.20244147612047 31.76937158268343, 35.202441518078736 31.769371671396737, 35.20244156853039 31.76937175557023, 35.20244162698955 31.769371834393283, 35.202441692893224 31.76937190710678, 35.20244176560672 31.76937197301045, 35.20244184442977 31.76937203146961, 35.202441928603264 31.76937208192126, 35.20244201731657 31.76937212387953, 35.20244210971533 31.769372156940335, 35.20244220490968 31.76937218078528, 35.20244230198286 31.769372195184726, 35.2024424 31.7693722, 35.20244249801714 31.769372195184726, 35.202442595090325 31.76937218078528, 35.20244269028468 31.769372156940335, 35.202442782683434 31.76937212387953, 35.20244287139674 31.76937208192126, 35.202442955570234 31.76937203146961, 35.20244303439328 31.76937197301045, 35.20244310710678 31.76937190710678, 35.20244317301046 31.769371834393283, 35.202443231469616 31.76937175557023, 35.20244328192127 31.769371671396737, 35.202443323879535 31.76937158268343, 35.202443356940336 31.769371490284676, 35.20244338078528 31.76937139509032, 35.20244339518473 31.769371298017138, 35.2024434 31.7693712))\n",
      "POLYGON ((35.2093327 31.7660228, 35.20933269518473 31.76602270198286, 35.20933268078528 31.766022604909676, 35.20933265694033 31.76602250971532, 35.20933262387953 31.766022417316567, 35.20933258192127 31.76602232860326, 35.20933253146961 31.766022244429767, 35.209332473010456 31.766022165606714, 35.20933240710678 31.766022092893216, 35.20933233439328 31.766022026989546, 35.20933225557023 31.766021968530385, 35.20933217139674 31.766021918078735, 35.20933208268343 31.766021876120465, 35.209331990284674 31.76602184305966, 35.20933189509032 31.766021819214718, 35.20933179801714 31.76602180481527, 35.2093317 31.766021799999997, 35.20933160198286 31.76602180481527, 35.20933150490968 31.766021819214718, 35.209331409715325 31.76602184305966, 35.20933131731657 31.766021876120465, 35.20933122860326 31.766021918078735, 35.20933114442977 31.766021968530385, 35.20933106560672 31.766022026989546, 35.20933099289322 31.766022092893216, 35.209330926989544 31.766022165606714, 35.20933086853039 31.766022244429767, 35.20933081807873 31.76602232860326, 35.20933077612047 31.766022417316567, 35.20933074305967 31.76602250971532, 35.20933071921472 31.766022604909676, 35.20933070481527 31.76602270198286, 35.2093307 31.7660228, 35.20933070481527 31.766022898017138, 35.20933071921472 31.76602299509032, 35.20933074305967 31.766023090284676, 35.20933077612047 31.76602318268343, 35.20933081807873 31.766023271396737, 35.20933086853039 31.76602335557023, 35.209330926989544 31.766023434393283, 35.20933099289322 31.76602350710678, 35.20933106560672 31.76602357301045, 35.20933114442977 31.76602363146961, 35.20933122860326 31.76602368192126, 35.20933131731657 31.76602372387953, 35.209331409715325 31.766023756940335, 35.20933150490968 31.76602378078528, 35.20933160198286 31.766023795184726, 35.2093317 31.7660238, 35.20933179801714 31.766023795184726, 35.20933189509032 31.76602378078528, 35.209331990284674 31.766023756940335, 35.20933208268343 31.76602372387953, 35.20933217139674 31.76602368192126, 35.20933225557023 31.76602363146961, 35.20933233439328 31.76602357301045, 35.20933240710678 31.76602350710678, 35.209332473010456 31.766023434393283, 35.20933253146961 31.76602335557023, 35.20933258192127 31.766023271396737, 35.20933262387953 31.76602318268343, 35.20933265694033 31.766023090284676, 35.20933268078528 31.76602299509032, 35.20933269518473 31.766022898017138, 35.2093327 31.7660228))\n",
      "POLYGON ((35.190956 31.771929, 35.19095599518473 31.77192890198286, 35.19095598078528 31.771928804909678, 35.190955956940336 31.771928709715322, 35.190955923879535 31.77192861731657, 35.19095588192127 31.77192852860326, 35.190955831469616 31.77192844442977, 35.19095577301046 31.771928365606716, 35.19095570710678 31.771928292893218, 35.19095563439328 31.771928226989548, 35.190955555570234 31.771928168530387, 35.19095547139674 31.771928118078737, 35.190955382683434 31.771928076120467, 35.19095529028468 31.771928043059663, 35.190955195090325 31.77192801921472, 35.19095509801714 31.771928004815273, 35.190955 31.771928, 35.19095490198286 31.771928004815273, 35.19095480490968 31.77192801921472, 35.19095470971533 31.771928043059663, 35.19095461731657 31.771928076120467, 35.190954528603264 31.771928118078737, 35.19095444442977 31.771928168530387, 35.19095436560672 31.771928226989548, 35.190954292893224 31.771928292893218, 35.19095422698955 31.771928365606716, 35.19095416853039 31.77192844442977, 35.190954118078736 31.77192852860326, 35.19095407612047 31.77192861731657, 35.19095404305967 31.771928709715322, 35.19095401921472 31.771928804909678, 35.190954004815275 31.77192890198286, 35.190954000000005 31.771929, 35.190954004815275 31.77192909801714, 35.19095401921472 31.771929195090323, 35.19095404305967 31.771929290284678, 35.19095407612047 31.77192938268343, 35.190954118078736 31.77192947139674, 35.19095416853039 31.77192955557023, 35.19095422698955 31.771929634393285, 35.190954292893224 31.771929707106782, 35.19095436560672 31.771929773010452, 35.19095444442977 31.771929831469613, 35.190954528603264 31.771929881921263, 35.19095461731657 31.771929923879533, 35.19095470971533 31.771929956940337, 35.19095480490968 31.77192998078528, 35.19095490198286 31.771929995184728, 35.190955 31.77193, 35.19095509801714 31.771929995184728, 35.190955195090325 31.77192998078528, 35.19095529028468 31.771929956940337, 35.190955382683434 31.771929923879533, 35.19095547139674 31.771929881921263, 35.190955555570234 31.771929831469613, 35.19095563439328 31.771929773010452, 35.19095570710678 31.771929707106782, 35.19095577301046 31.771929634393285, 35.190955831469616 31.77192955557023, 35.19095588192127 31.77192947139674, 35.190955923879535 31.77192938268343, 35.190955956940336 31.771929290284678, 35.19095598078528 31.771929195090323, 35.19095599518473 31.77192909801714, 35.190956 31.771929))\n",
      "POLYGON ((35.2174871 31.8111253, 35.21748709518473 31.81112520198286, 35.21748708078528 31.811125104909678, 35.217487056940335 31.811125009715322, 35.217487023879535 31.81112491731657, 35.21748698192127 31.811124828603262, 35.217486931469615 31.81112474442977, 35.21748687301046 31.811124665606716, 35.21748680710678 31.81112459289322, 35.21748673439328 31.81112452698955, 35.217486655570234 31.811124468530387, 35.21748657139674 31.811124418078737, 35.217486482683434 31.811124376120468, 35.21748639028468 31.811124343059664, 35.217486295090325 31.81112431921472, 35.21748619801714 31.811124304815273, 35.2174861 31.8111243, 35.21748600198286 31.811124304815273, 35.21748590490968 31.81112431921472, 35.21748580971533 31.811124343059664, 35.21748571731657 31.811124376120468, 35.217485628603264 31.811124418078737, 35.21748554442977 31.811124468530387, 35.21748546560672 31.81112452698955, 35.217485392893224 31.81112459289322, 35.21748532698955 31.811124665606716, 35.21748526853039 31.81112474442977, 35.217485218078735 31.811124828603262, 35.21748517612047 31.81112491731657, 35.21748514305967 31.811125009715322, 35.21748511921472 31.811125104909678, 35.217485104815275 31.81112520198286, 35.217485100000005 31.8111253, 35.217485104815275 31.81112539801714, 35.21748511921472 31.811125495090323, 35.21748514305967 31.81112559028468, 35.21748517612047 31.811125682683432, 35.217485218078735 31.81112577139674, 35.21748526853039 31.811125855570232, 35.21748532698955 31.811125934393285, 35.217485392893224 31.811126007106783, 35.21748546560672 31.811126073010453, 35.21748554442977 31.811126131469614, 35.217485628603264 31.811126181921264, 35.21748571731657 31.811126223879533, 35.21748580971533 31.811126256940337, 35.21748590490968 31.81112628078528, 35.21748600198286 31.811126295184728, 35.2174861 31.8111263, 35.21748619801714 31.811126295184728, 35.217486295090325 31.81112628078528, 35.21748639028468 31.811126256940337, 35.217486482683434 31.811126223879533, 35.21748657139674 31.811126181921264, 35.217486655570234 31.811126131469614, 35.21748673439328 31.811126073010453, 35.21748680710678 31.811126007106783, 35.21748687301046 31.811125934393285, 35.217486931469615 31.811125855570232, 35.21748698192127 31.81112577139674, 35.217487023879535 31.811125682683432, 35.217487056940335 31.81112559028468, 35.21748708078528 31.811125495090323, 35.21748709518473 31.81112539801714, 35.2174871 31.8111253))\n",
      "POLYGON ((35.1696302 31.7487681, 35.16963019518473 31.74876800198286, 35.16963018078528 31.748767904909677, 35.169630156940336 31.74876780971532, 35.169630123879536 31.748767717316568, 35.16963008192127 31.74876762860326, 35.169630031469616 31.748767544429768, 35.16962997301046 31.748767465606715, 35.16962990710678 31.748767392893217, 35.169629834393284 31.748767326989547, 35.169629755570234 31.748767268530386, 35.16962967139674 31.748767218078736, 35.169629582683434 31.748767176120467, 35.16962949028468 31.748767143059663, 35.169629395090325 31.74876711921472, 35.16962929801714 31.748767104815272, 35.1696292 31.7487671, 35.16962910198286 31.748767104815272, 35.16962900490968 31.74876711921472, 35.16962890971533 31.748767143059663, 35.16962881731657 31.748767176120467, 35.169628728603264 31.748767218078736, 35.16962864442977 31.748767268530386, 35.16962856560672 31.748767326989547, 35.169628492893224 31.748767392893217, 35.16962842698955 31.748767465606715, 35.16962836853039 31.748767544429768, 35.169628318078736 31.74876762860326, 35.16962827612047 31.748767717316568, 35.16962824305967 31.74876780971532, 35.16962821921472 31.748767904909677, 35.169628204815275 31.74876800198286, 35.169628200000005 31.7487681, 35.169628204815275 31.74876819801714, 35.16962821921472 31.748768295090322, 35.16962824305967 31.748768390284678, 35.16962827612047 31.74876848268343, 35.169628318078736 31.748768571396738, 35.16962836853039 31.74876865557023, 35.16962842698955 31.748768734393284, 35.169628492893224 31.74876880710678, 35.16962856560672 31.74876887301045, 35.16962864442977 31.748768931469613, 35.169628728603264 31.748768981921263, 35.16962881731657 31.748769023879532, 35.16962890971533 31.748769056940336, 35.16962900490968 31.74876908078528, 35.16962910198286 31.748769095184727, 35.1696292 31.7487691, 35.16962929801714 31.748769095184727, 35.169629395090325 31.74876908078528, 35.16962949028468 31.748769056940336, 35.169629582683434 31.748769023879532, 35.16962967139674 31.748768981921263, 35.169629755570234 31.748768931469613, 35.169629834393284 31.74876887301045, 35.16962990710678 31.74876880710678, 35.16962997301046 31.748768734393284, 35.169630031469616 31.74876865557023, 35.16963008192127 31.748768571396738, 35.169630123879536 31.74876848268343, 35.169630156940336 31.748768390284678, 35.16963018078528 31.748768295090322, 35.16963019518473 31.74876819801714, 35.1696302 31.7487681))\n",
      "POLYGON ((35.2053703 31.7621723, 35.20537029518473 31.76217220198286, 35.20537028078528 31.762172104909677, 35.205370256940334 31.76217200971532, 35.205370223879534 31.762171917316568, 35.20537018192127 31.76217182860326, 35.205370131469614 31.762171744429768, 35.20537007301046 31.762171665606715, 35.20537000710678 31.762171592893218, 35.20536993439328 31.762171526989547, 35.20536985557023 31.762171468530386, 35.20536977139674 31.762171418078736, 35.20536968268343 31.762171376120467, 35.205369590284675 31.762171343059663, 35.20536949509032 31.76217131921472, 35.20536939801714 31.762171304815272, 35.2053693 31.7621713, 35.20536920198286 31.762171304815272, 35.20536910490968 31.76217131921472, 35.20536900971533 31.762171343059663, 35.20536891731657 31.762171376120467, 35.20536882860326 31.762171418078736, 35.20536874442977 31.762171468530386, 35.20536866560672 31.762171526989547, 35.20536859289322 31.762171592893218, 35.205368526989545 31.762171665606715, 35.20536846853039 31.762171744429768, 35.205368418078734 31.76217182860326, 35.20536837612047 31.762171917316568, 35.20536834305967 31.76217200971532, 35.20536831921472 31.762172104909677, 35.20536830481527 31.76217220198286, 35.2053683 31.7621723, 35.20536830481527 31.76217239801714, 35.20536831921472 31.762172495090322, 35.20536834305967 31.762172590284678, 35.20536837612047 31.76217268268343, 35.205368418078734 31.762172771396738, 35.20536846853039 31.76217285557023, 35.205368526989545 31.762172934393284, 35.20536859289322 31.76217300710678, 35.20536866560672 31.76217307301045, 35.20536874442977 31.762173131469613, 35.20536882860326 31.762173181921263, 35.20536891731657 31.762173223879532, 35.20536900971533 31.762173256940336, 35.20536910490968 31.76217328078528, 35.20536920198286 31.762173295184727, 35.2053693 31.7621733, 35.20536939801714 31.762173295184727, 35.20536949509032 31.76217328078528, 35.205369590284675 31.762173256940336, 35.20536968268343 31.762173223879532, 35.20536977139674 31.762173181921263, 35.20536985557023 31.762173131469613, 35.20536993439328 31.76217307301045, 35.20537000710678 31.76217300710678, 35.20537007301046 31.762172934393284, 35.205370131469614 31.76217285557023, 35.20537018192127 31.762172771396738, 35.205370223879534 31.76217268268343, 35.205370256940334 31.762172590284678, 35.20537028078528 31.762172495090322, 35.20537029518473 31.76217239801714, 35.2053703 31.7621723))\n",
      "POLYGON ((35.211444 31.7779514, 35.21144399518473 31.77795130198286, 35.21144398078528 31.777951204909677, 35.211443956940336 31.77795110971532, 35.211443923879536 31.777951017316568, 35.21144388192127 31.77795092860326, 35.211443831469616 31.777950844429768, 35.21144377301046 31.777950765606715, 35.21144370710678 31.777950692893217, 35.211443634393284 31.777950626989547, 35.211443555570234 31.777950568530386, 35.21144347139674 31.777950518078736, 35.211443382683434 31.777950476120466, 35.21144329028468 31.777950443059662, 35.211443195090325 31.77795041921472, 35.21144309801714 31.77795040481527, 35.211443 31.777950399999998, 35.21144290198286 31.77795040481527, 35.21144280490968 31.77795041921472, 35.21144270971533 31.777950443059662, 35.21144261731657 31.777950476120466, 35.211442528603264 31.777950518078736, 35.21144244442977 31.777950568530386, 35.21144236560672 31.777950626989547, 35.211442292893224 31.777950692893217, 35.21144222698955 31.777950765606715, 35.21144216853039 31.777950844429768, 35.211442118078736 31.77795092860326, 35.21144207612047 31.777951017316568, 35.21144204305967 31.77795110971532, 35.21144201921472 31.777951204909677, 35.211442004815275 31.77795130198286, 35.211442000000005 31.7779514, 35.211442004815275 31.77795149801714, 35.21144201921472 31.77795159509032, 35.21144204305967 31.777951690284677, 35.21144207612047 31.77795178268343, 35.211442118078736 31.777951871396738, 35.21144216853039 31.77795195557023, 35.21144222698955 31.777952034393284, 35.211442292893224 31.77795210710678, 35.21144236560672 31.77795217301045, 35.21144244442977 31.777952231469612, 35.211442528603264 31.777952281921262, 35.21144261731657 31.777952323879532, 35.21144270971533 31.777952356940336, 35.21144280490968 31.77795238078528, 35.21144290198286 31.777952395184727, 35.211443 31.7779524, 35.21144309801714 31.777952395184727, 35.211443195090325 31.77795238078528, 35.21144329028468 31.777952356940336, 35.211443382683434 31.777952323879532, 35.21144347139674 31.777952281921262, 35.211443555570234 31.777952231469612, 35.211443634393284 31.77795217301045, 35.21144370710678 31.77795210710678, 35.21144377301046 31.777952034393284, 35.211443831469616 31.77795195557023, 35.21144388192127 31.777951871396738, 35.211443923879536 31.77795178268343, 35.211443956940336 31.777951690284677, 35.21144398078528 31.77795159509032, 35.21144399518473 31.77795149801714, 35.211444 31.7779514))\n",
      "POLYGON ((35.2176804 31.7708162, 35.21768039518473 31.77081610198286, 35.21768038078528 31.770816004909676, 35.217680356940335 31.77081590971532, 35.217680323879534 31.770815817316567, 35.21768028192127 31.77081572860326, 35.217680231469615 31.770815644429767, 35.21768017301046 31.770815565606714, 35.21768010710678 31.770815492893217, 35.21768003439328 31.770815426989547, 35.21767995557023 31.770815368530386, 35.21767987139674 31.770815318078736, 35.21767978268343 31.770815276120466, 35.217679690284676 31.770815243059662, 35.217679595090324 31.770815219214718, 35.21767949801714 31.77081520481527, 35.2176794 31.770815199999998, 35.21767930198286 31.77081520481527, 35.21767920490968 31.770815219214718, 35.21767910971533 31.770815243059662, 35.21767901731657 31.770815276120466, 35.21767892860326 31.770815318078736, 35.21767884442977 31.770815368530386, 35.21767876560672 31.770815426989547, 35.21767869289322 31.770815492893217, 35.217678626989546 31.770815565606714, 35.21767856853039 31.770815644429767, 35.217678518078735 31.77081572860326, 35.21767847612047 31.770815817316567, 35.21767844305967 31.77081590971532, 35.21767841921472 31.770816004909676, 35.217678404815274 31.77081610198286, 35.217678400000004 31.7708162, 35.217678404815274 31.770816298017138, 35.21767841921472 31.77081639509032, 35.21767844305967 31.770816490284677, 35.21767847612047 31.77081658268343, 35.217678518078735 31.770816671396737, 35.21767856853039 31.77081675557023, 35.217678626989546 31.770816834393283, 35.21767869289322 31.77081690710678, 35.21767876560672 31.77081697301045, 35.21767884442977 31.770817031469612, 35.21767892860326 31.770817081921262, 35.21767901731657 31.77081712387953, 35.21767910971533 31.770817156940335, 35.21767920490968 31.77081718078528, 35.21767930198286 31.770817195184726, 35.2176794 31.7708172, 35.21767949801714 31.770817195184726, 35.217679595090324 31.77081718078528, 35.217679690284676 31.770817156940335, 35.21767978268343 31.77081712387953, 35.21767987139674 31.770817081921262, 35.21767995557023 31.770817031469612, 35.21768003439328 31.77081697301045, 35.21768010710678 31.77081690710678, 35.21768017301046 31.770816834393283, 35.217680231469615 31.77081675557023, 35.21768028192127 31.770816671396737, 35.217680323879534 31.77081658268343, 35.217680356940335 31.770816490284677, 35.21768038078528 31.77081639509032, 35.21768039518473 31.770816298017138, 35.2176804 31.7708162))\n",
      "POLYGON ((35.2033992 31.8151731, 35.20339919518473 31.81517300198286, 35.20339918078528 31.815172904909677, 35.203399156940336 31.81517280971532, 35.203399123879535 31.815172717316567, 35.20339908192127 31.81517262860326, 35.203399031469615 31.815172544429767, 35.20339897301046 31.815172465606715, 35.20339890710678 31.815172392893217, 35.20339883439328 31.815172326989547, 35.203398755570234 31.815172268530386, 35.20339867139674 31.815172218078736, 35.203398582683434 31.815172176120466, 35.20339849028468 31.815172143059662, 35.203398395090325 31.81517211921472, 35.20339829801714 31.81517210481527, 35.2033982 31.815172099999998, 35.20339810198286 31.81517210481527, 35.20339800490968 31.81517211921472, 35.20339790971533 31.815172143059662, 35.20339781731657 31.815172176120466, 35.203397728603264 31.815172218078736, 35.20339764442977 31.815172268530386, 35.20339756560672 31.815172326989547, 35.203397492893224 31.815172392893217, 35.20339742698955 31.815172465606715, 35.20339736853039 31.815172544429767, 35.203397318078736 31.81517262860326, 35.20339727612047 31.815172717316567, 35.20339724305967 31.81517280971532, 35.20339721921472 31.815172904909677, 35.203397204815275 31.81517300198286, 35.203397200000005 31.8151731, 35.203397204815275 31.81517319801714, 35.20339721921472 31.81517329509032, 35.20339724305967 31.815173390284677, 35.20339727612047 31.81517348268343, 35.203397318078736 31.815173571396738, 35.20339736853039 31.81517365557023, 35.20339742698955 31.815173734393284, 35.203397492893224 31.81517380710678, 35.20339756560672 31.81517387301045, 35.20339764442977 31.815173931469612, 35.203397728603264 31.815173981921262, 35.20339781731657 31.815174023879532, 35.20339790971533 31.815174056940336, 35.20339800490968 31.81517408078528, 35.20339810198286 31.815174095184727, 35.2033982 31.8151741, 35.20339829801714 31.815174095184727, 35.203398395090325 31.81517408078528, 35.20339849028468 31.815174056940336, 35.203398582683434 31.815174023879532, 35.20339867139674 31.815173981921262, 35.203398755570234 31.815173931469612, 35.20339883439328 31.81517387301045, 35.20339890710678 31.81517380710678, 35.20339897301046 31.815173734393284, 35.203399031469615 31.81517365557023, 35.20339908192127 31.815173571396738, 35.203399123879535 31.81517348268343, 35.203399156940336 31.815173390284677, 35.20339918078528 31.81517329509032, 35.20339919518473 31.81517319801714, 35.2033992 31.8151731))\n",
      "POLYGON ((35.196582899999996 31.8103649, 35.196582895184726 31.81036480198286, 35.19658288078528 31.810364704909677, 35.19658285694033 31.81036460971532, 35.19658282387953 31.810364517316568, 35.196582781921265 31.81036442860326, 35.19658273146961 31.810364344429768, 35.196582673010454 31.810364265606715, 35.19658260710678 31.810364192893218, 35.19658253439328 31.810364126989548, 35.19658245557023 31.810364068530387, 35.19658237139674 31.810364018078737, 35.19658228268343 31.810363976120467, 35.19658219028467 31.810363943059663, 35.19658209509032 31.81036391921472, 35.19658199801714 31.810363904815272, 35.1965819 31.8103639, 35.19658180198286 31.810363904815272, 35.196581704909676 31.81036391921472, 35.196581609715324 31.810363943059663, 35.19658151731657 31.810363976120467, 35.19658142860326 31.810364018078737, 35.19658134442977 31.810364068530387, 35.19658126560672 31.810364126989548, 35.19658119289322 31.810364192893218, 35.19658112698954 31.810364265606715, 35.196581068530385 31.810364344429768, 35.19658101807873 31.81036442860326, 35.196580976120465 31.810364517316568, 35.196580943059665 31.81036460971532, 35.19658091921472 31.810364704909677, 35.19658090481527 31.81036480198286, 35.1965809 31.8103649, 35.19658090481527 31.81036499801714, 35.19658091921472 31.810365095090322, 35.196580943059665 31.810365190284678, 35.196580976120465 31.81036528268343, 35.19658101807873 31.81036537139674, 35.196581068530385 31.81036545557023, 35.19658112698954 31.810365534393284, 35.19658119289322 31.81036560710678, 35.19658126560672 31.810365673010452, 35.19658134442977 31.810365731469613, 35.19658142860326 31.810365781921263, 35.19658151731657 31.810365823879533, 35.196581609715324 31.810365856940336, 35.196581704909676 31.81036588078528, 35.19658180198286 31.810365895184727, 35.1965819 31.8103659, 35.19658199801714 31.810365895184727, 35.19658209509032 31.81036588078528, 35.19658219028467 31.810365856940336, 35.19658228268343 31.810365823879533, 35.19658237139674 31.810365781921263, 35.19658245557023 31.810365731469613, 35.19658253439328 31.810365673010452, 35.19658260710678 31.81036560710678, 35.196582673010454 31.810365534393284, 35.19658273146961 31.81036545557023, 35.196582781921265 31.81036537139674, 35.19658282387953 31.81036528268343, 35.19658285694033 31.810365190284678, 35.19658288078528 31.810365095090322, 35.196582895184726 31.81036499801714, 35.196582899999996 31.8103649))\n",
      "POLYGON ((35.247138299999996 31.8117305, 35.247138295184726 31.81173040198286, 35.24713828078528 31.811730304909677, 35.24713825694033 31.81173020971532, 35.24713822387953 31.811730117316568, 35.247138181921265 31.81173002860326, 35.24713813146961 31.811729944429768, 35.247138073010454 31.811729865606715, 35.24713800710678 31.811729792893217, 35.24713793439328 31.811729726989547, 35.24713785557023 31.811729668530386, 35.24713777139674 31.811729618078736, 35.24713768268343 31.811729576120467, 35.24713759028467 31.811729543059663, 35.24713749509032 31.81172951921472, 35.24713739801714 31.811729504815272, 35.2471373 31.8117295, 35.24713720198286 31.811729504815272, 35.247137104909676 31.81172951921472, 35.247137009715324 31.811729543059663, 35.24713691731657 31.811729576120467, 35.24713682860326 31.811729618078736, 35.24713674442977 31.811729668530386, 35.24713666560672 31.811729726989547, 35.24713659289322 31.811729792893217, 35.24713652698954 31.811729865606715, 35.247136468530385 31.811729944429768, 35.24713641807873 31.81173002860326, 35.247136376120466 31.811730117316568, 35.247136343059665 31.81173020971532, 35.24713631921472 31.811730304909677, 35.24713630481527 31.81173040198286, 35.2471363 31.8117305, 35.24713630481527 31.81173059801714, 35.24713631921472 31.811730695090322, 35.247136343059665 31.811730790284678, 35.247136376120466 31.81173088268343, 35.24713641807873 31.811730971396738, 35.247136468530385 31.81173105557023, 35.24713652698954 31.811731134393284, 35.24713659289322 31.81173120710678, 35.24713666560672 31.81173127301045, 35.24713674442977 31.811731331469613, 35.24713682860326 31.811731381921263, 35.24713691731657 31.811731423879532, 35.247137009715324 31.811731456940336, 35.247137104909676 31.81173148078528, 35.24713720198286 31.811731495184727, 35.2471373 31.8117315, 35.24713739801714 31.811731495184727, 35.24713749509032 31.81173148078528, 35.24713759028467 31.811731456940336, 35.24713768268343 31.811731423879532, 35.24713777139674 31.811731381921263, 35.24713785557023 31.811731331469613, 35.24713793439328 31.81173127301045, 35.24713800710678 31.81173120710678, 35.247138073010454 31.811731134393284, 35.24713813146961 31.81173105557023, 35.247138181921265 31.811730971396738, 35.24713822387953 31.81173088268343, 35.24713825694033 31.811730790284678, 35.24713828078528 31.811730695090322, 35.247138295184726 31.81173059801714, 35.247138299999996 31.8117305))\n",
      "POLYGON ((35.1581504 31.7639414, 35.15815039518473 31.76394130198286, 35.15815038078528 31.763941204909678, 35.15815035694033 31.763941109715322, 35.15815032387953 31.76394101731657, 35.158150281921266 31.76394092860326, 35.15815023146961 31.76394084442977, 35.158150173010455 31.763940765606716, 35.15815010710678 31.763940692893218, 35.15815003439328 31.763940626989548, 35.15814995557023 31.763940568530387, 35.15814987139674 31.763940518078737, 35.15814978268343 31.763940476120467, 35.158149690284674 31.763940443059663, 35.15814959509032 31.76394041921472, 35.15814949801714 31.763940404815273, 35.1581494 31.7639404, 35.15814930198286 31.763940404815273, 35.15814920490968 31.76394041921472, 35.158149109715325 31.763940443059663, 35.15814901731657 31.763940476120467, 35.15814892860326 31.763940518078737, 35.15814884442977 31.763940568530387, 35.15814876560672 31.763940626989548, 35.15814869289322 31.763940692893218, 35.158148626989544 31.763940765606716, 35.158148568530386 31.76394084442977, 35.15814851807873 31.76394092860326, 35.158148476120466 31.76394101731657, 35.158148443059666 31.763941109715322, 35.15814841921472 31.763941204909678, 35.15814840481527 31.76394130198286, 35.1581484 31.7639414, 35.15814840481527 31.76394149801714, 35.15814841921472 31.763941595090323, 35.158148443059666 31.76394169028468, 35.158148476120466 31.763941782683432, 35.15814851807873 31.76394187139674, 35.158148568530386 31.763941955570232, 35.158148626989544 31.763942034393285, 35.15814869289322 31.763942107106782, 35.15814876560672 31.763942173010452, 35.15814884442977 31.763942231469613, 35.15814892860326 31.763942281921263, 35.15814901731657 31.763942323879533, 35.158149109715325 31.763942356940337, 35.15814920490968 31.76394238078528, 35.15814930198286 31.763942395184728, 35.1581494 31.7639424, 35.15814949801714 31.763942395184728, 35.15814959509032 31.76394238078528, 35.158149690284674 31.763942356940337, 35.15814978268343 31.763942323879533, 35.15814987139674 31.763942281921263, 35.15814995557023 31.763942231469613, 35.15815003439328 31.763942173010452, 35.15815010710678 31.763942107106782, 35.158150173010455 31.763942034393285, 35.15815023146961 31.763941955570232, 35.158150281921266 31.76394187139674, 35.15815032387953 31.763941782683432, 35.15815035694033 31.76394169028468, 35.15815038078528 31.763941595090323, 35.15815039518473 31.76394149801714, 35.1581504 31.7639414))\n",
      "POLYGON ((35.243918 31.753106, 35.24391799518473 31.75310590198286, 35.243917980785284 31.753105804909676, 35.24391795694034 31.75310570971532, 35.243917923879536 31.753105617316567, 35.24391788192127 31.75310552860326, 35.243917831469616 31.753105444429767, 35.24391777301046 31.753105365606714, 35.24391770710678 31.753105292893217, 35.243917634393284 31.753105226989547, 35.243917555570235 31.753105168530386, 35.24391747139674 31.753105118078736, 35.243917382683435 31.753105076120466, 35.24391729028468 31.753105043059662, 35.243917195090326 31.75310501921472, 35.24391709801714 31.75310500481527, 35.243917 31.753104999999998, 35.243916901982864 31.75310500481527, 35.24391680490968 31.75310501921472, 35.24391670971533 31.753105043059662, 35.24391661731657 31.753105076120466, 35.243916528603265 31.753105118078736, 35.24391644442977 31.753105168530386, 35.24391636560672 31.753105226989547, 35.243916292893225 31.753105292893217, 35.24391622698955 31.753105365606714, 35.24391616853039 31.753105444429767, 35.24391611807874 31.75310552860326, 35.24391607612047 31.753105617316567, 35.24391604305967 31.75310570971532, 35.24391601921472 31.753105804909676, 35.243916004815276 31.75310590198286, 35.243916000000006 31.753106, 35.243916004815276 31.75310609801714, 35.24391601921472 31.75310619509032, 35.24391604305967 31.753106290284677, 35.24391607612047 31.75310638268343, 35.24391611807874 31.753106471396737, 35.24391616853039 31.75310655557023, 35.24391622698955 31.753106634393284, 35.243916292893225 31.75310670710678, 35.24391636560672 31.75310677301045, 35.24391644442977 31.753106831469612, 35.243916528603265 31.753106881921262, 35.24391661731657 31.753106923879532, 35.24391670971533 31.753106956940336, 35.24391680490968 31.75310698078528, 35.243916901982864 31.753106995184726, 35.243917 31.753107, 35.24391709801714 31.753106995184726, 35.243917195090326 31.75310698078528, 35.24391729028468 31.753106956940336, 35.243917382683435 31.753106923879532, 35.24391747139674 31.753106881921262, 35.243917555570235 31.753106831469612, 35.243917634393284 31.75310677301045, 35.24391770710678 31.75310670710678, 35.24391777301046 31.753106634393284, 35.243917831469616 31.75310655557023, 35.24391788192127 31.753106471396737, 35.243917923879536 31.75310638268343, 35.24391795694034 31.753106290284677, 35.243917980785284 31.75310619509032, 35.24391799518473 31.75310609801714, 35.243918 31.753106))\n",
      "POLYGON ((35.2425356 31.794767, 35.24253559518473 31.79476690198286, 35.24253558078528 31.794766804909678, 35.24253555694033 31.794766709715322, 35.24253552387953 31.79476661731657, 35.242535481921266 31.79476652860326, 35.24253543146961 31.79476644442977, 35.242535373010455 31.794766365606716, 35.24253530710678 31.794766292893218, 35.24253523439328 31.794766226989548, 35.24253515557023 31.794766168530387, 35.24253507139674 31.794766118078737, 35.24253498268343 31.794766076120467, 35.242534890284674 31.794766043059663, 35.24253479509032 31.79476601921472, 35.24253469801714 31.794766004815273, 35.2425346 31.794766, 35.24253450198286 31.794766004815273, 35.24253440490968 31.79476601921472, 35.242534309715325 31.794766043059663, 35.24253421731657 31.794766076120467, 35.24253412860326 31.794766118078737, 35.24253404442977 31.794766168530387, 35.24253396560672 31.794766226989548, 35.24253389289322 31.794766292893218, 35.24253382698954 31.794766365606716, 35.242533768530386 31.79476644442977, 35.24253371807873 31.79476652860326, 35.242533676120466 31.79476661731657, 35.242533643059666 31.794766709715322, 35.24253361921472 31.794766804909678, 35.24253360481527 31.79476690198286, 35.2425336 31.794767, 35.24253360481527 31.79476709801714, 35.24253361921472 31.794767195090323, 35.242533643059666 31.79476729028468, 35.242533676120466 31.794767382683432, 35.24253371807873 31.79476747139674, 35.242533768530386 31.794767555570232, 35.24253382698954 31.794767634393285, 35.24253389289322 31.794767707106782, 35.24253396560672 31.794767773010452, 35.24253404442977 31.794767831469613, 35.24253412860326 31.794767881921263, 35.24253421731657 31.794767923879533, 35.242534309715325 31.794767956940337, 35.24253440490968 31.79476798078528, 35.24253450198286 31.794767995184728, 35.2425346 31.794768, 35.24253469801714 31.794767995184728, 35.24253479509032 31.79476798078528, 35.242534890284674 31.794767956940337, 35.24253498268343 31.794767923879533, 35.24253507139674 31.794767881921263, 35.24253515557023 31.794767831469613, 35.24253523439328 31.794767773010452, 35.24253530710678 31.794767707106782, 35.242535373010455 31.794767634393285, 35.24253543146961 31.794767555570232, 35.242535481921266 31.79476747139674, 35.24253552387953 31.794767382683432, 35.24253555694033 31.79476729028468, 35.24253558078528 31.794767195090323, 35.24253559518473 31.79476709801714, 35.2425356 31.794767))\n",
      "POLYGON ((35.241934199999996 31.8042873, 35.241934195184726 31.80428720198286, 35.24193418078528 31.804287104909676, 35.24193415694033 31.80428700971532, 35.24193412387953 31.804286917316567, 35.241934081921265 31.80428682860326, 35.24193403146961 31.804286744429767, 35.241933973010454 31.804286665606714, 35.24193390710678 31.804286592893217, 35.24193383439328 31.804286526989547, 35.24193375557023 31.804286468530385, 35.24193367139674 31.804286418078735, 35.24193358268343 31.804286376120466, 35.24193349028467 31.804286343059662, 35.24193339509032 31.804286319214718, 35.24193329801714 31.80428630481527, 35.2419332 31.804286299999998, 35.24193310198286 31.80428630481527, 35.241933004909676 31.804286319214718, 35.241932909715324 31.804286343059662, 35.24193281731657 31.804286376120466, 35.24193272860326 31.804286418078735, 35.24193264442977 31.804286468530385, 35.24193256560672 31.804286526989547, 35.24193249289322 31.804286592893217, 35.24193242698954 31.804286665606714, 35.241932368530385 31.804286744429767, 35.24193231807873 31.80428682860326, 35.241932276120465 31.804286917316567, 35.241932243059665 31.80428700971532, 35.24193221921472 31.804287104909676, 35.24193220481527 31.80428720198286, 35.2419322 31.8042873, 35.24193220481527 31.804287398017138, 35.24193221921472 31.80428749509032, 35.241932243059665 31.804287590284677, 35.241932276120465 31.80428768268343, 35.24193231807873 31.804287771396737, 35.241932368530385 31.80428785557023, 35.24193242698954 31.804287934393283, 35.24193249289322 31.80428800710678, 35.24193256560672 31.80428807301045, 35.24193264442977 31.80428813146961, 35.24193272860326 31.80428818192126, 35.24193281731657 31.80428822387953, 35.241932909715324 31.804288256940335, 35.241933004909676 31.80428828078528, 35.24193310198286 31.804288295184726, 35.2419332 31.8042883, 35.24193329801714 31.804288295184726, 35.24193339509032 31.80428828078528, 35.24193349028467 31.804288256940335, 35.24193358268343 31.80428822387953, 35.24193367139674 31.80428818192126, 35.24193375557023 31.80428813146961, 35.24193383439328 31.80428807301045, 35.24193390710678 31.80428800710678, 35.241933973010454 31.804287934393283, 35.24193403146961 31.80428785557023, 35.241934081921265 31.804287771396737, 35.24193412387953 31.80428768268343, 35.24193415694033 31.804287590284677, 35.24193418078528 31.80428749509032, 35.241934195184726 31.804287398017138, 35.241934199999996 31.8042873))\n",
      "POLYGON ((35.2310514 31.8039322, 35.23105139518473 31.80393210198286, 35.23105138078528 31.803932004909676, 35.231051356940334 31.80393190971532, 35.231051323879534 31.803931817316567, 35.23105128192127 31.80393172860326, 35.231051231469614 31.803931644429767, 35.23105117301046 31.803931565606714, 35.23105110710678 31.803931492893216, 35.23105103439328 31.803931426989546, 35.23105095557023 31.803931368530385, 35.23105087139674 31.803931318078735, 35.23105078268343 31.803931276120466, 35.231050690284675 31.80393124305966, 35.23105059509032 31.803931219214718, 35.23105049801714 31.80393120481527, 35.2310504 31.803931199999997, 35.23105030198286 31.80393120481527, 35.23105020490968 31.803931219214718, 35.231050109715326 31.80393124305966, 35.23105001731657 31.803931276120466, 35.23104992860326 31.803931318078735, 35.23104984442977 31.803931368530385, 35.23104976560672 31.803931426989546, 35.23104969289322 31.803931492893216, 35.231049626989545 31.803931565606714, 35.23104956853039 31.803931644429767, 35.231049518078734 31.80393172860326, 35.23104947612047 31.803931817316567, 35.23104944305967 31.80393190971532, 35.23104941921472 31.803932004909676, 35.23104940481527 31.80393210198286, 35.2310494 31.8039322, 35.23104940481527 31.803932298017138, 35.23104941921472 31.80393239509032, 35.23104944305967 31.803932490284677, 35.23104947612047 31.80393258268343, 35.231049518078734 31.803932671396737, 35.23104956853039 31.80393275557023, 35.231049626989545 31.803932834393283, 35.23104969289322 31.80393290710678, 35.23104976560672 31.80393297301045, 35.23104984442977 31.80393303146961, 35.23104992860326 31.80393308192126, 35.23105001731657 31.80393312387953, 35.231050109715326 31.803933156940335, 35.23105020490968 31.80393318078528, 35.23105030198286 31.803933195184726, 35.2310504 31.8039332, 35.23105049801714 31.803933195184726, 35.23105059509032 31.80393318078528, 35.231050690284675 31.803933156940335, 35.23105078268343 31.80393312387953, 35.23105087139674 31.80393308192126, 35.23105095557023 31.80393303146961, 35.23105103439328 31.80393297301045, 35.23105110710678 31.80393290710678, 35.23105117301046 31.803932834393283, 35.231051231469614 31.80393275557023, 35.23105128192127 31.803932671396737, 35.231051323879534 31.80393258268343, 35.231051356940334 31.803932490284677, 35.23105138078528 31.80393239509032, 35.23105139518473 31.803932298017138, 35.2310514 31.8039322))\n",
      "POLYGON ((35.2249584 31.7721407, 35.22495839518473 31.772140601982862, 35.22495838078528 31.77214050490968, 35.224958356940334 31.772140409715323, 35.224958323879534 31.77214031731657, 35.22495828192127 31.772140228603263, 35.224958231469614 31.77214014442977, 35.22495817301046 31.772140065606717, 35.22495810710678 31.77213999289322, 35.22495803439328 31.77213992698955, 35.22495795557023 31.772139868530388, 35.22495787139674 31.772139818078738, 35.22495778268343 31.77213977612047, 35.224957690284675 31.772139743059665, 35.22495759509032 31.77213971921472, 35.22495749801714 31.772139704815274, 35.2249574 31.7721397, 35.22495730198286 31.772139704815274, 35.22495720490968 31.77213971921472, 35.22495710971533 31.772139743059665, 35.22495701731657 31.77213977612047, 35.22495692860326 31.772139818078738, 35.22495684442977 31.772139868530388, 35.22495676560672 31.77213992698955, 35.22495669289322 31.77213999289322, 35.224956626989545 31.772140065606717, 35.22495656853039 31.77214014442977, 35.224956518078734 31.772140228603263, 35.22495647612047 31.77214031731657, 35.22495644305967 31.772140409715323, 35.22495641921472 31.77214050490968, 35.22495640481527 31.772140601982862, 35.2249564 31.7721407, 35.22495640481527 31.77214079801714, 35.22495641921472 31.772140895090324, 35.22495644305967 31.77214099028468, 35.22495647612047 31.772141082683433, 35.224956518078734 31.77214117139674, 35.22495656853039 31.772141255570233, 35.224956626989545 31.772141334393286, 35.22495669289322 31.772141407106783, 35.22495676560672 31.772141473010453, 35.22495684442977 31.772141531469615, 35.22495692860326 31.772141581921264, 35.22495701731657 31.772141623879534, 35.22495710971533 31.772141656940338, 35.22495720490968 31.772141680785282, 35.22495730198286 31.77214169518473, 35.2249574 31.772141700000002, 35.22495749801714 31.77214169518473, 35.22495759509032 31.772141680785282, 35.224957690284675 31.772141656940338, 35.22495778268343 31.772141623879534, 35.22495787139674 31.772141581921264, 35.22495795557023 31.772141531469615, 35.22495803439328 31.772141473010453, 35.22495810710678 31.772141407106783, 35.22495817301046 31.772141334393286, 35.224958231469614 31.772141255570233, 35.22495828192127 31.77214117139674, 35.224958323879534 31.772141082683433, 35.224958356940334 31.77214099028468, 35.22495838078528 31.772140895090324, 35.22495839518473 31.77214079801714, 35.2249584 31.7721407))\n",
      "POLYGON ((35.243916299999995 31.7701969, 35.243916295184725 31.77019680198286, 35.24391628078528 31.770196704909676, 35.24391625694033 31.77019660971532, 35.24391622387953 31.770196517316567, 35.243916181921264 31.77019642860326, 35.24391613146961 31.770196344429767, 35.24391607301045 31.770196265606714, 35.243916007106776 31.770196192893216, 35.24391593439328 31.770196126989546, 35.24391585557023 31.770196068530385, 35.243915771396736 31.770196018078735, 35.24391568268343 31.770195976120466, 35.24391559028467 31.77019594305966, 35.24391549509032 31.770195919214718, 35.24391539801714 31.77019590481527, 35.2439153 31.770195899999997, 35.24391520198286 31.77019590481527, 35.243915104909675 31.770195919214718, 35.24391500971532 31.77019594305966, 35.243914917316566 31.770195976120466, 35.24391482860326 31.770196018078735, 35.243914744429766 31.770196068530385, 35.24391466560672 31.770196126989546, 35.24391459289322 31.770196192893216, 35.24391452698954 31.770196265606714, 35.243914468530384 31.770196344429767, 35.24391441807873 31.77019642860326, 35.243914376120465 31.770196517316567, 35.243914343059664 31.77019660971532, 35.24391431921472 31.770196704909676, 35.24391430481527 31.77019680198286, 35.2439143 31.7701969, 35.24391430481527 31.770196998017138, 35.24391431921472 31.77019709509032, 35.243914343059664 31.770197190284676, 35.243914376120465 31.77019728268343, 35.24391441807873 31.770197371396737, 35.243914468530384 31.77019745557023, 35.24391452698954 31.770197534393283, 35.24391459289322 31.77019760710678, 35.24391466560672 31.77019767301045, 35.243914744429766 31.77019773146961, 35.24391482860326 31.77019778192126, 35.243914917316566 31.77019782387953, 35.24391500971532 31.770197856940335, 35.243915104909675 31.77019788078528, 35.24391520198286 31.770197895184726, 35.2439153 31.7701979, 35.24391539801714 31.770197895184726, 35.24391549509032 31.77019788078528, 35.24391559028467 31.770197856940335, 35.24391568268343 31.77019782387953, 35.243915771396736 31.77019778192126, 35.24391585557023 31.77019773146961, 35.24391593439328 31.77019767301045, 35.243916007106776 31.77019760710678, 35.24391607301045 31.770197534393283, 35.24391613146961 31.77019745557023, 35.243916181921264 31.770197371396737, 35.24391622387953 31.77019728268343, 35.24391625694033 31.770197190284676, 35.24391628078528 31.77019709509032, 35.243916295184725 31.770196998017138, 35.243916299999995 31.7701969))\n",
      "POLYGON ((35.245728799999995 31.7480437, 35.245728795184725 31.74804360198286, 35.24572878078528 31.748043504909678, 35.24572875694033 31.748043409715322, 35.24572872387953 31.74804331731657, 35.245728681921264 31.74804322860326, 35.24572863146961 31.74804314442977, 35.24572857301045 31.748043065606716, 35.245728507106776 31.748042992893218, 35.24572843439328 31.748042926989548, 35.24572835557023 31.748042868530387, 35.245728271396736 31.748042818078737, 35.24572818268343 31.748042776120467, 35.24572809028467 31.748042743059663, 35.24572799509032 31.74804271921472, 35.24572789801714 31.748042704815273, 35.2457278 31.7480427, 35.24572770198286 31.748042704815273, 35.245727604909675 31.74804271921472, 35.24572750971532 31.748042743059663, 35.245727417316566 31.748042776120467, 35.24572732860326 31.748042818078737, 35.245727244429766 31.748042868530387, 35.245727165606716 31.748042926989548, 35.24572709289322 31.748042992893218, 35.24572702698954 31.748043065606716, 35.245726968530384 31.74804314442977, 35.24572691807873 31.74804322860326, 35.245726876120465 31.74804331731657, 35.245726843059664 31.748043409715322, 35.24572681921472 31.748043504909678, 35.24572680481527 31.74804360198286, 35.2457268 31.7480437, 35.24572680481527 31.74804379801714, 35.24572681921472 31.748043895090323, 35.245726843059664 31.74804399028468, 35.245726876120465 31.748044082683432, 35.24572691807873 31.74804417139674, 35.245726968530384 31.748044255570232, 35.24572702698954 31.748044334393285, 35.24572709289322 31.748044407106782, 35.245727165606716 31.748044473010452, 35.245727244429766 31.748044531469613, 35.24572732860326 31.748044581921263, 35.245727417316566 31.748044623879533, 35.24572750971532 31.748044656940337, 35.245727604909675 31.74804468078528, 35.24572770198286 31.748044695184728, 35.2457278 31.7480447, 35.24572789801714 31.748044695184728, 35.24572799509032 31.74804468078528, 35.24572809028467 31.748044656940337, 35.24572818268343 31.748044623879533, 35.245728271396736 31.748044581921263, 35.24572835557023 31.748044531469613, 35.24572843439328 31.748044473010452, 35.245728507106776 31.748044407106782, 35.24572857301045 31.748044334393285, 35.24572863146961 31.748044255570232, 35.245728681921264 31.74804417139674, 35.24572872387953 31.748044082683432, 35.24572875694033 31.74804399028468, 35.24572878078528 31.748043895090323, 35.245728795184725 31.74804379801714, 35.245728799999995 31.7480437))\n",
      "POLYGON ((35.193208999999996 31.7408073, 35.193208995184726 31.74080720198286, 35.19320898078528 31.740807104909678, 35.19320895694033 31.740807009715322, 35.19320892387953 31.74080691731657, 35.193208881921265 31.74080682860326, 35.19320883146961 31.74080674442977, 35.193208773010454 31.740806665606716, 35.19320870710678 31.740806592893218, 35.19320863439328 31.740806526989548, 35.19320855557023 31.740806468530387, 35.19320847139674 31.740806418078737, 35.19320838268343 31.740806376120467, 35.19320829028467 31.740806343059663, 35.19320819509032 31.74080631921472, 35.19320809801714 31.740806304815273, 35.193208 31.7408063, 35.19320790198286 31.740806304815273, 35.193207804909676 31.74080631921472, 35.193207709715324 31.740806343059663, 35.19320761731657 31.740806376120467, 35.19320752860326 31.740806418078737, 35.19320744442977 31.740806468530387, 35.19320736560672 31.740806526989548, 35.19320729289322 31.740806592893218, 35.19320722698954 31.740806665606716, 35.193207168530385 31.74080674442977, 35.19320711807873 31.74080682860326, 35.193207076120466 31.74080691731657, 35.193207043059665 31.740807009715322, 35.19320701921472 31.740807104909678, 35.19320700481527 31.74080720198286, 35.193207 31.7408073, 35.19320700481527 31.74080739801714, 35.19320701921472 31.740807495090323, 35.193207043059665 31.74080759028468, 35.193207076120466 31.740807682683432, 35.19320711807873 31.74080777139674, 35.193207168530385 31.74080785557023, 35.19320722698954 31.740807934393285, 35.19320729289322 31.740808007106782, 35.19320736560672 31.740808073010452, 35.19320744442977 31.740808131469613, 35.19320752860326 31.740808181921263, 35.19320761731657 31.740808223879533, 35.193207709715324 31.740808256940337, 35.193207804909676 31.74080828078528, 35.19320790198286 31.740808295184728, 35.193208 31.7408083, 35.19320809801714 31.740808295184728, 35.19320819509032 31.74080828078528, 35.19320829028467 31.740808256940337, 35.19320838268343 31.740808223879533, 35.19320847139674 31.740808181921263, 35.19320855557023 31.740808131469613, 35.19320863439328 31.740808073010452, 35.19320870710678 31.740808007106782, 35.193208773010454 31.740807934393285, 35.19320883146961 31.74080785557023, 35.193208881921265 31.74080777139674, 35.19320892387953 31.740807682683432, 35.19320895694033 31.74080759028468, 35.19320898078528 31.740807495090323, 35.193208995184726 31.74080739801714, 35.193208999999996 31.7408073))\n",
      "POLYGON ((35.2113537 31.7889891, 35.21135369518473 31.78898900198286, 35.21135368078528 31.788988904909676, 35.21135365694033 31.78898880971532, 35.21135362387953 31.788988717316567, 35.211353581921266 31.78898862860326, 35.21135353146961 31.788988544429767, 35.211353473010455 31.788988465606714, 35.21135340710678 31.788988392893216, 35.21135333439328 31.788988326989546, 35.21135325557023 31.788988268530385, 35.21135317139674 31.788988218078735, 35.21135308268343 31.788988176120466, 35.211352990284674 31.78898814305966, 35.21135289509032 31.788988119214718, 35.21135279801714 31.78898810481527, 35.2113527 31.788988099999997, 35.21135260198286 31.78898810481527, 35.21135250490968 31.788988119214718, 35.211352409715325 31.78898814305966, 35.21135231731657 31.788988176120466, 35.21135222860326 31.788988218078735, 35.21135214442977 31.788988268530385, 35.21135206560672 31.788988326989546, 35.21135199289322 31.788988392893216, 35.21135192698954 31.788988465606714, 35.211351868530386 31.788988544429767, 35.21135181807873 31.78898862860326, 35.211351776120466 31.788988717316567, 35.211351743059666 31.78898880971532, 35.21135171921472 31.788988904909676, 35.21135170481527 31.78898900198286, 35.2113517 31.7889891, 35.21135170481527 31.788989198017138, 35.21135171921472 31.78898929509032, 35.211351743059666 31.788989390284677, 35.211351776120466 31.78898948268343, 35.21135181807873 31.788989571396737, 35.211351868530386 31.78898965557023, 35.21135192698954 31.788989734393283, 35.21135199289322 31.78898980710678, 35.21135206560672 31.78898987301045, 35.21135214442977 31.78898993146961, 35.21135222860326 31.78898998192126, 35.21135231731657 31.78899002387953, 35.211352409715325 31.788990056940335, 35.21135250490968 31.78899008078528, 35.21135260198286 31.788990095184726, 35.2113527 31.7889901, 35.21135279801714 31.788990095184726, 35.21135289509032 31.78899008078528, 35.211352990284674 31.788990056940335, 35.21135308268343 31.78899002387953, 35.21135317139674 31.78898998192126, 35.21135325557023 31.78898993146961, 35.21135333439328 31.78898987301045, 35.21135340710678 31.78898980710678, 35.211353473010455 31.788989734393283, 35.21135353146961 31.78898965557023, 35.211353581921266 31.788989571396737, 35.21135362387953 31.78898948268343, 35.21135365694033 31.788989390284677, 35.21135368078528 31.78898929509032, 35.21135369518473 31.788989198017138, 35.2113537 31.7889891))\n",
      "POLYGON ((35.2213996 31.7492021, 35.22139959518473 31.749202001982862, 35.22139958078528 31.74920190490968, 35.221399556940334 31.749201809715323, 35.22139952387953 31.74920171731657, 35.22139948192127 31.749201628603263, 35.221399431469614 31.74920154442977, 35.221399373010456 31.749201465606717, 35.22139930710678 31.74920139289322, 35.22139923439328 31.74920132698955, 35.22139915557023 31.74920126853039, 35.22139907139674 31.74920121807874, 35.22139898268343 31.74920117612047, 35.221398890284675 31.749201143059665, 35.22139879509032 31.74920111921472, 35.22139869801714 31.749201104815274, 35.2213986 31.7492011, 35.22139850198286 31.749201104815274, 35.22139840490968 31.74920111921472, 35.221398309715326 31.749201143059665, 35.22139821731657 31.74920117612047, 35.22139812860326 31.74920121807874, 35.22139804442977 31.74920126853039, 35.22139796560672 31.74920132698955, 35.22139789289322 31.74920139289322, 35.221397826989545 31.749201465606717, 35.22139776853039 31.74920154442977, 35.221397718078734 31.749201628603263, 35.22139767612047 31.74920171731657, 35.22139764305967 31.749201809715323, 35.22139761921472 31.74920190490968, 35.22139760481527 31.749202001982862, 35.2213976 31.7492021, 35.22139760481527 31.74920219801714, 35.22139761921472 31.749202295090324, 35.22139764305967 31.74920239028468, 35.22139767612047 31.749202482683433, 35.221397718078734 31.74920257139674, 35.22139776853039 31.749202655570233, 35.221397826989545 31.749202734393286, 35.22139789289322 31.749202807106784, 35.22139796560672 31.749202873010454, 35.22139804442977 31.749202931469615, 35.22139812860326 31.749202981921265, 35.22139821731657 31.749203023879534, 35.221398309715326 31.74920305694034, 35.22139840490968 31.749203080785282, 35.22139850198286 31.74920309518473, 35.2213986 31.749203100000003, 35.22139869801714 31.74920309518473, 35.22139879509032 31.749203080785282, 35.221398890284675 31.74920305694034, 35.22139898268343 31.749203023879534, 35.22139907139674 31.749202981921265, 35.22139915557023 31.749202931469615, 35.22139923439328 31.749202873010454, 35.22139930710678 31.749202807106784, 35.221399373010456 31.749202734393286, 35.221399431469614 31.749202655570233, 35.22139948192127 31.74920257139674, 35.22139952387953 31.749202482683433, 35.221399556940334 31.74920239028468, 35.22139958078528 31.749202295090324, 35.22139959518473 31.74920219801714, 35.2213996 31.7492021))\n",
      "POLYGON ((35.220440499999995 31.7807932, 35.220440495184725 31.780793101982862, 35.22044048078528 31.78079300490968, 35.22044045694033 31.780792909715323, 35.22044042387953 31.78079281731657, 35.220440381921264 31.780792728603263, 35.22044033146961 31.78079264442977, 35.22044027301045 31.780792565606717, 35.220440207106776 31.78079249289322, 35.22044013439328 31.78079242698955, 35.22044005557023 31.78079236853039, 35.220439971396736 31.78079231807874, 35.22043988268343 31.78079227612047, 35.22043979028467 31.780792243059665, 35.22043969509032 31.78079221921472, 35.22043959801714 31.780792204815274, 35.2204395 31.7807922, 35.22043940198286 31.780792204815274, 35.220439304909675 31.78079221921472, 35.22043920971532 31.780792243059665, 35.220439117316566 31.78079227612047, 35.22043902860326 31.78079231807874, 35.220438944429766 31.78079236853039, 35.22043886560672 31.78079242698955, 35.22043879289322 31.78079249289322, 35.22043872698954 31.780792565606717, 35.220438668530385 31.78079264442977, 35.22043861807873 31.780792728603263, 35.220438576120465 31.78079281731657, 35.220438543059664 31.780792909715323, 35.22043851921472 31.78079300490968, 35.22043850481527 31.780793101982862, 35.2204385 31.7807932, 35.22043850481527 31.78079329801714, 35.22043851921472 31.780793395090324, 35.220438543059664 31.78079349028468, 35.220438576120465 31.780793582683433, 35.22043861807873 31.78079367139674, 35.220438668530385 31.780793755570233, 35.22043872698954 31.780793834393286, 35.22043879289322 31.780793907106784, 35.22043886560672 31.780793973010454, 35.220438944429766 31.780794031469615, 35.22043902860326 31.780794081921265, 35.220439117316566 31.780794123879534, 35.22043920971532 31.78079415694034, 35.220439304909675 31.780794180785282, 35.22043940198286 31.78079419518473, 35.2204395 31.780794200000003, 35.22043959801714 31.78079419518473, 35.22043969509032 31.780794180785282, 35.22043979028467 31.78079415694034, 35.22043988268343 31.780794123879534, 35.220439971396736 31.780794081921265, 35.22044005557023 31.780794031469615, 35.22044013439328 31.780793973010454, 35.220440207106776 31.780793907106784, 35.22044027301045 31.780793834393286, 35.22044033146961 31.780793755570233, 35.220440381921264 31.78079367139674, 35.22044042387953 31.780793582683433, 35.22044045694033 31.78079349028468, 35.22044048078528 31.780793395090324, 35.220440495184725 31.78079329801714, 35.220440499999995 31.7807932))\n",
      "POLYGON ((35.2278139 31.7651593, 35.22781389518473 31.76515920198286, 35.227813880785284 31.765159104909678, 35.22781385694034 31.765159009715322, 35.227813823879536 31.76515891731657, 35.22781378192127 31.765158828603262, 35.22781373146962 31.76515874442977, 35.22781367301046 31.765158665606716, 35.22781360710678 31.76515859289322, 35.227813534393285 31.76515852698955, 35.227813455570235 31.765158468530387, 35.22781337139674 31.765158418078737, 35.227813282683435 31.765158376120468, 35.22781319028468 31.765158343059664, 35.227813095090326 31.76515831921472, 35.22781299801714 31.765158304815273, 35.2278129 31.7651583, 35.227812801982864 31.765158304815273, 35.22781270490968 31.76515831921472, 35.22781260971533 31.765158343059664, 35.22781251731657 31.765158376120468, 35.227812428603265 31.765158418078737, 35.22781234442977 31.765158468530387, 35.22781226560672 31.76515852698955, 35.227812192893225 31.76515859289322, 35.22781212698955 31.765158665606716, 35.22781206853039 31.76515874442977, 35.22781201807874 31.765158828603262, 35.22781197612047 31.76515891731657, 35.22781194305967 31.765159009715322, 35.22781191921472 31.765159104909678, 35.227811904815276 31.76515920198286, 35.227811900000006 31.7651593, 35.227811904815276 31.76515939801714, 35.22781191921472 31.765159495090323, 35.22781194305967 31.76515959028468, 35.22781197612047 31.765159682683432, 35.22781201807874 31.76515977139674, 35.22781206853039 31.765159855570232, 35.22781212698955 31.765159934393285, 35.227812192893225 31.765160007106783, 35.22781226560672 31.765160073010453, 35.22781234442977 31.765160131469614, 35.227812428603265 31.765160181921264, 35.22781251731657 31.765160223879533, 35.22781260971533 31.765160256940337, 35.22781270490968 31.76516028078528, 35.227812801982864 31.765160295184728, 35.2278129 31.7651603, 35.22781299801714 31.765160295184728, 35.227813095090326 31.76516028078528, 35.22781319028468 31.765160256940337, 35.227813282683435 31.765160223879533, 35.22781337139674 31.765160181921264, 35.227813455570235 31.765160131469614, 35.227813534393285 31.765160073010453, 35.22781360710678 31.765160007106783, 35.22781367301046 31.765159934393285, 35.22781373146962 31.765159855570232, 35.22781378192127 31.76515977139674, 35.227813823879536 31.765159682683432, 35.22781385694034 31.76515959028468, 35.227813880785284 31.765159495090323, 35.22781389518473 31.76515939801714, 35.2278139 31.7651593))\n",
      "POLYGON ((35.150195999999994 31.7653138, 35.150195995184724 31.765313701982862, 35.15019598078528 31.76531360490968, 35.15019595694033 31.765313509715323, 35.15019592387953 31.76531341731657, 35.15019588192126 31.765313328603263, 35.15019583146961 31.76531324442977, 35.15019577301045 31.765313165606717, 35.150195707106775 31.76531309289322, 35.15019563439328 31.76531302698955, 35.15019555557023 31.765312968530388, 35.150195471396735 31.765312918078738, 35.15019538268343 31.76531287612047, 35.15019529028467 31.765312843059665, 35.15019519509032 31.76531281921472, 35.150195098017136 31.765312804815274, 35.150195 31.7653128, 35.15019490198286 31.765312804815274, 35.150194804909674 31.76531281921472, 35.15019470971532 31.765312843059665, 35.150194617316565 31.76531287612047, 35.15019452860326 31.765312918078738, 35.150194444429765 31.765312968530388, 35.150194365606716 31.76531302698955, 35.15019429289322 31.76531309289322, 35.15019422698954 31.765313165606717, 35.15019416853038 31.76531324442977, 35.15019411807873 31.765313328603263, 35.150194076120464 31.76531341731657, 35.15019404305966 31.765313509715323, 35.150194019214716 31.76531360490968, 35.15019400481527 31.765313701982862, 35.150194 31.7653138, 35.15019400481527 31.76531389801714, 35.150194019214716 31.765313995090324, 35.15019404305966 31.76531409028468, 35.150194076120464 31.765314182683433, 35.15019411807873 31.76531427139674, 35.15019416853038 31.765314355570233, 35.15019422698954 31.765314434393286, 35.15019429289322 31.765314507106783, 35.150194365606716 31.765314573010453, 35.150194444429765 31.765314631469614, 35.15019452860326 31.765314681921264, 35.150194617316565 31.765314723879534, 35.15019470971532 31.765314756940338, 35.150194804909674 31.765314780785282, 35.15019490198286 31.76531479518473, 35.150195 31.765314800000002, 35.150195098017136 31.76531479518473, 35.15019519509032 31.765314780785282, 35.15019529028467 31.765314756940338, 35.15019538268343 31.765314723879534, 35.150195471396735 31.765314681921264, 35.15019555557023 31.765314631469614, 35.15019563439328 31.765314573010453, 35.150195707106775 31.765314507106783, 35.15019577301045 31.765314434393286, 35.15019583146961 31.765314355570233, 35.15019588192126 31.76531427139674, 35.15019592387953 31.765314182683433, 35.15019595694033 31.76531409028468, 35.15019598078528 31.765313995090324, 35.150195995184724 31.76531389801714, 35.150195999999994 31.7653138))\n"
     ]
    }
   ],
   "source": [
    "updated_geometry = []\n",
    "for row in jerusalem.iterrows():\n",
    "    if isinstance(row[1]['geometry'], Point):\n",
    "        updated_geometry.append(row[1]['geometry'].buffer(0.0001))\n",
    "        print(row[1]['geometry'].buffer(0.000001))\n",
    "    else:\n",
    "        updated_geometry.append(row[1]['geometry'])"
   ]
  },
  {
   "cell_type": "code",
   "execution_count": 668,
   "id": "a5379248",
   "metadata": {},
   "outputs": [
    {
     "name": "stdout",
     "output_type": "stream",
     "text": [
      "POLYGON ((35.21763850000001 31.802587, 35.21763801847267 31.802577198285967, 35.217636578528044 31.802567490967796, 35.21763419403358 31.802557971532273, 35.217630887953256 31.802548731656763, 35.21762669212644 31.802539860326316, 35.217621646961234 31.802531442976697, 35.21761580104534 31.80252356067158, 35.21760921067812 31.80251628932188, 35.21760193932842 31.802509698954662, 35.217594057023305 31.80250385303877, 35.217585639673686 31.802498807873565, 35.21757676834324 31.802494612046747, 35.217567528467725 31.802491305966427, 35.2175580090322 31.80248892147196, 35.21754830171404 31.802487481527333, 35.2175385 31.802487, 35.21752869828597 31.802487481527333, 35.217518990967804 31.80248892147196, 35.21750947153228 31.802491305966427, 35.217500231656764 31.802494612046747, 35.21749136032632 31.802498807873565, 35.2174829429767 31.80250385303877, 35.21747506067159 31.802509698954662, 35.21746778932189 31.80251628932188, 35.217461198954666 31.80252356067158, 35.21745535303877 31.802531442976697, 35.21745030787357 31.802539860326316, 35.21744611204675 31.802548731656763, 35.21744280596643 31.802557971532273, 35.21744042147196 31.802567490967796, 35.21743898152734 31.802577198285967, 35.2174385 31.802587, 35.21743898152734 31.80259680171403, 35.21744042147196 31.802606509032202, 35.21744280596643 31.802616028467725, 35.21744611204675 31.802625268343235, 35.21745030787357 31.802634139673682, 35.21745535303877 31.8026425570233, 35.217461198954666 31.802650439328417, 35.21746778932189 31.80265771067812, 35.21747506067159 31.802664301045336, 35.2174829429767 31.80267014696123, 35.21749136032632 31.802675192126433, 35.217500231656764 31.80267938795325, 35.21750947153228 31.80268269403357, 35.217518990967804 31.80268507852804, 35.21752869828597 31.802686518472665, 35.2175385 31.802687, 35.21754830171404 31.802686518472665, 35.2175580090322 31.80268507852804, 35.217567528467725 31.80268269403357, 35.21757676834324 31.80267938795325, 35.217585639673686 31.802675192126433, 35.217594057023305 31.80267014696123, 35.21760193932842 31.802664301045336, 35.21760921067812 31.80265771067812, 35.21761580104534 31.802650439328417, 35.217621646961234 31.8026425570233, 35.21762669212644 31.802634139673682, 35.217630887953256 31.802625268343235, 35.21763419403358 31.802616028467725, 35.217636578528044 31.802606509032202, 35.21763801847267 31.80259680171403, 35.21763850000001 31.802587))\n"
     ]
    }
   ],
   "source": [
    "print(updated_geometry[9])"
   ]
  },
  {
   "cell_type": "code",
   "execution_count": 684,
   "id": "5b56a64b",
   "metadata": {},
   "outputs": [],
   "source": [
    "polygon = gpd.GeoDataFrame(geometry=[jerusalem.iloc[3].geometry])"
   ]
  },
  {
   "cell_type": "code",
   "execution_count": 685,
   "id": "d935a206",
   "metadata": {},
   "outputs": [
    {
     "data": {
      "text/plain": [
       "<AxesSubplot:>"
      ]
     },
     "execution_count": 685,
     "metadata": {},
     "output_type": "execute_result"
    },
    {
     "data": {
      "image/png": "[encoded data removed]",
      "text/plain": [
       "<Figure size 640x480 with 1 Axes>"
      ]
     },
     "metadata": {},
     "output_type": "display_data"
    }
   ],
   "source": [
    "polygon.plot()"
   ]
  },
  {
   "cell_type": "code",
   "execution_count": 686,
   "id": "8d310e60",
   "metadata": {},
   "outputs": [
    {
     "name": "stderr",
     "output_type": "stream",
     "text": [
      "/Library/Frameworks/Python.framework/Versions/3.8/lib/python3.8/site-packages/geopandas/geodataframe.py:1443: SettingWithCopyWarning: \n",
      "A value is trying to be set on a copy of a slice from a DataFrame.\n",
      "Try using .loc[row_indexer,col_indexer] = value instead\n",
      "\n",
      "See the caveats in the documentation: https://pandas.pydata.org/pandas-docs/stable/user_guide/indexing.html#returning-a-view-versus-a-copy\n",
      "  super().__setitem__(key, value)\n"
     ]
    }
   ],
   "source": [
    "jerusalem['geometry'] = updated_geometry"
   ]
  },
  {
   "cell_type": "code",
   "execution_count": 617,
   "id": "b8ee299a",
   "metadata": {},
   "outputs": [],
   "source": [
    "from shapely.geometry import LineString"
   ]
  },
  {
   "cell_type": "code",
   "execution_count": 452,
   "id": "03031e06",
   "metadata": {},
   "outputs": [
    {
     "data": {
      "text/plain": [
       "24     Polygon\n",
       "25     Polygon\n",
       "26     Polygon\n",
       "27     Polygon\n",
       "28     Polygon\n",
       "        ...   \n",
       "112    Polygon\n",
       "113    Polygon\n",
       "114    Polygon\n",
       "115    Polygon\n",
       "116    Polygon\n",
       "Length: 89, dtype: object"
      ]
     },
     "execution_count": 452,
     "metadata": {},
     "output_type": "execute_result"
    }
   ],
   "source": [
    "jerusalem.geom_type"
   ]
  },
  {
   "cell_type": "code",
   "execution_count": 453,
   "id": "df4d644e",
   "metadata": {},
   "outputs": [],
   "source": [
    "jerusalem = jerusalem[jerusalem.geom_type != 'LineString']"
   ]
  },
  {
   "cell_type": "code",
   "execution_count": 454,
   "id": "b3890241",
   "metadata": {},
   "outputs": [
    {
     "data": {
      "text/plain": [
       "<AxesSubplot:>"
      ]
     },
     "execution_count": 454,
     "metadata": {},
     "output_type": "execute_result"
    },
    {
     "data": {
      "image/png": "[encoded data removed]",
      "text/plain": [
       "<Figure size 640x480 with 1 Axes>"
      ]
     },
     "metadata": {},
     "output_type": "display_data"
    }
   ],
   "source": [
    "jerusalem.plot()"
   ]
  },
  {
   "cell_type": "code",
   "execution_count": 455,
   "id": "fa13060d",
   "metadata": {},
   "outputs": [],
   "source": [
    "result = result.reset_index()"
   ]
  },
  {
   "cell_type": "code",
   "execution_count": 417,
   "id": "ab9ce0c3",
   "metadata": {},
   "outputs": [],
   "source": [
    "result = result[result.element_type != 'way']"
   ]
  },
  {
   "cell_type": "code",
   "execution_count": 221,
   "id": "e9c81df7",
   "metadata": {},
   "outputs": [
    {
     "name": "stderr",
     "output_type": "stream",
     "text": [
      "/var/folders/6c/7s9j6b710cn7h_bnq4jrn_700000gn/T/ipykernel_12943/1101044289.py:1: UserWarning: Geometry is in a geographic CRS. Results from 'area' are likely incorrect. Use 'GeoSeries.to_crs()' to re-project geometries to a projected CRS before this operation.\n",
      "\n",
      "  result['area'] = result['geometry'].area\n"
     ]
    }
   ],
   "source": [
    "result['area'] = result['geometry'].area"
   ]
  },
  {
   "cell_type": "code",
   "execution_count": 225,
   "id": "3e3303c6",
   "metadata": {},
   "outputs": [
    {
     "data": {
      "text/plain": [
       "0.03631144031967218"
      ]
     },
     "execution_count": 225,
     "metadata": {},
     "output_type": "execute_result"
    }
   ],
   "source": [
    "result['area'].sum() / 101"
   ]
  },
  {
   "cell_type": "code",
   "execution_count": 230,
   "id": "24dce281",
   "metadata": {},
   "outputs": [],
   "source": [
    "result = result.loc[result['area'] <= 0.0001]"
   ]
  },
  {
   "cell_type": "code",
   "execution_count": 231,
   "id": "6dfe5007",
   "metadata": {},
   "outputs": [
    {
     "data": {
      "text/html": [
       "<div>\n",
       "<style scoped>\n",
       "    .dataframe tbody tr th:only-of-type {\n",
       "        vertical-align: middle;\n",
       "    }\n",
       "\n",
       "    .dataframe tbody tr th {\n",
       "        vertical-align: top;\n",
       "    }\n",
       "\n",
       "    .dataframe thead th {\n",
       "        text-align: right;\n",
       "    }\n",
       "</style>\n",
       "<table border=\"1\" class=\"dataframe\">\n",
       "  <thead>\n",
       "    <tr style=\"text-align: right;\">\n",
       "      <th></th>\n",
       "      <th>element_type</th>\n",
       "      <th>osmid</th>\n",
       "      <th>name</th>\n",
       "      <th>geometry</th>\n",
       "      <th>area</th>\n",
       "    </tr>\n",
       "  </thead>\n",
       "  <tbody>\n",
       "    <tr>\n",
       "      <th>24</th>\n",
       "      <td>relation</td>\n",
       "      <td>5862581</td>\n",
       "      <td>הרובע הארמני</td>\n",
       "      <td>POLYGON ((35.22758 31.77666, 35.22838 31.77669...</td>\n",
       "      <td>0.000010</td>\n",
       "    </tr>\n",
       "    <tr>\n",
       "      <th>25</th>\n",
       "      <td>relation</td>\n",
       "      <td>5862582</td>\n",
       "      <td>הרובע הנוצרי</td>\n",
       "      <td>POLYGON ((35.22758 31.77666, 35.22742 31.77679...</td>\n",
       "      <td>0.000017</td>\n",
       "    </tr>\n",
       "    <tr>\n",
       "      <th>26</th>\n",
       "      <td>relation</td>\n",
       "      <td>5862583</td>\n",
       "      <td>הרובע היהודי</td>\n",
       "      <td>POLYGON ((35.23071 31.77293, 35.23069 31.77303...</td>\n",
       "      <td>0.000014</td>\n",
       "    </tr>\n",
       "    <tr>\n",
       "      <th>27</th>\n",
       "      <td>relation</td>\n",
       "      <td>5862585</td>\n",
       "      <td>הרובע המוסלמי</td>\n",
       "      <td>POLYGON ((35.23035 31.78166, 35.23039 31.78169...</td>\n",
       "      <td>0.000041</td>\n",
       "    </tr>\n",
       "    <tr>\n",
       "      <th>28</th>\n",
       "      <td>relation</td>\n",
       "      <td>5862586</td>\n",
       "      <td>העיר העתיקה</td>\n",
       "      <td>POLYGON ((35.22758 31.77666, 35.22742 31.77679...</td>\n",
       "      <td>0.000082</td>\n",
       "    </tr>\n",
       "    <tr>\n",
       "      <th>...</th>\n",
       "      <td>...</td>\n",
       "      <td>...</td>\n",
       "      <td>...</td>\n",
       "      <td>...</td>\n",
       "      <td>...</td>\n",
       "    </tr>\n",
       "    <tr>\n",
       "      <th>110</th>\n",
       "      <td>node</td>\n",
       "      <td>9107808023</td>\n",
       "      <td>ארנונה</td>\n",
       "      <td>POINT (35.22140 31.74920)</td>\n",
       "      <td>0.000000</td>\n",
       "    </tr>\n",
       "    <tr>\n",
       "      <th>111</th>\n",
       "      <td>node</td>\n",
       "      <td>9107818768</td>\n",
       "      <td>נחלת שבעה</td>\n",
       "      <td>POINT (35.22044 31.78079)</td>\n",
       "      <td>0.000000</td>\n",
       "    </tr>\n",
       "    <tr>\n",
       "      <th>112</th>\n",
       "      <td>node</td>\n",
       "      <td>9493856826</td>\n",
       "      <td>גבעת חנניה</td>\n",
       "      <td>POINT (35.22781 31.76516)</td>\n",
       "      <td>0.000000</td>\n",
       "    </tr>\n",
       "    <tr>\n",
       "      <th>113</th>\n",
       "      <td>node</td>\n",
       "      <td>10103368277</td>\n",
       "      <td>בית חולים הדסה עין כרם</td>\n",
       "      <td>POINT (35.15019 31.76531)</td>\n",
       "      <td>0.000000</td>\n",
       "    </tr>\n",
       "    <tr>\n",
       "      <th>116</th>\n",
       "      <td>relation</td>\n",
       "      <td>5537772</td>\n",
       "      <td>הר ציון</td>\n",
       "      <td>POLYGON ((35.23059 31.77190, 35.23123 31.77188...</td>\n",
       "      <td>0.000017</td>\n",
       "    </tr>\n",
       "  </tbody>\n",
       "</table>\n",
       "<p>87 rows × 5 columns</p>\n",
       "</div>"
      ],
      "text/plain": [
       "    element_type        osmid                    name  \\\n",
       "24      relation      5862581            הרובע הארמני   \n",
       "25      relation      5862582            הרובע הנוצרי   \n",
       "26      relation      5862583            הרובע היהודי   \n",
       "27      relation      5862585           הרובע המוסלמי   \n",
       "28      relation      5862586             העיר העתיקה   \n",
       "..           ...          ...                     ...   \n",
       "110         node   9107808023                  ארנונה   \n",
       "111         node   9107818768               נחלת שבעה   \n",
       "112         node   9493856826              גבעת חנניה   \n",
       "113         node  10103368277  בית חולים הדסה עין כרם   \n",
       "116     relation      5537772                 הר ציון   \n",
       "\n",
       "                                              geometry      area  \n",
       "24   POLYGON ((35.22758 31.77666, 35.22838 31.77669...  0.000010  \n",
       "25   POLYGON ((35.22758 31.77666, 35.22742 31.77679...  0.000017  \n",
       "26   POLYGON ((35.23071 31.77293, 35.23069 31.77303...  0.000014  \n",
       "27   POLYGON ((35.23035 31.78166, 35.23039 31.78169...  0.000041  \n",
       "28   POLYGON ((35.22758 31.77666, 35.22742 31.77679...  0.000082  \n",
       "..                                                 ...       ...  \n",
       "110                          POINT (35.22140 31.74920)  0.000000  \n",
       "111                          POINT (35.22044 31.78079)  0.000000  \n",
       "112                          POINT (35.22781 31.76516)  0.000000  \n",
       "113                          POINT (35.15019 31.76531)  0.000000  \n",
       "116  POLYGON ((35.23059 31.77190, 35.23123 31.77188...  0.000017  \n",
       "\n",
       "[87 rows x 5 columns]"
      ]
     },
     "execution_count": 231,
     "metadata": {},
     "output_type": "execute_result"
    }
   ],
   "source": [
    "result"
   ]
  },
  {
   "cell_type": "code",
   "execution_count": 13,
   "id": "27635982",
   "metadata": {},
   "outputs": [],
   "source": [
    "edges = map.edges.reset_index()"
   ]
  },
  {
   "cell_type": "code",
   "execution_count": 14,
   "id": "95035b66",
   "metadata": {},
   "outputs": [
    {
     "data": {
      "text/html": [
       "<div>\n",
       "<style scoped>\n",
       "    .dataframe tbody tr th:only-of-type {\n",
       "        vertical-align: middle;\n",
       "    }\n",
       "\n",
       "    .dataframe tbody tr th {\n",
       "        vertical-align: top;\n",
       "    }\n",
       "\n",
       "    .dataframe thead th {\n",
       "        text-align: right;\n",
       "    }\n",
       "</style>\n",
       "<table border=\"1\" class=\"dataframe\">\n",
       "  <thead>\n",
       "    <tr style=\"text-align: right;\">\n",
       "      <th></th>\n",
       "      <th>u</th>\n",
       "      <th>v</th>\n",
       "      <th>key</th>\n",
       "      <th>osmid</th>\n",
       "      <th>name</th>\n",
       "      <th>length</th>\n",
       "      <th>true_length</th>\n",
       "      <th>geometry</th>\n",
       "    </tr>\n",
       "  </thead>\n",
       "  <tbody>\n",
       "  </tbody>\n",
       "</table>\n",
       "</div>"
      ],
      "text/plain": [
       "Empty GeoDataFrame\n",
       "Columns: [u, v, key, osmid, name, length, true_length, geometry]\n",
       "Index: []"
      ]
     },
     "execution_count": 14,
     "metadata": {},
     "output_type": "execute_result"
    }
   ],
   "source": [
    "edges[edges['u'] == '#339475532']"
   ]
  },
  {
   "cell_type": "code",
   "execution_count": 15,
   "id": "4ab751ed",
   "metadata": {},
   "outputs": [
    {
     "ename": "NameError",
     "evalue": "name 'is_primery' is not defined",
     "output_type": "error",
     "traceback": [
      "\u001b[0;31m---------------------------------------------------------------------------\u001b[0m",
      "\u001b[0;31mNameError\u001b[0m                                 Traceback (most recent call last)",
      "Cell \u001b[0;32mIn[15], line 5\u001b[0m\n\u001b[1;32m      3\u001b[0m \u001b[38;5;28mmap\u001b[39m\u001b[38;5;241m.\u001b[39mstreets[\u001b[38;5;124m'\u001b[39m\u001b[38;5;124mtype\u001b[39m\u001b[38;5;124m'\u001b[39m] \u001b[38;5;241m=\u001b[39m \u001b[38;5;28mmap\u001b[39m\u001b[38;5;241m.\u001b[39mstreets[\u001b[38;5;124m'\u001b[39m\u001b[38;5;124mname\u001b[39m\u001b[38;5;124m'\u001b[39m]\u001b[38;5;241m.\u001b[39mapply(\u001b[38;5;28;01mlambda\u001b[39;00m x: \u001b[38;5;28mtype\u001b[39m(x))\n\u001b[1;32m      4\u001b[0m streets \u001b[38;5;241m=\u001b[39m \u001b[38;5;28mmap\u001b[39m\u001b[38;5;241m.\u001b[39mstreets[\u001b[38;5;28mmap\u001b[39m\u001b[38;5;241m.\u001b[39mstreets[\u001b[38;5;124m'\u001b[39m\u001b[38;5;124mtype\u001b[39m\u001b[38;5;124m'\u001b[39m] \u001b[38;5;241m!=\u001b[39m \u001b[38;5;28mlist\u001b[39m]\n\u001b[0;32m----> 5\u001b[0m \u001b[38;5;28;01mif\u001b[39;00m \u001b[43mis_primery\u001b[49m:\n\u001b[1;32m      6\u001b[0m     streets \u001b[38;5;241m=\u001b[39m streets[streets[\u001b[38;5;124m'\u001b[39m\u001b[38;5;124mhighway\u001b[39m\u001b[38;5;124m'\u001b[39m]\u001b[38;5;241m.\u001b[39misin([\u001b[38;5;124m'\u001b[39m\u001b[38;5;124mtrunk\u001b[39m\u001b[38;5;124m'\u001b[39m, \u001b[38;5;124m'\u001b[39m\u001b[38;5;124mprimary\u001b[39m\u001b[38;5;124m'\u001b[39m, \u001b[38;5;124m'\u001b[39m\u001b[38;5;124mmotorway\u001b[39m\u001b[38;5;124m'\u001b[39m, \u001b[38;5;124m'\u001b[39m\u001b[38;5;124mtertiary\u001b[39m\u001b[38;5;124m'\u001b[39m, \u001b[38;5;124m'\u001b[39m\u001b[38;5;124msecondary\u001b[39m\u001b[38;5;124m'\u001b[39m,\n\u001b[1;32m      7\u001b[0m                                                \u001b[38;5;124m'\u001b[39m\u001b[38;5;124mfootway\u001b[39m\u001b[38;5;124m'\u001b[39m, \u001b[38;5;124m'\u001b[39m\u001b[38;5;124mservice\u001b[39m\u001b[38;5;124m'\u001b[39m])]\n\u001b[1;32m      8\u001b[0m polygons \u001b[38;5;241m=\u001b[39m polygonizer(streets[\u001b[38;5;124m'\u001b[39m\u001b[38;5;124mgeometry\u001b[39m\u001b[38;5;124m'\u001b[39m]\u001b[38;5;241m.\u001b[39mto_list())\n",
      "\u001b[0;31mNameError\u001b[0m: name 'is_primery' is not defined"
     ]
    }
   ],
   "source": [
    "map.streets.dropna(subset='name', inplace=True)\n",
    "map.streets.reset_index(inplace=True)\n",
    "map.streets['type'] = map.streets['name'].apply(lambda x: type(x))\n",
    "streets = map.streets[map.streets['type'] != list]\n",
    "if is_primery:\n",
    "    streets = streets[streets['highway'].isin(['trunk', 'primary', 'motorway', 'tertiary', 'secondary',\n",
    "                                               'footway', 'service'])]\n",
    "polygons = polygonizer(streets['geometry'].to_list())\n",
    "sjoin_polygons = gpd.sjoin(polygons, streets, predicate='covers')\n",
    "polygons['names'] = sjoin_polygons.groupby('index').agg(set)['name']\n",
    "# return polygons"
   ]
  },
  {
   "cell_type": "code",
   "execution_count": null,
   "id": "f7af6707",
   "metadata": {},
   "outputs": [],
   "source": [
    "streets = streets[streets['highway'].isin(['trunk', 'primary', 'motorway', 'tertiary', 'secondary',\n",
    "                                               'footway', 'service'])]"
   ]
  },
  {
   "cell_type": "code",
   "execution_count": null,
   "id": "8f23f50f",
   "metadata": {},
   "outputs": [],
   "source": [
    "polygons = polygonizer(streets['geometry'].to_list())\n",
    "sjoin_polygons = gpd.sjoin(polygons, streets, predicate='covers')\n",
    "polygons['names'] = sjoin_polygons.groupby('index').agg(set)['name']"
   ]
  },
  {
   "cell_type": "code",
   "execution_count": null,
   "id": "3657cc57",
   "metadata": {},
   "outputs": [],
   "source": [
    "import shapely\n",
    "import geopandas as gpd\n",
    "import osmnx as ox"
   ]
  },
  {
   "cell_type": "code",
   "execution_count": null,
   "id": "067aef87",
   "metadata": {},
   "outputs": [],
   "source": [
    "def polygonizer(lines):\n",
    "    merged_lines = shapely.ops.linemerge(lines)\n",
    "    border_lines = shapely.ops.unary_union(merged_lines)\n",
    "    decomposition = shapely.ops.polygonize(border_lines)\n",
    "    polygons = gpd.GeoDataFrame(decomposition, columns=['geometry'])\n",
    "    return polygons.reset_index()\n"
   ]
  },
  {
   "cell_type": "code",
   "execution_count": null,
   "id": "49616c61",
   "metadata": {},
   "outputs": [],
   "source": [
    "def polygonizer(lines):\n",
    "    merged_lines = shapely.ops.linemerge(lines)\n",
    "    border_lines = shapely.ops.unary_union(merged_lines)\n",
    "    decomposition = shapely.ops.polygonize(border_lines)\n",
    "    polygons = gpd.GeoDataFrame(decomposition, columns = ['geometry'])\n",
    "    return polygons.reset_index()\n",
    "\n",
    "def get_nearby_streets(Lat, Lng, dist, is_primery=True):\n",
    "    if is_primery: dist = 7000\n",
    "    streets = ox.graph_to_gdfs(ox.graph_from_place('Tel Aviv, Israel',  network_type='all'),nodes=False, edges=True)\n",
    "    streets.dropna(subset='name',inplace=True)\n",
    "    streets.reset_index(inplace=True)\n",
    "    streets['type'] = streets['name'].apply(lambda x : type(x))\n",
    "    streets = streets[streets['type']!=list]\n",
    "    if is_primery: streets = streets[streets['highway'].isin(['trunk',\n",
    "                                                              'primary', 'motorway','tertiary', 'secondary','footway','service'])]\n",
    "    polygons = polygonizer(streets['geometry'].to_list())\n",
    "    sjoin_polygons=gpd.sjoin(polygons,streets,predicate='covers')\n",
    "    polygons['names'] = sjoin_polygons.groupby('index').agg(set)['name']\n",
    "    return polygons[polygons.contains(Point(Lng,Lat))], polygons"
   ]
  },
  {
   "cell_type": "code",
   "execution_count": null,
   "id": "96458d7a",
   "metadata": {},
   "outputs": [],
   "source": [
    "streets = ox.graph_to_gdfs(ox.graph_from_place('Tel Aviv, Israel',  network_type='all'),nodes=False, edges=True)\n",
    "streets.dropna(subset='name',inplace=True)\n",
    "streets.reset_index(inplace=True)\n",
    "streets['type'] = streets['name'].apply(lambda x : type(x))\n",
    "streets = streets[streets['type']!=list]\n"
   ]
  },
  {
   "cell_type": "code",
   "execution_count": null,
   "id": "71228ab9",
   "metadata": {},
   "outputs": [],
   "source": [
    "streets"
   ]
  },
  {
   "cell_type": "code",
   "execution_count": null,
   "id": "b10d439a",
   "metadata": {},
   "outputs": [],
   "source": [
    "def polygonizer(lines):\n",
    "    merged_lines = shapely.ops.linemerge(lines)\n",
    "#     border_lines = shapely.ops.unary_union(merged_lines)\n",
    "#     decomposition = shapely.ops.polygonize(border_lines)\n",
    "#     polygons = gpd.GeoDataFrame(decomposition, columns=['geometry'])\n",
    "#     return polygons.reset_index()"
   ]
  },
  {
   "cell_type": "code",
   "execution_count": null,
   "id": "6d4ffeae",
   "metadata": {},
   "outputs": [],
   "source": [
    "    streets = map.streets\n",
    "    streets.dropna(subset='name',inplace=True)\n",
    "#     streets.reset_index(inplace=True)\n",
    "    streets['type'] = streets['name'].apply(lambda x : type(x))\n",
    "    streets = streets[streets['type']!=list]\n",
    "#     polygons = polygonizer(streets['geometry'].to_list())\n",
    "#     sjoin_polygons=gpd.sjoin(polygons,streets,predicate='covers')"
   ]
  },
  {
   "cell_type": "code",
   "execution_count": null,
   "id": "cf2c4331",
   "metadata": {},
   "outputs": [],
   "source": [
    "streets = streets[streets.element_type == 'way']"
   ]
  },
  {
   "cell_type": "code",
   "execution_count": null,
   "id": "ef28c821",
   "metadata": {},
   "outputs": [],
   "source": [
    "merged_lines = shapely.ops.linemerge(streets['geometry'].to_list())\n"
   ]
  },
  {
   "cell_type": "code",
   "execution_count": null,
   "id": "2163ec88",
   "metadata": {},
   "outputs": [],
   "source": [
    "# Set is_primery=True for main sreets, and False for close\n",
    "poly,polygons = get_nearby_streets(32.0687562, 34.7813805, 300)\n",
    "poly"
   ]
  },
  {
   "cell_type": "code",
   "execution_count": null,
   "id": "aea0f3bd",
   "metadata": {},
   "outputs": [],
   "source": [
    "from shapely.geometry import Point"
   ]
  },
  {
   "cell_type": "code",
   "execution_count": null,
   "id": "edff1d34",
   "metadata": {},
   "outputs": [],
   "source": [
    "poly = get_polygons()"
   ]
  },
  {
   "cell_type": "code",
   "execution_count": null,
   "id": "1011edcb",
   "metadata": {},
   "outputs": [],
   "source": [
    "streets = ox.graph_to_gdfs(ox.graph_from_place('Tel Aviv, Israel',  network_type='all'),nodes=False, edges=True)\n"
   ]
  },
  {
   "cell_type": "code",
   "execution_count": null,
   "id": "a7ea580a",
   "metadata": {},
   "outputs": [],
   "source": [
    "Lat = 32.0687562\n",
    "Lng = 34.7813805"
   ]
  },
  {
   "cell_type": "code",
   "execution_count": null,
   "id": "40c92130",
   "metadata": {},
   "outputs": [],
   "source": [
    "poly[poly.contains(Point(Lng,Lat))]"
   ]
  },
  {
   "cell_type": "code",
   "execution_count": null,
   "id": "7d25ceb3",
   "metadata": {},
   "outputs": [],
   "source": [
    "def get_streets(osm_id: int) -> List[str]:\n",
    "    streets = edges_gdf.loc[edges_gdf['v'] == osm_id, 'name'].tolist()\n",
    "    return streets"
   ]
  },
  {
   "cell_type": "code",
   "execution_count": null,
   "id": "509d3c20",
   "metadata": {},
   "outputs": [],
   "source": [
    "graph = dict(map.nx_graph.degree())"
   ]
  },
  {
   "cell_type": "code",
   "execution_count": null,
   "id": "5431a49b",
   "metadata": {},
   "outputs": [],
   "source": [
    "def is_osmid_junction(osmid: int):\n",
    "    return dict(map.nx_graph.degree())[osmid] >=4"
   ]
  },
  {
   "cell_type": "code",
   "execution_count": null,
   "id": "7b1ab3dd",
   "metadata": {},
   "outputs": [],
   "source": [
    "is_junction(1995998484)"
   ]
  },
  {
   "cell_type": "code",
   "execution_count": null,
   "id": "5de464ff",
   "metadata": {},
   "outputs": [],
   "source": [
    "def get_intersection_close(osmid: int):\n",
    "    return dict(self.map.nx_graph.degree())[osmid] >= 4"
   ]
  },
  {
   "cell_type": "code",
   "execution_count": null,
   "id": "fbe2804e",
   "metadata": {},
   "outputs": [],
   "source": [
    "from multiprocessing import Pool, cpu_count"
   ]
  },
  {
   "cell_type": "code",
   "execution_count": null,
   "id": "cc3b4b44",
   "metadata": {},
   "outputs": [],
   "source": [
    "def run_extractors(row: dict):\n",
    "    geometry = row['geometry']\n",
    "    osmid = row['osmid']\n",
    "    street_name = remove_nan_and_duplicates(get_streets(osmid))\n",
    "    is_junction = is_osmid_junction(osmid)\n",
    "    lat, lon = geometry.x, geometry.y\n",
    "    nearby_streets = get_nearby_streets(lat, lon, False)[0].names.iloc[0]\n",
    "    return {'osmid': osmid,\n",
    "            'geometry': geometry,\n",
    "            'streets_names': street_name,\n",
    "            \"is_junction\": is_junction,\n",
    "            \"nearby_streets\": nearby_streets}\n",
    "\n",
    "\n",
    "def process_row(row):\n",
    "    # access row attributes and geometry\n",
    "    attribute_1 = row['attribute_1']\n",
    "    attribute_2 = row['attribute_2']\n",
    "    geometry = row.geometry\n",
    "    # process row\n",
    "    # ...\n",
    "    return result\n",
    "\n",
    "\n",
    "def flatten_list(l):\n",
    "    flatten_list = []\n",
    "    for x in l:\n",
    "            if type(x).__name__ == 'list':\n",
    "                for j in x:\n",
    "                    flatten_list.append(j)\n",
    "            else:\n",
    "                flatten_list.append(x)\n",
    "    return list(set(flatten_list))"
   ]
  },
  {
   "cell_type": "code",
   "execution_count": null,
   "id": "112a9f51",
   "metadata": {},
   "outputs": [],
   "source": [
    "import itertools"
   ]
  },
  {
   "cell_type": "code",
   "execution_count": null,
   "id": "4b5f4bf2",
   "metadata": {},
   "outputs": [],
   "source": [
    "def process_batch(batch):\n",
    "    # create a pool of workers\n",
    "    with Pool(cpu_count() - 1) as pool:\n",
    "        #process each row in parallel\n",
    "        results = pool.map(run_extractors, batch.to_dict(orient='records'))\n",
    "    return results"
   ]
  },
  {
   "cell_type": "code",
   "execution_count": null,
   "id": "c46ae0a1",
   "metadata": {},
   "outputs": [],
   "source": [
    "batch_size = 50"
   ]
  },
  {
   "cell_type": "code",
   "execution_count": null,
   "id": "bf431a8b",
   "metadata": {},
   "outputs": [],
   "source": [
    "nodes_gdf = map.nodes.drop('osmid', axis=1).reset_index()"
   ]
  },
  {
   "cell_type": "code",
   "execution_count": null,
   "id": "a66baa65",
   "metadata": {},
   "outputs": [],
   "source": [
    "def remove_nan_and_duplicates(my_list):\n",
    "    # Remove NaN values\n",
    "    # Remove duplicates\n",
    "#     my_list = list(dict.fromkeys(my_list))\n",
    "    return flatten_list(my_list)"
   ]
  },
  {
   "cell_type": "code",
   "execution_count": null,
   "id": "20d25e55",
   "metadata": {
    "scrolled": true
   },
   "outputs": [],
   "source": [
    "for i in range(0, 50, batch_size):\n",
    "    batch = nodes_gdf.iloc[i:i+batch_size]\n",
    "    results = process_batch(batch)\n",
    "#     print(results)"
   ]
  },
  {
   "cell_type": "code",
   "execution_count": null,
   "id": "60be6630",
   "metadata": {},
   "outputs": [],
   "source": [
    "results"
   ]
  },
  {
   "cell_type": "code",
   "execution_count": null,
   "id": "eaab17a0",
   "metadata": {},
   "outputs": [],
   "source": [
    "nodes_gdf = nodes_gdf.drop('osmid', axis=1)"
   ]
  },
  {
   "cell_type": "code",
   "execution_count": null,
   "id": "17725b35",
   "metadata": {},
   "outputs": [],
   "source": [
    "nodes_gdf = nodes_gdf.reset_index()"
   ]
  },
  {
   "cell_type": "code",
   "execution_count": null,
   "id": "54ca207b",
   "metadata": {},
   "outputs": [],
   "source": [
    "nodes_gdf"
   ]
  },
  {
   "cell_type": "code",
   "execution_count": null,
   "id": "7ddcea2b",
   "metadata": {},
   "outputs": [],
   "source": [
    "batch = nodes_gdf.iloc[0:50]"
   ]
  },
  {
   "cell_type": "code",
   "execution_count": null,
   "id": "71ab159b",
   "metadata": {},
   "outputs": [],
   "source": [
    "list(batch.itertuples())[0]"
   ]
  },
  {
   "cell_type": "code",
   "execution_count": null,
   "id": "84ffcd40",
   "metadata": {},
   "outputs": [],
   "source": [
    "from collections import namedtuple\n",
    "import pandas as pd"
   ]
  },
  {
   "cell_type": "code",
   "execution_count": null,
   "id": "85d525b4",
   "metadata": {},
   "outputs": [],
   "source": [
    "RowTuple = namedtuple('RowTuple', batch.columns)"
   ]
  },
  {
   "cell_type": "code",
   "execution_count": null,
   "id": "4df16dfa",
   "metadata": {},
   "outputs": [],
   "source": [
    "RowTuple = namedtuple('RowTuple', batch.columns)\n",
    "\n",
    "# convert DataFrame to list of named tuples\n",
    "rows = [tuple(*row) for row in batch.itertuples(index=False)]"
   ]
  },
  {
   "cell_type": "code",
   "execution_count": null,
   "id": "38c752a8",
   "metadata": {},
   "outputs": [],
   "source": [
    "batch.to_dict(orient='records')"
   ]
  },
  {
   "cell_type": "code",
   "execution_count": null,
   "id": "fa4c22bd",
   "metadata": {},
   "outputs": [],
   "source": [
    " for i in batch.itertuples(index=False):\n",
    "        print(i.osmid)"
   ]
  },
  {
   "cell_type": "code",
   "execution_count": null,
   "id": "90d22f58",
   "metadata": {},
   "outputs": [],
   "source": [
    "print(\"ok\")"
   ]
  },
  {
   "cell_type": "code",
   "execution_count": null,
   "id": "49263152",
   "metadata": {},
   "outputs": [],
   "source": [
    "# SuperFastPython.com\n",
    "# example of parallel map() with the process pool\n",
    "from random import random\n",
    "from time import sleep\n",
    "from multiprocessing.pool import Pool\n",
    " \n",
    "# task executed in a worker process\n",
    "def task(identifier):\n",
    "    # generate a value\n",
    "    value = random()\n",
    "    # report a message\n",
    "    print(f'Task {identifier} executing with {value}', flush=True)\n",
    "    # block for a moment\n",
    "    sleep(value)\n",
    "    # return the generated value\n",
    "    return value\n",
    " \n",
    "# protect the entry point\n",
    "if __name__ == '__main__':\n",
    "    # create and configure the process pool\n",
    "    with Pool() as pool:\n",
    "        # execute tasks in order\n",
    "        for result in pool.map(task, range(10)):\n",
    "            print(f'Got result: {result}', flush=True)\n",
    "    # process pool is closed automatically"
   ]
  },
  {
   "cell_type": "code",
   "execution_count": null,
   "id": "56bc48fe",
   "metadata": {},
   "outputs": [],
   "source": [
    "import multiprocessing"
   ]
  },
  {
   "cell_type": "code",
   "execution_count": null,
   "id": "6bea91bf",
   "metadata": {},
   "outputs": [],
   "source": [
    "multiprocessing.set_start_method('fork', force=False)"
   ]
  },
  {
   "cell_type": "code",
   "execution_count": null,
   "id": "cb657271",
   "metadata": {},
   "outputs": [],
   "source": [
    "multiprocessing.set_start_method('fork', force=True)"
   ]
  },
  {
   "cell_type": "code",
   "execution_count": null,
   "id": "0f455c5c",
   "metadata": {},
   "outputs": [],
   "source": [
    "x = ['יפו']['לב אברהם', 'חיסין', 'חיסין']\n"
   ]
  },
  {
   "cell_type": "code",
   "execution_count": null,
   "id": "c8290336",
   "metadata": {},
   "outputs": [],
   "source": [
    "l = ['א', 'c']\n"
   ]
  },
  {
   "cell_type": "code",
   "execution_count": null,
   "id": "f6a72df3",
   "metadata": {},
   "outputs": [],
   "source": [
    "def flatten_list(l):\n",
    "    flatten_list = []\n",
    "    for x in l:\n",
    "            if type(x).__name__ == 'list':\n",
    "                for j in x:\n",
    "                    flatten_list.append(j)\n",
    "            else:\n",
    "                flatten_list.append(x)\n",
    "    return list(set(flatten_list))"
   ]
  },
  {
   "cell_type": "code",
   "execution_count": null,
   "id": "fa533be8",
   "metadata": {},
   "outputs": [],
   "source": [
    "flatten_list"
   ]
  },
  {
   "cell_type": "code",
   "execution_count": null,
   "id": "4877008a",
   "metadata": {},
   "outputs": [],
   "source": [
    "poly.names.iloc[0]"
   ]
  },
  {
   "cell_type": "code",
   "execution_count": null,
   "id": "60bc9e68",
   "metadata": {},
   "outputs": [],
   "source": [
    "from HeGel2.geo.extractors.extractor import GeoFeatures"
   ]
  },
  {
   "cell_type": "code",
   "execution_count": null,
   "id": "e3ddb34a",
   "metadata": {},
   "outputs": [],
   "source": [
    "def run_extractors(row: dict):\n",
    "    print(\"ok\")\n",
    "    geometry = row['geometry']\n",
    "    osmid = row['osmid']\n",
    "    street_name = geo_feature.get_streets(osmid)\n",
    "    is_junction = geo_feature.is_poi_in_junction(osmid)\n",
    "    lat, lon = geometry.x, geometry.y\n",
    "    nearby_streets = geo_feature.get_nearby_streets(lat, lon, False)[0].names.iloc[0]\n",
    "    return {'osmid': osmid,\n",
    "            'geometry': geometry,\n",
    "            'streets_names': street_name,\n",
    "            \"is_junction\": is_junction,\n",
    "            \"nearby_streets\": nearby_streets}\n"
   ]
  },
  {
   "cell_type": "code",
   "execution_count": null,
   "id": "7b4f9bd8",
   "metadata": {},
   "outputs": [],
   "source": [
    "def process_batch(geo_feature: GeoFeatures, batch):\n",
    "    with multiprocessing.Pool(multiprocessing.cpu_count() - 1) as pool:\n",
    "        results = pool.map(run_extractors, batch.to_dict(orient='records'))\n",
    "    return results\n"
   ]
  },
  {
   "cell_type": "code",
   "execution_count": null,
   "id": "2f5496e1",
   "metadata": {},
   "outputs": [],
   "source": [
    "    def run_extractors(self, row):\n",
    "        geometry = row['geometry']\n",
    "        osmid = row['osmid']\n",
    "        street_name = self.geo_features.get_streets(osmid)\n",
    "        is_junction = self.geo_features.is_poi_in_junction(osmid)\n",
    "        lat, lon = geometry.x, geometry.y\n",
    "        nearby_streets = self.geo_features.get_nearby_streets(lat, lon, False)[0].names.iloc[0]\n",
    "        return {'osmid': osmid,\n",
    "                'geometry': geometry,\n",
    "                'streets_names': street_name,\n",
    "                \"is_junction\": is_junction,\n",
    "                \"nearby_streets\": nearby_streets}"
   ]
  },
  {
   "cell_type": "code",
   "execution_count": null,
   "id": "fba6a68c",
   "metadata": {},
   "outputs": [],
   "source": [
    "map"
   ]
  },
  {
   "cell_type": "code",
   "execution_count": null,
   "id": "0c0a791d",
   "metadata": {},
   "outputs": [],
   "source": [
    "\n",
    "class GeoFeatures:\n",
    "\n",
    "    def __init__(self, map: Map):\n",
    "        # Create Map\n",
    "        self.map = map\n",
    "        self.edges = map.edges.reset_index()\n",
    "\n",
    "\n",
    "\n",
    "    def get_streets(self, osm_id: int) -> List[str]:\n",
    "        streets = self.edges.loc[self.edges['v'] == osm_id, 'name'].tolist()\n",
    "        return flatten_list(streets)\n"
   ]
  },
  {
   "cell_type": "code",
   "execution_count": null,
   "id": "a4fff4c4",
   "metadata": {},
   "outputs": [],
   "source": [
    "x = GeoFeatures(map)"
   ]
  },
  {
   "cell_type": "code",
   "execution_count": null,
   "id": "0c869954",
   "metadata": {},
   "outputs": [],
   "source": [
    "l = x.get_streets(530717403)"
   ]
  },
  {
   "cell_type": "code",
   "execution_count": null,
   "id": "ece76d83",
   "metadata": {},
   "outputs": [],
   "source": [
    "str(l[0]) == 'nan'"
   ]
  },
  {
   "cell_type": "code",
   "execution_count": null,
   "id": "b7420fa7",
   "metadata": {},
   "outputs": [],
   "source": [
    "x.get_streets(1313)"
   ]
  },
  {
   "cell_type": "code",
   "execution_count": null,
   "id": "f58682b7",
   "metadata": {},
   "outputs": [],
   "source": [
    "\n",
    "class GeoFeatures:\n",
    "\n",
    "    def __init__(self, map: Map):\n",
    "        # Create Map\n",
    "        self.map = map\n",
    "#         self.edges = map.reset_index()\n",
    "\n",
    "        \n",
    "    def get_nearby_streets(self, lat, lng, is_primery=False):\n",
    "        \"\"\"\n",
    "        Returns the nearby streets to the POI\n",
    "        \"\"\"\n",
    "        point = Point(lng, lat)\n",
    "        streets = self.map.streets[self.map.streets.geometry.type == 'LineString'].reset_index()\n",
    "        streets.dropna(subset='name', inplace=True)\n",
    "        streets['type'] = streets['name'].apply(lambda x: type(x))\n",
    "        streets = streets[streets['type'] != list]\n",
    "        if is_primery:\n",
    "            streets = streets[\n",
    "                streets['highway'].isin(\n",
    "                    ['trunk', 'primary', 'motorway', 'tertiary', 'secondary', 'footway', 'service'])]\n",
    "        streets['azimuth'] = streets['geometry'].apply(lambda x: azimuth_to_street(point, x))\n",
    "        polygons = polygonizer(streets['geometry'].to_list())\n",
    "        streets = streets.drop('index', axis=1)\n",
    "        streets = streets.drop('level_0', axis=1)\n",
    "        sjoin_polygons = gpd.sjoin(polygons, streets, predicate='covers')\n",
    "        polygons['names'] = sjoin_polygons.groupby('index').agg(set)['name']\n",
    "        return polygons[polygons.contains(point)]['names']"
   ]
  },
  {
   "cell_type": "code",
   "execution_count": null,
   "id": "148288aa",
   "metadata": {},
   "outputs": [],
   "source": [
    "def polygonizer(lines):\n",
    "    merged_lines = shapely.ops.linemerge(lines)\n",
    "    border_lines = shapely.ops.unary_union(merged_lines)\n",
    "    decomposition = shapely.ops.polygonize(border_lines)\n",
    "    polygons = gpd.GeoDataFrame(decomposition, columns=['geometry'])\n",
    "    return polygons.reset_index()\n",
    "\n",
    "\n",
    "def azimuth_to_street(point, street):\n",
    "    angles = 0\n",
    "    for l in street.boundary.geoms:\n",
    "        angles += degrees(atan2(l.y - point.y, l.x - point.x))\n",
    "\n",
    "    azimuth = angles / len(street.boundary.geoms) if len(street.boundary.geoms) != 0 else 0\n",
    "    if azimuth <= 0:\n",
    "        azimuth += 360\n",
    "    return int(np.round(azimuth))"
   ]
  },
  {
   "cell_type": "code",
   "execution_count": null,
   "id": "6f04659c",
   "metadata": {},
   "outputs": [],
   "source": [
    "a = GeoFeatures(map)"
   ]
  },
  {
   "cell_type": "code",
   "execution_count": null,
   "id": "7ba39e50",
   "metadata": {},
   "outputs": [],
   "source": []
  },
  {
   "cell_type": "code",
   "execution_count": null,
   "id": "54d04e38",
   "metadata": {},
   "outputs": [],
   "source": [
    "a"
   ]
  },
  {
   "cell_type": "code",
   "execution_count": null,
   "id": "2a62784e",
   "metadata": {},
   "outputs": [],
   "source": [
    "map.nodes.iloc[0]"
   ]
  },
  {
   "cell_type": "code",
   "execution_count": null,
   "id": "9fd1b505",
   "metadata": {},
   "outputs": [],
   "source": [
    "x = a.get_nearby_streets(  32.073599,34.781754 )"
   ]
  },
  {
   "cell_type": "code",
   "execution_count": null,
   "id": "7b6ebcf8",
   "metadata": {},
   "outputs": [],
   "source": [
    "x.iloc[0]"
   ]
  },
  {
   "cell_type": "code",
   "execution_count": null,
   "id": "10c0e382",
   "metadata": {},
   "outputs": [],
   "source": [
    "x['names'].iloc[0]"
   ]
  },
  {
   "cell_type": "code",
   "execution_count": null,
   "id": "e8bc3bb5",
   "metadata": {},
   "outputs": [],
   "source": [
    " streets['azimuth']"
   ]
  },
  {
   "cell_type": "code",
   "execution_count": null,
   "id": "36e21718",
   "metadata": {},
   "outputs": [],
   "source": [
    "polygons"
   ]
  },
  {
   "cell_type": "code",
   "execution_count": null,
   "id": "777fbf4c",
   "metadata": {},
   "outputs": [],
   "source": [
    "point = Point(34.7828627,32.071927)"
   ]
  },
  {
   "cell_type": "code",
   "execution_count": null,
   "id": "2f8621ea",
   "metadata": {},
   "outputs": [],
   "source": [
    "x= a.get_nearby_streets(32.0632071,34.7808338)"
   ]
  },
  {
   "cell_type": "code",
   "execution_count": null,
   "id": "f7ffa8f3",
   "metadata": {},
   "outputs": [],
   "source": [
    "x"
   ]
  },
  {
   "cell_type": "code",
   "execution_count": null,
   "id": "04331113",
   "metadata": {},
   "outputs": [],
   "source": []
  },
  {
   "cell_type": "code",
   "execution_count": null,
   "id": "3b02bdac",
   "metadata": {},
   "outputs": [],
   "source": [
    "point = Point(34.7861166, 32.0646796)"
   ]
  },
  {
   "cell_type": "code",
   "execution_count": null,
   "id": "914e2456",
   "metadata": {},
   "outputs": [],
   "source": [
    "x[x.contains(point)]"
   ]
  },
  {
   "cell_type": "code",
   "execution_count": null,
   "id": "a305b7b0",
   "metadata": {},
   "outputs": [],
   "source": [
    "x['geometry']"
   ]
  },
  {
   "cell_type": "code",
   "execution_count": null,
   "id": "51fd0357",
   "metadata": {},
   "outputs": [],
   "source": [
    "f = [nan, 'סעדיה גאון']"
   ]
  },
  {
   "cell_type": "code",
   "execution_count": null,
   "id": "9afdb346",
   "metadata": {},
   "outputs": [],
   "source": [
    "map.streets.highway"
   ]
  },
  {
   "cell_type": "code",
   "execution_count": null,
   "id": "d5ec4c60",
   "metadata": {},
   "outputs": [],
   "source": [
    "map.streets.name.tail(15)"
   ]
  },
  {
   "cell_type": "code",
   "execution_count": null,
   "id": "a6eb1354",
   "metadata": {},
   "outputs": [],
   "source": [
    "map.streets[map.streets.name == 'אליעזר קפלן'].total_bounds"
   ]
  },
  {
   "cell_type": "code",
   "execution_count": null,
   "id": "fb802f6a",
   "metadata": {},
   "outputs": [],
   "source": [
    "total_bounds = _930"
   ]
  },
  {
   "cell_type": "code",
   "execution_count": null,
   "id": "73d6a614",
   "metadata": {},
   "outputs": [],
   "source": [
    "point = Point(map.nodes.iloc[0].x, map.nodes.iloc[0].y)\n"
   ]
  },
  {
   "cell_type": "code",
   "execution_count": null,
   "id": "6c5b7a77",
   "metadata": {},
   "outputs": [],
   "source": [
    "get_streets(1227320)[0]"
   ]
  },
  {
   "cell_type": "code",
   "execution_count": null,
   "id": "05204eaa",
   "metadata": {},
   "outputs": [],
   "source": [
    "total_bounds"
   ]
  },
  {
   "cell_type": "code",
   "execution_count": null,
   "id": "d345bcbe",
   "metadata": {},
   "outputs": [],
   "source": [
    "x_second, y_second = total_bounds[2:]"
   ]
  },
  {
   "cell_type": "code",
   "execution_count": null,
   "id": "b0f2ebaf",
   "metadata": {},
   "outputs": [],
   "source": [
    "x_second, y_second"
   ]
  },
  {
   "cell_type": "code",
   "execution_count": null,
   "id": "337b83cd",
   "metadata": {},
   "outputs": [],
   "source": [
    "distance_to_first_bound = Point(x_first, y_first).distance(point)\n",
    "distance_to_second_bound = Point(x_second, y_second).distance(point)"
   ]
  },
  {
   "cell_type": "code",
   "execution_count": null,
   "id": "66c219be",
   "metadata": {},
   "outputs": [],
   "source": [
    "distance_to_second_bound / (distance_to_first_bound + distance_to_second_bound)"
   ]
  },
  {
   "cell_type": "code",
   "execution_count": null,
   "id": "13051668",
   "metadata": {},
   "outputs": [],
   "source": [
    "merged_line = linemerge(geo_list)"
   ]
  },
  {
   "cell_type": "code",
   "execution_count": null,
   "id": "a88d3430",
   "metadata": {},
   "outputs": [],
   "source": [
    "merged_line.length"
   ]
  },
  {
   "cell_type": "code",
   "execution_count": null,
   "id": "36e17409",
   "metadata": {},
   "outputs": [],
   "source": [
    "for i in range(100):\n",
    "    print(merged_line.coords[i])"
   ]
  },
  {
   "cell_type": "code",
   "execution_count": null,
   "id": "aa76511c",
   "metadata": {},
   "outputs": [],
   "source": [
    "    merged_line = linemerge(geo_list)\n",
    "    return merged_line.coords[-1], merged_line.coords[0]"
   ]
  },
  {
   "cell_type": "code",
   "execution_count": null,
   "id": "01c27240",
   "metadata": {},
   "outputs": [],
   "source": [
    "def find_the_edges_points_of_street(street_name: str):\n",
    "    streets_gdf = ox.graph_to_gdfs(TEL_AVIV_GRAPH, edges=True)[1]\n",
    "    geometries_list = streets_gdf[streets_gdf['name'] == street_name]['geometry'].to_list()\n",
    "    merged_line = linemerge(geo_list)\n",
    "    return merged_line.coords[-1], merged_line.coords[0]"
   ]
  },
  {
   "cell_type": "code",
   "execution_count": null,
   "id": "c005ec0f",
   "metadata": {},
   "outputs": [],
   "source": [
    "map.streets[map.streets.element_type == 'way'].iloc[2]['name']"
   ]
  },
  {
   "cell_type": "code",
   "execution_count": null,
   "id": "f88ebb51",
   "metadata": {},
   "outputs": [],
   "source": [
    "print(map.nodes.centroid.iloc[0])"
   ]
  },
  {
   "cell_type": "code",
   "execution_count": null,
   "id": "17146ace",
   "metadata": {},
   "outputs": [],
   "source": [
    "map.nodes.geometry"
   ]
  },
  {
   "cell_type": "code",
   "execution_count": null,
   "id": "5686b70e",
   "metadata": {},
   "outputs": [],
   "source": [
    "from shapely.ops import unary_union\n",
    "\n",
    "mergedPolys = unary_union(map.nodes.geometry)"
   ]
  },
  {
   "cell_type": "code",
   "execution_count": null,
   "id": "2c175f56",
   "metadata": {},
   "outputs": [],
   "source": [
    "print(mergedPolys.centroid)"
   ]
  },
  {
   "cell_type": "code",
   "execution_count": null,
   "id": "ed305ace",
   "metadata": {},
   "outputs": [],
   "source": [
    "map"
   ]
  },
  {
   "cell_type": "code",
   "execution_count": null,
   "id": "4f5f26ef",
   "metadata": {},
   "outputs": [],
   "source": []
  }
 ],
 "metadata": {
  "kernelspec": {
   "display_name": "HeGel",
   "language": "python",
   "name": "hegel"
  },
  "language_info": {
   "codemirror_mode": {
    "name": "ipython",
    "version": 3
   },
   "file_extension": ".py",
   "mimetype": "text/x-python",
   "name": "python",
   "nbconvert_exporter": "python",
   "pygments_lexer": "ipython3",
   "version": "3.8.5"
  }
 },
 "nbformat": 4,
 "nbformat_minor": 5
}
